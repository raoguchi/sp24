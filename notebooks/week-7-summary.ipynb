{
 "cells": [
  {
   "cell_type": "markdown",
   "id": "d499b8cf",
   "metadata": {},
   "source": [
    "# Week 7 Summary\n",
    "> NAME: $\\color{red}{\\text{    <Ryosuke Oguchi>     }}$\n",
    ">\n",
    "> PID: $\\color{red}{\\text{    <A16777050>     }}$\n",
    ">\n",
    "> \n",
    "---"
   ]
  },
  {
   "cell_type": "markdown",
   "id": "1bce0cf8",
   "metadata": {},
   "source": [
    "I certify that the following write-up is my own work, and have abided by the UCSD Academic Integrity Guidelines.\n",
    "\n",
    "- [x] Yes\n",
    "- [ ] No"
   ]
  },
  {
   "cell_type": "markdown",
   "id": "6a1c41b1",
   "metadata": {},
   "source": [
    "% # %load tex-macros\n",
    "<div hidden>\n",
    "\\newcommand{\\require}[1]{}\n",
    "\n",
    "$\\require{begingroup}\\require{newcommand}$\n",
    "$\\long\\def \\forcecommand #1{\\providecommand{#1}{}\\renewcommand{#1}}$\n",
    "$\\forcecommand{\\defeq}{\\stackrel{\\small\\bullet}{=}}$\n",
    "$\\forcecommand{\\ra}{\\rangle}$\n",
    "$\\forcecommand{\\la}{\\langle}$\n",
    "$\\forcecommand{\\pr}{{\\mathbb P}}$\n",
    "$\\forcecommand{\\qr}{{\\mathbb Q}}$\n",
    "$\\forcecommand{\\xv}{{\\boldsymbol{x}}}$\n",
    "$\\forcecommand{\\av}{{\\boldsymbol{a}}}$\n",
    "$\\forcecommand{\\bv}{{\\boldsymbol{b}}}$\n",
    "$\\forcecommand{\\cv}{{\\boldsymbol{c}}}$\n",
    "$\\forcecommand{\\dv}{{\\boldsymbol{d}}}$\n",
    "$\\forcecommand{\\ev}{{\\boldsymbol{e}}}$\n",
    "$\\forcecommand{\\fv}{{\\boldsymbol{f}}}$\n",
    "$\\forcecommand{\\gv}{{\\boldsymbol{g}}}$\n",
    "$\\forcecommand{\\hv}{{\\boldsymbol{h}}}$\n",
    "$\\forcecommand{\\nv}{{\\boldsymbol{n}}}$\n",
    "$\\forcecommand{\\sv}{{\\boldsymbol{s}}}$\n",
    "$\\forcecommand{\\tv}{{\\boldsymbol{t}}}$\n",
    "$\\forcecommand{\\uv}{{\\boldsymbol{u}}}$\n",
    "$\\forcecommand{\\vv}{{\\boldsymbol{v}}}$\n",
    "$\\forcecommand{\\wv}{{\\boldsymbol{w}}}$\n",
    "$\\forcecommand{\\zerov}{{\\mathbf{0}}}$\n",
    "$\\forcecommand{\\onev}{{\\mathbf{0}}}$\n",
    "$\\forcecommand{\\phiv}{{\\boldsymbol{\\phi}}}$\n",
    "$\\forcecommand{\\cc}{{\\check{C}}}$\n",
    "$\\forcecommand{\\xv}{{\\boldsymbol{x}}}$\n",
    "$\\forcecommand{\\Xv}{{\\boldsymbol{X}\\!}}$\n",
    "$\\forcecommand{\\yv}{{\\boldsymbol{y}}}$\n",
    "$\\forcecommand{\\Yv}{{\\boldsymbol{Y}}}$\n",
    "$\\forcecommand{\\zv}{{\\boldsymbol{z}}}$\n",
    "$\\forcecommand{\\Zv}{{\\boldsymbol{Z}}}$\n",
    "$\\forcecommand{\\Iv}{{\\boldsymbol{I}}}$\n",
    "$\\forcecommand{\\Jv}{{\\boldsymbol{J}}}$\n",
    "$\\forcecommand{\\Cv}{{\\boldsymbol{C}}}$\n",
    "$\\forcecommand{\\Ev}{{\\boldsymbol{E}}}$\n",
    "$\\forcecommand{\\Fv}{{\\boldsymbol{F}}}$\n",
    "$\\forcecommand{\\Gv}{{\\boldsymbol{G}}}$\n",
    "$\\forcecommand{\\Hv}{{\\boldsymbol{H}}}$\n",
    "$\\forcecommand{\\alphav}{{\\boldsymbol{\\alpha}}}$\n",
    "$\\forcecommand{\\epsilonv}{{\\boldsymbol{\\epsilon}}}$\n",
    "$\\forcecommand{\\betav}{{\\boldsymbol{\\beta}}}$\n",
    "$\\forcecommand{\\deltav}{{\\boldsymbol{\\delta}}}$\n",
    "$\\forcecommand{\\gammav}{{\\boldsymbol{\\gamma}}}$\n",
    "$\\forcecommand{\\etav}{{\\boldsymbol{\\eta}}}$\n",
    "$\\forcecommand{\\piv}{{\\boldsymbol{\\pi}}}$\n",
    "$\\forcecommand{\\thetav}{{\\boldsymbol{\\theta}}}$\n",
    "$\\forcecommand{\\tauv}{{\\boldsymbol{\\tau}}}$\n",
    "$\\forcecommand{\\muv}{{\\boldsymbol{\\mu}}}$\n",
    "$%$\n",
    "$\\forcecommand{\\sd}{\\text{SD}}$\n",
    "$\\forcecommand{\\se}{\\text{SE}}$\n",
    "$\\forcecommand{\\med}{\\text{median}}$\n",
    "$\\forcecommand{\\median}{\\text{median}}$\n",
    "$%$\n",
    "$\\forcecommand{\\supp}{\\text{supp}}$\n",
    "$\\forcecommand{\\E}{\\mathbb{E}}$\n",
    "$\\forcecommand{\\var}{\\text{Var}}$\n",
    "$\\forcecommand{\\Ber}{{\\text{Ber}}}$\n",
    "$\\forcecommand{\\Bin}{{\\text{Bin}}}$\n",
    "$\\forcecommand{\\Geo}{{\\text{Geo}}}$\n",
    "$\\forcecommand{\\Unif}{{\\text{Unif}}}$\n",
    "$\\forcecommand{\\Poi}{{\\text{Poi}}}$\n",
    "$\\forcecommand{\\Exp}{{\\text{Exp}}}$\n",
    "$\\forcecommand{\\Chisq}{{\\chi^2}}$\n",
    "$\\forcecommand{\\N}{\\mathbb{N}}$\n",
    "$\\forcecommand{\\iid}{{\\stackrel{iid}{\\sim}}}$\n",
    "$\\forcecommand{\\px}{p_{X}}$\n",
    "$\\forcecommand{\\fx}{f_{X}}$\n",
    "$\\forcecommand{\\Fx}{F_{X}}$\n",
    "$\\forcecommand{\\py}{p_{Y}}$\n",
    "$\\forcecommand{\\pxy}{p_{X,Y}}$\n",
    "$\\forcecommand{\\po}{{p_0}}$\n",
    "$\\forcecommand{\\pa}{{p_a}}$\n",
    "$\\forcecommand{\\Xbar}{\\overline{X}}$\n",
    "$\\forcecommand{\\Ybar}{\\overline{Y}}$\n",
    "$\\forcecommand{\\Zbar}{\\overline{Z}}$\n",
    "$\\forcecommand{\\nXbar}{n \\cdot \\overline{X}}$\n",
    "$\\forcecommand{\\nYbar}{n \\cdot \\overline{Y}}$\n",
    "$\\forcecommand{\\nZbar}{n \\cdot \\overline{Z}}$\n",
    "$\\forcecommand{\\Xn}{X_1, X_2, \\dots, X_n}$\n",
    "$\\forcecommand{\\Xm}{{X_1, X_2, \\dots, X_m}}$\n",
    "$\\forcecommand{\\Yn}{Y_1, Y_2, \\dots, Y_n}$\n",
    "$\\forcecommand{\\Ym}{{Y_1, Y_2, \\dots, Y_m}}$\n",
    "$\\forcecommand{\\sumXn}{X_1 + X_2 + \\dots + X_n}$\n",
    "$\\forcecommand{\\sumym}{Y_1 + Y_2 + \\dots + Y_m}$\n",
    "$\\forcecommand{\\la}{\\ell_\\alpha}$\n",
    "$\\forcecommand{\\ua}{u_\\alpha}$\n",
    "$\\forcecommand{\\at}{{\\alpha/2}}$\n",
    "$\\forcecommand{\\mux}{\\mu_{X}}$\n",
    "$\\forcecommand{\\muy}{\\mu_{Y}}$\n",
    "$\\forcecommand{\\sx}{\\sigma_{X}}$\n",
    "$\\forcecommand{\\sy}{\\sigma_{Y}}$\n",
    "$\\forcecommand{\\ci}{\\text{CI}}$\n",
    "$\\forcecommand{\\pvalue}{$p$-value}$\n",
    "$\\forcecommand{\\Ho}{H_{0}}$\n",
    "$\\forcecommand{\\Ha}{H_{a}}$\n",
    "\n",
    "\\vskip-\\parskip\n",
    "\\vskip-\\baselineskip\n",
    "</div>"
   ]
  },
  {
   "cell_type": "code",
   "execution_count": 2,
   "id": "bb0120db",
   "metadata": {},
   "outputs": [],
   "source": [
    "import numpy as np\n",
    "import scipy\n",
    "from scipy import stats as stats\n",
    "\n",
    "import statsmodels\n",
    "import statsmodels.api as sm"
   ]
  },
  {
   "cell_type": "markdown",
   "id": "fbfec7ec",
   "metadata": {},
   "source": [
    "---"
   ]
  },
  {
   "cell_type": "markdown",
   "id": "15c6dc53",
   "metadata": {},
   "source": [
    "## Key Takeaways from Week 7"
   ]
  },
  {
   "cell_type": "markdown",
   "id": "cc992f31",
   "metadata": {},
   "source": [
    "\n",
    "#### Tuesday: \n",
    "\n",
    "... insert your key takeaways here ..."
   ]
  },
  {
   "cell_type": "markdown",
   "id": "6d69de7b",
   "metadata": {},
   "source": [
    "#### Thursday\n",
    "\n",
    "... insert your takeaway here ...\n"
   ]
  },
  {
   "cell_type": "markdown",
   "id": "aaadbca8",
   "metadata": {},
   "source": [
    "---"
   ]
  },
  {
   "cell_type": "markdown",
   "id": "c2d78965",
   "metadata": {},
   "source": [
    "## Tue, May 14"
   ]
  },
  {
   "cell_type": "markdown",
   "id": "9d27af6e",
   "metadata": {},
   "source": [
    "* U-Shaped QQ plot curve typically requires a log transformation to be closer to normal\n",
    "* The other way will be a exponential transformation\n",
    "\n",
    "boxcox module transformation also works\n",
    "\n",
    "* This is to satisfy the linearity assumption"
   ]
  },
  {
   "cell_type": "markdown",
   "id": "39b3c727",
   "metadata": {},
   "source": [
    "p values for coefficients are used to test the null hypothesis that coefficient is zero:\n",
    "$$\n",
    "H_0: \\beta_j = 0 \\\\\n",
    "H_a: \\beta_j = 0\n",
    "$$\n",
    "\n",
    "At level $\\alpha$ if p-value is less than $\\alpha$ then reject the null that coefficient is zero"
   ]
  },
  {
   "cell_type": "markdown",
   "id": "cf8b9762",
   "metadata": {},
   "source": [
    "Variance analysis:\n",
    "\n",
    "Sum of squares:\n",
    "* $y$: Observed values of dependent varaible\n",
    "* $\\hat y$: predicted values of the dependent variable\n",
    "* $\\bar y$: Mean of the observered values of the dependent variable\n",
    "* $SS_{Tot}$: Variability in observered values\n",
    "* $SS_{Reg}$: Variaiblity the regression model reproduces\n",
    "* $SS_{Res}$: How much variability in y in the regression model $\\hat y$ is unable to reproduce"
   ]
  },
  {
   "cell_type": "markdown",
   "id": "afdba337",
   "metadata": {},
   "source": [
    "F Statistic\n",
    "$$\n",
    "\\hat F = \\frac{SS_{Reg} / df_{Reg}}{SS_{Res} / df_{Res}} \\sim F(df_{Reg}, df_{Res})\n",
    "$$\n",
    "\n",
    "This is where\n",
    "\n",
    "$$\n",
    "df_{Reg} = 1 \\\\\n",
    "df_{Res} = n - p - 1\n",
    "$$\n",
    "\n",
    "Used to test the null that the model is no better than the null model\n",
    "$$\n",
    "H_0: \\beta_1, \\dots, \\beta_p \\\\\n",
    "H_a: \\text{At least one is } \\beta_p \\ne 0\n",
    "$$"
   ]
  },
  {
   "cell_type": "markdown",
   "id": "978b0180",
   "metadata": {},
   "source": [
    "### ANOVA\n",
    "\n",
    "Small model only has three parameters \\\n",
    "Large model has p parameters\n",
    "\n",
    "$$\n",
    "\\text{Small: } (\\beta_0, \\beta_1, \\beta_3, \\beta_{p-1})\\\\\n",
    "\\text{Big: } (\\beta_0, \\dots, \\beta_p)\n",
    "$$\n",
    "\n",
    "Test if inclusion of new parameters in the big model significantly improves the model fit\n",
    "\n",
    "Examine excess variance \n",
    "\n",
    "$$\n",
    "\\text{SS}_{Reg}(\\text{Small model}) - \\text{SS}_{Reg}(\\text{Big Model})\n",
    "$$\n",
    "\n",
    "Degrees of freedom used in Big Model\n",
    "\n",
    "$$\n",
    "\\triangle \\text{df} = df_{Reg} (\\text{Small}) - df_{Reg} (\\text{Big})\n",
    "$$\n",
    "\n",
    "$$\n",
    "\\hat F = \\frac{\\text{SS}_{Reg}(\\text{Small model}) - \\text{SS}_{Reg}(\\text{Big Model})}{\\triangle{df}} / \\frac{SS_{Res} \\text{Big}}{df_{Res} \\text{Big}}\n",
    "$$\n",
    "\n",
    "\n",
    "If $\\hat F$ is Large, then big model improves the fit significantly.\\\n",
    "If small, then small model does not improve the model significantly"
   ]
  },
  {
   "cell_type": "markdown",
   "id": "f08601f7",
   "metadata": {},
   "source": [
    "### Nonlinear Extensions\n",
    "\n",
    "Interaction Terms\n",
    "* Add combination of two variables (it is used to capture effect of two variables together)\n",
    "\n",
    "Fit model \n",
    "$$\n",
    "\\E(y|x_1,x_2) = \\beta_0 + \\beta_1 x_1 + \\beta_2 x_2 + \\beta_3 x_1 x_2\n",
    "$$\n",
    "\n",
    "When $x_2 = 0$ model is $\\beta_0 + \\beta_1 x_1$ \\\n",
    "Slope is just $\\beta_1$\n",
    "\n",
    "When $x_2 = 1$ model is $\\beta_0 + \\beta_1 x_1 + \\beta_2 +\\beta_3 x_1 = (\\beta_0 +\\beta_2) +(\\beta_1 + \\beta_3)x_1$ \\\n",
    "Slope is just $\\beta_1 + \\beta_3$\n",
    "\n",
    "$$\n",
    "\\beta_3 =  \\beta_1 + \\beta_3 - \\beta_1\n",
    "$$ \n",
    "It is the different of slopes of when $x_2 = 1 \\text{ and } x_2 = 0$"
   ]
  },
  {
   "cell_type": "markdown",
   "id": "545c6493",
   "metadata": {},
   "source": [
    "$$\n",
    "\\beta_{i:j} = \\frac{d^2}{dx_jdx_i} \\E(y|x_1,x_2)\n",
    "$$\n",
    "When $x_i$ asnd $x_j$ are continuous"
   ]
  },
  {
   "cell_type": "markdown",
   "id": "5f374b82",
   "metadata": {},
   "source": [
    "<br></br>"
   ]
  },
  {
   "cell_type": "markdown",
   "id": "5abad0d9",
   "metadata": {},
   "source": [
    "### Inference from Regression Models"
   ]
  },
  {
   "cell_type": "code",
   "execution_count": 11,
   "id": "07446833",
   "metadata": {},
   "outputs": [],
   "source": [
    "import numpy as np\n",
    "import scipy.stats as stats\n",
    "\n",
    "import warnings\n",
    "warnings.simplefilter(action='ignore', category=FutureWarning)\n",
    "import pandas as pd\n",
    "import seaborn as sns\n",
    "\n",
    "import plotly\n",
    "import plotly.express as px\n",
    "import plotly.graph_objects as go\n",
    "import plotly.io as pio\n",
    "# pio.renderers.default='notebook'\n",
    "\n",
    "import matplotlib\n",
    "import matplotlib.pyplot as plt\n",
    "import seaborn as sns\n",
    "\n",
    "import statsmodels\n",
    "import statsmodels.api as sm\n",
    "import statsmodels.formula.api as smf\n",
    "from statsmodels.tsa.stattools import acf"
   ]
  },
  {
   "cell_type": "code",
   "execution_count": 19,
   "id": "0fea5db8",
   "metadata": {},
   "outputs": [],
   "source": [
    "import pandas as pd"
   ]
  },
  {
   "cell_type": "code",
   "execution_count": 20,
   "id": "ed575c07",
   "metadata": {},
   "outputs": [
    {
     "data": {
      "text/html": [
       "<div>\n",
       "<style scoped>\n",
       "    .dataframe tbody tr th:only-of-type {\n",
       "        vertical-align: middle;\n",
       "    }\n",
       "\n",
       "    .dataframe tbody tr th {\n",
       "        vertical-align: top;\n",
       "    }\n",
       "\n",
       "    .dataframe thead th {\n",
       "        text-align: right;\n",
       "    }\n",
       "</style>\n",
       "<table border=\"1\" class=\"dataframe\">\n",
       "  <thead>\n",
       "    <tr style=\"text-align: right;\">\n",
       "      <th></th>\n",
       "      <th>wfood</th>\n",
       "      <th>wfuel</th>\n",
       "      <th>wcloth</th>\n",
       "      <th>walc</th>\n",
       "      <th>wtrans</th>\n",
       "      <th>wother</th>\n",
       "      <th>income</th>\n",
       "      <th>age</th>\n",
       "      <th>children</th>\n",
       "    </tr>\n",
       "  </thead>\n",
       "  <tbody>\n",
       "    <tr>\n",
       "      <th>0</th>\n",
       "      <td>0.4272</td>\n",
       "      <td>0.1342</td>\n",
       "      <td>0.0000</td>\n",
       "      <td>0.0106</td>\n",
       "      <td>0.1458</td>\n",
       "      <td>0.2822</td>\n",
       "      <td>130</td>\n",
       "      <td>25</td>\n",
       "      <td>2</td>\n",
       "    </tr>\n",
       "    <tr>\n",
       "      <th>1</th>\n",
       "      <td>0.3739</td>\n",
       "      <td>0.1686</td>\n",
       "      <td>0.0091</td>\n",
       "      <td>0.0825</td>\n",
       "      <td>0.1215</td>\n",
       "      <td>0.2444</td>\n",
       "      <td>150</td>\n",
       "      <td>39</td>\n",
       "      <td>2</td>\n",
       "    </tr>\n",
       "    <tr>\n",
       "      <th>2</th>\n",
       "      <td>0.1941</td>\n",
       "      <td>0.4056</td>\n",
       "      <td>0.0012</td>\n",
       "      <td>0.0513</td>\n",
       "      <td>0.2063</td>\n",
       "      <td>0.1415</td>\n",
       "      <td>230</td>\n",
       "      <td>47</td>\n",
       "      <td>2</td>\n",
       "    </tr>\n",
       "    <tr>\n",
       "      <th>3</th>\n",
       "      <td>0.4438</td>\n",
       "      <td>0.1258</td>\n",
       "      <td>0.0539</td>\n",
       "      <td>0.0397</td>\n",
       "      <td>0.0652</td>\n",
       "      <td>0.2716</td>\n",
       "      <td>100</td>\n",
       "      <td>33</td>\n",
       "      <td>2</td>\n",
       "    </tr>\n",
       "    <tr>\n",
       "      <th>4</th>\n",
       "      <td>0.3331</td>\n",
       "      <td>0.0824</td>\n",
       "      <td>0.0399</td>\n",
       "      <td>0.1571</td>\n",
       "      <td>0.2403</td>\n",
       "      <td>0.1473</td>\n",
       "      <td>100</td>\n",
       "      <td>31</td>\n",
       "      <td>1</td>\n",
       "    </tr>\n",
       "  </tbody>\n",
       "</table>\n",
       "</div>"
      ],
      "text/plain": [
       "    wfood   wfuel  wcloth    walc  wtrans  wother  income  age  children\n",
       "0  0.4272  0.1342  0.0000  0.0106  0.1458  0.2822     130   25         2\n",
       "1  0.3739  0.1686  0.0091  0.0825  0.1215  0.2444     150   39         2\n",
       "2  0.1941  0.4056  0.0012  0.0513  0.2063  0.1415     230   47         2\n",
       "3  0.4438  0.1258  0.0539  0.0397  0.0652  0.2716     100   33         2\n",
       "4  0.3331  0.0824  0.0399  0.1571  0.2403  0.1473     100   31         1"
      ]
     },
     "execution_count": 20,
     "metadata": {},
     "output_type": "execute_result"
    }
   ],
   "source": [
    "url = \"https://vincentarelbundock.github.io/Rdatasets/csv/Ecdat/BudgetUK.csv\"\n",
    "df = pd.read_csv(url).drop(['rownames', 'totexp'], axis=1)\n",
    "df.head()"
   ]
  },
  {
   "cell_type": "code",
   "execution_count": 21,
   "id": "1b08c90e",
   "metadata": {},
   "outputs": [
    {
     "data": {
      "text/plain": [
       "'np.log(income) ~ wfood + wother'"
      ]
     },
     "execution_count": 21,
     "metadata": {},
     "output_type": "execute_result"
    }
   ],
   "source": [
    "response = 'income'\n",
    "covariates = df.columns.drop(response)\n",
    "model_formula = f'np.log({response}) ~ wfood + wother'\n",
    "model_formula"
   ]
  },
  {
   "cell_type": "code",
   "execution_count": 22,
   "id": "cdbf2eb5",
   "metadata": {},
   "outputs": [
    {
     "name": "stdout",
     "output_type": "stream",
     "text": [
      "                            OLS Regression Results                            \n",
      "==============================================================================\n",
      "Dep. Variable:         np.log(income)   R-squared:                       0.064\n",
      "Model:                            OLS   Adj. R-squared:                  0.063\n",
      "Method:                 Least Squares   F-statistic:                     51.97\n",
      "Date:                Sat, 18 May 2024   Prob (F-statistic):           1.48e-22\n",
      "Time:                        11:04:50   Log-Likelihood:                -622.67\n",
      "No. Observations:                1519   AIC:                             1251.\n",
      "Df Residuals:                    1516   BIC:                             1267.\n",
      "Df Model:                           2                                         \n",
      "Covariance Type:            nonrobust                                         \n",
      "==============================================================================\n",
      "                 coef    std err          t      P>|t|      [0.025      0.975]\n",
      "------------------------------------------------------------------------------\n",
      "Intercept      5.0760      0.049    103.050      0.000       4.979       5.173\n",
      "wfood         -0.8124      0.095     -8.529      0.000      -0.999      -0.626\n",
      "wother         0.2141      0.097      2.208      0.027       0.024       0.404\n",
      "==============================================================================\n",
      "Omnibus:                       95.002   Durbin-Watson:                   1.952\n",
      "Prob(Omnibus):                  0.000   Jarque-Bera (JB):              407.369\n",
      "Skew:                          -0.000   Prob(JB):                     3.48e-89\n",
      "Kurtosis:                       5.537   Cond. No.                         14.2\n",
      "==============================================================================\n",
      "\n",
      "Notes:\n",
      "[1] Standard Errors assume that the covariance matrix of the errors is correctly specified.\n"
     ]
    }
   ],
   "source": [
    "model = smf.ols(model_formula, data=df).fit()\n",
    "print(model.summary())"
   ]
  },
  {
   "cell_type": "code",
   "execution_count": 23,
   "id": "a9314235",
   "metadata": {},
   "outputs": [
    {
     "data": {
      "text/plain": [
       "Intercept    5.075956\n",
       "wfood       -0.812396\n",
       "wother       0.214075\n",
       "dtype: float64"
      ]
     },
     "execution_count": 23,
     "metadata": {},
     "output_type": "execute_result"
    }
   ],
   "source": [
    "b = model.params\n",
    "b"
   ]
  },
  {
   "cell_type": "markdown",
   "id": "6b7f47b9",
   "metadata": {},
   "source": [
    "Consider the following regression model example:"
   ]
  },
  {
   "cell_type": "markdown",
   "id": "34178b0a",
   "metadata": {},
   "source": [
    "Using a boston housing dataset that is given by sklearn"
   ]
  },
  {
   "cell_type": "code",
   "execution_count": 15,
   "id": "4f0885fd",
   "metadata": {},
   "outputs": [
    {
     "data": {
      "text/html": [
       "<div>\n",
       "<style scoped>\n",
       "    .dataframe tbody tr th:only-of-type {\n",
       "        vertical-align: middle;\n",
       "    }\n",
       "\n",
       "    .dataframe tbody tr th {\n",
       "        vertical-align: top;\n",
       "    }\n",
       "\n",
       "    .dataframe thead th {\n",
       "        text-align: right;\n",
       "    }\n",
       "</style>\n",
       "<table border=\"1\" class=\"dataframe\">\n",
       "  <thead>\n",
       "    <tr style=\"text-align: right;\">\n",
       "      <th></th>\n",
       "      <th>CRIM</th>\n",
       "      <th>ZN</th>\n",
       "      <th>INDUS</th>\n",
       "      <th>CHAS</th>\n",
       "      <th>NOX</th>\n",
       "      <th>RM</th>\n",
       "      <th>AGE</th>\n",
       "      <th>DIS</th>\n",
       "      <th>RAD</th>\n",
       "      <th>TAX</th>\n",
       "      <th>PTRATIO</th>\n",
       "      <th>B</th>\n",
       "      <th>LSTAT</th>\n",
       "      <th>PRICE</th>\n",
       "    </tr>\n",
       "  </thead>\n",
       "  <tbody>\n",
       "    <tr>\n",
       "      <th>0</th>\n",
       "      <td>0.00632</td>\n",
       "      <td>18.0</td>\n",
       "      <td>2.31</td>\n",
       "      <td>0.0</td>\n",
       "      <td>0.538</td>\n",
       "      <td>6.575</td>\n",
       "      <td>65.2</td>\n",
       "      <td>4.0900</td>\n",
       "      <td>1.0</td>\n",
       "      <td>296.0</td>\n",
       "      <td>15.3</td>\n",
       "      <td>396.90</td>\n",
       "      <td>4.98</td>\n",
       "      <td>24.0</td>\n",
       "    </tr>\n",
       "    <tr>\n",
       "      <th>1</th>\n",
       "      <td>0.02731</td>\n",
       "      <td>0.0</td>\n",
       "      <td>7.07</td>\n",
       "      <td>0.0</td>\n",
       "      <td>0.469</td>\n",
       "      <td>6.421</td>\n",
       "      <td>78.9</td>\n",
       "      <td>4.9671</td>\n",
       "      <td>2.0</td>\n",
       "      <td>242.0</td>\n",
       "      <td>17.8</td>\n",
       "      <td>396.90</td>\n",
       "      <td>9.14</td>\n",
       "      <td>21.6</td>\n",
       "    </tr>\n",
       "    <tr>\n",
       "      <th>2</th>\n",
       "      <td>0.02729</td>\n",
       "      <td>0.0</td>\n",
       "      <td>7.07</td>\n",
       "      <td>0.0</td>\n",
       "      <td>0.469</td>\n",
       "      <td>7.185</td>\n",
       "      <td>61.1</td>\n",
       "      <td>4.9671</td>\n",
       "      <td>2.0</td>\n",
       "      <td>242.0</td>\n",
       "      <td>17.8</td>\n",
       "      <td>392.83</td>\n",
       "      <td>4.03</td>\n",
       "      <td>34.7</td>\n",
       "    </tr>\n",
       "    <tr>\n",
       "      <th>3</th>\n",
       "      <td>0.03237</td>\n",
       "      <td>0.0</td>\n",
       "      <td>2.18</td>\n",
       "      <td>0.0</td>\n",
       "      <td>0.458</td>\n",
       "      <td>6.998</td>\n",
       "      <td>45.8</td>\n",
       "      <td>6.0622</td>\n",
       "      <td>3.0</td>\n",
       "      <td>222.0</td>\n",
       "      <td>18.7</td>\n",
       "      <td>394.63</td>\n",
       "      <td>2.94</td>\n",
       "      <td>33.4</td>\n",
       "    </tr>\n",
       "    <tr>\n",
       "      <th>4</th>\n",
       "      <td>0.06905</td>\n",
       "      <td>0.0</td>\n",
       "      <td>2.18</td>\n",
       "      <td>0.0</td>\n",
       "      <td>0.458</td>\n",
       "      <td>7.147</td>\n",
       "      <td>54.2</td>\n",
       "      <td>6.0622</td>\n",
       "      <td>3.0</td>\n",
       "      <td>222.0</td>\n",
       "      <td>18.7</td>\n",
       "      <td>396.90</td>\n",
       "      <td>5.33</td>\n",
       "      <td>36.2</td>\n",
       "    </tr>\n",
       "    <tr>\n",
       "      <th>...</th>\n",
       "      <td>...</td>\n",
       "      <td>...</td>\n",
       "      <td>...</td>\n",
       "      <td>...</td>\n",
       "      <td>...</td>\n",
       "      <td>...</td>\n",
       "      <td>...</td>\n",
       "      <td>...</td>\n",
       "      <td>...</td>\n",
       "      <td>...</td>\n",
       "      <td>...</td>\n",
       "      <td>...</td>\n",
       "      <td>...</td>\n",
       "      <td>...</td>\n",
       "    </tr>\n",
       "    <tr>\n",
       "      <th>501</th>\n",
       "      <td>0.06263</td>\n",
       "      <td>0.0</td>\n",
       "      <td>11.93</td>\n",
       "      <td>0.0</td>\n",
       "      <td>0.573</td>\n",
       "      <td>6.593</td>\n",
       "      <td>69.1</td>\n",
       "      <td>2.4786</td>\n",
       "      <td>1.0</td>\n",
       "      <td>273.0</td>\n",
       "      <td>21.0</td>\n",
       "      <td>391.99</td>\n",
       "      <td>9.67</td>\n",
       "      <td>22.4</td>\n",
       "    </tr>\n",
       "    <tr>\n",
       "      <th>502</th>\n",
       "      <td>0.04527</td>\n",
       "      <td>0.0</td>\n",
       "      <td>11.93</td>\n",
       "      <td>0.0</td>\n",
       "      <td>0.573</td>\n",
       "      <td>6.120</td>\n",
       "      <td>76.7</td>\n",
       "      <td>2.2875</td>\n",
       "      <td>1.0</td>\n",
       "      <td>273.0</td>\n",
       "      <td>21.0</td>\n",
       "      <td>396.90</td>\n",
       "      <td>9.08</td>\n",
       "      <td>20.6</td>\n",
       "    </tr>\n",
       "    <tr>\n",
       "      <th>503</th>\n",
       "      <td>0.06076</td>\n",
       "      <td>0.0</td>\n",
       "      <td>11.93</td>\n",
       "      <td>0.0</td>\n",
       "      <td>0.573</td>\n",
       "      <td>6.976</td>\n",
       "      <td>91.0</td>\n",
       "      <td>2.1675</td>\n",
       "      <td>1.0</td>\n",
       "      <td>273.0</td>\n",
       "      <td>21.0</td>\n",
       "      <td>396.90</td>\n",
       "      <td>5.64</td>\n",
       "      <td>23.9</td>\n",
       "    </tr>\n",
       "    <tr>\n",
       "      <th>504</th>\n",
       "      <td>0.10959</td>\n",
       "      <td>0.0</td>\n",
       "      <td>11.93</td>\n",
       "      <td>0.0</td>\n",
       "      <td>0.573</td>\n",
       "      <td>6.794</td>\n",
       "      <td>89.3</td>\n",
       "      <td>2.3889</td>\n",
       "      <td>1.0</td>\n",
       "      <td>273.0</td>\n",
       "      <td>21.0</td>\n",
       "      <td>393.45</td>\n",
       "      <td>6.48</td>\n",
       "      <td>22.0</td>\n",
       "    </tr>\n",
       "    <tr>\n",
       "      <th>505</th>\n",
       "      <td>0.04741</td>\n",
       "      <td>0.0</td>\n",
       "      <td>11.93</td>\n",
       "      <td>0.0</td>\n",
       "      <td>0.573</td>\n",
       "      <td>6.030</td>\n",
       "      <td>80.8</td>\n",
       "      <td>2.5050</td>\n",
       "      <td>1.0</td>\n",
       "      <td>273.0</td>\n",
       "      <td>21.0</td>\n",
       "      <td>396.90</td>\n",
       "      <td>7.88</td>\n",
       "      <td>11.9</td>\n",
       "    </tr>\n",
       "  </tbody>\n",
       "</table>\n",
       "<p>506 rows × 14 columns</p>\n",
       "</div>"
      ],
      "text/plain": [
       "        CRIM    ZN  INDUS  CHAS    NOX     RM   AGE     DIS  RAD    TAX  \\\n",
       "0    0.00632  18.0   2.31   0.0  0.538  6.575  65.2  4.0900  1.0  296.0   \n",
       "1    0.02731   0.0   7.07   0.0  0.469  6.421  78.9  4.9671  2.0  242.0   \n",
       "2    0.02729   0.0   7.07   0.0  0.469  7.185  61.1  4.9671  2.0  242.0   \n",
       "3    0.03237   0.0   2.18   0.0  0.458  6.998  45.8  6.0622  3.0  222.0   \n",
       "4    0.06905   0.0   2.18   0.0  0.458  7.147  54.2  6.0622  3.0  222.0   \n",
       "..       ...   ...    ...   ...    ...    ...   ...     ...  ...    ...   \n",
       "501  0.06263   0.0  11.93   0.0  0.573  6.593  69.1  2.4786  1.0  273.0   \n",
       "502  0.04527   0.0  11.93   0.0  0.573  6.120  76.7  2.2875  1.0  273.0   \n",
       "503  0.06076   0.0  11.93   0.0  0.573  6.976  91.0  2.1675  1.0  273.0   \n",
       "504  0.10959   0.0  11.93   0.0  0.573  6.794  89.3  2.3889  1.0  273.0   \n",
       "505  0.04741   0.0  11.93   0.0  0.573  6.030  80.8  2.5050  1.0  273.0   \n",
       "\n",
       "     PTRATIO       B  LSTAT  PRICE  \n",
       "0       15.3  396.90   4.98   24.0  \n",
       "1       17.8  396.90   9.14   21.6  \n",
       "2       17.8  392.83   4.03   34.7  \n",
       "3       18.7  394.63   2.94   33.4  \n",
       "4       18.7  396.90   5.33   36.2  \n",
       "..       ...     ...    ...    ...  \n",
       "501     21.0  391.99   9.67   22.4  \n",
       "502     21.0  396.90   9.08   20.6  \n",
       "503     21.0  396.90   5.64   23.9  \n",
       "504     21.0  393.45   6.48   22.0  \n",
       "505     21.0  396.90   7.88   11.9  \n",
       "\n",
       "[506 rows x 14 columns]"
      ]
     },
     "execution_count": 15,
     "metadata": {},
     "output_type": "execute_result"
    }
   ],
   "source": [
    "import statsmodels.api as sm\n",
    "import pandas as pd\n",
    "from sklearn.datasets import load_boston\n",
    "\n",
    "# Load the Boston housing dataset\n",
    "boston = load_boston()\n",
    "boston_df = pd.DataFrame(boston.data, columns=boston.feature_names)\n",
    "boston_df['PRICE'] = boston.target\n",
    "\n",
    "boston_df"
   ]
  },
  {
   "cell_type": "code",
   "execution_count": 16,
   "id": "8d7d0766",
   "metadata": {},
   "outputs": [
    {
     "name": "stdout",
     "output_type": "stream",
     "text": [
      "                            OLS Regression Results                            \n",
      "==============================================================================\n",
      "Dep. Variable:                  PRICE   R-squared:                       0.741\n",
      "Model:                            OLS   Adj. R-squared:                  0.734\n",
      "Method:                 Least Squares   F-statistic:                     108.1\n",
      "Date:                Sat, 18 May 2024   Prob (F-statistic):          6.72e-135\n",
      "Time:                        11:00:03   Log-Likelihood:                -1498.8\n",
      "No. Observations:                 506   AIC:                             3026.\n",
      "Df Residuals:                     492   BIC:                             3085.\n",
      "Df Model:                          13                                         \n",
      "Covariance Type:            nonrobust                                         \n",
      "==============================================================================\n",
      "                 coef    std err          t      P>|t|      [0.025      0.975]\n",
      "------------------------------------------------------------------------------\n",
      "const         36.4595      5.103      7.144      0.000      26.432      46.487\n",
      "CRIM          -0.1080      0.033     -3.287      0.001      -0.173      -0.043\n",
      "ZN             0.0464      0.014      3.382      0.001       0.019       0.073\n",
      "INDUS          0.0206      0.061      0.334      0.738      -0.100       0.141\n",
      "CHAS           2.6867      0.862      3.118      0.002       0.994       4.380\n",
      "NOX          -17.7666      3.820     -4.651      0.000     -25.272     -10.262\n",
      "RM             3.8099      0.418      9.116      0.000       2.989       4.631\n",
      "AGE            0.0007      0.013      0.052      0.958      -0.025       0.027\n",
      "DIS           -1.4756      0.199     -7.398      0.000      -1.867      -1.084\n",
      "RAD            0.3060      0.066      4.613      0.000       0.176       0.436\n",
      "TAX           -0.0123      0.004     -3.280      0.001      -0.020      -0.005\n",
      "PTRATIO       -0.9527      0.131     -7.283      0.000      -1.210      -0.696\n",
      "B              0.0093      0.003      3.467      0.001       0.004       0.015\n",
      "LSTAT         -0.5248      0.051    -10.347      0.000      -0.624      -0.425\n",
      "==============================================================================\n",
      "Omnibus:                      178.041   Durbin-Watson:                   1.078\n",
      "Prob(Omnibus):                  0.000   Jarque-Bera (JB):              783.126\n",
      "Skew:                           1.521   Prob(JB):                    8.84e-171\n",
      "Kurtosis:                       8.281   Cond. No.                     1.51e+04\n",
      "==============================================================================\n",
      "\n",
      "Notes:\n",
      "[1] Standard Errors assume that the covariance matrix of the errors is correctly specified.\n",
      "[2] The condition number is large, 1.51e+04. This might indicate that there are\n",
      "strong multicollinearity or other numerical problems.\n"
     ]
    }
   ],
   "source": [
    "# Define the independent variables (X) and the dependent variable (Y)\n",
    "X = boston_df.drop(columns=['PRICE'])\n",
    "Y = boston_df['PRICE']\n",
    "\n",
    "# Add a constant to the independent variables matrix (required for statsmodels)\n",
    "X = sm.add_constant(X)\n",
    "\n",
    "# Fit the OLS model\n",
    "model = sm.OLS(Y, X).fit()\n",
    "\n",
    "# Print the summary of the regression model\n",
    "print(model.summary())"
   ]
  },
  {
   "cell_type": "markdown",
   "id": "30243762",
   "metadata": {},
   "source": [
    "<br></br>"
   ]
  },
  {
   "cell_type": "markdown",
   "id": "4c3aaa91",
   "metadata": {},
   "source": [
    "There are qualitatively, three different types of inference that can be made from regression models (which we discussed in class):\n",
    "\n",
    "1. QQ plot\n",
    "2. P-values of coefficients\n",
    "3. T Distribution"
   ]
  },
  {
   "cell_type": "markdown",
   "id": "a79d5e97",
   "metadata": {},
   "source": [
    "### Not real world example"
   ]
  },
  {
   "cell_type": "markdown",
   "id": "5a56305a",
   "metadata": {},
   "source": [
    "#### QQ Plot"
   ]
  },
  {
   "cell_type": "code",
   "execution_count": 33,
   "id": "d5f4fa3a",
   "metadata": {},
   "outputs": [
    {
     "data": {
      "image/png": "[encoded data removed]",
      "text/plain": [
       "<Figure size 640x480 with 1 Axes>"
      ]
     },
     "metadata": {},
     "output_type": "display_data"
    }
   ],
   "source": [
    "sm.qqplot(model.resid, line ='s');"
   ]
  },
  {
   "cell_type": "markdown",
   "id": "e5982add",
   "metadata": {},
   "source": [
    "#### P value"
   ]
  },
  {
   "cell_type": "code",
   "execution_count": 24,
   "id": "6b980693",
   "metadata": {},
   "outputs": [
    {
     "data": {
      "text/plain": [
       "Intercept    0.000000e+00\n",
       "wfood        3.524333e-17\n",
       "wother       2.736861e-02\n",
       "dtype: float64"
      ]
     },
     "execution_count": 24,
     "metadata": {},
     "output_type": "execute_result"
    }
   ],
   "source": [
    "model.pvalues"
   ]
  },
  {
   "cell_type": "code",
   "execution_count": 25,
   "id": "f71dc3fe",
   "metadata": {},
   "outputs": [
    {
     "data": {
      "text/plain": [
       "0.027368606139035245"
      ]
     },
     "execution_count": 25,
     "metadata": {},
     "output_type": "execute_result"
    }
   ],
   "source": [
    "# t-distribution\n",
    "coefficient = 'wother'\n",
    "t = (model.params[coefficient] - 0) / model.bse[coefficient]\n",
    "dof = model.df_resid\n",
    "\n",
    "t_distribution = stats.t(dof)\n",
    "t_p_value = 2 * (1 - t_distribution.cdf(np.abs(t)))\n",
    "t_p_value"
   ]
  },
  {
   "cell_type": "code",
   "execution_count": 26,
   "id": "3ffec7f2",
   "metadata": {},
   "outputs": [
    {
     "data": {
      "text/html": [
       "<table class=\"simpletable\">\n",
       "<tr>\n",
       "      <td></td>         <th>coef</th>     <th>std err</th>      <th>t</th>      <th>P>|t|</th>  <th>[0.025</th>    <th>0.975]</th>  \n",
       "</tr>\n",
       "<tr>\n",
       "  <th>Intercept</th> <td>    5.0760</td> <td>    0.049</td> <td>  103.050</td> <td> 0.000</td> <td>    4.979</td> <td>    5.173</td>\n",
       "</tr>\n",
       "<tr>\n",
       "  <th>wfood</th>     <td>   -0.8124</td> <td>    0.095</td> <td>   -8.529</td> <td> 0.000</td> <td>   -0.999</td> <td>   -0.626</td>\n",
       "</tr>\n",
       "<tr>\n",
       "  <th>wother</th>    <td>    0.2141</td> <td>    0.097</td> <td>    2.208</td> <td> 0.027</td> <td>    0.024</td> <td>    0.404</td>\n",
       "</tr>\n",
       "</table>"
      ],
      "text/plain": [
       "<class 'statsmodels.iolib.table.SimpleTable'>"
      ]
     },
     "execution_count": 26,
     "metadata": {},
     "output_type": "execute_result"
    }
   ],
   "source": [
    "model.summary().tables[1]"
   ]
  },
  {
   "cell_type": "markdown",
   "id": "150c0273",
   "metadata": {},
   "source": [
    "<br></br>"
   ]
  },
  {
   "cell_type": "markdown",
   "id": "25c0ced6",
   "metadata": {},
   "source": [
    "#### t distributions"
   ]
  },
  {
   "cell_type": "code",
   "execution_count": 32,
   "id": "fdb7ab60",
   "metadata": {},
   "outputs": [
    {
     "data": {
      "text/html": [
       "<table class=\"simpletable\">\n",
       "<tr>\n",
       "      <td></td>         <th>coef</th>     <th>std err</th>      <th>t</th>      <th>P>|t|</th>  <th>[0.025</th>    <th>0.975]</th>  \n",
       "</tr>\n",
       "<tr>\n",
       "  <th>Intercept</th> <td>   42.6929</td> <td>    9.859</td> <td>    4.330</td> <td> 0.000</td> <td>   23.353</td> <td>   62.033</td>\n",
       "</tr>\n",
       "<tr>\n",
       "  <th>wtrans</th>    <td>   30.2996</td> <td>   15.048</td> <td>    2.013</td> <td> 0.044</td> <td>    0.781</td> <td>   59.818</td>\n",
       "</tr>\n",
       "<tr>\n",
       "  <th>wother</th>    <td>   96.6131</td> <td>   15.329</td> <td>    6.303</td> <td> 0.000</td> <td>   66.546</td> <td>  126.681</td>\n",
       "</tr>\n",
       "<tr>\n",
       "  <th>age</th>       <td>    1.6702</td> <td>    0.195</td> <td>    8.582</td> <td> 0.000</td> <td>    1.288</td> <td>    2.052</td>\n",
       "</tr>\n",
       "<tr>\n",
       "  <th>children</th>  <td>    3.3605</td> <td>    3.099</td> <td>    1.084</td> <td> 0.278</td> <td>   -2.719</td> <td>    9.440</td>\n",
       "</tr>\n",
       "</table>"
      ],
      "text/plain": [
       "<class 'statsmodels.iolib.table.SimpleTable'>"
      ]
     },
     "execution_count": 32,
     "metadata": {},
     "output_type": "execute_result"
    }
   ],
   "source": [
    "model = smf.ols(formula = f\"{response} ~ {' + '.join(covariates[4:])}\", data=df).fit()\n",
    "model.summary().tables[1]"
   ]
  },
  {
   "cell_type": "markdown",
   "id": "f15473cf",
   "metadata": {},
   "source": [
    "---\n",
    "---"
   ]
  },
  {
   "cell_type": "markdown",
   "id": "06efcaa3",
   "metadata": {},
   "source": [
    "## Thu, May 16"
   ]
  },
  {
   "cell_type": "markdown",
   "id": "162e5888",
   "metadata": {},
   "source": [
    "<br></br>"
   ]
  },
  {
   "cell_type": "markdown",
   "id": "5712cb74",
   "metadata": {},
   "source": [
    "### Nonlinear Extensions"
   ]
  },
  {
   "cell_type": "markdown",
   "id": "a3e49d0e",
   "metadata": {},
   "source": [
    "##### Interaction Terms\n",
    "\n",
    "The objective of adding an interaction term is to Add combination of two variables (it is used to capture effect of two variables together)"
   ]
  },
  {
   "cell_type": "markdown",
   "id": "bbfbf3dd",
   "metadata": {},
   "source": [
    "<br></br>"
   ]
  },
  {
   "cell_type": "markdown",
   "id": "34be153a",
   "metadata": {},
   "source": [
    "##### Interaction: categorical $\\times$ numeric\n",
    "\n",
    "$$\n",
    "\\E(y | x_1, x_2) = \\beta_0 + \\beta_1 x_1 + \\beta_2 x_2 + \\beta_3 x_1 x_2\n",
    "$$\n",
    "\n",
    "\n",
    "> Interpretation of the coefficient of the interaction term. \n",
    "> \n",
    "> $$\n",
    "\\begin{aligned}\n",
    "x_2 = 0 &\\implies \\E(y | x_1, x_2 = 0) = \\beta_0 + \\beta_1 x_1\\\\ \\\\\n",
    "&\\implies \\frac{\\partial}{\\partial x_1} \\E(y | x_1, x_2=0) = \\beta_1\\\\ \\\\ \\\\ \\\\\n",
    "x_2 = 1 &\\implies \\E(y | x_1, x_2 = 1) = \\beta_0 + \\beta_1 x_1 + \\beta_2 + \\beta_3 x_1\\\\ \\\\\n",
    " &\\qquad\\qquad = (\\beta_0 + \\beta_2) + (\\beta_1 + \\beta_3) x_1 \\\\ \\\\\n",
    "&\\implies \\frac{\\partial}{\\partial x_1} \\E(y | x_1, x_2=1) = \\beta_1 + \\beta_3\\\\\n",
    "\\end{aligned}\n",
    "$$"
   ]
  },
  {
   "cell_type": "markdown",
   "id": "0d9bd4a9",
   "metadata": {},
   "source": [
    "$$\n",
    "\\beta_3 = \\frac{\\partial}{\\partial x_1} \\E(y | x_1, x_2 = 1) - \\frac{\\partial}{\\partial x_1} \\E(y | x_1, x_2 = 0)\n",
    "$$\n",
    "\n",
    "In other words, $\\beta_3$ is the difference in the effect of $x_1$ on $y$ when $x_2 = 1$ vs. the effect of $x_1$ on $y$ when $x_2 = 0$."
   ]
  },
  {
   "cell_type": "markdown",
   "id": "b12cb674",
   "metadata": {},
   "source": [
    "<br></br>"
   ]
  },
  {
   "cell_type": "markdown",
   "id": "ada649e6",
   "metadata": {},
   "source": [
    "##### Interaction: numeric $\\times$ numeric\n",
    "\n",
    "More generally, the interaction term $\\beta_{i:j}$ which is the coefficient of the term $x_i x_j$ in the model is interpreted as\n",
    "\n",
    "\n",
    "$$\n",
    "\\beta_{i:j} = \\frac{\\partial^2}{\\partial x_j \\partial x_i} \\E(y | x_1, x_2)\n",
    "$$\n",
    "\n",
    "\n",
    "> Interpretation of the coefficient of the interaction term. \n",
    "> \n",
    "> When $x_1$ and $x_2$ are continuous, it has the effect of bringing in some curvature (nonlinear effect) into the model.\n",
    "* There is added complexity to the resulting model when the two interactions terms are continuous"
   ]
  },
  {
   "cell_type": "markdown",
   "id": "cd1560ec",
   "metadata": {},
   "source": [
    "<br></br>"
   ]
  },
  {
   "cell_type": "markdown",
   "id": "9b025551",
   "metadata": {},
   "source": [
    "### Multicollinearity"
   ]
  },
  {
   "cell_type": "markdown",
   "id": "6d263628",
   "metadata": {},
   "source": [
    "##### Intuition\n",
    "\n",
    "The multicollinearity phenomenon is, intuitively, when two or more predictors in a regression model are highly correlated. This can cause problems in the estimation of the coefficients and lead to unstable estimates."
   ]
  },
  {
   "cell_type": "markdown",
   "id": "902c2369",
   "metadata": {},
   "source": [
    "<br></br>"
   ]
  },
  {
   "cell_type": "markdown",
   "id": "0d11df14",
   "metadata": {},
   "source": [
    "##### Manifestation\n",
    "\n",
    "In the regression model, the effect of multicollinearity is the model is unable to determine the sensistivity of the covariate against the response variable."
   ]
  },
  {
   "cell_type": "markdown",
   "id": "93cd8a34",
   "metadata": {},
   "source": [
    "<br></br>"
   ]
  },
  {
   "cell_type": "markdown",
   "id": "3c6020e6",
   "metadata": {},
   "source": [
    "##### Detection\n",
    "\n",
    "We can check for the presence of multicollinearity by checking the ANOVA and determining if the statistical significance of the covariate on the response variable. Diagnoising by looking at variance inflation factor of each factor.\n",
    "\n",
    "* You want to quantify the variance of the estimated coefficient $\\hat\\beta_j$"
   ]
  },
  {
   "cell_type": "markdown",
   "id": "5c91f23e",
   "metadata": {},
   "source": [
    "Overall, there may be perfect linear combination to create the point"
   ]
  },
  {
   "cell_type": "markdown",
   "id": "56e556a0",
   "metadata": {},
   "source": [
    "<br></br>"
   ]
  },
  {
   "cell_type": "markdown",
   "id": "7f385b0d",
   "metadata": {},
   "source": [
    "<br></br>"
   ]
  },
  {
   "cell_type": "markdown",
   "id": "25ab4e41",
   "metadata": {},
   "source": [
    "### Regression with categorical response"
   ]
  },
  {
   "cell_type": "markdown",
   "id": "1b4d65de",
   "metadata": {},
   "source": [
    "> #### Issue with treating $y$ as a standard quantiative response\n",
    "\n",
    "There is no general intution on what the values mean. Values outside of 0 and 1 is not easily interpretable. These values are not a porbability, it doesn't necessarily represent the probability of the response being a 1."
   ]
  },
  {
   "cell_type": "markdown",
   "id": "caef97d6",
   "metadata": {},
   "source": [
    "<br></br>"
   ]
  },
  {
   "cell_type": "markdown",
   "id": "64f63cc7",
   "metadata": {},
   "source": [
    "> #### Remedy for the case when $y$ is binary categorical\n",
    "\n",
    "\n",
    "We need a model that can give us the probability of the response variable being a $1$ for any given value of the predictor variables. \n",
    "\n",
    "\n",
    "That is, we want a model which, when given a set of independent variables $x_1, x_2, \\dots, x_p$, will give us, $p(x_1, x_2, \\dots, x_p)$, the probability that the dependent variable $y$ is a $1$.\n",
    "\n",
    "$$\n",
    "(x_1, x_2, \\dots, x_p) \\mapsto p(x_1, x_2, \\dots, x_p)\n",
    "$$\n",
    "\n",
    "where\n",
    "\n",
    "$$\n",
    "p(x_1, x_2, \\dots, x_p) = \\pr(y = 1 \\mid x_1, x_2, \\dots, x_p)\n",
    "$$"
   ]
  },
  {
   "cell_type": "markdown",
   "id": "504b575f",
   "metadata": {},
   "source": [
    "<br></br>"
   ]
  },
  {
   "cell_type": "markdown",
   "id": "1464dd28",
   "metadata": {},
   "source": [
    "<br></br>"
   ]
  },
  {
   "cell_type": "markdown",
   "id": "0a76e6eb",
   "metadata": {},
   "source": [
    "<br></br>"
   ]
  },
  {
   "cell_type": "markdown",
   "id": "6440cde2",
   "metadata": {},
   "source": [
    "<br></br>"
   ]
  },
  {
   "cell_type": "markdown",
   "id": "3a6014a4",
   "metadata": {},
   "source": [
    "<br></br>"
   ]
  },
  {
   "cell_type": "markdown",
   "id": "112bceb8",
   "metadata": {},
   "source": [
    "<br></br>\n",
    "<br></br>\n",
    "<br></br>"
   ]
  },
  {
   "cell_type": "markdown",
   "id": "c2054701",
   "metadata": {},
   "source": [
    "---"
   ]
  }
 ],
 "metadata": {
  "celltoolbar": "Slideshow",
  "hide_input": false,
  "kernelspec": {
   "display_name": "Python 3 (ipykernel)",
   "language": "python",
   "name": "python3"
  },
  "language_info": {
   "codemirror_mode": {
    "name": "ipython",
    "version": 3
   },
   "file_extension": ".py",
   "mimetype": "text/x-python",
   "name": "python",
   "nbconvert_exporter": "python",
   "pygments_lexer": "ipython3",
   "version": "3.8.18"
  },
  "toc": {
   "base_numbering": 2
  }
 },
 "nbformat": 4,
 "nbformat_minor": 5
}
