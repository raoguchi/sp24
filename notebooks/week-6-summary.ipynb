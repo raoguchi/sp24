{
 "cells": [
  {
   "cell_type": "markdown",
   "id": "d499b8cf",
   "metadata": {},
   "source": [
    "# Week 6 Summary\n",
    "> NAME: $\\color{red}{\\text{    <Ryosuke Oguchi>     }}$\n",
    "> \n",
    "> PID: $\\color{red}{\\text{    <A16777050>     }}$\n",
    ">\n",
    "> \n",
    "---"
   ]
  },
  {
   "cell_type": "markdown",
   "id": "1bce0cf8",
   "metadata": {},
   "source": [
    "I certify that the following write-up is my own work, and have abided by the UCSD Academic Integrity Guidelines.\n",
    "\n",
    "- [x] Yes\n",
    "- [ ] No"
   ]
  },
  {
   "cell_type": "markdown",
   "id": "6a1c41b1",
   "metadata": {},
   "source": [
    "% # %load tex-macros\n",
    "<div hidden>\n",
    "\\newcommand{\\require}[1]{}\n",
    "\n",
    "$\\require{begingroup}\\require{newcommand}$\n",
    "$\\long\\def \\forcecommand #1{\\providecommand{#1}{}\\renewcommand{#1}}$\n",
    "$\\forcecommand{\\defeq}{\\stackrel{\\small\\bullet}{=}}$\n",
    "$\\forcecommand{\\ra}{\\rangle}$\n",
    "$\\forcecommand{\\la}{\\langle}$\n",
    "$\\forcecommand{\\pr}{{\\mathbb P}}$\n",
    "$\\forcecommand{\\qr}{{\\mathbb Q}}$\n",
    "$\\forcecommand{\\xv}{{\\boldsymbol{x}}}$\n",
    "$\\forcecommand{\\av}{{\\boldsymbol{a}}}$\n",
    "$\\forcecommand{\\bv}{{\\boldsymbol{b}}}$\n",
    "$\\forcecommand{\\cv}{{\\boldsymbol{c}}}$\n",
    "$\\forcecommand{\\dv}{{\\boldsymbol{d}}}$\n",
    "$\\forcecommand{\\ev}{{\\boldsymbol{e}}}$\n",
    "$\\forcecommand{\\fv}{{\\boldsymbol{f}}}$\n",
    "$\\forcecommand{\\gv}{{\\boldsymbol{g}}}$\n",
    "$\\forcecommand{\\hv}{{\\boldsymbol{h}}}$\n",
    "$\\forcecommand{\\nv}{{\\boldsymbol{n}}}$\n",
    "$\\forcecommand{\\sv}{{\\boldsymbol{s}}}$\n",
    "$\\forcecommand{\\tv}{{\\boldsymbol{t}}}$\n",
    "$\\forcecommand{\\uv}{{\\boldsymbol{u}}}$\n",
    "$\\forcecommand{\\vv}{{\\boldsymbol{v}}}$\n",
    "$\\forcecommand{\\wv}{{\\boldsymbol{w}}}$\n",
    "$\\forcecommand{\\zerov}{{\\mathbf{0}}}$\n",
    "$\\forcecommand{\\onev}{{\\mathbf{0}}}$\n",
    "$\\forcecommand{\\phiv}{{\\boldsymbol{\\phi}}}$\n",
    "$\\forcecommand{\\cc}{{\\check{C}}}$\n",
    "$\\forcecommand{\\xv}{{\\boldsymbol{x}}}$\n",
    "$\\forcecommand{\\Xv}{{\\boldsymbol{X}\\!}}$\n",
    "$\\forcecommand{\\yv}{{\\boldsymbol{y}}}$\n",
    "$\\forcecommand{\\Yv}{{\\boldsymbol{Y}}}$\n",
    "$\\forcecommand{\\zv}{{\\boldsymbol{z}}}$\n",
    "$\\forcecommand{\\Zv}{{\\boldsymbol{Z}}}$\n",
    "$\\forcecommand{\\Iv}{{\\boldsymbol{I}}}$\n",
    "$\\forcecommand{\\Jv}{{\\boldsymbol{J}}}$\n",
    "$\\forcecommand{\\Cv}{{\\boldsymbol{C}}}$\n",
    "$\\forcecommand{\\Ev}{{\\boldsymbol{E}}}$\n",
    "$\\forcecommand{\\Fv}{{\\boldsymbol{F}}}$\n",
    "$\\forcecommand{\\Gv}{{\\boldsymbol{G}}}$\n",
    "$\\forcecommand{\\Hv}{{\\boldsymbol{H}}}$\n",
    "$\\forcecommand{\\alphav}{{\\boldsymbol{\\alpha}}}$\n",
    "$\\forcecommand{\\epsilonv}{{\\boldsymbol{\\epsilon}}}$\n",
    "$\\forcecommand{\\betav}{{\\boldsymbol{\\beta}}}$\n",
    "$\\forcecommand{\\deltav}{{\\boldsymbol{\\delta}}}$\n",
    "$\\forcecommand{\\gammav}{{\\boldsymbol{\\gamma}}}$\n",
    "$\\forcecommand{\\etav}{{\\boldsymbol{\\eta}}}$\n",
    "$\\forcecommand{\\piv}{{\\boldsymbol{\\pi}}}$\n",
    "$\\forcecommand{\\thetav}{{\\boldsymbol{\\theta}}}$\n",
    "$\\forcecommand{\\tauv}{{\\boldsymbol{\\tau}}}$\n",
    "$\\forcecommand{\\muv}{{\\boldsymbol{\\mu}}}$\n",
    "$%$\n",
    "$\\forcecommand{\\sd}{\\text{SD}}$\n",
    "$\\forcecommand{\\se}{\\text{SE}}$\n",
    "$\\forcecommand{\\med}{\\text{median}}$\n",
    "$\\forcecommand{\\median}{\\text{median}}$\n",
    "$%$\n",
    "$\\forcecommand{\\supp}{\\text{supp}}$\n",
    "$\\forcecommand{\\E}{\\mathbb{E}}$\n",
    "$\\forcecommand{\\var}{\\text{Var}}$\n",
    "$\\forcecommand{\\Ber}{{\\text{Ber}}}$\n",
    "$\\forcecommand{\\Bin}{{\\text{Bin}}}$\n",
    "$\\forcecommand{\\Geo}{{\\text{Geo}}}$\n",
    "$\\forcecommand{\\Unif}{{\\text{Unif}}}$\n",
    "$\\forcecommand{\\Poi}{{\\text{Poi}}}$\n",
    "$\\forcecommand{\\Exp}{{\\text{Exp}}}$\n",
    "$\\forcecommand{\\Chisq}{{\\chi^2}}$\n",
    "$\\forcecommand{\\N}{\\mathbb{N}}$\n",
    "$\\forcecommand{\\iid}{{\\stackrel{iid}{\\sim}}}$\n",
    "$\\forcecommand{\\px}{p_{X}}$\n",
    "$\\forcecommand{\\fx}{f_{X}}$\n",
    "$\\forcecommand{\\Fx}{F_{X}}$\n",
    "$\\forcecommand{\\py}{p_{Y}}$\n",
    "$\\forcecommand{\\pxy}{p_{X,Y}}$\n",
    "$\\forcecommand{\\po}{{p_0}}$\n",
    "$\\forcecommand{\\pa}{{p_a}}$\n",
    "$\\forcecommand{\\Xbar}{\\overline{X}}$\n",
    "$\\forcecommand{\\Ybar}{\\overline{Y}}$\n",
    "$\\forcecommand{\\Zbar}{\\overline{Z}}$\n",
    "$\\forcecommand{\\nXbar}{n \\cdot \\overline{X}}$\n",
    "$\\forcecommand{\\nYbar}{n \\cdot \\overline{Y}}$\n",
    "$\\forcecommand{\\nZbar}{n \\cdot \\overline{Z}}$\n",
    "$\\forcecommand{\\Xn}{X_1, X_2, \\dots, X_n}$\n",
    "$\\forcecommand{\\Xm}{{X_1, X_2, \\dots, X_m}}$\n",
    "$\\forcecommand{\\Yn}{Y_1, Y_2, \\dots, Y_n}$\n",
    "$\\forcecommand{\\Ym}{{Y_1, Y_2, \\dots, Y_m}}$\n",
    "$\\forcecommand{\\sumXn}{X_1 + X_2 + \\dots + X_n}$\n",
    "$\\forcecommand{\\sumym}{Y_1 + Y_2 + \\dots + Y_m}$\n",
    "$\\forcecommand{\\la}{\\ell_\\alpha}$\n",
    "$\\forcecommand{\\ua}{u_\\alpha}$\n",
    "$\\forcecommand{\\at}{{\\alpha/2}}$\n",
    "$\\forcecommand{\\mux}{\\mu_{X}}$\n",
    "$\\forcecommand{\\muy}{\\mu_{Y}}$\n",
    "$\\forcecommand{\\sx}{\\sigma_{X}}$\n",
    "$\\forcecommand{\\sy}{\\sigma_{Y}}$\n",
    "$\\forcecommand{\\ci}{\\text{CI}}$\n",
    "$\\forcecommand{\\pvalue}{$p$-value}$\n",
    "$\\forcecommand{\\Ho}{H_{0}}$\n",
    "$\\forcecommand{\\Ha}{H_{a}}$\n",
    "\n",
    "\\vskip-\\parskip\n",
    "\\vskip-\\baselineskip\n",
    "</div>"
   ]
  },
  {
   "cell_type": "code",
   "execution_count": 1,
   "id": "bb0120db",
   "metadata": {},
   "outputs": [],
   "source": [
    "import numpy as np\n",
    "import scipy\n",
    "from scipy import stats as stats\n",
    "\n",
    "import statsmodels\n",
    "import statsmodels.api as sm"
   ]
  },
  {
   "cell_type": "markdown",
   "id": "fbfec7ec",
   "metadata": {},
   "source": [
    "---"
   ]
  },
  {
   "cell_type": "markdown",
   "id": "15c6dc53",
   "metadata": {},
   "source": [
    "## Key Takeaways from Week 6"
   ]
  },
  {
   "cell_type": "markdown",
   "id": "cc992f31",
   "metadata": {},
   "source": [
    "\n",
    "#### Tuesday: \n",
    "\n",
    "... insert your key takeaways here ..."
   ]
  },
  {
   "cell_type": "markdown",
   "id": "6d69de7b",
   "metadata": {},
   "source": [
    "#### Thursday\n",
    "\n",
    "... insert your takeaway here ...\n"
   ]
  },
  {
   "cell_type": "markdown",
   "id": "aaadbca8",
   "metadata": {},
   "source": [
    "---"
   ]
  },
  {
   "cell_type": "markdown",
   "id": "c2d78965",
   "metadata": {},
   "source": [
    "## Tue, May 7"
   ]
  },
  {
   "cell_type": "markdown",
   "id": "5f374b82",
   "metadata": {},
   "source": [
    "<br></br>"
   ]
  },
  {
   "cell_type": "markdown",
   "id": "2988bd40",
   "metadata": {},
   "source": [
    "Simple regression: $x_i$ is indepedent variable, $y_i$ is dependent variable"
   ]
  },
  {
   "cell_type": "markdown",
   "id": "5abad0d9",
   "metadata": {},
   "source": [
    "### Regression: quantiative response and quantitative predictor"
   ]
  },
  {
   "cell_type": "markdown",
   "id": "0313ab33",
   "metadata": {},
   "source": [
    "Simple form:\n",
    "\n",
    "$$\n",
    "y_i = \\beta_0 + \\beta_1 x_i + \\epsilon_i\n",
    "$$\n",
    "\n",
    "Errors make the regression a statistical question; it determines which is the response and the independent"
   ]
  },
  {
   "cell_type": "markdown",
   "id": "f8e78c82",
   "metadata": {},
   "source": [
    "Line of best fit is the form\n",
    "\n",
    "$$\n",
    "\\hat y_i = \\hat\\beta_0 + \\hat\\beta_1 + \\epsilon\n",
    "$$"
   ]
  },
  {
   "cell_type": "markdown",
   "id": "e5961b17",
   "metadata": {},
   "source": [
    "Goal is to minimize the squared errors between the $y_i and \\hat y_i$ under a loss function that creates the optimal parameters of the betas"
   ]
  },
  {
   "cell_type": "markdown",
   "id": "52e6daf1",
   "metadata": {},
   "source": [
    "<br></br>"
   ]
  },
  {
   "cell_type": "markdown",
   "id": "845f52bb",
   "metadata": {},
   "source": [
    "##### Regression equation (matrix form)\n"
   ]
  },
  {
   "cell_type": "markdown",
   "id": "3f52d679",
   "metadata": {},
   "source": [
    "<br></br>"
   ]
  },
  {
   "cell_type": "markdown",
   "id": "2f3c3688",
   "metadata": {},
   "source": [
    "##### Estimation procedure\n",
    "\n",
    "..."
   ]
  },
  {
   "cell_type": "markdown",
   "id": "6f2ef273",
   "metadata": {},
   "source": [
    "<br></br>"
   ]
  },
  {
   "cell_type": "markdown",
   "id": "9b7234bd",
   "metadata": {},
   "source": [
    "##### Optimal estimates\n",
    "\n",
    "..."
   ]
  },
  {
   "cell_type": "markdown",
   "id": "6fe84710",
   "metadata": {},
   "source": [
    "<br></br>\n",
    "<br></br>\n",
    "<br></br>"
   ]
  },
  {
   "cell_type": "markdown",
   "id": "739bc658",
   "metadata": {},
   "source": [
    "### Interpretation"
   ]
  },
  {
   "cell_type": "markdown",
   "id": "56a0be9c",
   "metadata": {},
   "source": [
    "> #### Model interpretation\n",
    "\n",
    "Conditional distribution of $y$ given $x$\n",
    "\n",
    "$$\n",
    "y|x \\sim N(\\beta_0 + \\beta_1 x, \\sigma^2)\n",
    "$$\n",
    "\n",
    "therefore,\n",
    "$$\n",
    "\\E(y|x) = \\beta_0 + \\beta_1 x\n",
    "$$\n",
    "\n",
    "best guess is given by \n",
    "\n",
    "$$\n",
    "\\hat y(x) = \\beta_0 + \\beta_1 x\n",
    "$$"
   ]
  },
  {
   "cell_type": "markdown",
   "id": "965c68e1",
   "metadata": {},
   "source": [
    "<br></br>"
   ]
  },
  {
   "cell_type": "markdown",
   "id": "df803a03",
   "metadata": {},
   "source": [
    "#### Sum of Squares\n",
    "\n",
    "$$\n",
    "\\text{Loss}(\\beta_0, \\beta_1) = \\sum_{i=1}^n (y_i - \\hat{y}_i)^2 = \\sum_{i=1}^n (y_i - \\beta_0 - \\beta_1 x_i)^2\n",
    "$$\n",
    "\n",
    "and, \n",
    "\n",
    "$$\n",
    "\\hat{\\beta_0}, \\hat{\\beta_1} = \\underset{\\beta_1 \\in \\R}{\\underset{\\beta_0 \\in \\R}{\\text{argmin}}}  \\ \\ \\ \\text{Loss}(\\beta_0, \\beta_1)\n",
    "$$"
   ]
  },
  {
   "cell_type": "markdown",
   "id": "7e2c30c4",
   "metadata": {},
   "source": [
    "#### Through correlation coefficient\n",
    "\n",
    "\n",
    "$$\n",
    "\\hat\\beta_1 = r_{xy} * \\frac{s_y}{s_x}"
   ]
  },
  {
   "cell_type": "markdown",
   "id": "325c32f1",
   "metadata": {},
   "source": [
    "$$\n",
    "r_{xy} = \\frac{\\sum_{i=1}^n (x_i-\\bar{x})(y_i-\\bar{y})}{\\sqrt{\\sum_{i=1}^n(x_i-\\bar{x})} \\sqrt{\\sum_{i=1}^n(y_i-\\bar{y})}}\n",
    "$$"
   ]
  },
  {
   "cell_type": "markdown",
   "id": "38d2f2d6",
   "metadata": {},
   "source": [
    "> #### Maximum Likelihood interperation\n",
    "\n",
    "Suppose error terms are normally distributed with mean 0 and variance $\\sigma^2$\n",
    "\n",
    "$$\n",
    "\\epsilon_1, \\dots, \\epsilon_n \\sim N(0,\\sigma^2)\n",
    "$$"
   ]
  },
  {
   "cell_type": "markdown",
   "id": "fbc10487",
   "metadata": {},
   "source": [
    "Distribution of $y$ will be centered on $\\beta_0 + \\beta_1 x_i$ with spread of $\\sigma^2$"
   ]
  },
  {
   "cell_type": "markdown",
   "id": "4c1b4ace",
   "metadata": {},
   "source": [
    "Expected value of $y_i$ given $x_i$ it will be the most likely value which is the mean $\\beta_0 + \\beta_1 x_i$ this is an observation of law of large numbers where the mean converges towards the mean with a normal distribution"
   ]
  },
  {
   "cell_type": "markdown",
   "id": "796f2838",
   "metadata": {},
   "source": [
    "Probability density function is given by:\n",
    "$$\n",
    "f_y(y) = \\frac{1}{\\sqrt{2 \\pi \\sigma^2}} exp(-\\frac{(y_i-\\mu)^2}{2 \\sigma^2})\n",
    "$$\n",
    "\n",
    "and\n",
    "\n",
    "Log PDF\n",
    "$$\n",
    "\\log f(y) = \\log (\\frac{1}{\\sqrt{2 \\pi \\sigma^2}}) -\\frac{(y_i-\\mu)^2}{2 \\sigma^2}\n",
    "$$\n",
    "\n",
    "Log Likelihood\n",
    "\n",
    "$$\n",
    "\n",
    "$$\n"
   ]
  },
  {
   "cell_type": "markdown",
   "id": "868bc381",
   "metadata": {},
   "source": [
    "Maximize the log likelihood\n",
    "\n",
    "* The optimal values are performing a least squares minimization\n",
    "\n",
    "Result is the same answer as solving for the norm\n",
    "\n",
    "You also get:\n",
    "\n",
    "$$\n",
    "\\hat\\sigma^2 = \\frac{1}{n-1} \\sum_{i=1}^2 (y_i-\\hat y_i)^2\n",
    "$$"
   ]
  },
  {
   "cell_type": "markdown",
   "id": "78b4a3e2",
   "metadata": {},
   "source": [
    "> #### Interpretation of the coefficients\n",
    "\n",
    "$$\n",
    "\\E(y | x = 0) = \\beta_0\n",
    "$$\n",
    "\n",
    "therefore,\n",
    "\n",
    "\n",
    "$\\beta_0$ interpretation\n",
    "$$\n",
    "\\hat y(0) = \\hat \\beta_0\n",
    "$$\n",
    "\n",
    "$\\beta_1$ interpretation\n",
    "\n",
    "$$\n",
    "\\frac{d}{dx} \\E(y|x) = \\beta_1\n",
    "$$\n",
    "\n",
    "Expected change in the dependent varaible $y$ for an incremental change in $x$"
   ]
  },
  {
   "cell_type": "markdown",
   "id": "67254b33",
   "metadata": {},
   "source": [
    "<br></br>"
   ]
  },
  {
   "cell_type": "markdown",
   "id": "e362faf0",
   "metadata": {},
   "source": [
    "$\\hat \\beta_1 = \\frac{d}{dx} \\hat y(x)$ for estimated value"
   ]
  },
  {
   "cell_type": "markdown",
   "id": "60a16f88",
   "metadata": {},
   "source": [
    "> #### Meaning of the p-value for the coefficients\n",
    "\n",
    "\n",
    "Try to test for\n",
    "\n",
    "$$\n",
    "H_0: \\beta = 0\n",
    "$$\n",
    "$$\n",
    "H_a: \\beta \\ne 0 \n",
    "$$\n",
    "p value is the summary table is the p-value of the two sided hypothesis tests"
   ]
  },
  {
   "cell_type": "markdown",
   "id": "438f1477",
   "metadata": {},
   "source": [
    "<br></br>\n",
    "<br></br>\n",
    "<br></br>"
   ]
  },
  {
   "cell_type": "markdown",
   "id": "cd893a57",
   "metadata": {},
   "source": [
    "### Anatomy of the regression model"
   ]
  },
  {
   "cell_type": "markdown",
   "id": "0f10e689",
   "metadata": {},
   "source": [
    "> #### Coefficients\n",
    "\n",
    "Coefficients of the regression line are the estimated values of $\\beta_0, \\beta_1$ ie $\\hat\\beta_0, \\hat\\beta_1$"
   ]
  },
  {
   "cell_type": "markdown",
   "id": "70df1f91",
   "metadata": {},
   "source": [
    "<br></br>"
   ]
  },
  {
   "cell_type": "markdown",
   "id": "388b4eb1",
   "metadata": {},
   "source": [
    "> #### Predicted values\n",
    "\n",
    "\n",
    "Predicted values of y given x is given by \n",
    "$$\n",
    "\\hat y = [1 x](\\hat\\beta_0 , \\hat\\beta_1) = \\hat \\beta_0 + \\hat\\beta_1 x_i\n",
    "$$"
   ]
  },
  {
   "cell_type": "markdown",
   "id": "097661ac",
   "metadata": {},
   "source": [
    "<br></br>"
   ]
  },
  {
   "cell_type": "markdown",
   "id": "39713a04",
   "metadata": {},
   "source": [
    "Given a new $x^*$ new value is $\\hat\\beta_0 + \\hat\\beta_1 x^*$"
   ]
  },
  {
   "cell_type": "markdown",
   "id": "c6455da1",
   "metadata": {},
   "source": [
    "> #### Residuals\n",
    "Residual for i-th observation is the difference between the observered and predicted values of y\n",
    "$$\n",
    "e_i = y_i - \\hat y_i\n",
    "$$"
   ]
  },
  {
   "cell_type": "markdown",
   "id": "4974276f",
   "metadata": {},
   "source": [
    "<br></br>"
   ]
  },
  {
   "cell_type": "markdown",
   "id": "f8bfdc9c",
   "metadata": {},
   "source": [
    "> #### Sum of squares\n",
    "\n",
    "\n",
    "* $y$: Obsered value of the dependent variable\n",
    "* $\\hat y$: Predicted values of the dependent variable\n",
    "* $\\bar{y}$ Mean of the observered values of the dependent variable"
   ]
  },
  {
   "cell_type": "markdown",
   "id": "a6363700",
   "metadata": {},
   "source": [
    "* $\\text{SS}_{Tot} = \\sum_{i=1} ^ n (y_i - \\bar{y})^2$ how much variability in the $y$ variable\n",
    "* $\\text{SS}_{Reg} = \\sum_{i=1} ^ n (\\hat y_i - \\bar{y})^2$ how much variability in the $\\hat y$ variable reproduces\n",
    "* $\\text{SS}_{Res} = \\sum_{i=1} ^ n (y_i - \\hat{y})^2$ how much variability in the $\\hat y$ is unable to reproduce"
   ]
  },
  {
   "cell_type": "markdown",
   "id": "b9aeded5",
   "metadata": {},
   "source": [
    "By pythagorean theorem,\n",
    "\n",
    "$$\n",
    "\\text{SS}_{Tot} = \\text{SS}_{Reg} + \\text{SS}_{Res}\n",
    "$$"
   ]
  },
  {
   "cell_type": "markdown",
   "id": "f20f8a79",
   "metadata": {},
   "source": [
    "<br></br>"
   ]
  },
  {
   "cell_type": "markdown",
   "id": "a9ba75d1",
   "metadata": {},
   "source": [
    "> #### R-squared\n",
    "\n",
    "$$\n",
    "R^2 = \\frac{\\text{SS}_{Reg}}{\\text{SS}_{Tot}}\n",
    "$$\n",
    "\n",
    "$R^2$ is the proportion of the level of variability in the dependent variable $y$ that is explained in the regression model"
   ]
  },
  {
   "cell_type": "markdown",
   "id": "1b2bf9d1",
   "metadata": {},
   "source": [
    "<br></br>"
   ]
  },
  {
   "cell_type": "markdown",
   "id": "7761b417",
   "metadata": {},
   "source": [
    "> #### F-statistic\n",
    "\n",
    "\n",
    "$$\n",
    "\\hat F = \\frac{\\text{SS}_{Reg} / \\text{df}_{Reg}}{\\text{SS}_{Res} / \\text{df}_{Res}} \n",
    "$$\n",
    "\n",
    "where \n",
    "\n",
    "$$\n",
    "\\text{df}_{Reg} = 1\n",
    "$$\n",
    "$$\n",
    "\\text{df}_{Res} = n-2\n",
    "$$\n",
    "\n",
    "The F-stastistic is the ratio of the explained variance to the unexplained variance in the data"
   ]
  },
  {
   "cell_type": "markdown",
   "id": "394bf1b3",
   "metadata": {},
   "source": [
    "<br></br>\n",
    "<br></br>\n",
    "<br></br>"
   ]
  },
  {
   "cell_type": "markdown",
   "id": "f934f5e1",
   "metadata": {},
   "source": [
    "\n",
    "* $H_0: \\beta_1 = \\dots = \\beta_p = 0$\n",
    "* $H_a: \\text{at least one is } \\beta_j \\ne 0$\n"
   ]
  },
  {
   "cell_type": "markdown",
   "id": "d3e8f965",
   "metadata": {},
   "source": [
    "### Diagnostics"
   ]
  },
  {
   "cell_type": "markdown",
   "id": "75ad2692",
   "metadata": {},
   "source": [
    "<br></br>"
   ]
  },
  {
   "cell_type": "markdown",
   "id": "3d6e86e8",
   "metadata": {},
   "source": [
    "Here are the main asssumptions of the regression model:\n",
    "\n",
    "1. Errors are independent\n",
    "2. Errors have constant variance for all observations\n",
    "3. Normally distributed\n",
    "4. Linearity\n",
    "5. Completeness"
   ]
  },
  {
   "cell_type": "markdown",
   "id": "92e67aa6",
   "metadata": {},
   "source": [
    "Inferences from the regression model is valid if assumptions are all correct"
   ]
  },
  {
   "cell_type": "markdown",
   "id": "30b6c2ff",
   "metadata": {},
   "source": [
    "<br></br>"
   ]
  },
  {
   "cell_type": "markdown",
   "id": "b47b1d87",
   "metadata": {},
   "source": [
    "Here's how I would go about checking these assumptions"
   ]
  },
  {
   "cell_type": "markdown",
   "id": "fa1ba64e",
   "metadata": {},
   "source": [
    "<br></br>"
   ]
  },
  {
   "cell_type": "markdown",
   "id": "c27c33cc",
   "metadata": {},
   "source": [
    "> ##### Assumption 1 \n",
    "\n",
    "Test using ACF function for residuals"
   ]
  },
  {
   "cell_type": "markdown",
   "id": "4c2ca09d",
   "metadata": {},
   "source": [
    "<br></br>"
   ]
  },
  {
   "cell_type": "markdown",
   "id": "cd2684ef",
   "metadata": {},
   "source": [
    "> ##### Assumption 2\n",
    "\n",
    "If you plot standardized residuals against x values, "
   ]
  },
  {
   "cell_type": "markdown",
   "id": "31eea977",
   "metadata": {},
   "source": [
    "<br></br>"
   ]
  },
  {
   "cell_type": "markdown",
   "id": "571454f0",
   "metadata": {},
   "source": [
    "> ##### Assumption 3\n",
    "\n",
    "Plot a histogram and check QQ plot\n",
    "* if QQ plot is linear, there is evidence of normality\n",
    "* shapiro-wilkes test will give good evidence that normality is upheld\n"
   ]
  },
  {
   "cell_type": "markdown",
   "id": "686cb181",
   "metadata": {},
   "source": [
    "<br></br>"
   ]
  },
  {
   "cell_type": "markdown",
   "id": "7e4c7daa",
   "metadata": {},
   "source": [
    "> ##### Assumption 4\n",
    "\n",
    "Relationship should be linear\n",
    "\n",
    "- First the residuals can be plotted against the independent variable x\n",
    "- if residuals re scattered around 0, assumptions of linearity can be upheld"
   ]
  },
  {
   "cell_type": "markdown",
   "id": "9fd927ff",
   "metadata": {},
   "source": [
    "<br></br>"
   ]
  },
  {
   "cell_type": "markdown",
   "id": "74421b83",
   "metadata": {},
   "source": [
    "> ##### Assumption 5\n",
    "..."
   ]
  },
  {
   "cell_type": "markdown",
   "id": "4a349752",
   "metadata": {},
   "source": [
    "<br></br>\n",
    "<br></br>\n",
    "<br></br>"
   ]
  },
  {
   "cell_type": "markdown",
   "id": "a9c1d209",
   "metadata": {},
   "source": [
    "### Unusual observations"
   ]
  },
  {
   "cell_type": "markdown",
   "id": "7a8b8569",
   "metadata": {},
   "source": [
    "> ##### Outliers\n",
    "Observations with Large residuals\n",
    "\n",
    "$x_i$ is an outlier if $e_i$ is large"
   ]
  },
  {
   "cell_type": "markdown",
   "id": "8827e95d",
   "metadata": {},
   "source": [
    "<br></br>"
   ]
  },
  {
   "cell_type": "markdown",
   "id": "a0cf4991",
   "metadata": {},
   "source": [
    "> ##### Influential points\n",
    "Observations with large effective on regression model\n",
    "\n",
    "$x_i$ is an influential point if $ |\\hat\\beta_0 - \\hat\\beta_1 | $ is large\n",
    "\n",
    "* influence of a point is measured using cook's distance\n",
    "* it is a measure of residuals; influence on all fitted values"
   ]
  },
  {
   "cell_type": "markdown",
   "id": "b6e83533",
   "metadata": {},
   "source": [
    "<br></br>\n",
    "<br></br>\n",
    "<br></br>"
   ]
  },
  {
   "cell_type": "markdown",
   "id": "f15473cf",
   "metadata": {},
   "source": [
    "---\n",
    "---"
   ]
  },
  {
   "cell_type": "markdown",
   "id": "06efcaa3",
   "metadata": {},
   "source": [
    "## Thu, May 9"
   ]
  },
  {
   "cell_type": "markdown",
   "id": "162e5888",
   "metadata": {},
   "source": [
    "<br></br>"
   ]
  },
  {
   "cell_type": "markdown",
   "id": "5712cb74",
   "metadata": {},
   "source": [
    "### Regression: quantiative response and categorical predictor"
   ]
  },
  {
   "cell_type": "markdown",
   "id": "a3e49d0e",
   "metadata": {},
   "source": [
    "##### Visual interpretation of \"regression effect\"\n",
    "\n",
    "* $x_i$ is a categorical variable with $k$ levels\n",
    "* $y_i$ is a continuous variable"
   ]
  },
  {
   "cell_type": "markdown",
   "id": "bbfbf3dd",
   "metadata": {},
   "source": [
    "<br></br>"
   ]
  },
  {
   "cell_type": "markdown",
   "id": "34be153a",
   "metadata": {},
   "source": [
    "##### Regression equation (under the hood)\n",
    "\n",
    "$$\n",
    "y_i = \\beta_0 + \\beta_1 x_i + \\epsilon_1\n",
    "$$\n",
    "\n",
    "* Ordinal covariate is not the same across different levels\n",
    "* Categorical covariate "
   ]
  },
  {
   "cell_type": "markdown",
   "id": "b12cb674",
   "metadata": {},
   "source": [
    "<br></br>"
   ]
  },
  {
   "cell_type": "markdown",
   "id": "557f30eb",
   "metadata": {},
   "source": [
    "##### Intepretation of the regression coefficients\n",
    "\n",
    "There is a set baseline made through dummy encoding.\n",
    "\n",
    "$$\n",
    "\\E(y|x) = \\beta_0\n",
    "$$\n",
    "\n",
    "if x variable is j\n",
    "$$\n",
    "\\E(y|x = j) = \\beta_0 + \\beta_{1,j}\n",
    "$$\n",
    "\n",
    "Slope interpretation\n",
    "$$\n",
    "\\beta_{1,j} = \\E(y|x=j) - \\E(y|x=0)\n",
    "$$\n",
    "it is the difference relative to the baseline"
   ]
  },
  {
   "cell_type": "markdown",
   "id": "cd1560ec",
   "metadata": {},
   "source": [
    "<br></br>"
   ]
  },
  {
   "cell_type": "markdown",
   "id": "5e150c9e",
   "metadata": {},
   "source": [
    "<br></br>\n",
    "<br></br>\n",
    "<br></br>"
   ]
  },
  {
   "cell_type": "markdown",
   "id": "9b025551",
   "metadata": {},
   "source": [
    "### Regression: quantiative response vs multiple covariates"
   ]
  },
  {
   "cell_type": "markdown",
   "id": "b508d012",
   "metadata": {},
   "source": [
    "There are $p$ different variables $x_1, \\dots, x_p$ and dependent $y$, and $n$ observations\n",
    "\n",
    "* $x_{ij}$ is the i-th obseravtion j-th dependent variable\n",
    "* $y_i$ is value of the dependent variable for i-th observation"
   ]
  },
  {
   "cell_type": "markdown",
   "id": "6d263628",
   "metadata": {},
   "source": [
    "##### Regression equation\n",
    "\n",
    "$y = \\beta_0 + \\beta_1 x_1 + \\beta_2 x_2$ for $p=2$ with two independent variables $x_1, x_2$ and dependent $y$"
   ]
  },
  {
   "cell_type": "markdown",
   "id": "902c2369",
   "metadata": {},
   "source": [
    "<br></br>"
   ]
  },
  {
   "cell_type": "markdown",
   "id": "0d11df14",
   "metadata": {},
   "source": [
    "##### Regression equation (matrix form)\n",
    "\n",
    "$$\n",
    "y = X \\beta + \\epsilon\n",
    "$$\n",
    "\n",
    "$$\n",
    "\\hat\\beta = (X^T X)^{-1} X^T y\n",
    "$$"
   ]
  },
  {
   "cell_type": "markdown",
   "id": "93cd8a34",
   "metadata": {},
   "source": [
    "<br></br>"
   ]
  },
  {
   "cell_type": "markdown",
   "id": "3c6020e6",
   "metadata": {},
   "source": [
    "##### Estimation procedure\n",
    "\n",
    "Want the line of best fit\n",
    "$$\n",
    "\\hat y = \\hat\\beta_0 + \\hat\\beta_1 x_1 + \\dots + \\hat\\beta_p x_p\n",
    "$$"
   ]
  },
  {
   "cell_type": "markdown",
   "id": "61b9a248",
   "metadata": {},
   "source": [
    "$$\n",
    "\\hat y = \\hat\\beta_0^* + \\hat\\beta_1^* x_1 + \\dots + \\hat\\beta_p^* x_p\n",
    "$$"
   ]
  },
  {
   "cell_type": "markdown",
   "id": "6124050d",
   "metadata": {},
   "source": [
    "Interpretations:\n",
    "\n",
    "$\\epsilon$ is normally distributed, so is $y$"
   ]
  },
  {
   "cell_type": "markdown",
   "id": "8282962f",
   "metadata": {},
   "source": [
    "$$\n",
    "\\hat\\sigma ^ 2 = \\frac{1}{n-p} \\sum_{i=1}^n (y_i - \\hat y_i)^2\n",
    "$$\n",
    "\n",
    "$$\n",
    "\\frac{d\\hat y}{d x_j} = \\hat \\beta_j\n",
    "$$\n",
    "\n",
    "hold all other variables constant, betas are expected change for one unit change iin x\n",
    "\n",
    "$\\hat\\beta_0$ is driven by all other variables held at 0"
   ]
  },
  {
   "cell_type": "markdown",
   "id": "56e556a0",
   "metadata": {},
   "source": [
    "<br></br>"
   ]
  },
  {
   "cell_type": "markdown",
   "id": "bd6676f3",
   "metadata": {},
   "source": [
    "##### Optimal estimates\n",
    "\n",
    "..."
   ]
  },
  {
   "cell_type": "markdown",
   "id": "905f8c28",
   "metadata": {},
   "source": [
    "<br></br>"
   ]
  },
  {
   "cell_type": "markdown",
   "id": "7f385b0d",
   "metadata": {},
   "source": [
    "<br></br>"
   ]
  },
  {
   "cell_type": "markdown",
   "id": "25ab4e41",
   "metadata": {},
   "source": [
    "### Anatomy of the regression model"
   ]
  },
  {
   "cell_type": "markdown",
   "id": "1b4d65de",
   "metadata": {},
   "source": [
    "> #### Predicted values\n",
    "..."
   ]
  },
  {
   "cell_type": "markdown",
   "id": "caef97d6",
   "metadata": {},
   "source": [
    "<br></br>"
   ]
  },
  {
   "cell_type": "markdown",
   "id": "65350648",
   "metadata": {},
   "source": [
    "> #### Residuals\n",
    "..."
   ]
  },
  {
   "cell_type": "markdown",
   "id": "0a76e6eb",
   "metadata": {},
   "source": [
    "<br></br>"
   ]
  },
  {
   "cell_type": "markdown",
   "id": "7cc15fd5",
   "metadata": {},
   "source": [
    "> #### Sum of squares\n",
    "..."
   ]
  },
  {
   "cell_type": "markdown",
   "id": "6440cde2",
   "metadata": {},
   "source": [
    "<br></br>"
   ]
  },
  {
   "cell_type": "markdown",
   "id": "6f4159cf",
   "metadata": {},
   "source": [
    "> #### R-squared\n",
    "..."
   ]
  },
  {
   "cell_type": "markdown",
   "id": "3a6014a4",
   "metadata": {},
   "source": [
    "<br></br>"
   ]
  },
  {
   "cell_type": "markdown",
   "id": "2999732f",
   "metadata": {},
   "source": [
    "> #### F-statistic\n",
    "..."
   ]
  },
  {
   "cell_type": "markdown",
   "id": "925048d6",
   "metadata": {},
   "source": [
    "<br></br>"
   ]
  },
  {
   "cell_type": "markdown",
   "id": "89c9fbbd",
   "metadata": {},
   "source": [
    "> #### Interpretation of coefficients\n",
    "..."
   ]
  },
  {
   "cell_type": "markdown",
   "id": "584bc66a",
   "metadata": {},
   "source": [
    "<br></br>"
   ]
  },
  {
   "cell_type": "markdown",
   "id": "112bceb8",
   "metadata": {},
   "source": [
    "<br></br>\n",
    "<br></br>\n",
    "<br></br>"
   ]
  },
  {
   "cell_type": "markdown",
   "id": "c2054701",
   "metadata": {},
   "source": [
    "---"
   ]
  }
 ],
 "metadata": {
  "celltoolbar": "Slideshow",
  "hide_input": false,
  "kernelspec": {
   "display_name": "Python 3 (ipykernel)",
   "language": "python",
   "name": "python3"
  },
  "language_info": {
   "codemirror_mode": {
    "name": "ipython",
    "version": 3
   },
   "file_extension": ".py",
   "mimetype": "text/x-python",
   "name": "python",
   "nbconvert_exporter": "python",
   "pygments_lexer": "ipython3",
   "version": "3.8.18"
  },
  "toc": {
   "base_numbering": 2
  }
 },
 "nbformat": 4,
 "nbformat_minor": 5
}
