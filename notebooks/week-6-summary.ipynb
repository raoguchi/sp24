{
 "cells": [
  {
   "cell_type": "markdown",
   "id": "d499b8cf",
   "metadata": {},
   "source": [
    "# Week 6 Summary\n",
    "> NAME: $\\color{red}{\\text{    <Insert Your Name Here>     }}$\n",
    "> \n",
    "> PID: $\\color{red}{\\text{    <Insert Your ID Here>     }}$\n",
    ">\n",
    "> \n",
    "---"
   ]
  },
  {
   "cell_type": "markdown",
   "id": "1bce0cf8",
   "metadata": {},
   "source": [
    "I certify that the following write-up is my own work, and have abided by the UCSD Academic Integrity Guidelines.\n",
    "\n",
    "- [x] Yes\n",
    "- [ ] No"
   ]
  },
  {
   "cell_type": "markdown",
   "id": "6a1c41b1",
   "metadata": {},
   "source": [
    "% # %load tex-macros\n",
    "<div hidden>\n",
    "\\newcommand{\\require}[1]{}\n",
    "\n",
    "$\\require{begingroup}\\require{newcommand}$\n",
    "$\\long\\def \\forcecommand #1{\\providecommand{#1}{}\\renewcommand{#1}}$\n",
    "$\\forcecommand{\\defeq}{\\stackrel{\\small\\bullet}{=}}$\n",
    "$\\forcecommand{\\ra}{\\rangle}$\n",
    "$\\forcecommand{\\la}{\\langle}$\n",
    "$\\forcecommand{\\pr}{{\\mathbb P}}$\n",
    "$\\forcecommand{\\qr}{{\\mathbb Q}}$\n",
    "$\\forcecommand{\\xv}{{\\boldsymbol{x}}}$\n",
    "$\\forcecommand{\\av}{{\\boldsymbol{a}}}$\n",
    "$\\forcecommand{\\bv}{{\\boldsymbol{b}}}$\n",
    "$\\forcecommand{\\cv}{{\\boldsymbol{c}}}$\n",
    "$\\forcecommand{\\dv}{{\\boldsymbol{d}}}$\n",
    "$\\forcecommand{\\ev}{{\\boldsymbol{e}}}$\n",
    "$\\forcecommand{\\fv}{{\\boldsymbol{f}}}$\n",
    "$\\forcecommand{\\gv}{{\\boldsymbol{g}}}$\n",
    "$\\forcecommand{\\hv}{{\\boldsymbol{h}}}$\n",
    "$\\forcecommand{\\nv}{{\\boldsymbol{n}}}$\n",
    "$\\forcecommand{\\sv}{{\\boldsymbol{s}}}$\n",
    "$\\forcecommand{\\tv}{{\\boldsymbol{t}}}$\n",
    "$\\forcecommand{\\uv}{{\\boldsymbol{u}}}$\n",
    "$\\forcecommand{\\vv}{{\\boldsymbol{v}}}$\n",
    "$\\forcecommand{\\wv}{{\\boldsymbol{w}}}$\n",
    "$\\forcecommand{\\zerov}{{\\mathbf{0}}}$\n",
    "$\\forcecommand{\\onev}{{\\mathbf{0}}}$\n",
    "$\\forcecommand{\\phiv}{{\\boldsymbol{\\phi}}}$\n",
    "$\\forcecommand{\\cc}{{\\check{C}}}$\n",
    "$\\forcecommand{\\xv}{{\\boldsymbol{x}}}$\n",
    "$\\forcecommand{\\Xv}{{\\boldsymbol{X}\\!}}$\n",
    "$\\forcecommand{\\yv}{{\\boldsymbol{y}}}$\n",
    "$\\forcecommand{\\Yv}{{\\boldsymbol{Y}}}$\n",
    "$\\forcecommand{\\zv}{{\\boldsymbol{z}}}$\n",
    "$\\forcecommand{\\Zv}{{\\boldsymbol{Z}}}$\n",
    "$\\forcecommand{\\Iv}{{\\boldsymbol{I}}}$\n",
    "$\\forcecommand{\\Jv}{{\\boldsymbol{J}}}$\n",
    "$\\forcecommand{\\Cv}{{\\boldsymbol{C}}}$\n",
    "$\\forcecommand{\\Ev}{{\\boldsymbol{E}}}$\n",
    "$\\forcecommand{\\Fv}{{\\boldsymbol{F}}}$\n",
    "$\\forcecommand{\\Gv}{{\\boldsymbol{G}}}$\n",
    "$\\forcecommand{\\Hv}{{\\boldsymbol{H}}}$\n",
    "$\\forcecommand{\\alphav}{{\\boldsymbol{\\alpha}}}$\n",
    "$\\forcecommand{\\epsilonv}{{\\boldsymbol{\\epsilon}}}$\n",
    "$\\forcecommand{\\betav}{{\\boldsymbol{\\beta}}}$\n",
    "$\\forcecommand{\\deltav}{{\\boldsymbol{\\delta}}}$\n",
    "$\\forcecommand{\\gammav}{{\\boldsymbol{\\gamma}}}$\n",
    "$\\forcecommand{\\etav}{{\\boldsymbol{\\eta}}}$\n",
    "$\\forcecommand{\\piv}{{\\boldsymbol{\\pi}}}$\n",
    "$\\forcecommand{\\thetav}{{\\boldsymbol{\\theta}}}$\n",
    "$\\forcecommand{\\tauv}{{\\boldsymbol{\\tau}}}$\n",
    "$\\forcecommand{\\muv}{{\\boldsymbol{\\mu}}}$\n",
    "$%$\n",
    "$\\forcecommand{\\sd}{\\text{SD}}$\n",
    "$\\forcecommand{\\se}{\\text{SE}}$\n",
    "$\\forcecommand{\\med}{\\text{median}}$\n",
    "$\\forcecommand{\\median}{\\text{median}}$\n",
    "$%$\n",
    "$\\forcecommand{\\supp}{\\text{supp}}$\n",
    "$\\forcecommand{\\E}{\\mathbb{E}}$\n",
    "$\\forcecommand{\\var}{\\text{Var}}$\n",
    "$\\forcecommand{\\Ber}{{\\text{Ber}}}$\n",
    "$\\forcecommand{\\Bin}{{\\text{Bin}}}$\n",
    "$\\forcecommand{\\Geo}{{\\text{Geo}}}$\n",
    "$\\forcecommand{\\Unif}{{\\text{Unif}}}$\n",
    "$\\forcecommand{\\Poi}{{\\text{Poi}}}$\n",
    "$\\forcecommand{\\Exp}{{\\text{Exp}}}$\n",
    "$\\forcecommand{\\Chisq}{{\\chi^2}}$\n",
    "$\\forcecommand{\\N}{\\mathbb{N}}$\n",
    "$\\forcecommand{\\iid}{{\\stackrel{iid}{\\sim}}}$\n",
    "$\\forcecommand{\\px}{p_{X}}$\n",
    "$\\forcecommand{\\fx}{f_{X}}$\n",
    "$\\forcecommand{\\Fx}{F_{X}}$\n",
    "$\\forcecommand{\\py}{p_{Y}}$\n",
    "$\\forcecommand{\\pxy}{p_{X,Y}}$\n",
    "$\\forcecommand{\\po}{{p_0}}$\n",
    "$\\forcecommand{\\pa}{{p_a}}$\n",
    "$\\forcecommand{\\Xbar}{\\overline{X}}$\n",
    "$\\forcecommand{\\Ybar}{\\overline{Y}}$\n",
    "$\\forcecommand{\\Zbar}{\\overline{Z}}$\n",
    "$\\forcecommand{\\nXbar}{n \\cdot \\overline{X}}$\n",
    "$\\forcecommand{\\nYbar}{n \\cdot \\overline{Y}}$\n",
    "$\\forcecommand{\\nZbar}{n \\cdot \\overline{Z}}$\n",
    "$\\forcecommand{\\Xn}{X_1, X_2, \\dots, X_n}$\n",
    "$\\forcecommand{\\Xm}{{X_1, X_2, \\dots, X_m}}$\n",
    "$\\forcecommand{\\Yn}{Y_1, Y_2, \\dots, Y_n}$\n",
    "$\\forcecommand{\\Ym}{{Y_1, Y_2, \\dots, Y_m}}$\n",
    "$\\forcecommand{\\sumXn}{X_1 + X_2 + \\dots + X_n}$\n",
    "$\\forcecommand{\\sumym}{Y_1 + Y_2 + \\dots + Y_m}$\n",
    "$\\forcecommand{\\la}{\\ell_\\alpha}$\n",
    "$\\forcecommand{\\ua}{u_\\alpha}$\n",
    "$\\forcecommand{\\at}{{\\alpha/2}}$\n",
    "$\\forcecommand{\\mux}{\\mu_{X}}$\n",
    "$\\forcecommand{\\muy}{\\mu_{Y}}$\n",
    "$\\forcecommand{\\sx}{\\sigma_{X}}$\n",
    "$\\forcecommand{\\sy}{\\sigma_{Y}}$\n",
    "$\\forcecommand{\\ci}{\\text{CI}}$\n",
    "$\\forcecommand{\\pvalue}{$p$-value}$\n",
    "$\\forcecommand{\\Ho}{H_{0}}$\n",
    "$\\forcecommand{\\Ha}{H_{a}}$\n",
    "\n",
    "\\vskip-\\parskip\n",
    "\\vskip-\\baselineskip\n",
    "</div>"
   ]
  },
  {
   "cell_type": "code",
   "execution_count": null,
   "id": "bb0120db",
   "metadata": {},
   "outputs": [],
   "source": [
    "import numpy as np\n",
    "import scipy\n",
    "from scipy import stats as stats\n",
    "\n",
    "import statsmodels\n",
    "import statsmodels.api as sm"
   ]
  },
  {
   "cell_type": "markdown",
   "id": "fbfec7ec",
   "metadata": {},
   "source": [
    "---"
   ]
  },
  {
   "cell_type": "markdown",
   "id": "15c6dc53",
   "metadata": {},
   "source": [
    "## Key Takeaways from Week 6"
   ]
  },
  {
   "cell_type": "markdown",
   "id": "cc992f31",
   "metadata": {},
   "source": [
    "\n",
    "#### Tuesday: \n",
    "\n",
    "... insert your key takeaways here ..."
   ]
  },
  {
   "cell_type": "markdown",
   "id": "6d69de7b",
   "metadata": {},
   "source": [
    "#### Thursday\n",
    "\n",
    "... insert your takeaway here ...\n"
   ]
  },
  {
   "cell_type": "markdown",
   "id": "aaadbca8",
   "metadata": {},
   "source": [
    "---"
   ]
  },
  {
   "cell_type": "markdown",
   "id": "c2d78965",
   "metadata": {},
   "source": [
    "## Tue, May 7"
   ]
  },
  {
   "cell_type": "markdown",
   "id": "5f374b82",
   "metadata": {},
   "source": [
    "<br></br>"
   ]
  },
  {
   "cell_type": "markdown",
   "id": "5abad0d9",
   "metadata": {},
   "source": [
    "### Regression: quantiative response and quantitative predictor"
   ]
  },
  {
   "cell_type": "markdown",
   "id": "0313ab33",
   "metadata": {},
   "source": [
    "##### Regression equation\n",
    "\n",
    "..."
   ]
  },
  {
   "cell_type": "markdown",
   "id": "52e6daf1",
   "metadata": {},
   "source": [
    "<br></br>"
   ]
  },
  {
   "cell_type": "markdown",
   "id": "845f52bb",
   "metadata": {},
   "source": [
    "##### Regression equation (matrix form)\n",
    "\n",
    "..."
   ]
  },
  {
   "cell_type": "markdown",
   "id": "3f52d679",
   "metadata": {},
   "source": [
    "<br></br>"
   ]
  },
  {
   "cell_type": "markdown",
   "id": "2f3c3688",
   "metadata": {},
   "source": [
    "##### Estimation procedure\n",
    "\n",
    "..."
   ]
  },
  {
   "cell_type": "markdown",
   "id": "6f2ef273",
   "metadata": {},
   "source": [
    "<br></br>"
   ]
  },
  {
   "cell_type": "markdown",
   "id": "9b7234bd",
   "metadata": {},
   "source": [
    "##### Optimal estimates\n",
    "\n",
    "..."
   ]
  },
  {
   "cell_type": "markdown",
   "id": "6fe84710",
   "metadata": {},
   "source": [
    "<br></br>\n",
    "<br></br>\n",
    "<br></br>"
   ]
  },
  {
   "cell_type": "markdown",
   "id": "739bc658",
   "metadata": {},
   "source": [
    "### Interpretation"
   ]
  },
  {
   "cell_type": "markdown",
   "id": "56a0be9c",
   "metadata": {},
   "source": [
    "> #### Model interpretation\n",
    "..."
   ]
  },
  {
   "cell_type": "markdown",
   "id": "965c68e1",
   "metadata": {},
   "source": [
    "<br></br>"
   ]
  },
  {
   "cell_type": "markdown",
   "id": "78b4a3e2",
   "metadata": {},
   "source": [
    "> #### Interpretation of the coefficients\n",
    "..."
   ]
  },
  {
   "cell_type": "markdown",
   "id": "67254b33",
   "metadata": {},
   "source": [
    "<br></br>"
   ]
  },
  {
   "cell_type": "markdown",
   "id": "60a16f88",
   "metadata": {},
   "source": [
    "> #### Meaning of the p-value for the coefficients\n",
    "..."
   ]
  },
  {
   "cell_type": "markdown",
   "id": "438f1477",
   "metadata": {},
   "source": [
    "<br></br>\n",
    "<br></br>\n",
    "<br></br>"
   ]
  },
  {
   "cell_type": "markdown",
   "id": "cd893a57",
   "metadata": {},
   "source": [
    "### Anatomy of the regression model"
   ]
  },
  {
   "cell_type": "markdown",
   "id": "0f10e689",
   "metadata": {},
   "source": [
    "> #### Coefficients\n",
    "..."
   ]
  },
  {
   "cell_type": "markdown",
   "id": "70df1f91",
   "metadata": {},
   "source": [
    "<br></br>"
   ]
  },
  {
   "cell_type": "markdown",
   "id": "388b4eb1",
   "metadata": {},
   "source": [
    "> #### Predicted values\n",
    "..."
   ]
  },
  {
   "cell_type": "markdown",
   "id": "097661ac",
   "metadata": {},
   "source": [
    "<br></br>"
   ]
  },
  {
   "cell_type": "markdown",
   "id": "c6455da1",
   "metadata": {},
   "source": [
    "> #### Residuals\n",
    "..."
   ]
  },
  {
   "cell_type": "markdown",
   "id": "4974276f",
   "metadata": {},
   "source": [
    "<br></br>"
   ]
  },
  {
   "cell_type": "markdown",
   "id": "f8bfdc9c",
   "metadata": {},
   "source": [
    "> #### Sum of squares\n",
    "..."
   ]
  },
  {
   "cell_type": "markdown",
   "id": "f20f8a79",
   "metadata": {},
   "source": [
    "<br></br>"
   ]
  },
  {
   "cell_type": "markdown",
   "id": "a9ba75d1",
   "metadata": {},
   "source": [
    "> #### R-squared\n",
    "..."
   ]
  },
  {
   "cell_type": "markdown",
   "id": "1b2bf9d1",
   "metadata": {},
   "source": [
    "<br></br>"
   ]
  },
  {
   "cell_type": "markdown",
   "id": "7761b417",
   "metadata": {},
   "source": [
    "> #### F-statistic\n",
    "..."
   ]
  },
  {
   "cell_type": "markdown",
   "id": "394bf1b3",
   "metadata": {},
   "source": [
    "<br></br>\n",
    "<br></br>\n",
    "<br></br>"
   ]
  },
  {
   "cell_type": "markdown",
   "id": "d3e8f965",
   "metadata": {},
   "source": [
    "### Diagnostics"
   ]
  },
  {
   "cell_type": "markdown",
   "id": "75ad2692",
   "metadata": {},
   "source": [
    "<br></br>"
   ]
  },
  {
   "cell_type": "markdown",
   "id": "3d6e86e8",
   "metadata": {},
   "source": [
    "Here are the main asssumptions of the regression model:\n",
    "\n",
    "1. \n",
    "2. \n",
    "3. \n",
    "4. \n",
    "5. "
   ]
  },
  {
   "cell_type": "markdown",
   "id": "30b6c2ff",
   "metadata": {},
   "source": [
    "<br></br>"
   ]
  },
  {
   "cell_type": "markdown",
   "id": "b47b1d87",
   "metadata": {},
   "source": [
    "Here's how I would go about checking these assumptions"
   ]
  },
  {
   "cell_type": "markdown",
   "id": "fa1ba64e",
   "metadata": {},
   "source": [
    "<br></br>"
   ]
  },
  {
   "cell_type": "markdown",
   "id": "c27c33cc",
   "metadata": {},
   "source": [
    "> ##### Assumption 1 \n",
    "..."
   ]
  },
  {
   "cell_type": "markdown",
   "id": "4c2ca09d",
   "metadata": {},
   "source": [
    "<br></br>"
   ]
  },
  {
   "cell_type": "markdown",
   "id": "cd2684ef",
   "metadata": {},
   "source": [
    "> ##### Assumption 2\n",
    "..."
   ]
  },
  {
   "cell_type": "markdown",
   "id": "31eea977",
   "metadata": {},
   "source": [
    "<br></br>"
   ]
  },
  {
   "cell_type": "markdown",
   "id": "571454f0",
   "metadata": {},
   "source": [
    "> ##### Assumption 3\n",
    "..."
   ]
  },
  {
   "cell_type": "markdown",
   "id": "686cb181",
   "metadata": {},
   "source": [
    "<br></br>"
   ]
  },
  {
   "cell_type": "markdown",
   "id": "7e4c7daa",
   "metadata": {},
   "source": [
    "> ##### Assumption 4\n",
    "..."
   ]
  },
  {
   "cell_type": "markdown",
   "id": "9fd927ff",
   "metadata": {},
   "source": [
    "<br></br>"
   ]
  },
  {
   "cell_type": "markdown",
   "id": "74421b83",
   "metadata": {},
   "source": [
    "> ##### Assumption 5\n",
    "..."
   ]
  },
  {
   "cell_type": "markdown",
   "id": "4a349752",
   "metadata": {},
   "source": [
    "<br></br>\n",
    "<br></br>\n",
    "<br></br>"
   ]
  },
  {
   "cell_type": "markdown",
   "id": "a9c1d209",
   "metadata": {},
   "source": [
    "### Unusual observations"
   ]
  },
  {
   "cell_type": "markdown",
   "id": "7a8b8569",
   "metadata": {},
   "source": [
    "> ##### Outliers\n",
    "..."
   ]
  },
  {
   "cell_type": "markdown",
   "id": "8827e95d",
   "metadata": {},
   "source": [
    "<br></br>"
   ]
  },
  {
   "cell_type": "markdown",
   "id": "a0cf4991",
   "metadata": {},
   "source": [
    "> ##### Influential points\n",
    "..."
   ]
  },
  {
   "cell_type": "markdown",
   "id": "b6e83533",
   "metadata": {},
   "source": [
    "<br></br>\n",
    "<br></br>\n",
    "<br></br>"
   ]
  },
  {
   "cell_type": "markdown",
   "id": "f15473cf",
   "metadata": {},
   "source": [
    "---\n",
    "---"
   ]
  },
  {
   "cell_type": "markdown",
   "id": "06efcaa3",
   "metadata": {},
   "source": [
    "## Thu, May 9"
   ]
  },
  {
   "cell_type": "markdown",
   "id": "162e5888",
   "metadata": {},
   "source": [
    "<br></br>"
   ]
  },
  {
   "cell_type": "markdown",
   "id": "5712cb74",
   "metadata": {},
   "source": [
    "### Regression: quantiative response and categorical predictor"
   ]
  },
  {
   "cell_type": "markdown",
   "id": "a3e49d0e",
   "metadata": {},
   "source": [
    "##### Visual interpretation of \"regression effect\"\n",
    "\n",
    "..."
   ]
  },
  {
   "cell_type": "markdown",
   "id": "bbfbf3dd",
   "metadata": {},
   "source": [
    "<br></br>"
   ]
  },
  {
   "cell_type": "markdown",
   "id": "34be153a",
   "metadata": {},
   "source": [
    "##### Regression equation (under the hood)\n",
    "\n",
    "..."
   ]
  },
  {
   "cell_type": "markdown",
   "id": "b12cb674",
   "metadata": {},
   "source": [
    "<br></br>"
   ]
  },
  {
   "cell_type": "markdown",
   "id": "557f30eb",
   "metadata": {},
   "source": [
    "##### Intepretation of the regression coefficients\n",
    "\n",
    "..."
   ]
  },
  {
   "cell_type": "markdown",
   "id": "cd1560ec",
   "metadata": {},
   "source": [
    "<br></br>"
   ]
  },
  {
   "cell_type": "markdown",
   "id": "5e150c9e",
   "metadata": {},
   "source": [
    "<br></br>\n",
    "<br></br>\n",
    "<br></br>"
   ]
  },
  {
   "cell_type": "markdown",
   "id": "9b025551",
   "metadata": {},
   "source": [
    "### Regression: quantiative response vs multiple covariates"
   ]
  },
  {
   "cell_type": "markdown",
   "id": "6d263628",
   "metadata": {},
   "source": [
    "##### Regression equation\n",
    "\n",
    "..."
   ]
  },
  {
   "cell_type": "markdown",
   "id": "902c2369",
   "metadata": {},
   "source": [
    "<br></br>"
   ]
  },
  {
   "cell_type": "markdown",
   "id": "0d11df14",
   "metadata": {},
   "source": [
    "##### Regression equation (matrix form)\n",
    "\n",
    "..."
   ]
  },
  {
   "cell_type": "markdown",
   "id": "93cd8a34",
   "metadata": {},
   "source": [
    "<br></br>"
   ]
  },
  {
   "cell_type": "markdown",
   "id": "3c6020e6",
   "metadata": {},
   "source": [
    "##### Estimation procedure\n",
    "\n",
    "..."
   ]
  },
  {
   "cell_type": "markdown",
   "id": "56e556a0",
   "metadata": {},
   "source": [
    "<br></br>"
   ]
  },
  {
   "cell_type": "markdown",
   "id": "bd6676f3",
   "metadata": {},
   "source": [
    "##### Optimal estimates\n",
    "\n",
    "..."
   ]
  },
  {
   "cell_type": "markdown",
   "id": "905f8c28",
   "metadata": {},
   "source": [
    "<br></br>"
   ]
  },
  {
   "cell_type": "markdown",
   "id": "7f385b0d",
   "metadata": {},
   "source": [
    "<br></br>"
   ]
  },
  {
   "cell_type": "markdown",
   "id": "25ab4e41",
   "metadata": {},
   "source": [
    "### Anatomy of the regression model"
   ]
  },
  {
   "cell_type": "markdown",
   "id": "1b4d65de",
   "metadata": {},
   "source": [
    "> #### Predicted values\n",
    "..."
   ]
  },
  {
   "cell_type": "markdown",
   "id": "caef97d6",
   "metadata": {},
   "source": [
    "<br></br>"
   ]
  },
  {
   "cell_type": "markdown",
   "id": "65350648",
   "metadata": {},
   "source": [
    "> #### Residuals\n",
    "..."
   ]
  },
  {
   "cell_type": "markdown",
   "id": "0a76e6eb",
   "metadata": {},
   "source": [
    "<br></br>"
   ]
  },
  {
   "cell_type": "markdown",
   "id": "7cc15fd5",
   "metadata": {},
   "source": [
    "> #### Sum of squares\n",
    "..."
   ]
  },
  {
   "cell_type": "markdown",
   "id": "6440cde2",
   "metadata": {},
   "source": [
    "<br></br>"
   ]
  },
  {
   "cell_type": "markdown",
   "id": "6f4159cf",
   "metadata": {},
   "source": [
    "> #### R-squared\n",
    "..."
   ]
  },
  {
   "cell_type": "markdown",
   "id": "3a6014a4",
   "metadata": {},
   "source": [
    "<br></br>"
   ]
  },
  {
   "cell_type": "markdown",
   "id": "2999732f",
   "metadata": {},
   "source": [
    "> #### F-statistic\n",
    "..."
   ]
  },
  {
   "cell_type": "markdown",
   "id": "925048d6",
   "metadata": {},
   "source": [
    "<br></br>"
   ]
  },
  {
   "cell_type": "markdown",
   "id": "89c9fbbd",
   "metadata": {},
   "source": [
    "> #### Interpretation of coefficients\n",
    "..."
   ]
  },
  {
   "cell_type": "markdown",
   "id": "584bc66a",
   "metadata": {},
   "source": [
    "<br></br>"
   ]
  },
  {
   "cell_type": "markdown",
   "id": "112bceb8",
   "metadata": {},
   "source": [
    "<br></br>\n",
    "<br></br>\n",
    "<br></br>"
   ]
  },
  {
   "cell_type": "markdown",
   "id": "c2054701",
   "metadata": {},
   "source": [
    "---"
   ]
  }
 ],
 "metadata": {
  "celltoolbar": "Slideshow",
  "hide_input": false,
  "kernelspec": {
   "display_name": "Python 3 (ipykernel)",
   "language": "python",
   "name": "python3"
  },
  "language_info": {
   "codemirror_mode": {
    "name": "ipython",
    "version": 3
   },
   "file_extension": ".py",
   "mimetype": "text/x-python",
   "name": "python",
   "nbconvert_exporter": "python",
   "pygments_lexer": "ipython3",
   "version": "3.12.1"
  },
  "toc": {
   "base_numbering": 2
  }
 },
 "nbformat": 4,
 "nbformat_minor": 5
}
