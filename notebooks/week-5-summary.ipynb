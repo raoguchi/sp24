{
 "cells": [
  {
   "cell_type": "markdown",
   "id": "d499b8cf",
   "metadata": {},
   "source": [
    "# Week 5 Summary\n",
    "> NAME: $\\color{red}{\\text{    <Ryosuke Oguchi>     }}$\n",
    "> \n",
    "> PID: $\\color{red}{\\text{    <A16777050>     }}$\n",
    ">\n",
    "> \n",
    "---"
   ]
  },
  {
   "cell_type": "markdown",
   "id": "1bce0cf8",
   "metadata": {},
   "source": [
    "I certify that the following write-up is my own work, and have abided by the UCSD Academic Integrity Guidelines.\n",
    "\n",
    "- [x] Yes\n",
    "- [ ] No"
   ]
  },
  {
   "cell_type": "markdown",
   "id": "6a1c41b1",
   "metadata": {},
   "source": [
    "% # %load tex-macros\n",
    "<div hidden>\n",
    "\\newcommand{\\require}[1]{}\n",
    "\n",
    "$\\require{begingroup}\\require{newcommand}$\n",
    "$\\long\\def \\forcecommand #1{\\providecommand{#1}{}\\renewcommand{#1}}$\n",
    "$\\forcecommand{\\defeq}{\\stackrel{\\small\\bullet}{=}}$\n",
    "$\\forcecommand{\\ra}{\\rangle}$\n",
    "$\\forcecommand{\\la}{\\langle}$\n",
    "$\\forcecommand{\\pr}{{\\mathbb P}}$\n",
    "$\\forcecommand{\\qr}{{\\mathbb Q}}$\n",
    "$\\forcecommand{\\xv}{{\\boldsymbol{x}}}$\n",
    "$\\forcecommand{\\av}{{\\boldsymbol{a}}}$\n",
    "$\\forcecommand{\\bv}{{\\boldsymbol{b}}}$\n",
    "$\\forcecommand{\\cv}{{\\boldsymbol{c}}}$\n",
    "$\\forcecommand{\\dv}{{\\boldsymbol{d}}}$\n",
    "$\\forcecommand{\\ev}{{\\boldsymbol{e}}}$\n",
    "$\\forcecommand{\\fv}{{\\boldsymbol{f}}}$\n",
    "$\\forcecommand{\\gv}{{\\boldsymbol{g}}}$\n",
    "$\\forcecommand{\\hv}{{\\boldsymbol{h}}}$\n",
    "$\\forcecommand{\\nv}{{\\boldsymbol{n}}}$\n",
    "$\\forcecommand{\\sv}{{\\boldsymbol{s}}}$\n",
    "$\\forcecommand{\\tv}{{\\boldsymbol{t}}}$\n",
    "$\\forcecommand{\\uv}{{\\boldsymbol{u}}}$\n",
    "$\\forcecommand{\\vv}{{\\boldsymbol{v}}}$\n",
    "$\\forcecommand{\\wv}{{\\boldsymbol{w}}}$\n",
    "$\\forcecommand{\\zerov}{{\\mathbf{0}}}$\n",
    "$\\forcecommand{\\onev}{{\\mathbf{0}}}$\n",
    "$\\forcecommand{\\phiv}{{\\boldsymbol{\\phi}}}$\n",
    "$\\forcecommand{\\cc}{{\\check{C}}}$\n",
    "$\\forcecommand{\\xv}{{\\boldsymbol{x}}}$\n",
    "$\\forcecommand{\\Xv}{{\\boldsymbol{X}\\!}}$\n",
    "$\\forcecommand{\\yv}{{\\boldsymbol{y}}}$\n",
    "$\\forcecommand{\\Yv}{{\\boldsymbol{Y}}}$\n",
    "$\\forcecommand{\\zv}{{\\boldsymbol{z}}}$\n",
    "$\\forcecommand{\\Zv}{{\\boldsymbol{Z}}}$\n",
    "$\\forcecommand{\\Iv}{{\\boldsymbol{I}}}$\n",
    "$\\forcecommand{\\Jv}{{\\boldsymbol{J}}}$\n",
    "$\\forcecommand{\\Cv}{{\\boldsymbol{C}}}$\n",
    "$\\forcecommand{\\Ev}{{\\boldsymbol{E}}}$\n",
    "$\\forcecommand{\\Fv}{{\\boldsymbol{F}}}$\n",
    "$\\forcecommand{\\Gv}{{\\boldsymbol{G}}}$\n",
    "$\\forcecommand{\\Hv}{{\\boldsymbol{H}}}$\n",
    "$\\forcecommand{\\alphav}{{\\boldsymbol{\\alpha}}}$\n",
    "$\\forcecommand{\\epsilonv}{{\\boldsymbol{\\epsilon}}}$\n",
    "$\\forcecommand{\\betav}{{\\boldsymbol{\\beta}}}$\n",
    "$\\forcecommand{\\deltav}{{\\boldsymbol{\\delta}}}$\n",
    "$\\forcecommand{\\gammav}{{\\boldsymbol{\\gamma}}}$\n",
    "$\\forcecommand{\\etav}{{\\boldsymbol{\\eta}}}$\n",
    "$\\forcecommand{\\piv}{{\\boldsymbol{\\pi}}}$\n",
    "$\\forcecommand{\\thetav}{{\\boldsymbol{\\theta}}}$\n",
    "$\\forcecommand{\\tauv}{{\\boldsymbol{\\tau}}}$\n",
    "$\\forcecommand{\\muv}{{\\boldsymbol{\\mu}}}$\n",
    "$%$\n",
    "$\\forcecommand{\\sd}{\\text{SD}}$\n",
    "$\\forcecommand{\\se}{\\text{SE}}$\n",
    "$\\forcecommand{\\med}{\\text{median}}$\n",
    "$\\forcecommand{\\median}{\\text{median}}$\n",
    "$%$\n",
    "$\\forcecommand{\\supp}{\\text{supp}}$\n",
    "$\\forcecommand{\\E}{\\mathbb{E}}$\n",
    "$\\forcecommand{\\var}{\\text{Var}}$\n",
    "$\\forcecommand{\\Ber}{{\\text{Ber}}}$\n",
    "$\\forcecommand{\\Bin}{{\\text{Bin}}}$\n",
    "$\\forcecommand{\\Geo}{{\\text{Geo}}}$\n",
    "$\\forcecommand{\\Unif}{{\\text{Unif}}}$\n",
    "$\\forcecommand{\\Poi}{{\\text{Poi}}}$\n",
    "$\\forcecommand{\\Exp}{{\\text{Exp}}}$\n",
    "$\\forcecommand{\\Chisq}{{\\chi^2}}$\n",
    "$\\forcecommand{\\N}{\\mathbb{N}}$\n",
    "$\\forcecommand{\\iid}{{\\stackrel{iid}{\\sim}}}$\n",
    "$\\forcecommand{\\px}{p_{X}}$\n",
    "$\\forcecommand{\\fx}{f_{X}}$\n",
    "$\\forcecommand{\\Fx}{F_{X}}$\n",
    "$\\forcecommand{\\py}{p_{Y}}$\n",
    "$\\forcecommand{\\pxy}{p_{X,Y}}$\n",
    "$\\forcecommand{\\po}{{p_0}}$\n",
    "$\\forcecommand{\\pa}{{p_a}}$\n",
    "$\\forcecommand{\\Xbar}{\\overline{X}}$\n",
    "$\\forcecommand{\\Ybar}{\\overline{Y}}$\n",
    "$\\forcecommand{\\Zbar}{\\overline{Z}}$\n",
    "$\\forcecommand{\\nXbar}{n \\cdot \\overline{X}}$\n",
    "$\\forcecommand{\\nYbar}{n \\cdot \\overline{Y}}$\n",
    "$\\forcecommand{\\nZbar}{n \\cdot \\overline{Z}}$\n",
    "$\\forcecommand{\\Xn}{X_1, X_2, \\dots, X_n}$\n",
    "$\\forcecommand{\\Xm}{{X_1, X_2, \\dots, X_m}}$\n",
    "$\\forcecommand{\\Yn}{Y_1, Y_2, \\dots, Y_n}$\n",
    "$\\forcecommand{\\Ym}{{Y_1, Y_2, \\dots, Y_m}}$\n",
    "$\\forcecommand{\\sumXn}{X_1 + X_2 + \\dots + X_n}$\n",
    "$\\forcecommand{\\sumym}{Y_1 + Y_2 + \\dots + Y_m}$\n",
    "$\\forcecommand{\\la}{\\ell_\\alpha}$\n",
    "$\\forcecommand{\\ua}{u_\\alpha}$\n",
    "$\\forcecommand{\\at}{{\\alpha/2}}$\n",
    "$\\forcecommand{\\mux}{\\mu_{X}}$\n",
    "$\\forcecommand{\\muy}{\\mu_{Y}}$\n",
    "$\\forcecommand{\\sx}{\\sigma_{X}}$\n",
    "$\\forcecommand{\\sy}{\\sigma_{Y}}$\n",
    "$\\forcecommand{\\ci}{\\text{CI}}$\n",
    "$\\forcecommand{\\pvalue}{$p$-value}$\n",
    "$\\forcecommand{\\Ho}{H_{0}}$\n",
    "$\\forcecommand{\\Ha}{H_{a}}$\n",
    "\n",
    "\\vskip-\\parskip\n",
    "\\vskip-\\baselineskip\n",
    "</div>"
   ]
  },
  {
   "cell_type": "code",
   "execution_count": 1,
   "id": "bb0120db",
   "metadata": {},
   "outputs": [],
   "source": [
    "import numpy as np\n",
    "import scipy\n",
    "from scipy import stats as stats\n",
    "\n",
    "import statsmodels\n",
    "import statsmodels.api as sm"
   ]
  },
  {
   "cell_type": "markdown",
   "id": "fbfec7ec",
   "metadata": {},
   "source": [
    "---"
   ]
  },
  {
   "cell_type": "markdown",
   "id": "15c6dc53",
   "metadata": {},
   "source": [
    "## Key Takeaways from Week 5"
   ]
  },
  {
   "cell_type": "markdown",
   "id": "cc992f31",
   "metadata": {},
   "source": [
    "\n",
    "#### Tuesday: \n",
    "\n",
    "Introduction to non-parametric tests and the anatomy of each test (Wald-Wolfowitz, KS-Test). There was an associated discussion on how to perform these tests on python. Also, there is a discussion on QQ plots and how it shifts as there is a change in mean, variance, or both."
   ]
  },
  {
   "cell_type": "markdown",
   "id": "6d69de7b",
   "metadata": {},
   "source": [
    "#### Thursday\n",
    "\n",
    "... insert your takeaway here ...\n"
   ]
  },
  {
   "cell_type": "markdown",
   "id": "aaadbca8",
   "metadata": {},
   "source": [
    "---"
   ]
  },
  {
   "cell_type": "markdown",
   "id": "c2d78965",
   "metadata": {},
   "source": [
    "## Tue, Apr 30"
   ]
  },
  {
   "cell_type": "markdown",
   "id": "f443cd7c",
   "metadata": {},
   "source": [
    "### Nonparamteric tests \n",
    "\n",
    "Nonparametric tests are hypothesis tests that make minimal assumptions about the distributions of the data\n",
    "- used when it is not reasonsable to assume that the data follows a distribution, or when data is ordinal or nominal\n",
    "- i.e. no information on how data was collected, small samples\n",
    "\n",
    "The difference between parametric and nonparametric tests is:\n",
    "\n",
    "* parametric tests make assumptions about the distribution of the data, such as mean, varianace, proportion etc.\n",
    "* Data is exchangeable, the order in which the data is observed does not matter\n",
    "* $X_1, \\dots, X_n \\sim F$ but $F$ is not known\n",
    "* $X_1, \\dots, X_n \\sim F_x$ again, $F_x$ is not known"
   ]
  },
  {
   "cell_type": "markdown",
   "id": "5b31433a",
   "metadata": {},
   "source": [
    "<br></br>"
   ]
  },
  {
   "cell_type": "markdown",
   "id": "c20ae5b4",
   "metadata": {},
   "source": [
    "\n",
    "\n",
    "\n",
    "An example (not discussed in class) where I might want to use a nonparametric test is in the following scenario(s): \n",
    "\n",
    "* ...\n",
    "* ..."
   ]
  },
  {
   "cell_type": "markdown",
   "id": "9ce05d56",
   "metadata": {},
   "source": [
    "<br></br>"
   ]
  },
  {
   "cell_type": "markdown",
   "id": "3ce5d9d1",
   "metadata": {},
   "source": [
    "---\n",
    "### Wald-Wolfowitz runs test"
   ]
  },
  {
   "cell_type": "markdown",
   "id": "1ee600b0",
   "metadata": {},
   "source": [
    "<br></br>"
   ]
  },
  {
   "cell_type": "markdown",
   "id": "a1d4511a",
   "metadata": {},
   "source": [
    "**Assumptions**\n",
    "\n",
    "$X_1, \\dots, X_n \\sim F_x$ and $Y_1, \\dots, Y_n \\sim F_y$\n",
    "\n",
    "and,\n",
    "\n",
    "$H_0: F_x = F_y$ vs $H_a: F_x \\ne F_y$"
   ]
  },
  {
   "cell_type": "markdown",
   "id": "7973c0c8",
   "metadata": {},
   "source": [
    "<br></br>"
   ]
  },
  {
   "cell_type": "markdown",
   "id": "60e55933",
   "metadata": {},
   "source": [
    "**Runs**\n",
    "\n",
    "Intuitively, a run is a measure of a sequence of conserctive observations of the same type, all $X$ or all $Y$.\n",
    "\n",
    "Arrange $X_1, \\dots, X_n, Y_1, \\dots, Y_m$ in increasing order\n",
    "\n",
    "Use $+$ to denote sample from $X$ and $-$ as sample from $Y$"
   ]
  },
  {
   "cell_type": "markdown",
   "id": "05b58f41",
   "metadata": {},
   "source": [
    "$-++-++--+++--++-----$ there are 9 runs here it is when a sign change happens, there is a new run"
   ]
  },
  {
   "cell_type": "markdown",
   "id": "01b69f2a",
   "metadata": {},
   "source": [
    "If $F_x$ and $F_y$ are different, then number o runs will be small\n",
    "- If two means or medians are very different, then your ordered sequence will look something like:\n",
    "\n",
    "$----- | + | - | ++++++$"
   ]
  },
  {
   "cell_type": "markdown",
   "id": "da77700a",
   "metadata": {},
   "source": [
    "If two means are similar but variances are different, then your sequence will be:\n",
    "\n",
    "$+++ | ----- | ++++$"
   ]
  },
  {
   "cell_type": "markdown",
   "id": "18e4fa76",
   "metadata": {},
   "source": [
    "If $F_x$ and $F_y$ are indistinguishable, then number of runs will be large:\n",
    "\n",
    "- If the two means or medians are very different, then, ordered seqeunece will be like\n",
    "\n",
    "$ - | + | - | ++ | - | + | --- | ++$"
   ]
  },
  {
   "cell_type": "markdown",
   "id": "d962862d",
   "metadata": {},
   "source": [
    "<br></br>"
   ]
  },
  {
   "cell_type": "markdown",
   "id": "3f5e7f47",
   "metadata": {},
   "source": [
    "**Anatomy**\n",
    "\n",
    "| Anatomy of the hypothesis test |  Answer  |\n",
    "|:------------------------------:|:--------:|\n",
    "| Assumption                     | $X_1, \\dots, X_n \\sim F_x$ and $Y_1, \\dots, Y_n \\sim F_y$ |\n",
    "| Null hypothesis                | $H_0: F_x = F_y$ |\n",
    "| Alternate hypothesis           | $H_a: F_x \\ne F_y$ |\n",
    "| Test statistic                 | $Z = \\frac{\\hat R - \\mu_R}{s_R}$ where $$\\mu_R = 1 + 2 \\frac{n_x \\cdot n_y}{n_x + n_y}$$ and $$s_r = \\sqrt{\\frac{2 n_x \\cdot n_y \\cdot (2n_xn_y - n_x - n_y)}{(n_x + n_y)^2 \\cdot (n_x + n_y - 1)}}$$ is the expected value and variance of the number of runs under the null hypothesis |\n",
    "| Rejection region shape         | $(-\\infty, -x_\\alpha)$  where $x_\\alpha = z_\\alpha$ is the $a$-th lower qunatile of the standard normal distribution $N(0,1)$|"
   ]
  },
  {
   "cell_type": "markdown",
   "id": "823d668f",
   "metadata": {},
   "source": [
    "<br></br>"
   ]
  },
  {
   "cell_type": "code",
   "execution_count": 5,
   "id": "3abd0498",
   "metadata": {},
   "outputs": [
    {
     "name": "stdout",
     "output_type": "stream",
     "text": [
      "as pval 9.569800653637603e-28 < alpha = 0.05, reject H0\n"
     ]
    }
   ],
   "source": [
    "R, pval = statsmodels.sandbox.stats.runs.runstest_2samp(\n",
    "    stats.chi2(2).rvs(100),\n",
    "    stats.chi2(12).rvs(100)\n",
    ")\n",
    "R, pval\n",
    "\n",
    "print(f\"as pval {pval} < alpha = 0.05, reject H0\")"
   ]
  },
  {
   "cell_type": "markdown",
   "id": "5da6a878",
   "metadata": {},
   "source": [
    "**Procedure**\n",
    "\n",
    "In words, under the assumptions mentioned earlier, here's a brief description of peforming the Wald-Wolfowitz runs test.\n",
    "\n",
    "> **Step 1:**\n",
    "\n",
    "...\n",
    "\n",
    "> **Step 2:**\n",
    "\n",
    "...\n",
    "\n",
    "> **Step 3:**\n",
    "\n",
    "..."
   ]
  },
  {
   "cell_type": "markdown",
   "id": "379d23b5",
   "metadata": {},
   "source": [
    "<br></br>"
   ]
  },
  {
   "cell_type": "markdown",
   "id": "41fb99aa",
   "metadata": {},
   "source": [
    "---\n",
    "\n",
    "### Kolmogorov-Smirnov test"
   ]
  },
  {
   "cell_type": "markdown",
   "id": "1f1901f0",
   "metadata": {},
   "source": [
    "<br></br>"
   ]
  },
  {
   "cell_type": "markdown",
   "id": "75dab05e",
   "metadata": {},
   "source": [
    "**Assumptions**\n",
    "\n",
    "> One sample KS Test\n",
    "\n",
    "$X_1, \\dots, X_n \\sim F_x$\n",
    "\n",
    "and,\n",
    "\n",
    "$H_0: F_x = F_0$ vs $H_a: F_x \\ne F_0$\n",
    "\n",
    "$F_0$ is some known hypothesized, reference distribution\n",
    "\n",
    "> Two sample KS Test\n",
    "\n",
    "$X_1, \\dots, X_n \\sim$"
   ]
  },
  {
   "cell_type": "markdown",
   "id": "bca762e1",
   "metadata": {},
   "source": [
    "<br></br>"
   ]
  },
  {
   "cell_type": "markdown",
   "id": "22a623d7",
   "metadata": {},
   "source": [
    "**Intuition**\n",
    "\n",
    "Intuitively, the KS test statistic measures the empirical distribution (EDF) to estimate $F_x$.\n",
    "\n",
    "$\\hat F_n(x) = \\frac{1}{n} \\sum_{i=1} ^ n 1 (X_1 \\le x)$\n",
    "\n",
    "where,\n",
    "$1(X_i \\le x)$ is the indicator function\n",
    "\n",
    "$1$ if $X_i \\le x$ 0 if $X_i \\gt x$"
   ]
  },
  {
   "cell_type": "markdown",
   "id": "9db4fd94",
   "metadata": {},
   "source": [
    "<br></br>"
   ]
  },
  {
   "cell_type": "markdown",
   "id": "495490c0",
   "metadata": {},
   "source": [
    "**Anatomy**\n",
    "\n",
    "| Anatomy of the hypothesis test |  Answer  |\n",
    "|:------------------------------:|:--------:|\n",
    "| Assumption                     | $X_1, \\dots, X_n \\sim F_x$ |\n",
    "| Null hypothesis                | $H_0: F_x = F_0$ |\n",
    "| Alternate hypothesis           | $H_a: F_x \\ne F_0$ |\n",
    "| Test statistic                 | $D_n = \\text{sup} \\|{\\hat F_n(x) - F_0 (x)} \\|$ where $\\text{sup}_x$ is the supremum over all $x$ in support of $F_0$. This is maximum vertical distance between EDF. If $D_n$ is small, then we have evidence that $F_x$ is close to $F_0$. If $D_n$ is large, then we have evidence that $F_x$ is different to $F_0$ |\n",
    "| Rejection region shape         | $(x_\\alpha, \\infty)$ where $x_\\alpha = \\sqrt{\\frac{1}{2}\\log({\\alpha})}$|"
   ]
  },
  {
   "cell_type": "markdown",
   "id": "a3243a5c",
   "metadata": {},
   "source": [
    "<br></br>"
   ]
  },
  {
   "cell_type": "markdown",
   "id": "f78c4a56",
   "metadata": {},
   "source": []
  },
  {
   "cell_type": "markdown",
   "id": "facefaf7",
   "metadata": {},
   "source": [
    "**Procedure**\n",
    "\n",
    "In words, under the assumptions mentioned earlier, here's a brief description of peforming the Kolmogorov Smirnov test.\n",
    "\n",
    "> **Step 1:**\n",
    "\n",
    "...\n",
    "\n",
    "> **Step 2:**\n",
    "\n",
    "...\n",
    "\n",
    "> **Step 3:**\n",
    "\n",
    "..."
   ]
  },
  {
   "cell_type": "markdown",
   "id": "051282df",
   "metadata": {},
   "source": [
    "<br></br>"
   ]
  },
  {
   "cell_type": "markdown",
   "id": "657464ea",
   "metadata": {},
   "source": [
    "### EDA\n",
    "\n",
    "Given sample, $X_1, \\dots, X_n$ can we visuation if it comes from reference distribution $D(\\theta)$"
   ]
  },
  {
   "cell_type": "markdown",
   "id": "234cc290",
   "metadata": {},
   "source": [
    "---\n",
    "\n",
    "### QQ-plot\n",
    "\n",
    "Given samples $X_1, X_2, \\dots, X_n$ and some reference distribution $F$\n",
    "\n",
    "The QQ-plot is a plot of probability distributions, used to check data follows a certain distribution. Simply plot of quantiles. If distributions are equal, there will be a $y=x$ line of sample quantiles vs theoreitial quantiles relationship"
   ]
  },
  {
   "cell_type": "markdown",
   "id": "5e2d1a55",
   "metadata": {},
   "source": [
    "<br></br>"
   ]
  },
  {
   "cell_type": "markdown",
   "id": "b72afcd5",
   "metadata": {},
   "source": [
    "> The effect of different means in the QQ-plot\n",
    "\n",
    "* If mean increases, the QQ plot shifts to the right\n",
    "* If mean decreases, the QQ plot shifts to the left\n",
    "\n",
    "> The effect of different variances in the QQ-plot\n",
    "\n",
    "* If $Var(Y)$ increases, slope of QQ plot increases\n",
    "* If $Var(Y)$ decreases, slope of QQ plot decreases\n",
    "\n",
    "\n",
    "> The effect of different skewness in the QQ-plot\n",
    "\n",
    "* As skew increases, the QQ plot becomes more pronounced below $y=x$ (convex)\n",
    "* As skew decreases, the QQ plot becomes more pronounced above $y=x$ (concave)\n",
    "\n",
    "> Effect of tails\n",
    "\n",
    "* For extreme values, there is deviation from the $y=x$ line is there is a bigger tail"
   ]
  },
  {
   "cell_type": "markdown",
   "id": "a02734cf",
   "metadata": {},
   "source": [
    "<br></br>"
   ]
  },
  {
   "cell_type": "markdown",
   "id": "4df5f076",
   "metadata": {},
   "source": [
    "---\n",
    "\n",
    "### Testing for normality\n",
    "\n",
    "Method to check if quantiles of QQ plot is normally distributed.\n",
    "\n",
    "$$\n",
    "H_0: X_1, \\dots, X_n \\sim N(\\mu, \\sigma ^2)\n",
    "H_1: X_1, \\dots, X_n \\nsim N(\\mu, \\sigma ^2)"
   ]
  },
  {
   "cell_type": "markdown",
   "id": "4bde99e5",
   "metadata": {},
   "source": [
    "---\n",
    "\n",
    "### Tests for Assumptions\n",
    "\n",
    "In words, here's how I would go about testing for some common assumptions in statistical inference."
   ]
  },
  {
   "cell_type": "markdown",
   "id": "d0b30795",
   "metadata": {},
   "source": [
    "<br></br>"
   ]
  },
  {
   "cell_type": "markdown",
   "id": "08a4d992",
   "metadata": {},
   "source": [
    "#### Independence\n",
    "\n",
    "\n",
    "Autocorrelation function is a measure of correlation between time series and lagged version of itself, check if observations are independent.\n",
    "\n",
    "ACF is defined as:\n",
    "\n",
    "$$\n",
    "\\text{ACF}(k) = \\frac{\\sum_{i=k}^{n-k} (X_i - \\bar{X})(X_{i+k} - \\bar{X})}{\\sum_{i=1}^n (X_i - \\bar{X})^2}\n",
    "$$\n",
    "\n",
    "Where k is lag, the number of time between two observations, if observations are independent, then ACF should be close to zero for all lags"
   ]
  },
  {
   "cell_type": "code",
   "execution_count": 1,
   "id": "37ce5580",
   "metadata": {},
   "outputs": [],
   "source": [
    "from statsmodels.tsa.stattools import acf\n",
    "import numpy as np\n",
    "\n",
    "\n",
    "n=2000\n",
    "X = np.random.normal(size=n)\n",
    "Y = np.zeros(n)\n",
    "Y[0] = X[0]\n",
    "\n",
    "for t in range(1,n):\n",
    "    Y[t] = 0.5 * Y[t-1] + X[t]"
   ]
  },
  {
   "cell_type": "markdown",
   "id": "e09b701f",
   "metadata": {},
   "source": [
    "Should be about 50 percent correlation, every next value of y is 50 percent of the prior plus some value that is not correlated to."
   ]
  },
  {
   "cell_type": "markdown",
   "id": "3d7904e3",
   "metadata": {},
   "source": [
    "Ljung-Box Test, uses ACF function to test for independence, tests statistic is given by\n",
    "\n",
    "$$\n",
    "Q = n(n+2) \\sum_{i=1}^k \\frac{ACF(k) ^2}{n-k}\n",
    "$$"
   ]
  },
  {
   "cell_type": "markdown",
   "id": "622de605",
   "metadata": {},
   "source": [
    "<br></br>"
   ]
  },
  {
   "cell_type": "markdown",
   "id": "2be8d545",
   "metadata": {},
   "source": [
    "#### Identical Assumption\n",
    "\n",
    "To check if observations are identically distributed under a $X_1, \\dots, X_n$"
   ]
  },
  {
   "cell_type": "markdown",
   "id": "162a29d1",
   "metadata": {},
   "source": [
    "<br></br>"
   ]
  },
  {
   "cell_type": "markdown",
   "id": "fe97a67d",
   "metadata": {},
   "source": [
    "#### Normality\n",
    "\n",
    "\n",
    "Use shapiro wiles tests under stats module, as stats.shapiro(data).pvalue\n",
    "- If p value is smaller than alpha, reject to say it is not normal, greater than alpha is fail to reject normality"
   ]
  },
  {
   "cell_type": "markdown",
   "id": "5f374b82",
   "metadata": {},
   "source": [
    "<br></br>"
   ]
  },
  {
   "cell_type": "markdown",
   "id": "394bf1b3",
   "metadata": {},
   "source": [
    "<br></br>\n",
    "<br></br>\n",
    "<br></br>"
   ]
  },
  {
   "cell_type": "markdown",
   "id": "f15473cf",
   "metadata": {},
   "source": [
    "---\n",
    "---"
   ]
  },
  {
   "cell_type": "markdown",
   "id": "06efcaa3",
   "metadata": {},
   "source": [
    "## Thu, May 2"
   ]
  },
  {
   "cell_type": "markdown",
   "id": "162e5888",
   "metadata": {},
   "source": [
    "<br></br>"
   ]
  },
  {
   "cell_type": "markdown",
   "id": "fdf57e41",
   "metadata": {},
   "source": [
    "#### Associations between two quantitative variables\n",
    "\n",
    "Given data $(x_1, y_1), (x_2, y_2), \\dots (x_n, y_n)$\n",
    "\n",
    "usually:\n",
    "\n",
    "* The variable $x$ is called independent variable\n",
    "* The variable $y$ is called dependent variable"
   ]
  },
  {
   "cell_type": "markdown",
   "metadata": {},
   "source": [
    "<br></br>"
   ]
  },
  {
   "cell_type": "markdown",
   "metadata": {},
   "source": [
    "We can visualize the association/relationship between $x$ and $y$ visually using a \n",
    "\n",
    "scatter plot"
   ]
  },
  {
   "cell_type": "markdown",
   "id": "8a56ecba",
   "metadata": {},
   "source": [
    "<br></br>"
   ]
  },
  {
   "cell_type": "markdown",
   "id": "972f7e6f",
   "metadata": {},
   "source": [
    "**Simple linear regression** \n",
    "\n",
    "In the simple linear regression model, the underlying assumption is that\n",
    "\n",
    "there is a relationship between the variables are linear and can be expressed as:\n",
    "\n",
    "$$\n",
    "y_i = \\beta_0 + \\beta_1 x_i + \\epsilon_i\n",
    "$$\n",
    "\n",
    "$\\beta_0$ is intercept $\\beta_1$ is slope, $\\epsilon_i$ is error term which captures difference between observed value $y_i$ and value predicted by model\n",
    "\n",
    "- goal is to estimate values of $\\beta_0$ and $\\beta_1$ that fit the data the best"
   ]
  },
  {
   "cell_type": "markdown",
   "id": "bb547852",
   "metadata": {},
   "source": [
    "<br></br>"
   ]
  },
  {
   "cell_type": "markdown",
   "id": "3670bcca",
   "metadata": {},
   "source": [
    "**Objective**\n",
    "\n",
    "The objective of simple linear regression is\n",
    "\n",
    "to estimate values of $\\beta_0$ and $\\beta_1$ that fit the data the best"
   ]
  },
  {
   "cell_type": "markdown",
   "id": "1e2bca13",
   "metadata": {},
   "source": [
    "<br></br>"
   ]
  },
  {
   "cell_type": "markdown",
   "id": "62fd62ad",
   "metadata": {},
   "source": [
    "**Estimation**\n",
    "\n",
    "Intuitively, the best guess for $\\hat\\beta_0$ and $\\hat\\beta_1$ using the data is obtained by\n",
    "maximum likelihood estimation\n",
    "\n",
    "line of best fit uses estimators of beta, you use the mean squared loss that minimize the parameters\n",
    "\n"
   ]
  },
  {
   "cell_type": "markdown",
   "id": "419aeed9",
   "metadata": {},
   "source": [
    "<br></br>"
   ]
  },
  {
   "cell_type": "markdown",
   "id": "cfb131fe",
   "metadata": {},
   "source": [
    "**Representation**\n",
    "\n",
    "In matrix form, the linear regression model can be written as\n",
    "\n",
    "$$\n",
    "\\text{Aug}(x) =\n",
    "$$\n",
    "\n",
    "$$\n",
    "(X^TX)^{-1} Xy\n",
    "$$\n",
    "also known as the normal equation\n"
   ]
  },
  {
   "cell_type": "markdown",
   "id": "088dee3c",
   "metadata": {},
   "source": [
    "<br></br>"
   ]
  },
  {
   "cell_type": "markdown",
   "id": "62452b4e",
   "metadata": {},
   "source": [
    "**Solution**\n",
    "\n",
    "The solution to the least-squares estimation problem is given by\n",
    "\n",
    "$$\n",
    "\\hat\\beta_0, \\hat\\beta_1 = \\text{argmin} \\text{ Loss}(\\beta_0, \\beta_1)\n",
    "$$\n"
   ]
  },
  {
   "cell_type": "markdown",
   "id": "1b90c7f0",
   "metadata": {},
   "source": [
    "<br></br>"
   ]
  },
  {
   "cell_type": "markdown",
   "id": "2afd4444",
   "metadata": {},
   "source": [
    "An example application is described here:\n",
    "\n",
    "..."
   ]
  },
  {
   "cell_type": "markdown",
   "id": "fb90a793",
   "metadata": {},
   "source": [
    "Here is the code to perform this:"
   ]
  },
  {
   "cell_type": "code",
   "execution_count": 2,
   "id": "4d3b4a78",
   "metadata": {},
   "outputs": [
    {
     "ename": "NameError",
     "evalue": "name 'y' is not defined",
     "output_type": "error",
     "traceback": [
      "\u001b[1;31m---------------------------------------------------------------------------\u001b[0m",
      "\u001b[1;31mNameError\u001b[0m                                 Traceback (most recent call last)",
      "Cell \u001b[1;32mIn[2], line 1\u001b[0m\n\u001b[1;32m----> 1\u001b[0m w_vec \u001b[38;5;241m=\u001b[39m np\u001b[38;5;241m.\u001b[39mlinalg\u001b[38;5;241m.\u001b[39msolve(X\u001b[38;5;241m.\u001b[39mT \u001b[38;5;241m@\u001b[39m X, X\u001b[38;5;241m.\u001b[39mT \u001b[38;5;241m@\u001b[39m \u001b[43my\u001b[49m)\n",
      "\u001b[1;31mNameError\u001b[0m: name 'y' is not defined"
     ]
    }
   ],
   "source": [
    "w_vec = np.linalg.solve(X.T @ X, X.T @ y)"
   ]
  },
  {
   "cell_type": "markdown",
   "id": "d73a0cfa",
   "metadata": {},
   "source": [
    "<br></br>\n",
    "<br></br>\n",
    "<br></br>"
   ]
  },
  {
   "cell_type": "markdown",
   "id": "6935e5ec",
   "metadata": {},
   "source": [
    "Corrlation:\n",
    "\n",
    "$$\n",
    "\\hat\\beta_1 = \\frac{\\sum_{i=1}^n (x_i-\\bar{x})(y_i-\\bar{y})}{\\sum_{i=1}^n(x_i-\\bar{x})^2} = r_{xy} \\cdot \\frac{s_y}{s_x}\n",
    "$$"
   ]
  },
  {
   "cell_type": "markdown",
   "id": "a0adac2e",
   "metadata": {},
   "source": [
    "$$\n",
    "r_{xy} = \\frac{\\sum_{i=1}^n (x_i-\\bar{x})(y_i-\\bar{y})}{\\sqrt{\\sum_{i=1}^n(x_i-\\bar{x})} \\sqrt{\\sum_{i=1}^n(y_i-\\bar{y})}}\n",
    "$$"
   ]
  },
  {
   "cell_type": "markdown",
   "id": "c2054701",
   "metadata": {},
   "source": [
    "---"
   ]
  }
 ],
 "metadata": {
  "celltoolbar": "Slideshow",
  "hide_input": false,
  "kernelspec": {
   "display_name": "Python 3 (ipykernel)",
   "language": "python",
   "name": "python3"
  },
  "language_info": {
   "codemirror_mode": {
    "name": "ipython",
    "version": 3
   },
   "file_extension": ".py",
   "mimetype": "text/x-python",
   "name": "python",
   "nbconvert_exporter": "python",
   "pygments_lexer": "ipython3",
   "version": "3.8.18"
  },
  "toc": {
   "base_numbering": 2
  }
 },
 "nbformat": 4,
 "nbformat_minor": 5
}
