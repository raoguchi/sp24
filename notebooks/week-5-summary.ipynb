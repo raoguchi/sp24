{
 "cells": [
  {
   "cell_type": "markdown",
   "id": "d499b8cf",
   "metadata": {},
   "source": [
    "# Week 5 Summary\n",
    "> NAME: $\\color{red}{\\text{    <Ryosuke Oguchi>     }}$\n",
    "> \n",
    "> PID: $\\color{red}{\\text{    <A16777050>     }}$\n",
    ">\n",
    "> \n",
    "---"
   ]
  },
  {
   "cell_type": "markdown",
   "id": "1bce0cf8",
   "metadata": {},
   "source": [
    "I certify that the following write-up is my own work, and have abided by the UCSD Academic Integrity Guidelines.\n",
    "\n",
    "- [x] Yes\n",
    "- [ ] No"
   ]
  },
  {
   "cell_type": "markdown",
   "id": "6a1c41b1",
   "metadata": {},
   "source": [
    "% # %load tex-macros\n",
    "<div hidden>\n",
    "\\newcommand{\\require}[1]{}\n",
    "\n",
    "$\\require{begingroup}\\require{newcommand}$\n",
    "$\\long\\def \\forcecommand #1{\\providecommand{#1}{}\\renewcommand{#1}}$\n",
    "$\\forcecommand{\\defeq}{\\stackrel{\\small\\bullet}{=}}$\n",
    "$\\forcecommand{\\ra}{\\rangle}$\n",
    "$\\forcecommand{\\la}{\\langle}$\n",
    "$\\forcecommand{\\pr}{{\\mathbb P}}$\n",
    "$\\forcecommand{\\qr}{{\\mathbb Q}}$\n",
    "$\\forcecommand{\\xv}{{\\boldsymbol{x}}}$\n",
    "$\\forcecommand{\\av}{{\\boldsymbol{a}}}$\n",
    "$\\forcecommand{\\bv}{{\\boldsymbol{b}}}$\n",
    "$\\forcecommand{\\cv}{{\\boldsymbol{c}}}$\n",
    "$\\forcecommand{\\dv}{{\\boldsymbol{d}}}$\n",
    "$\\forcecommand{\\ev}{{\\boldsymbol{e}}}$\n",
    "$\\forcecommand{\\fv}{{\\boldsymbol{f}}}$\n",
    "$\\forcecommand{\\gv}{{\\boldsymbol{g}}}$\n",
    "$\\forcecommand{\\hv}{{\\boldsymbol{h}}}$\n",
    "$\\forcecommand{\\nv}{{\\boldsymbol{n}}}$\n",
    "$\\forcecommand{\\sv}{{\\boldsymbol{s}}}$\n",
    "$\\forcecommand{\\tv}{{\\boldsymbol{t}}}$\n",
    "$\\forcecommand{\\uv}{{\\boldsymbol{u}}}$\n",
    "$\\forcecommand{\\vv}{{\\boldsymbol{v}}}$\n",
    "$\\forcecommand{\\wv}{{\\boldsymbol{w}}}$\n",
    "$\\forcecommand{\\zerov}{{\\mathbf{0}}}$\n",
    "$\\forcecommand{\\onev}{{\\mathbf{0}}}$\n",
    "$\\forcecommand{\\phiv}{{\\boldsymbol{\\phi}}}$\n",
    "$\\forcecommand{\\cc}{{\\check{C}}}$\n",
    "$\\forcecommand{\\xv}{{\\boldsymbol{x}}}$\n",
    "$\\forcecommand{\\Xv}{{\\boldsymbol{X}\\!}}$\n",
    "$\\forcecommand{\\yv}{{\\boldsymbol{y}}}$\n",
    "$\\forcecommand{\\Yv}{{\\boldsymbol{Y}}}$\n",
    "$\\forcecommand{\\zv}{{\\boldsymbol{z}}}$\n",
    "$\\forcecommand{\\Zv}{{\\boldsymbol{Z}}}$\n",
    "$\\forcecommand{\\Iv}{{\\boldsymbol{I}}}$\n",
    "$\\forcecommand{\\Jv}{{\\boldsymbol{J}}}$\n",
    "$\\forcecommand{\\Cv}{{\\boldsymbol{C}}}$\n",
    "$\\forcecommand{\\Ev}{{\\boldsymbol{E}}}$\n",
    "$\\forcecommand{\\Fv}{{\\boldsymbol{F}}}$\n",
    "$\\forcecommand{\\Gv}{{\\boldsymbol{G}}}$\n",
    "$\\forcecommand{\\Hv}{{\\boldsymbol{H}}}$\n",
    "$\\forcecommand{\\alphav}{{\\boldsymbol{\\alpha}}}$\n",
    "$\\forcecommand{\\epsilonv}{{\\boldsymbol{\\epsilon}}}$\n",
    "$\\forcecommand{\\betav}{{\\boldsymbol{\\beta}}}$\n",
    "$\\forcecommand{\\deltav}{{\\boldsymbol{\\delta}}}$\n",
    "$\\forcecommand{\\gammav}{{\\boldsymbol{\\gamma}}}$\n",
    "$\\forcecommand{\\etav}{{\\boldsymbol{\\eta}}}$\n",
    "$\\forcecommand{\\piv}{{\\boldsymbol{\\pi}}}$\n",
    "$\\forcecommand{\\thetav}{{\\boldsymbol{\\theta}}}$\n",
    "$\\forcecommand{\\tauv}{{\\boldsymbol{\\tau}}}$\n",
    "$\\forcecommand{\\muv}{{\\boldsymbol{\\mu}}}$\n",
    "$%$\n",
    "$\\forcecommand{\\sd}{\\text{SD}}$\n",
    "$\\forcecommand{\\se}{\\text{SE}}$\n",
    "$\\forcecommand{\\med}{\\text{median}}$\n",
    "$\\forcecommand{\\median}{\\text{median}}$\n",
    "$%$\n",
    "$\\forcecommand{\\supp}{\\text{supp}}$\n",
    "$\\forcecommand{\\E}{\\mathbb{E}}$\n",
    "$\\forcecommand{\\var}{\\text{Var}}$\n",
    "$\\forcecommand{\\Ber}{{\\text{Ber}}}$\n",
    "$\\forcecommand{\\Bin}{{\\text{Bin}}}$\n",
    "$\\forcecommand{\\Geo}{{\\text{Geo}}}$\n",
    "$\\forcecommand{\\Unif}{{\\text{Unif}}}$\n",
    "$\\forcecommand{\\Poi}{{\\text{Poi}}}$\n",
    "$\\forcecommand{\\Exp}{{\\text{Exp}}}$\n",
    "$\\forcecommand{\\Chisq}{{\\chi^2}}$\n",
    "$\\forcecommand{\\N}{\\mathbb{N}}$\n",
    "$\\forcecommand{\\iid}{{\\stackrel{iid}{\\sim}}}$\n",
    "$\\forcecommand{\\px}{p_{X}}$\n",
    "$\\forcecommand{\\fx}{f_{X}}$\n",
    "$\\forcecommand{\\Fx}{F_{X}}$\n",
    "$\\forcecommand{\\py}{p_{Y}}$\n",
    "$\\forcecommand{\\pxy}{p_{X,Y}}$\n",
    "$\\forcecommand{\\po}{{p_0}}$\n",
    "$\\forcecommand{\\pa}{{p_a}}$\n",
    "$\\forcecommand{\\Xbar}{\\overline{X}}$\n",
    "$\\forcecommand{\\Ybar}{\\overline{Y}}$\n",
    "$\\forcecommand{\\Zbar}{\\overline{Z}}$\n",
    "$\\forcecommand{\\nXbar}{n \\cdot \\overline{X}}$\n",
    "$\\forcecommand{\\nYbar}{n \\cdot \\overline{Y}}$\n",
    "$\\forcecommand{\\nZbar}{n \\cdot \\overline{Z}}$\n",
    "$\\forcecommand{\\Xn}{X_1, X_2, \\dots, X_n}$\n",
    "$\\forcecommand{\\Xm}{{X_1, X_2, \\dots, X_m}}$\n",
    "$\\forcecommand{\\Yn}{Y_1, Y_2, \\dots, Y_n}$\n",
    "$\\forcecommand{\\Ym}{{Y_1, Y_2, \\dots, Y_m}}$\n",
    "$\\forcecommand{\\sumXn}{X_1 + X_2 + \\dots + X_n}$\n",
    "$\\forcecommand{\\sumym}{Y_1 + Y_2 + \\dots + Y_m}$\n",
    "$\\forcecommand{\\la}{\\ell_\\alpha}$\n",
    "$\\forcecommand{\\ua}{u_\\alpha}$\n",
    "$\\forcecommand{\\at}{{\\alpha/2}}$\n",
    "$\\forcecommand{\\mux}{\\mu_{X}}$\n",
    "$\\forcecommand{\\muy}{\\mu_{Y}}$\n",
    "$\\forcecommand{\\sx}{\\sigma_{X}}$\n",
    "$\\forcecommand{\\sy}{\\sigma_{Y}}$\n",
    "$\\forcecommand{\\ci}{\\text{CI}}$\n",
    "$\\forcecommand{\\pvalue}{$p$-value}$\n",
    "$\\forcecommand{\\Ho}{H_{0}}$\n",
    "$\\forcecommand{\\Ha}{H_{a}}$\n",
    "\n",
    "\\vskip-\\parskip\n",
    "\\vskip-\\baselineskip\n",
    "</div>"
   ]
  },
  {
   "cell_type": "code",
   "execution_count": 2,
   "id": "bb0120db",
   "metadata": {},
   "outputs": [],
   "source": [
    "import numpy as np\n",
    "import scipy\n",
    "from scipy import stats as stats\n",
    "\n",
    "import statsmodels\n",
    "import statsmodels.api as sm"
   ]
  },
  {
   "cell_type": "markdown",
   "id": "fbfec7ec",
   "metadata": {},
   "source": [
    "---"
   ]
  },
  {
   "cell_type": "markdown",
   "id": "15c6dc53",
   "metadata": {},
   "source": [
    "## Key Takeaways from Week 5"
   ]
  },
  {
   "cell_type": "markdown",
   "id": "cc992f31",
   "metadata": {},
   "source": [
    "\n",
    "#### Tuesday: \n",
    "\n",
    "Introduction to non-parametric tests and the anatomy of each test (Wald-Wolfowitz, KS-Test). There was an associated discussion on how to perform these tests on python. Also, there is a discussion on QQ plots and how it shifts as there is a change in mean, variance, or both."
   ]
  },
  {
   "cell_type": "markdown",
   "id": "6d69de7b",
   "metadata": {},
   "source": [
    "#### Thursday\n",
    "\n",
    "Finished nonparametric tests and QQ plots, got into tests for independence; more specifically, autocorrelation, identical assumption, association between two quantitative variables. Then started the basics of regression with estimation of regression line, interpretation of correlation, and some examples using python.\n"
   ]
  },
  {
   "cell_type": "markdown",
   "id": "aaadbca8",
   "metadata": {},
   "source": [
    "---"
   ]
  },
  {
   "cell_type": "markdown",
   "id": "c2d78965",
   "metadata": {},
   "source": [
    "## Tue, Apr 30"
   ]
  },
  {
   "cell_type": "markdown",
   "id": "f443cd7c",
   "metadata": {},
   "source": [
    "### Nonparamteric tests \n",
    "\n",
    "Nonparametric tests are hypothesis tests that make minimal assumptions about the distributions of the data\n",
    "- used when it is not reasonsable to assume that the data follows a distribution, or when data is ordinal or nominal\n",
    "- i.e. no information on how data was collected, small samples\n",
    "\n",
    "The difference between parametric and nonparametric tests is:\n",
    "\n",
    "* parametric tests make assumptions about the distribution of the data, such as mean, varianace, proportion etc.\n",
    "* Data is exchangeable, the order in which the data is observed does not matter\n",
    "* $X_1, \\dots, X_n \\sim F$ but $F$ is not known\n",
    "* $X_1, \\dots, X_n \\sim F_x$ again, $F_x$ is not known"
   ]
  },
  {
   "cell_type": "markdown",
   "id": "5b31433a",
   "metadata": {},
   "source": [
    "<br></br>"
   ]
  },
  {
   "cell_type": "markdown",
   "id": "c20ae5b4",
   "metadata": {},
   "source": [
    "\n",
    "\n",
    "\n",
    "An example (not discussed in class) where I might want to use a nonparametric test is in the following scenario(s): \n",
    "\n",
    "*  \"when outcome is an ordinal variable or rank\"\n",
    "*  \"when there are definite outliers\"\n",
    "*  \"when the outomce has clear limits of detection\"\n",
    "\n",
    "(Boston University School of Public Health)"
   ]
  },
  {
   "cell_type": "markdown",
   "id": "9ce05d56",
   "metadata": {},
   "source": [
    "<br></br>"
   ]
  },
  {
   "cell_type": "markdown",
   "id": "3ce5d9d1",
   "metadata": {},
   "source": [
    "---\n",
    "### Wald-Wolfowitz runs test"
   ]
  },
  {
   "cell_type": "markdown",
   "id": "1ee600b0",
   "metadata": {},
   "source": [
    "<br></br>"
   ]
  },
  {
   "cell_type": "markdown",
   "id": "a1d4511a",
   "metadata": {},
   "source": [
    "**Assumptions**\n",
    "\n",
    "$X_1, \\dots, X_n \\sim F_x$ and $Y_1, \\dots, Y_n \\sim F_y$\n",
    "\n",
    "and,\n",
    "\n",
    "$H_0: F_x = F_y$ vs $H_a: F_x \\ne F_y$"
   ]
  },
  {
   "cell_type": "markdown",
   "id": "7973c0c8",
   "metadata": {},
   "source": [
    "<br></br>"
   ]
  },
  {
   "cell_type": "markdown",
   "id": "60e55933",
   "metadata": {},
   "source": [
    "**Runs**\n",
    "\n",
    "Intuitively, a run is a measure of a sequence of conserctive observations of the same type, all $X$ or all $Y$.\n",
    "\n",
    "Arrange $X_1, \\dots, X_n, Y_1, \\dots, Y_m$ in increasing order\n",
    "\n",
    "Use $+$ to denote sample from $X$ and $-$ as sample from $Y$"
   ]
  },
  {
   "cell_type": "markdown",
   "id": "05b58f41",
   "metadata": {},
   "source": [
    "$-++-++--+++--++-----$ there are 9 runs here it is when a sign change happens, there is a new run"
   ]
  },
  {
   "cell_type": "markdown",
   "id": "01b69f2a",
   "metadata": {},
   "source": [
    "If $F_x$ and $F_y$ are different, then number o runs will be small\n",
    "- If two means or medians are very different, then your ordered sequence will look something like:\n",
    "\n",
    "$----- | + | - | ++++++$"
   ]
  },
  {
   "cell_type": "markdown",
   "id": "da77700a",
   "metadata": {},
   "source": [
    "If two means are similar but variances are different, then your sequence will be:\n",
    "\n",
    "$+++ | ----- | ++++$"
   ]
  },
  {
   "cell_type": "markdown",
   "id": "18e4fa76",
   "metadata": {},
   "source": [
    "If $F_x$ and $F_y$ are indistinguishable, then number of runs will be large:\n",
    "\n",
    "- If the two means or medians are very different, then, ordered seqeunece will be like\n",
    "\n",
    "$ - | + | - | ++ | - | + | --- | ++$"
   ]
  },
  {
   "cell_type": "markdown",
   "id": "d962862d",
   "metadata": {},
   "source": [
    "<br></br>"
   ]
  },
  {
   "cell_type": "markdown",
   "id": "3f5e7f47",
   "metadata": {},
   "source": [
    "**Anatomy**\n",
    "\n",
    "| Anatomy of the hypothesis test |  Answer  |\n",
    "|:------------------------------:|:--------:|\n",
    "| Assumption                     | $X_1, \\dots, X_n \\sim F_x$ and $Y_1, \\dots, Y_n \\sim F_y$ |\n",
    "| Null hypothesis                | $H_0: F_x = F_y$ |\n",
    "| Alternate hypothesis           | $H_a: F_x \\ne F_y$ |\n",
    "| Test statistic                 | $Z = \\frac{\\hat R - \\mu_R}{s_R}$ where $$\\mu_R = 1 + 2 \\frac{n_x \\cdot n_y}{n_x + n_y}$$ and $$s_r = \\sqrt{\\frac{2 n_x \\cdot n_y \\cdot (2n_xn_y - n_x - n_y)}{(n_x + n_y)^2 \\cdot (n_x + n_y - 1)}}$$ is the expected value and variance of the number of runs under the null hypothesis |\n",
    "| Rejection region shape         | $(-\\infty, -x_\\alpha)$  where $x_\\alpha = z_\\alpha$ is the $a$-th lower qunatile of the standard normal distribution $N(0,1)$|"
   ]
  },
  {
   "cell_type": "markdown",
   "id": "823d668f",
   "metadata": {},
   "source": [
    "<br></br>"
   ]
  },
  {
   "cell_type": "code",
   "execution_count": 3,
   "id": "3abd0498",
   "metadata": {},
   "outputs": [
    {
     "name": "stdout",
     "output_type": "stream",
     "text": [
      "as pval 4.056014081396117e-29 < alpha = 0.05, reject H0\n"
     ]
    }
   ],
   "source": [
    "R, pval = statsmodels.sandbox.stats.runs.runstest_2samp(\n",
    "    stats.chi2(2).rvs(100),\n",
    "    stats.chi2(12).rvs(100)\n",
    ")\n",
    "R, pval\n",
    "\n",
    "print(f\"as pval {pval} < alpha = 0.05, reject H0\")"
   ]
  },
  {
   "cell_type": "markdown",
   "id": "5da6a878",
   "metadata": {},
   "source": [
    "**Procedure**\n",
    "\n",
    "In words, under the assumptions mentioned earlier, here's a brief description of peforming the Wald-Wolfowitz runs test.\n",
    "\n",
    "> **Step 1:**\n",
    "\n",
    "Create your assumptions, $X_1, X_2, \\dots, X_n \\sim F_X \\quad \\text{and} \\quad Y_1, Y_2, \\dots, Y_m \\sim F_Y$\n",
    "\n",
    "> **Step 2:**\n",
    "\n",
    "Find test statistic where: $Z = \\frac{\\hat R - \\mu_R}{s_R}$ where $\\mu_R = 1 + 2\\frac{n_X \\cdot n_Y}{n_X + n_Y} \\quad \\quad \\text{and} \\quad \\quad s_R = \\sqrt\\frac{2 n_x \\cdot n_y \\cdot (2 n_X n_Y - n_X - n_Y) }{(n_X + n_Y)^2 \\cdot (n_X + n_Y - 1)}$\n",
    "\n",
    "> **Step 3:**\n",
    "\n",
    "Reject or fail to reject under null $\\text{rejection region} = (-\\infty, -x_\\alpha)$ where $x_\\alpha = z_{\\alpha}$ is the $\\alpha$-th **lower quantile** of the standard normal distribution $N(0, 1)$."
   ]
  },
  {
   "cell_type": "markdown",
   "id": "379d23b5",
   "metadata": {},
   "source": [
    "<br></br>"
   ]
  },
  {
   "cell_type": "markdown",
   "id": "41fb99aa",
   "metadata": {},
   "source": [
    "---\n",
    "\n",
    "### Kolmogorov-Smirnov test"
   ]
  },
  {
   "cell_type": "markdown",
   "id": "1f1901f0",
   "metadata": {},
   "source": [
    "<br></br>"
   ]
  },
  {
   "cell_type": "markdown",
   "id": "75dab05e",
   "metadata": {},
   "source": [
    "**Assumptions**\n",
    "\n",
    "> One sample KS Test\n",
    "\n",
    "$X_1, \\dots, X_n \\sim F_x$\n",
    "\n",
    "and,\n",
    "\n",
    "$H_0: F_x = F_0$ vs $H_a: F_x \\ne F_0$\n",
    "\n",
    "$F_0$ is some known hypothesized, reference distribution $N(\\mu, \\sigma^2)$, $\\Gamma(\\alpha, \\lambda)$, $\\text{Beta}(\\alpha, \\beta)$, etc.\n",
    "\n",
    "> Two sample KS Test\n",
    "\n",
    "$$\n",
    "X_1, X_2, \\dots, X_n \\sim F_X \\quad \\text{and} \\quad Y_1, Y_2, \\dots, Y_m \\sim F_Y\n",
    "$$\n",
    "\n",
    "and,\n",
    "\n",
    "$$\n",
    "H_0: F_X = F_Y \\quad \\quad \\text{vs} \\quad \\quad H_a: F_X \\neq F_Y\n",
    "$$"
   ]
  },
  {
   "cell_type": "markdown",
   "id": "bca762e1",
   "metadata": {},
   "source": [
    "<br></br>"
   ]
  },
  {
   "cell_type": "markdown",
   "id": "22a623d7",
   "metadata": {},
   "source": [
    "**Intuition**\n",
    "\n",
    "Intuitively, the KS test statistic measures the empirical distribution (EDF) to estimate $F_x$.\n",
    "\n",
    "$\\hat F_n(x) = \\frac{1}{n} \\sum_{i=1} ^ n 1 (X_1 \\le x)$\n",
    "\n",
    "where,\n",
    "$1(X_i \\le x)$ is the indicator function\n",
    "\n",
    "$1$ if $X_i \\le x$ 0 if $X_i \\gt x$"
   ]
  },
  {
   "cell_type": "markdown",
   "id": "9db4fd94",
   "metadata": {},
   "source": [
    "<br></br>"
   ]
  },
  {
   "cell_type": "markdown",
   "id": "495490c0",
   "metadata": {},
   "source": [
    "**Anatomy**\n",
    "\n",
    "| Anatomy of the hypothesis test |  Answer  |\n",
    "|:------------------------------:|:--------:|\n",
    "| Assumption                     | $X_1, \\dots, X_n \\sim F_x$ |\n",
    "| Null hypothesis                | $H_0: F_x = F_0$ |\n",
    "| Alternate hypothesis           | $H_a: F_x \\ne F_0$ |\n",
    "| Test statistic                 | $D_n = \\text{sup} \\|{\\hat F_n(x) - F_0 (x)} \\|$ where $\\text{sup}_x$ is the supremum over all $x$ in support of $F_0$. This is maximum vertical distance between EDF. If $D_n$ is small, then we have evidence that $F_x$ is close to $F_0$. If $D_n$ is large, then we have evidence that $F_x$ is different to $F_0$ |\n",
    "| Rejection region shape         | $(x_\\alpha, \\infty)$ where $x_\\alpha = \\sqrt{\\frac{1}{2}\\log({\\alpha})}$|"
   ]
  },
  {
   "cell_type": "markdown",
   "id": "a3243a5c",
   "metadata": {},
   "source": [
    "<br></br>"
   ]
  },
  {
   "cell_type": "markdown",
   "id": "facefaf7",
   "metadata": {},
   "source": [
    "**Procedure**\n",
    "\n",
    "In words, under the assumptions mentioned earlier, here's a brief description of peforming the Kolmogorov Smirnov test.\n",
    "\n",
    "> **Step 1:**\n",
    "\n",
    "Make assumptions and hypothesis\n",
    "\n",
    "$$\n",
    "X_1, X_2, \\dots, X_n \\sim F_X \\quad \\text{and} \\quad Y_1, Y_2, \\dots, Y_m \\sim F_Y\n",
    "$$\n",
    "\n",
    "$$\n",
    "H_0: F_X = F_Y \\quad \\quad \\text{vs} \\quad \\quad H_a: F_X \\neq F_Y\n",
    "$$\n",
    "\n",
    "> **Step 2:**\n",
    "\n",
    "Find test statistic \n",
    "\n",
    "$$\n",
    "D_{n,m} = \\sup_{x} \\Big| \\hat F_n(x) - \\hat F_m(x) \\Big|\n",
    "$$\n",
    "\n",
    "where $\\hat F_n(x)$ and $\\hat F_m(x)$ are the empirical distribution functions of $X_1, X_2, \\dots, X_n$ and $Y_1, Y_2, \\dots, Y_m$, respectively.\n",
    "\n",
    "\n",
    "> **Step 3:**\n",
    "\n",
    "Reject or fail to reject under null\n",
    "\n",
    "We reject the null hypothesis if the deviation of EDFs, $D_{m, n}$ is large, i.e.,\n",
    "\n",
    "$$\n",
    "\\text{rejection region} = (x_\\alpha, \\infty)\n",
    "$$\n",
    "\n",
    "where $x_\\alpha$ is given by\n",
    "\n",
    "$$\n",
    "x_\\alpha = \\sqrt{\\frac 12 \\log\\Big(\\frac{\\alpha}{2}\\Big) \\times \\frac{m+n}{m \\cdot n}}\n",
    "$$"
   ]
  },
  {
   "cell_type": "markdown",
   "id": "051282df",
   "metadata": {},
   "source": [
    "<br></br>"
   ]
  },
  {
   "cell_type": "markdown",
   "id": "657464ea",
   "metadata": {},
   "source": [
    "### EDA\n",
    "\n",
    "Given sample, $X_1, \\dots, X_n$ can we visuation if it comes from reference distribution $D(\\theta)$"
   ]
  },
  {
   "cell_type": "markdown",
   "id": "234cc290",
   "metadata": {},
   "source": [
    "---\n",
    "\n",
    "### QQ-plot\n",
    "\n",
    "Given samples $X_1, X_2, \\dots, X_n$ and some reference distribution $F$\n",
    "\n",
    "The QQ-plot is a plot of probability distributions, used to check data follows a certain distribution. Simply plot of quantiles. If distributions are equal, there will be a $y=x$ line of sample quantiles vs theoreitial quantiles relationship"
   ]
  },
  {
   "cell_type": "markdown",
   "id": "5e2d1a55",
   "metadata": {},
   "source": [
    "<br></br>"
   ]
  },
  {
   "cell_type": "markdown",
   "id": "b72afcd5",
   "metadata": {},
   "source": [
    "> The effect of different means in the QQ-plot\n",
    "\n",
    "* If mean increases, the QQ plot shifts to the right\n",
    "* If mean decreases, the QQ plot shifts to the left\n",
    "\n",
    "> The effect of different variances in the QQ-plot\n",
    "\n",
    "* If $Var(Y)$ increases, slope of QQ plot increases\n",
    "* If $Var(Y)$ decreases, slope of QQ plot decreases\n",
    "\n",
    "\n",
    "> The effect of different skewness in the QQ-plot\n",
    "\n",
    "* As skew increases, the QQ plot becomes more pronounced below $y=x$ (convex)\n",
    "* As skew decreases, the QQ plot becomes more pronounced above $y=x$ (concave)\n",
    "\n",
    "> Effect of tails\n",
    "\n",
    "* For extreme values, there is deviation from the $y=x$ line is there is a bigger tail"
   ]
  },
  {
   "cell_type": "markdown",
   "id": "a02734cf",
   "metadata": {},
   "source": [
    "<br></br>"
   ]
  },
  {
   "cell_type": "markdown",
   "id": "4df5f076",
   "metadata": {},
   "source": [
    "---\n",
    "\n",
    "### Testing for normality\n",
    "\n",
    "Method to check if quantiles of QQ plot is normally distributed.\n",
    "\n",
    "$$\n",
    "H_0: X_1, \\dots, X_n \\sim N(\\mu, \\sigma ^2)\n",
    "H_1: X_1, \\dots, X_n \\nsim N(\\mu, \\sigma ^2)"
   ]
  },
  {
   "cell_type": "markdown",
   "id": "4bde99e5",
   "metadata": {},
   "source": [
    "---\n",
    "\n",
    "### Tests for Assumptions\n",
    "\n",
    "In words, here's how I would go about testing for some common assumptions in statistical inference."
   ]
  },
  {
   "cell_type": "markdown",
   "id": "d0b30795",
   "metadata": {},
   "source": [
    "<br></br>"
   ]
  },
  {
   "cell_type": "markdown",
   "id": "08a4d992",
   "metadata": {},
   "source": [
    "#### Independence\n",
    "\n",
    "\n",
    "Autocorrelation function is a measure of correlation between time series and lagged version of itself, check if observations are independent.\n",
    "\n",
    "ACF is defined as:\n",
    "\n",
    "$$\n",
    "\\text{ACF}(k) = \\frac{\\sum_{i=k}^{n-k} (X_i - \\bar{X})(X_{i+k} - \\bar{X})}{\\sum_{i=1}^n (X_i - \\bar{X})^2}\n",
    "$$\n",
    "\n",
    "Where k is lag, the number of time between two observations, if observations are independent, then ACF should be close to zero for all lags"
   ]
  },
  {
   "cell_type": "code",
   "execution_count": 8,
   "id": "375c1f23",
   "metadata": {},
   "outputs": [],
   "source": [
    "import numpy as np\n",
    "import matplotlib.pyplot as plt"
   ]
  },
  {
   "cell_type": "code",
   "execution_count": 9,
   "id": "37ce5580",
   "metadata": {},
   "outputs": [],
   "source": [
    "from statsmodels.tsa.stattools import acf\n",
    "\n",
    "n = 2000\n",
    "X = np.random.normal(size=n)\n",
    "Y = np.zeros(n)\n",
    "Y[0] = X[0]\n",
    "for t in range(1, n):\n",
    "    Y[t] = 0.5*Y[t-1] + X[t]"
   ]
  },
  {
   "cell_type": "code",
   "execution_count": 10,
   "id": "d1830308",
   "metadata": {},
   "outputs": [
    {
     "name": "stderr",
     "output_type": "stream",
     "text": [
      "No artists with labels found to put in legend.  Note that artists whose label start with an underscore are ignored when legend() is called with no argument.\n"
     ]
    },
    {
     "data": {
      "text/plain": [
       "Text(0, 0.5, 'ACF')"
      ]
     },
     "execution_count": 10,
     "metadata": {},
     "output_type": "execute_result"
    },
    {
     "data": {
      "image/png": "[encoded data removed]",
      "text/plain": [
       "<Figure size 1500x700 with 4 Axes>"
      ]
     },
     "metadata": {},
     "output_type": "display_data"
    }
   ],
   "source": [
    "fig, ax = plt.subplots(2, 2, figsize=(15, 7))\n",
    "ax[0, 0].plot(X, label='X', alpha=0.5, linewidth=1); ax[0, 0].legend()\n",
    "\n",
    "ax[1, 0].plot(Y, label='Y', alpha=0.5, linewidth=1); ax[0, 1].legend()\n",
    "\n",
    "ax[0, 1].bar(range(0, 21), acf(X, nlags=20))\n",
    "ax[0, 1].set_xlabel('Lag'); ax[0, 1].set_ylabel('ACF')\n",
    "\n",
    "ax[1, 1].bar(range(0, 21), acf(Y, nlags=20))\n",
    "ax[1, 1].set_xlabel('Lag'); ax[1, 1].set_ylabel('ACF')"
   ]
  },
  {
   "cell_type": "markdown",
   "id": "e09b701f",
   "metadata": {},
   "source": [
    "Should be about 50 percent correlation, every next value of y is 50 percent of the prior plus some value that is not correlated to."
   ]
  },
  {
   "cell_type": "markdown",
   "id": "3d7904e3",
   "metadata": {},
   "source": [
    "Ljung-Box Test, uses ACF function to test for independence, tests statistic is given by\n",
    "\n",
    "$$\n",
    "Q = n(n+2) \\sum_{i=1}^k \\frac{ACF(k) ^2}{n-k}\n",
    "$$"
   ]
  },
  {
   "cell_type": "markdown",
   "id": "622de605",
   "metadata": {},
   "source": [
    "<br></br>"
   ]
  },
  {
   "cell_type": "code",
   "execution_count": 11,
   "id": "9d1af41d",
   "metadata": {},
   "outputs": [
    {
     "data": {
      "text/plain": [
       "(array([3.49466773, 4.9048682 , 5.35551244]),\n",
       " array([0.06156676, 0.08608379, 0.14754056]))"
      ]
     },
     "execution_count": 11,
     "metadata": {},
     "output_type": "execute_result"
    }
   ],
   "source": [
    "from statsmodels.stats.diagnostic import acorr_ljungbox\n",
    "\n",
    "acorr_ljungbox(X, lags=3, return_df=False)"
   ]
  },
  {
   "cell_type": "markdown",
   "id": "2be8d545",
   "metadata": {},
   "source": [
    "#### Identical Assumption\n",
    "\n",
    "To check if observations are identically distributed under a $X_1, \\dots, X_n$"
   ]
  },
  {
   "cell_type": "markdown",
   "id": "162a29d1",
   "metadata": {},
   "source": [
    "<br></br>"
   ]
  },
  {
   "cell_type": "code",
   "execution_count": 13,
   "id": "dc495721",
   "metadata": {},
   "outputs": [],
   "source": [
    "import seaborn as sns"
   ]
  },
  {
   "cell_type": "code",
   "execution_count": 14,
   "id": "6cb5d270",
   "metadata": {},
   "outputs": [
    {
     "name": "stderr",
     "output_type": "stream",
     "text": [
      "c:\\Users\\Alex\\miniforge3\\envs\\dsc80\\lib\\site-packages\\seaborn\\_decorators.py:36: FutureWarning: Pass the following variable as a keyword arg: x. From version 0.12, the only valid positional argument will be `data`, and passing other arguments without an explicit keyword will result in an error or misinterpretation.\n",
      "  warnings.warn(\n"
     ]
    },
    {
     "data": {
      "text/plain": [
       "<AxesSubplot:>"
      ]
     },
     "execution_count": 14,
     "metadata": {},
     "output_type": "execute_result"
    },
    {
     "data": {
      "image/png": "[encoded data removed]",
      "text/plain": [
       "<Figure size 1200x500 with 2 Axes>"
      ]
     },
     "metadata": {},
     "output_type": "display_data"
    }
   ],
   "source": [
    "n = 100\n",
    "\n",
    "x = np.array([stats.norm(0, i).rvs(5) for i in range(n)]).reshape(-1)\n",
    "\n",
    "fig, ax = plt.subplots(1, 2, figsize=(12, 5))\n",
    "sm.qqplot(x, stats.norm, line='45', ax=ax[1])\n",
    "sns.scatterplot(x, ax=ax[0])"
   ]
  },
  {
   "cell_type": "markdown",
   "id": "fe97a67d",
   "metadata": {},
   "source": [
    "#### Normality\n",
    "\n",
    "\n",
    "Use shapiro wiles tests under stats module, as stats.shapiro(data).pvalue\n",
    "- If p value is smaller than alpha, reject to say it is not normal, greater than alpha is fail to reject normality"
   ]
  },
  {
   "cell_type": "markdown",
   "id": "5f374b82",
   "metadata": {},
   "source": [
    "<br></br>"
   ]
  },
  {
   "cell_type": "markdown",
   "id": "394bf1b3",
   "metadata": {},
   "source": [
    "<br></br>\n",
    "<br></br>\n",
    "<br></br>"
   ]
  },
  {
   "cell_type": "markdown",
   "id": "f15473cf",
   "metadata": {},
   "source": [
    "---\n",
    "---"
   ]
  },
  {
   "cell_type": "markdown",
   "id": "06efcaa3",
   "metadata": {},
   "source": [
    "## Thu, May 2"
   ]
  },
  {
   "cell_type": "markdown",
   "id": "162e5888",
   "metadata": {},
   "source": [
    "<br></br>"
   ]
  },
  {
   "cell_type": "markdown",
   "id": "fdf57e41",
   "metadata": {},
   "source": [
    "#### Associations between two quantitative variables\n",
    "\n",
    "Given data $(x_1, y_1), (x_2, y_2), \\dots (x_n, y_n)$\n",
    "\n",
    "usually:\n",
    "\n",
    "* The variable $x$ is called independent variable\n",
    "* The variable $y$ is called dependent variable"
   ]
  },
  {
   "cell_type": "markdown",
   "metadata": {},
   "source": [
    "<br></br>"
   ]
  },
  {
   "cell_type": "markdown",
   "metadata": {},
   "source": [
    "We can visualize the association/relationship between $x$ and $y$ visually using a \n",
    "\n",
    "scatter plot"
   ]
  },
  {
   "cell_type": "markdown",
   "id": "8a56ecba",
   "metadata": {},
   "source": [
    "<br></br>"
   ]
  },
  {
   "cell_type": "markdown",
   "id": "972f7e6f",
   "metadata": {},
   "source": [
    "**Simple linear regression** \n",
    "\n",
    "In the simple linear regression model, the underlying assumption is that\n",
    "\n",
    "there is a relationship between the variables are linear and can be expressed as:\n",
    "\n",
    "$$\n",
    "y_i = \\beta_0 + \\beta_1 x_i + \\epsilon_i\n",
    "$$\n",
    "\n",
    "$\\beta_0$ is intercept $\\beta_1$ is slope, $\\epsilon_i$ is error term which captures difference between observed value $y_i$ and value predicted by model\n",
    "\n",
    "- goal is to estimate values of $\\beta_0$ and $\\beta_1$ that fit the data the best"
   ]
  },
  {
   "cell_type": "markdown",
   "id": "bb547852",
   "metadata": {},
   "source": [
    "<br></br>"
   ]
  },
  {
   "cell_type": "markdown",
   "id": "3670bcca",
   "metadata": {},
   "source": [
    "**Objective**\n",
    "\n",
    "The objective of simple linear regression is\n",
    "\n",
    "to estimate values of $\\beta_0$ and $\\beta_1$ that fit the data the best"
   ]
  },
  {
   "cell_type": "markdown",
   "id": "20f2d0b8",
   "metadata": {},
   "source": [
    "$$\n",
    "\\text{Loss}(\\beta_0, \\beta_1) = \\sum_{i=1}^n (y_i - \\hat{y}_i)^2 = \\sum_{i=1}^n (y_i - \\beta_0 - \\beta_1 x_i)^2\n",
    "$$\n",
    "\n",
    "and, \n",
    "\n",
    "$$\n",
    "\\hat{\\beta_0}, \\hat{\\beta_1} = \\underset{\\beta_1 \\in \\R}{\\underset{\\beta_0 \\in \\R}{\\text{argmin}}}  \\ \\ \\ \\text{Loss}(\\beta_0, \\beta_1)\n",
    "$$"
   ]
  },
  {
   "cell_type": "markdown",
   "id": "1e2bca13",
   "metadata": {},
   "source": [
    "<br></br>"
   ]
  },
  {
   "cell_type": "markdown",
   "id": "62fd62ad",
   "metadata": {},
   "source": [
    "**Estimation**\n",
    "\n",
    "Intuitively, the best guess for $\\hat\\beta_0$ and $\\hat\\beta_1$ using the data is obtained by\n",
    "maximum likelihood estimation\n",
    "\n",
    "line of best fit uses estimators of beta, you use the mean squared loss that minimize the parameters\n",
    "\n"
   ]
  },
  {
   "cell_type": "markdown",
   "id": "419aeed9",
   "metadata": {},
   "source": [
    "<br></br>"
   ]
  },
  {
   "cell_type": "markdown",
   "id": "cfb131fe",
   "metadata": {},
   "source": [
    "**Representation**\n",
    "\n",
    "In matrix form, the linear regression model can be written as\n",
    "\n",
    "$$\n",
    "\\text{Aug}(x) =\n",
    "$$\n",
    "\n",
    "$$\n",
    "(X^TX)^{-1} Xy\n",
    "$$\n",
    "also known as the normal equation\n"
   ]
  },
  {
   "cell_type": "markdown",
   "id": "088dee3c",
   "metadata": {},
   "source": [
    "<br></br>"
   ]
  },
  {
   "cell_type": "markdown",
   "id": "62452b4e",
   "metadata": {},
   "source": [
    "**Solution**\n",
    "\n",
    "The solution to the least-squares estimation problem is given by\n",
    "\n",
    "$$\n",
    "\\hat\\beta_0, \\hat\\beta_1 = \\text{argmin} \\text{ Loss}(\\beta_0, \\beta_1)\n",
    "$$\n"
   ]
  },
  {
   "cell_type": "markdown",
   "id": "1b90c7f0",
   "metadata": {},
   "source": [
    "<br></br>"
   ]
  },
  {
   "cell_type": "markdown",
   "id": "2afd4444",
   "metadata": {},
   "source": [
    "An example application is described here:\n",
    "\n",
    "..."
   ]
  },
  {
   "cell_type": "markdown",
   "id": "fb90a793",
   "metadata": {},
   "source": [
    "Here is the code to perform this:"
   ]
  },
  {
   "cell_type": "markdown",
   "id": "d73a0cfa",
   "metadata": {},
   "source": [
    "<br></br>\n",
    "<br></br>\n",
    "<br></br>"
   ]
  },
  {
   "cell_type": "markdown",
   "id": "6935e5ec",
   "metadata": {},
   "source": [
    "Corrlation:\n",
    "\n",
    "$$\n",
    "\\hat\\beta_1 = \\frac{\\sum_{i=1}^n (x_i-\\bar{x})(y_i-\\bar{y})}{\\sum_{i=1}^n(x_i-\\bar{x})^2} = r_{xy} \\cdot \\frac{s_y}{s_x}\n",
    "$$"
   ]
  },
  {
   "cell_type": "markdown",
   "id": "a0adac2e",
   "metadata": {},
   "source": [
    "$$\n",
    "r_{xy} = \\frac{\\sum_{i=1}^n (x_i-\\bar{x})(y_i-\\bar{y})}{\\sqrt{\\sum_{i=1}^n(x_i-\\bar{x})} \\sqrt{\\sum_{i=1}^n(y_i-\\bar{y})}}\n",
    "$$"
   ]
  },
  {
   "cell_type": "markdown",
   "id": "c2054701",
   "metadata": {},
   "source": [
    "---"
   ]
  },
  {
   "cell_type": "markdown",
   "id": "69e509ef",
   "metadata": {},
   "source": [
    "Example"
   ]
  },
  {
   "cell_type": "code",
   "execution_count": 17,
   "id": "6c53cc93",
   "metadata": {},
   "outputs": [],
   "source": [
    "import pandas as pd"
   ]
  },
  {
   "cell_type": "code",
   "execution_count": 18,
   "id": "d5c017fb",
   "metadata": {},
   "outputs": [
    {
     "data": {
      "text/html": [
       "<div>\n",
       "<style scoped>\n",
       "    .dataframe tbody tr th:only-of-type {\n",
       "        vertical-align: middle;\n",
       "    }\n",
       "\n",
       "    .dataframe tbody tr th {\n",
       "        vertical-align: top;\n",
       "    }\n",
       "\n",
       "    .dataframe thead th {\n",
       "        text-align: right;\n",
       "    }\n",
       "</style>\n",
       "<table border=\"1\" class=\"dataframe\">\n",
       "  <thead>\n",
       "    <tr style=\"text-align: right;\">\n",
       "      <th></th>\n",
       "      <th>rownames</th>\n",
       "      <th>minority</th>\n",
       "      <th>age</th>\n",
       "      <th>gender</th>\n",
       "      <th>credits</th>\n",
       "      <th>beauty</th>\n",
       "      <th>eval</th>\n",
       "      <th>division</th>\n",
       "      <th>native</th>\n",
       "      <th>tenure</th>\n",
       "      <th>students</th>\n",
       "      <th>allstudents</th>\n",
       "      <th>prof</th>\n",
       "    </tr>\n",
       "  </thead>\n",
       "  <tbody>\n",
       "    <tr>\n",
       "      <th>0</th>\n",
       "      <td>1</td>\n",
       "      <td>yes</td>\n",
       "      <td>36</td>\n",
       "      <td>female</td>\n",
       "      <td>more</td>\n",
       "      <td>0.289916</td>\n",
       "      <td>4.3</td>\n",
       "      <td>upper</td>\n",
       "      <td>yes</td>\n",
       "      <td>yes</td>\n",
       "      <td>24</td>\n",
       "      <td>43</td>\n",
       "      <td>1</td>\n",
       "    </tr>\n",
       "    <tr>\n",
       "      <th>1</th>\n",
       "      <td>2</td>\n",
       "      <td>no</td>\n",
       "      <td>59</td>\n",
       "      <td>male</td>\n",
       "      <td>more</td>\n",
       "      <td>-0.737732</td>\n",
       "      <td>4.5</td>\n",
       "      <td>upper</td>\n",
       "      <td>yes</td>\n",
       "      <td>yes</td>\n",
       "      <td>17</td>\n",
       "      <td>20</td>\n",
       "      <td>2</td>\n",
       "    </tr>\n",
       "    <tr>\n",
       "      <th>2</th>\n",
       "      <td>3</td>\n",
       "      <td>no</td>\n",
       "      <td>51</td>\n",
       "      <td>male</td>\n",
       "      <td>more</td>\n",
       "      <td>-0.571984</td>\n",
       "      <td>3.7</td>\n",
       "      <td>upper</td>\n",
       "      <td>yes</td>\n",
       "      <td>yes</td>\n",
       "      <td>55</td>\n",
       "      <td>55</td>\n",
       "      <td>3</td>\n",
       "    </tr>\n",
       "    <tr>\n",
       "      <th>3</th>\n",
       "      <td>4</td>\n",
       "      <td>no</td>\n",
       "      <td>40</td>\n",
       "      <td>female</td>\n",
       "      <td>more</td>\n",
       "      <td>-0.677963</td>\n",
       "      <td>4.3</td>\n",
       "      <td>upper</td>\n",
       "      <td>yes</td>\n",
       "      <td>yes</td>\n",
       "      <td>40</td>\n",
       "      <td>46</td>\n",
       "      <td>4</td>\n",
       "    </tr>\n",
       "    <tr>\n",
       "      <th>4</th>\n",
       "      <td>5</td>\n",
       "      <td>no</td>\n",
       "      <td>31</td>\n",
       "      <td>female</td>\n",
       "      <td>more</td>\n",
       "      <td>1.509794</td>\n",
       "      <td>4.4</td>\n",
       "      <td>upper</td>\n",
       "      <td>yes</td>\n",
       "      <td>yes</td>\n",
       "      <td>42</td>\n",
       "      <td>48</td>\n",
       "      <td>5</td>\n",
       "    </tr>\n",
       "    <tr>\n",
       "      <th>5</th>\n",
       "      <td>6</td>\n",
       "      <td>no</td>\n",
       "      <td>62</td>\n",
       "      <td>male</td>\n",
       "      <td>more</td>\n",
       "      <td>0.588569</td>\n",
       "      <td>4.2</td>\n",
       "      <td>upper</td>\n",
       "      <td>yes</td>\n",
       "      <td>yes</td>\n",
       "      <td>182</td>\n",
       "      <td>282</td>\n",
       "      <td>6</td>\n",
       "    </tr>\n",
       "    <tr>\n",
       "      <th>6</th>\n",
       "      <td>7</td>\n",
       "      <td>no</td>\n",
       "      <td>33</td>\n",
       "      <td>female</td>\n",
       "      <td>more</td>\n",
       "      <td>-0.126001</td>\n",
       "      <td>4.0</td>\n",
       "      <td>upper</td>\n",
       "      <td>yes</td>\n",
       "      <td>yes</td>\n",
       "      <td>33</td>\n",
       "      <td>41</td>\n",
       "      <td>7</td>\n",
       "    </tr>\n",
       "    <tr>\n",
       "      <th>7</th>\n",
       "      <td>8</td>\n",
       "      <td>no</td>\n",
       "      <td>51</td>\n",
       "      <td>female</td>\n",
       "      <td>more</td>\n",
       "      <td>-0.258190</td>\n",
       "      <td>3.4</td>\n",
       "      <td>upper</td>\n",
       "      <td>yes</td>\n",
       "      <td>yes</td>\n",
       "      <td>25</td>\n",
       "      <td>41</td>\n",
       "      <td>8</td>\n",
       "    </tr>\n",
       "    <tr>\n",
       "      <th>8</th>\n",
       "      <td>9</td>\n",
       "      <td>no</td>\n",
       "      <td>33</td>\n",
       "      <td>female</td>\n",
       "      <td>more</td>\n",
       "      <td>0.149693</td>\n",
       "      <td>4.5</td>\n",
       "      <td>upper</td>\n",
       "      <td>yes</td>\n",
       "      <td>yes</td>\n",
       "      <td>48</td>\n",
       "      <td>60</td>\n",
       "      <td>9</td>\n",
       "    </tr>\n",
       "    <tr>\n",
       "      <th>9</th>\n",
       "      <td>10</td>\n",
       "      <td>no</td>\n",
       "      <td>47</td>\n",
       "      <td>male</td>\n",
       "      <td>more</td>\n",
       "      <td>0.540917</td>\n",
       "      <td>3.9</td>\n",
       "      <td>upper</td>\n",
       "      <td>yes</td>\n",
       "      <td>no</td>\n",
       "      <td>16</td>\n",
       "      <td>19</td>\n",
       "      <td>10</td>\n",
       "    </tr>\n",
       "  </tbody>\n",
       "</table>\n",
       "</div>"
      ],
      "text/plain": [
       "   rownames minority  age  gender credits    beauty  eval division native  \\\n",
       "0         1      yes   36  female    more  0.289916   4.3    upper    yes   \n",
       "1         2       no   59    male    more -0.737732   4.5    upper    yes   \n",
       "2         3       no   51    male    more -0.571984   3.7    upper    yes   \n",
       "3         4       no   40  female    more -0.677963   4.3    upper    yes   \n",
       "4         5       no   31  female    more  1.509794   4.4    upper    yes   \n",
       "5         6       no   62    male    more  0.588569   4.2    upper    yes   \n",
       "6         7       no   33  female    more -0.126001   4.0    upper    yes   \n",
       "7         8       no   51  female    more -0.258190   3.4    upper    yes   \n",
       "8         9       no   33  female    more  0.149693   4.5    upper    yes   \n",
       "9        10       no   47    male    more  0.540917   3.9    upper    yes   \n",
       "\n",
       "  tenure  students  allstudents  prof  \n",
       "0    yes        24           43     1  \n",
       "1    yes        17           20     2  \n",
       "2    yes        55           55     3  \n",
       "3    yes        40           46     4  \n",
       "4    yes        42           48     5  \n",
       "5    yes       182          282     6  \n",
       "6    yes        33           41     7  \n",
       "7    yes        25           41     8  \n",
       "8    yes        48           60     9  \n",
       "9     no        16           19    10  "
      ]
     },
     "execution_count": 18,
     "metadata": {},
     "output_type": "execute_result"
    }
   ],
   "source": [
    "url = 'https://vincentarelbundock.github.io/Rdatasets/csv/AER/TeachingRatings.csv'\n",
    "df = pd.read_csv(url)\n",
    "df.head(10)"
   ]
  },
  {
   "cell_type": "code",
   "execution_count": 23,
   "id": "8dcf7673",
   "metadata": {},
   "outputs": [],
   "source": [
    "import statsmodels\n",
    "import statsmodels.api as sm\n",
    "import statsmodels.formula.api as smf"
   ]
  },
  {
   "cell_type": "code",
   "execution_count": 24,
   "id": "daf1cd00",
   "metadata": {},
   "outputs": [
    {
     "name": "stdout",
     "output_type": "stream",
     "text": [
      "==============================================================================\n",
      "                 coef    std err          t      P>|t|      [0.025      0.975]\n",
      "------------------------------------------------------------------------------\n",
      "Intercept      3.9983      0.025    157.727      0.000       3.948       4.048\n",
      "beauty         0.1330      0.032      4.133      0.000       0.070       0.196\n",
      "==============================================================================\n"
     ]
    }
   ],
   "source": [
    "df_model = smf.ols('eval ~ 1 + beauty', df)\n",
    "\n",
    "df_model_table = df_model.fit().summary().tables\n",
    "print(df_model_table[1])"
   ]
  },
  {
   "cell_type": "markdown",
   "id": "87bc3060",
   "metadata": {},
   "source": [
    "The coefficients are the corresponding $\\hat\\beta_0, \\hat\\beta_1$ "
   ]
  }
 ],
 "metadata": {
  "celltoolbar": "Slideshow",
  "hide_input": false,
  "kernelspec": {
   "display_name": "Python 3 (ipykernel)",
   "language": "python",
   "name": "python3"
  },
  "language_info": {
   "codemirror_mode": {
    "name": "ipython",
    "version": 3
   },
   "file_extension": ".py",
   "mimetype": "text/x-python",
   "name": "python",
   "nbconvert_exporter": "python",
   "pygments_lexer": "ipython3",
   "version": "3.8.18"
  },
  "toc": {
   "base_numbering": 2
  }
 },
 "nbformat": 4,
 "nbformat_minor": 5
}
