{
 "cells": [
  {
   "cell_type": "markdown",
   "id": "d499b8cf",
   "metadata": {},
   "source": [
    "# Week 4 Summary\n",
    "> NAME: $\\color{red}{\\text{    <Ryosuke Oguchi>     }}$\n",
    "> \n",
    "> PID: $\\color{red}{\\text{    <A16777050>     }}$\n",
    ">\n",
    "> \n",
    "---"
   ]
  },
  {
   "cell_type": "markdown",
   "id": "1bce0cf8",
   "metadata": {},
   "source": [
    "I certify that the following write-up is my own work, and have abided by the UCSD Academic Integrity Guidelines.\n",
    "\n",
    "- [x] Yes\n",
    "- [ ] No"
   ]
  },
  {
   "cell_type": "markdown",
   "id": "6a1c41b1",
   "metadata": {},
   "source": [
    "% # %load tex-macros\n",
    "<div hidden>\n",
    "\\newcommand{\\require}[1]{}\n",
    "\n",
    "$\\require{begingroup}\\require{newcommand}$\n",
    "$\\long\\def \\forcecommand #1{\\providecommand{#1}{}\\renewcommand{#1}}$\n",
    "$\\forcecommand{\\defeq}{\\stackrel{\\small\\bullet}{=}}$\n",
    "$\\forcecommand{\\ra}{\\rangle}$\n",
    "$\\forcecommand{\\la}{\\langle}$\n",
    "$\\forcecommand{\\pr}{{\\mathbb P}}$\n",
    "$\\forcecommand{\\qr}{{\\mathbb Q}}$\n",
    "$\\forcecommand{\\xv}{{\\boldsymbol{x}}}$\n",
    "$\\forcecommand{\\av}{{\\boldsymbol{a}}}$\n",
    "$\\forcecommand{\\bv}{{\\boldsymbol{b}}}$\n",
    "$\\forcecommand{\\cv}{{\\boldsymbol{c}}}$\n",
    "$\\forcecommand{\\dv}{{\\boldsymbol{d}}}$\n",
    "$\\forcecommand{\\ev}{{\\boldsymbol{e}}}$\n",
    "$\\forcecommand{\\fv}{{\\boldsymbol{f}}}$\n",
    "$\\forcecommand{\\gv}{{\\boldsymbol{g}}}$\n",
    "$\\forcecommand{\\hv}{{\\boldsymbol{h}}}$\n",
    "$\\forcecommand{\\nv}{{\\boldsymbol{n}}}$\n",
    "$\\forcecommand{\\sv}{{\\boldsymbol{s}}}$\n",
    "$\\forcecommand{\\tv}{{\\boldsymbol{t}}}$\n",
    "$\\forcecommand{\\uv}{{\\boldsymbol{u}}}$\n",
    "$\\forcecommand{\\vv}{{\\boldsymbol{v}}}$\n",
    "$\\forcecommand{\\wv}{{\\boldsymbol{w}}}$\n",
    "$\\forcecommand{\\zerov}{{\\mathbf{0}}}$\n",
    "$\\forcecommand{\\onev}{{\\mathbf{0}}}$\n",
    "$\\forcecommand{\\phiv}{{\\boldsymbol{\\phi}}}$\n",
    "$\\forcecommand{\\cc}{{\\check{C}}}$\n",
    "$\\forcecommand{\\xv}{{\\boldsymbol{x}}}$\n",
    "$\\forcecommand{\\Xv}{{\\boldsymbol{X}\\!}}$\n",
    "$\\forcecommand{\\yv}{{\\boldsymbol{y}}}$\n",
    "$\\forcecommand{\\Yv}{{\\boldsymbol{Y}}}$\n",
    "$\\forcecommand{\\zv}{{\\boldsymbol{z}}}$\n",
    "$\\forcecommand{\\Zv}{{\\boldsymbol{Z}}}$\n",
    "$\\forcecommand{\\Iv}{{\\boldsymbol{I}}}$\n",
    "$\\forcecommand{\\Jv}{{\\boldsymbol{J}}}$\n",
    "$\\forcecommand{\\Cv}{{\\boldsymbol{C}}}$\n",
    "$\\forcecommand{\\Ev}{{\\boldsymbol{E}}}$\n",
    "$\\forcecommand{\\Fv}{{\\boldsymbol{F}}}$\n",
    "$\\forcecommand{\\Gv}{{\\boldsymbol{G}}}$\n",
    "$\\forcecommand{\\Hv}{{\\boldsymbol{H}}}$\n",
    "$\\forcecommand{\\alphav}{{\\boldsymbol{\\alpha}}}$\n",
    "$\\forcecommand{\\epsilonv}{{\\boldsymbol{\\epsilon}}}$\n",
    "$\\forcecommand{\\betav}{{\\boldsymbol{\\beta}}}$\n",
    "$\\forcecommand{\\deltav}{{\\boldsymbol{\\delta}}}$\n",
    "$\\forcecommand{\\gammav}{{\\boldsymbol{\\gamma}}}$\n",
    "$\\forcecommand{\\etav}{{\\boldsymbol{\\eta}}}$\n",
    "$\\forcecommand{\\piv}{{\\boldsymbol{\\pi}}}$\n",
    "$\\forcecommand{\\thetav}{{\\boldsymbol{\\theta}}}$\n",
    "$\\forcecommand{\\tauv}{{\\boldsymbol{\\tau}}}$\n",
    "$\\forcecommand{\\muv}{{\\boldsymbol{\\mu}}}$\n",
    "$%$\n",
    "$\\forcecommand{\\sd}{\\text{SD}}$\n",
    "$\\forcecommand{\\se}{\\text{SE}}$\n",
    "$\\forcecommand{\\med}{\\text{median}}$\n",
    "$\\forcecommand{\\median}{\\text{median}}$\n",
    "$%$\n",
    "$\\forcecommand{\\supp}{\\text{supp}}$\n",
    "$\\forcecommand{\\E}{\\mathbb{E}}$\n",
    "$\\forcecommand{\\var}{\\text{Var}}$\n",
    "$\\forcecommand{\\Ber}{{\\text{Ber}}}$\n",
    "$\\forcecommand{\\Bin}{{\\text{Bin}}}$\n",
    "$\\forcecommand{\\Geo}{{\\text{Geo}}}$\n",
    "$\\forcecommand{\\Unif}{{\\text{Unif}}}$\n",
    "$\\forcecommand{\\Poi}{{\\text{Poi}}}$\n",
    "$\\forcecommand{\\Exp}{{\\text{Exp}}}$\n",
    "$\\forcecommand{\\Chisq}{{\\chi^2}}$\n",
    "$\\forcecommand{\\N}{\\mathbb{N}}$\n",
    "$\\forcecommand{\\iid}{{\\stackrel{iid}{\\sim}}}$\n",
    "$\\forcecommand{\\px}{p_{X}}$\n",
    "$\\forcecommand{\\fx}{f_{X}}$\n",
    "$\\forcecommand{\\Fx}{F_{X}}$\n",
    "$\\forcecommand{\\py}{p_{Y}}$\n",
    "$\\forcecommand{\\pxy}{p_{X,Y}}$\n",
    "$\\forcecommand{\\po}{{p_0}}$\n",
    "$\\forcecommand{\\pa}{{p_a}}$\n",
    "$\\forcecommand{\\Xbar}{\\overline{X}}$\n",
    "$\\forcecommand{\\Ybar}{\\overline{Y}}$\n",
    "$\\forcecommand{\\Zbar}{\\overline{Z}}$\n",
    "$\\forcecommand{\\nXbar}{n \\cdot \\overline{X}}$\n",
    "$\\forcecommand{\\nYbar}{n \\cdot \\overline{Y}}$\n",
    "$\\forcecommand{\\nZbar}{n \\cdot \\overline{Z}}$\n",
    "$\\forcecommand{\\Xn}{X_1, X_2, \\dots, X_n}$\n",
    "$\\forcecommand{\\Xm}{{X_1, X_2, \\dots, X_m}}$\n",
    "$\\forcecommand{\\Yn}{Y_1, Y_2, \\dots, Y_n}$\n",
    "$\\forcecommand{\\Ym}{{Y_1, Y_2, \\dots, Y_m}}$\n",
    "$\\forcecommand{\\sumXn}{X_1 + X_2 + \\dots + X_n}$\n",
    "$\\forcecommand{\\sumym}{Y_1 + Y_2 + \\dots + Y_m}$\n",
    "$\\forcecommand{\\la}{\\ell_\\alpha}$\n",
    "$\\forcecommand{\\ua}{u_\\alpha}$\n",
    "$\\forcecommand{\\at}{{\\alpha/2}}$\n",
    "$\\forcecommand{\\mux}{\\mu_{X}}$\n",
    "$\\forcecommand{\\muy}{\\mu_{Y}}$\n",
    "$\\forcecommand{\\sx}{\\sigma_{X}}$\n",
    "$\\forcecommand{\\sy}{\\sigma_{Y}}$\n",
    "$\\forcecommand{\\ci}{\\text{CI}}$\n",
    "$\\forcecommand{\\pvalue}{$p$-value}$\n",
    "$\\forcecommand{\\Ho}{H_{0}}$\n",
    "$\\forcecommand{\\Ha}{H_{a}}$\n",
    "\n",
    "\\vskip-\\parskip\n",
    "\\vskip-\\baselineskip\n",
    "</div>"
   ]
  },
  {
   "cell_type": "code",
   "execution_count": 1,
   "id": "bb0120db",
   "metadata": {},
   "outputs": [],
   "source": [
    "import numpy as np\n",
    "import scipy\n",
    "from scipy import stats as stats\n",
    "\n",
    "import statsmodels\n",
    "import statsmodels.api as sm\n",
    "import pandas as pd"
   ]
  },
  {
   "cell_type": "markdown",
   "id": "fbfec7ec",
   "metadata": {},
   "source": [
    "---"
   ]
  },
  {
   "cell_type": "markdown",
   "id": "15c6dc53",
   "metadata": {},
   "source": [
    "## Key Takeaways from Week 4"
   ]
  },
  {
   "cell_type": "markdown",
   "id": "cc992f31",
   "metadata": {},
   "source": [
    "\n",
    "#### Tuesday: \n",
    "\n",
    "Started the coverage of Goodness of fit in regards to multionomial distributions, independence of two categories, homogeneity, and the associated code to conduct hypothesis tests."
   ]
  },
  {
   "cell_type": "markdown",
   "id": "6d69de7b",
   "metadata": {},
   "source": [
    "#### Thursday\n",
    "\n",
    "... insert your takeaway here ...\n"
   ]
  },
  {
   "cell_type": "markdown",
   "id": "aaadbca8",
   "metadata": {},
   "source": [
    "---"
   ]
  },
  {
   "cell_type": "markdown",
   "id": "c2d78965",
   "metadata": {},
   "source": [
    "## Tue, Apr 23"
   ]
  },
  {
   "cell_type": "markdown",
   "id": "f443cd7c",
   "metadata": {},
   "source": [
    "### Goodness of fit test\n",
    "\n",
    "Suppose we have data of the following form:\n",
    "\n",
    "| [Category] | [Observed Frequency] | [Expected Frequency] |\n",
    "|:--------:|:-------------------:|:-------------------:|\n",
    "| 1 | $O_1$ | $E_1$  |\n",
    "| 2 | $O_2$ | $E_2$   |\n",
    "| ... | ... | ...  |\n",
    "| $k$ | $O_k$ | $E_k$  |\n"
   ]
  },
  {
   "cell_type": "markdown",
   "id": "5b31433a",
   "metadata": {},
   "source": [
    "<br></br>"
   ]
  },
  {
   "cell_type": "markdown",
   "id": "4cbce373",
   "metadata": {},
   "source": [
    "$$\n",
    "\\begin{aligned}\n",
    "\\hat{\\piv}_{X, i} &= \\sum_{j=1}^m \\hat{p}_{ij} \\quad \\text{for } i = 1, 2, \\dots, k \\\\\n",
    "\\hat{\\piv}_{Y, j} &= \\sum_{i=1}^k \\hat{p}_{ij} \\quad \\text{for } j = 1, 2, \\dots, m \\\\\n",
    "\\end{aligned}\n",
    "$$"
   ]
  },
  {
   "cell_type": "markdown",
   "id": "c20ae5b4",
   "metadata": {},
   "source": [
    "\n",
    "\n",
    "\n",
    "The goodness of fit test if the observed categories of frequencies of the categories are consistent with some expected frequencies\n",
    "- Use a multinominal distribution\n"
   ]
  },
  {
   "cell_type": "markdown",
   "id": "3464f1ba",
   "metadata": {},
   "source": [
    "Multinomial Distribution\n",
    "A random Vector:\n",
    "$ X = (X_1, X_2, ... , X_k)\\\\$ \n",
    "it has parameters \n",
    "$n \\text{ and } \\pi = (p_1, p_2,...,p_k) \\\\$\n",
    "$X \\sim \\text{Multinomial}(n, \\pi)$\n"
   ]
  },
  {
   "cell_type": "markdown",
   "id": "9ce05d56",
   "metadata": {},
   "source": [
    "<br></br>"
   ]
  },
  {
   "cell_type": "code",
   "execution_count": 3,
   "id": "f8eead16",
   "metadata": {},
   "outputs": [
    {
     "data": {
      "text/plain": [
       "array([[0, 3, 7],\n",
       "       [2, 3, 5],\n",
       "       [0, 6, 4],\n",
       "       [1, 3, 6],\n",
       "       [1, 1, 8]])"
      ]
     },
     "execution_count": 3,
     "metadata": {},
     "output_type": "execute_result"
    }
   ],
   "source": [
    "X = stats.multinomial(10, [0.1, 0.3, 0.6])\n",
    "X.rvs(5)\n",
    "X.pmf([2, 2, 6])\n",
    "X.rvs(20).sum(axis=1)"
   ]
  },
  {
   "cell_type": "markdown",
   "id": "e22e5b2d",
   "metadata": {},
   "source": [
    "When $n=1$, the multinomial distribution is the categorical distribution\n",
    "- it is a generalization of the binomial distribution for more than two categories\n",
    "- For $k=2$, and $\\pi = (p, 1-p)$"
   ]
  },
  {
   "cell_type": "markdown",
   "id": "59a508e7",
   "metadata": {},
   "source": [
    "| Anatomy of the hypothesis test |  Answer  |\n",
    "|:------------------------------:|:--------:|\n",
    "| Assumption                     | Multinominal $(n,p_1,...,p_k)$ |\n",
    "| Population parameter           | $\\theta = (p_1,p_2,...p_k)$ |\n",
    "| Sample statistic               | $\\hat\\theta = (\\hat p_1,\\hat p_2,..., \\hat p_k)$|\n",
    "| Test statistic                 | $n \\times \\sum_{i=1}^k \\frac{(\\hat p _i - p_i)^2}{p_i} \\sim \\chi^2_{k-1}$ |\n",
    "| Null hypothesis                | Observered proportion are consistent with expected proportions |\n",
    "| Alternate hypothesis           | Observered proportion are not consistent with expected proportions. |\n",
    "| Rejection region shape         | $(x_a, \\infty) = (x_{k-1,1-\\alpha/2}^2, \\infty)$ where $x_a = \\chi_{k-1, 1 - \\alpha/2}$|\n"
   ]
  },
  {
   "cell_type": "markdown",
   "id": "f726ea8f",
   "metadata": {},
   "source": [
    "<br></br>"
   ]
  },
  {
   "cell_type": "markdown",
   "id": "421f420a",
   "metadata": {},
   "source": [
    "An example application is described here:\n"
   ]
  },
  {
   "cell_type": "code",
   "execution_count": 2,
   "id": "72070dd9",
   "metadata": {},
   "outputs": [
    {
     "data": {
      "text/html": [
       "<div>\n",
       "<style scoped>\n",
       "    .dataframe tbody tr th:only-of-type {\n",
       "        vertical-align: middle;\n",
       "    }\n",
       "\n",
       "    .dataframe tbody tr th {\n",
       "        vertical-align: top;\n",
       "    }\n",
       "\n",
       "    .dataframe thead th {\n",
       "        text-align: right;\n",
       "    }\n",
       "</style>\n",
       "<table border=\"1\" class=\"dataframe\">\n",
       "  <thead>\n",
       "    <tr style=\"text-align: right;\">\n",
       "      <th></th>\n",
       "      <th>Year</th>\n",
       "      <th>Sex</th>\n",
       "      <th>Vote</th>\n",
       "      <th>Paper</th>\n",
       "      <th>Edit</th>\n",
       "      <th>TV</th>\n",
       "      <th>Ethics</th>\n",
       "      <th>Inform</th>\n",
       "      <th>Participate</th>\n",
       "    </tr>\n",
       "    <tr>\n",
       "      <th>rownames</th>\n",
       "      <th></th>\n",
       "      <th></th>\n",
       "      <th></th>\n",
       "      <th></th>\n",
       "      <th></th>\n",
       "      <th></th>\n",
       "      <th></th>\n",
       "      <th></th>\n",
       "      <th></th>\n",
       "    </tr>\n",
       "  </thead>\n",
       "  <tbody>\n",
       "    <tr>\n",
       "      <th>1</th>\n",
       "      <td>1</td>\n",
       "      <td>1</td>\n",
       "      <td>1</td>\n",
       "      <td>3</td>\n",
       "      <td>1</td>\n",
       "      <td>0</td>\n",
       "      <td>2</td>\n",
       "      <td>2</td>\n",
       "      <td>0.0</td>\n",
       "    </tr>\n",
       "    <tr>\n",
       "      <th>2</th>\n",
       "      <td>4</td>\n",
       "      <td>1</td>\n",
       "      <td>3</td>\n",
       "      <td>1</td>\n",
       "      <td>1</td>\n",
       "      <td>3</td>\n",
       "      <td>2</td>\n",
       "      <td>2</td>\n",
       "      <td>1.0</td>\n",
       "    </tr>\n",
       "    <tr>\n",
       "      <th>3</th>\n",
       "      <td>2</td>\n",
       "      <td>0</td>\n",
       "      <td>3</td>\n",
       "      <td>4</td>\n",
       "      <td>1</td>\n",
       "      <td>3</td>\n",
       "      <td>2</td>\n",
       "      <td>3</td>\n",
       "      <td>1.0</td>\n",
       "    </tr>\n",
       "    <tr>\n",
       "      <th>4</th>\n",
       "      <td>3</td>\n",
       "      <td>1</td>\n",
       "      <td>3</td>\n",
       "      <td>3</td>\n",
       "      <td>1</td>\n",
       "      <td>0</td>\n",
       "      <td>3</td>\n",
       "      <td>2</td>\n",
       "      <td>1.0</td>\n",
       "    </tr>\n",
       "    <tr>\n",
       "      <th>5</th>\n",
       "      <td>1</td>\n",
       "      <td>1</td>\n",
       "      <td>3</td>\n",
       "      <td>2</td>\n",
       "      <td>0</td>\n",
       "      <td>0</td>\n",
       "      <td>2</td>\n",
       "      <td>3</td>\n",
       "      <td>1.0</td>\n",
       "    </tr>\n",
       "  </tbody>\n",
       "</table>\n",
       "</div>"
      ],
      "text/plain": [
       "          Year  Sex  Vote  Paper  Edit  TV  Ethics  Inform  Participate\n",
       "rownames                                                               \n",
       "1            1    1     1      3     1   0       2       2          0.0\n",
       "2            4    1     3      1     1   3       2       2          1.0\n",
       "3            2    0     3      4     1   3       2       3          1.0\n",
       "4            3    1     3      3     1   0       3       2          1.0\n",
       "5            1    1     3      2     0   0       2       3          1.0"
      ]
     },
     "execution_count": 2,
     "metadata": {},
     "output_type": "execute_result"
    }
   ],
   "source": [
    "url = 'https://vincentarelbundock.github.io/Rdatasets/csv/Stat2Data/Political.csv'\n",
    "df = pd.read_csv(url, index_col=0)\n",
    "df.head(5)"
   ]
  },
  {
   "cell_type": "markdown",
   "id": "6fd55836",
   "metadata": {},
   "source": [
    "Here is the code to perform the test:"
   ]
  },
  {
   "cell_type": "code",
   "execution_count": 5,
   "id": "d4470079",
   "metadata": {},
   "outputs": [],
   "source": [
    "def decision(pvalue, alpha):\n",
    "    if pvalue < alpha:\n",
    "        print(f'reject H0: pvalue={pvalue} < {alpha}')  \n",
    "    else: \n",
    "        print(f'fail to reject H0: pvalue={pvalue} ≥ {alpha}')"
   ]
  },
  {
   "cell_type": "code",
   "execution_count": 3,
   "id": "aea4e13f",
   "metadata": {},
   "outputs": [
    {
     "data": {
      "text/plain": [
       "20.11864406779661"
      ]
     },
     "execution_count": 3,
     "metadata": {},
     "output_type": "execute_result"
    }
   ],
   "source": [
    "## Chi-squared goodness of fit statistic\n",
    "n = df.shape[0]\n",
    "k = df['Ethics'].nunique()\n",
    "\n",
    "p_hat = df['Ethics'].value_counts() / n\n",
    "p = np.repeat(1/4, 4)\n",
    "# p = (0.5, 0.5, 0.0, 0.0)\n",
    "\n",
    "t_hat = n * np.sum([\n",
    "    (x[0] - x[1])**2 / x[1] for x in zip(p_hat, p)\n",
    "])\n",
    "t_hat"
   ]
  },
  {
   "cell_type": "code",
   "execution_count": 6,
   "id": "8dd36436",
   "metadata": {},
   "outputs": [
    {
     "name": "stdout",
     "output_type": "stream",
     "text": [
      "reject H0: pvalue=0.00016039817465407502 < 0.01\n"
     ]
    }
   ],
   "source": [
    "dof = k-1\n",
    "T = stats.chi2(dof)\n",
    "p_value = 1 - T.cdf(t_hat)\n",
    "\n",
    "alpha = 0.01\n",
    "decision(p_value, alpha)"
   ]
  },
  {
   "cell_type": "markdown",
   "id": "c27f5554",
   "metadata": {},
   "source": [
    "<br></br>"
   ]
  },
  {
   "cell_type": "markdown",
   "id": "59464ccd",
   "metadata": {},
   "source": [
    "### Test for independence\n",
    "\n",
    "Suppose we have data of the following form:\n",
    "\n",
    "| [\\] | [Y cat 1] | [Y cat 2] |\n",
    "|:--------:|:-------------------:|:-------------------:|\n",
    "| X Cat 1 | $O_11$ | $O_12$  |\n",
    "| X Cat 2 | $O_21$ | $O_22$   |\n",
    "| ... | ... | ...  |\n",
    "| X Cat k | $O_k1$ | $O_k1$  |"
   ]
  },
  {
   "cell_type": "markdown",
   "id": "dd37ebe2",
   "metadata": {},
   "source": [
    "$n = O_{11} + O_{1m} + O_{21} + ... + O_{km}$ i-th category of x, j-th category of Y"
   ]
  },
  {
   "cell_type": "markdown",
   "id": "ba35fdb7",
   "metadata": {},
   "source": [
    "<br></br>"
   ]
  },
  {
   "cell_type": "code",
   "execution_count": 8,
   "id": "d16b4282",
   "metadata": {},
   "outputs": [
    {
     "data": {
      "text/html": [
       "<div>\n",
       "<style scoped>\n",
       "    .dataframe tbody tr th:only-of-type {\n",
       "        vertical-align: middle;\n",
       "    }\n",
       "\n",
       "    .dataframe tbody tr th {\n",
       "        vertical-align: top;\n",
       "    }\n",
       "\n",
       "    .dataframe thead th {\n",
       "        text-align: right;\n",
       "    }\n",
       "</style>\n",
       "<table border=\"1\" class=\"dataframe\">\n",
       "  <thead>\n",
       "    <tr style=\"text-align: right;\">\n",
       "      <th></th>\n",
       "      <th>Democrat</th>\n",
       "      <th>Republican</th>\n",
       "    </tr>\n",
       "  </thead>\n",
       "  <tbody>\n",
       "    <tr>\n",
       "      <th>Favor</th>\n",
       "      <td>138</td>\n",
       "      <td>64</td>\n",
       "    </tr>\n",
       "    <tr>\n",
       "      <th>Indifferent</th>\n",
       "      <td>83</td>\n",
       "      <td>67</td>\n",
       "    </tr>\n",
       "    <tr>\n",
       "      <th>Opposed</th>\n",
       "      <td>64</td>\n",
       "      <td>84</td>\n",
       "    </tr>\n",
       "  </tbody>\n",
       "</table>\n",
       "</div>"
      ],
      "text/plain": [
       "             Democrat  Republican\n",
       "Favor             138          64\n",
       "Indifferent        83          67\n",
       "Opposed            64          84"
      ]
     },
     "execution_count": 8,
     "metadata": {},
     "output_type": "execute_result"
    }
   ],
   "source": [
    "df = pd.read_csv('../data/political_affiliation.csv').T\n",
    "df.columns = ['Democrat', 'Republican']\n",
    "df"
   ]
  },
  {
   "cell_type": "code",
   "execution_count": 9,
   "id": "b9763736",
   "metadata": {},
   "outputs": [
    {
     "data": {
      "text/html": [
       "<div>\n",
       "<style scoped>\n",
       "    .dataframe tbody tr th:only-of-type {\n",
       "        vertical-align: middle;\n",
       "    }\n",
       "\n",
       "    .dataframe tbody tr th {\n",
       "        vertical-align: top;\n",
       "    }\n",
       "\n",
       "    .dataframe thead th {\n",
       "        text-align: right;\n",
       "    }\n",
       "</style>\n",
       "<table border=\"1\" class=\"dataframe\">\n",
       "  <thead>\n",
       "    <tr style=\"text-align: right;\">\n",
       "      <th></th>\n",
       "      <th>Democrat</th>\n",
       "      <th>Republican</th>\n",
       "    </tr>\n",
       "  </thead>\n",
       "  <tbody>\n",
       "    <tr>\n",
       "      <th>Favor</th>\n",
       "      <td>0.484211</td>\n",
       "      <td>0.297674</td>\n",
       "    </tr>\n",
       "    <tr>\n",
       "      <th>Indifferent</th>\n",
       "      <td>0.291228</td>\n",
       "      <td>0.311628</td>\n",
       "    </tr>\n",
       "    <tr>\n",
       "      <th>Opposed</th>\n",
       "      <td>0.224561</td>\n",
       "      <td>0.390698</td>\n",
       "    </tr>\n",
       "  </tbody>\n",
       "</table>\n",
       "</div>"
      ],
      "text/plain": [
       "             Democrat  Republican\n",
       "Favor        0.484211    0.297674\n",
       "Indifferent  0.291228    0.311628\n",
       "Opposed      0.224561    0.390698"
      ]
     },
     "execution_count": 9,
     "metadata": {},
     "output_type": "execute_result"
    }
   ],
   "source": [
    "df / df.values.sum(axis=0)"
   ]
  },
  {
   "cell_type": "markdown",
   "id": "ab08d9a1",
   "metadata": {},
   "source": [
    "\n",
    "\n",
    "\n",
    "The test for independence to see if the observered frequeneices of the cateogires are independent of each other.\n",
    "\n"
   ]
  },
  {
   "cell_type": "markdown",
   "id": "20b3d228",
   "metadata": {},
   "source": [
    "<br></br>"
   ]
  },
  {
   "cell_type": "markdown",
   "id": "37671a67",
   "metadata": {},
   "source": [
    "| Anatomy of the hypothesis test |  Answer  |\n",
    "|:------------------------------:|:--------:|\n",
    "| Assumption                     | $$(X,Y)\\sim \\text{Multinomial}(n,p_{11}, p_{12}, ...p_){km} $$|\n",
    "| Population parameter           | $\\theta = (p_{11}, p_{12}, ...  p_{km}, \\pi_X, \\pi_Y)$ |\n",
    "| Sample statistic               | $\\hat\\theta = (\\hat p_{11}, \\hat p_{12}, ..., \\hat  p_{km}, \\hat \\pi_X, \\hat \\pi_Y)$ |\n",
    "| Test statistic                 | $n \\times \\sum_{i=1}^k \\sum_{j=1}^m \\frac{(\\hat p_{ij} - \\hat\\pi_{X,i} \\cdot \\hat\\pi_{Y,j})^2}{\\hat\\pi_{X,j} \\cdot \\hat\\pi{Y,j}} \\sim \\chi^2_{(k-1) \\times (m-1)} $ |\n",
    "| Null hypothesis                | $p_{ij} = \\pi_{X,i} \\times \\pi_{Y,j}$|\n",
    "| Alternate hypothesis           | $p_{ij} \\ne \\pi_{X,i} \\times \\pi_{Y,j}$ |\n",
    "| Rejection region shape         | $(-\\infty, -x_\\alpha, ) (x_\\alpha, \\infty)$ |\n",
    "\n",
    "where $...$"
   ]
  },
  {
   "cell_type": "markdown",
   "id": "f3deb6dd",
   "metadata": {},
   "source": [
    "<br></br>"
   ]
  },
  {
   "cell_type": "markdown",
   "id": "9e06e6e2",
   "metadata": {},
   "source": [
    "An example application is described here:\n",
    "\n",
    "##### Question: What is an appropriate model for the expected frequencies?\n",
    "\n",
    "<br></br><br></br><br></br><br></br>\n",
    "\n",
    "$$\n",
    "\\begin{aligned}\n",
    "X &\\sim \\text{Categorical}(\\piv_X)\\\\\n",
    "Y &\\sim \\text{Categorical}(\\piv_Y)\n",
    "\\end{aligned}\n",
    "$$ \n",
    "\n",
    "and the joint distribution of $X$ and $Y$ is the product of the marginal distributions.\n",
    "\n",
    "\n",
    "The joint distribution of $X$ and $Y$ is given by\n",
    "\n",
    "$$\n",
    "\\begin{aligned}\n",
    "\\pr(X = i, Y = j) &= p_{ij} \\quad \\quad \\text{for } i = 1, 2, \\dots, k \\text{ and } j = 1, 2, \\dots, m \\\\\n",
    "\\end{aligned}\n",
    "$$\n",
    "\n",
    "and the parameters satisfy the following conditions:\n",
    "\n",
    "$$\n",
    "\\begin{aligned}\n",
    "0 \\le p_{ij} &\\le 1 \\quad \\quad \\text{for } i = 1, 2, \\dots, k \\text{ and } j = 1, 2, \\dots, m \\\\\n",
    "\\sum_{i=1}^k \\sum_{j=1}^m p_{ij} &= 1\n",
    "\\end{aligned}\n",
    "$$\n",
    "\n",
    "\n",
    "<br></br><br></br><br></br><br></br>\n",
    "\n",
    "\n",
    "> #### If $X$ and $Y$ are independent:\n",
    "\n",
    "If $X$ and $Y$ are independent, then the joint distribution of $X$ and $Y$ is the product of the marginal distributions, i.e., \n",
    "\n",
    "$$\n",
    "\\begin{aligned}\n",
    "\\pr(X = i, Y = j) &= \\pr(X = i) \\times \\pr(Y = j)\\\\ &= \\piv_{X, i} \\times \\piv_{Y, j}\\quad \\text{i.e.,}\\\\ \\\\\n",
    "\\quad p_{ij} &= \\piv_{X, i} \\times \\piv_{Y, j}\n",
    "\\end{aligned}\n",
    "$$\n",
    "\n",
    "then  effectively you're saying that $k \\times m$ probability parameters can be faithfully encoded in just $k+m$ different probability parameters\n",
    "\n",
    "where $\\piv_{X, i}$ and $\\piv_{Y, j}$ are the marginal probabilities of $X$ and $Y$, respectively.\n",
    "\n",
    "<br></br><br></br><br></br><br></br>\n",
    "\n",
    "\n",
    "> #### If $X$ and $Y$ are not independent:\n",
    "\n",
    "If $X$ and $Y$ are not independent, then the joint distribution of $X$ and $Y$ is not the product of the marginal distributions, i.e.,\n",
    "\n",
    "$$\n",
    "\\begin{aligned}\n",
    "p_{ij} &\\neq \\piv_{X, i} \\times \\piv_{Y, j}\n",
    "\\end{aligned}\n",
    "$$"
   ]
  },
  {
   "cell_type": "markdown",
   "id": "aa0715ea",
   "metadata": {},
   "source": [
    "Here is the code to perform the test:"
   ]
  },
  {
   "cell_type": "code",
   "execution_count": 12,
   "id": "d3fbd75b",
   "metadata": {},
   "outputs": [
    {
     "data": {
      "text/html": [
       "<div>\n",
       "<style scoped>\n",
       "    .dataframe tbody tr th:only-of-type {\n",
       "        vertical-align: middle;\n",
       "    }\n",
       "\n",
       "    .dataframe tbody tr th {\n",
       "        vertical-align: top;\n",
       "    }\n",
       "\n",
       "    .dataframe thead th {\n",
       "        text-align: right;\n",
       "    }\n",
       "</style>\n",
       "<table border=\"1\" class=\"dataframe\">\n",
       "  <thead>\n",
       "    <tr style=\"text-align: right;\">\n",
       "      <th></th>\n",
       "      <th>Democrat</th>\n",
       "      <th>Republican</th>\n",
       "    </tr>\n",
       "  </thead>\n",
       "  <tbody>\n",
       "    <tr>\n",
       "      <th>Favor</th>\n",
       "      <td>138</td>\n",
       "      <td>64</td>\n",
       "    </tr>\n",
       "    <tr>\n",
       "      <th>Indifferent</th>\n",
       "      <td>83</td>\n",
       "      <td>67</td>\n",
       "    </tr>\n",
       "    <tr>\n",
       "      <th>Opposed</th>\n",
       "      <td>64</td>\n",
       "      <td>84</td>\n",
       "    </tr>\n",
       "  </tbody>\n",
       "</table>\n",
       "</div>"
      ],
      "text/plain": [
       "             Democrat  Republican\n",
       "Favor             138          64\n",
       "Indifferent        83          67\n",
       "Opposed            64          84"
      ]
     },
     "execution_count": 12,
     "metadata": {},
     "output_type": "execute_result"
    }
   ],
   "source": [
    "df = pd.read_csv(\"../data/political_affiliation.csv\").T\n",
    "df.columns = [\"Democrat\", \"Republican\"]\n",
    "df"
   ]
  },
  {
   "cell_type": "markdown",
   "id": "eab0f1bd",
   "metadata": {},
   "source": [
    "<br></br>"
   ]
  },
  {
   "cell_type": "code",
   "execution_count": 13,
   "id": "70815218",
   "metadata": {},
   "outputs": [
    {
     "name": "stdout",
     "output_type": "stream",
     "text": [
      "pi_X = \n",
      "Democrat      0.57\n",
      "Republican    0.43\n",
      "dtype: float64\n",
      "pi_Y = \n",
      "Favor          0.404\n",
      "Indifferent    0.300\n",
      "Opposed        0.296\n",
      "dtype: float64\n"
     ]
    },
    {
     "data": {
      "text/html": [
       "<div>\n",
       "<style scoped>\n",
       "    .dataframe tbody tr th:only-of-type {\n",
       "        vertical-align: middle;\n",
       "    }\n",
       "\n",
       "    .dataframe tbody tr th {\n",
       "        vertical-align: top;\n",
       "    }\n",
       "\n",
       "    .dataframe thead th {\n",
       "        text-align: right;\n",
       "    }\n",
       "</style>\n",
       "<table border=\"1\" class=\"dataframe\">\n",
       "  <thead>\n",
       "    <tr style=\"text-align: right;\">\n",
       "      <th></th>\n",
       "      <th>Democrat</th>\n",
       "      <th>Republican</th>\n",
       "    </tr>\n",
       "  </thead>\n",
       "  <tbody>\n",
       "    <tr>\n",
       "      <th>Favor</th>\n",
       "      <td>0.276</td>\n",
       "      <td>0.128</td>\n",
       "    </tr>\n",
       "    <tr>\n",
       "      <th>Indifferent</th>\n",
       "      <td>0.166</td>\n",
       "      <td>0.134</td>\n",
       "    </tr>\n",
       "    <tr>\n",
       "      <th>Opposed</th>\n",
       "      <td>0.128</td>\n",
       "      <td>0.168</td>\n",
       "    </tr>\n",
       "  </tbody>\n",
       "</table>\n",
       "</div>"
      ],
      "text/plain": [
       "             Democrat  Republican\n",
       "Favor           0.276       0.128\n",
       "Indifferent     0.166       0.134\n",
       "Opposed         0.128       0.168"
      ]
     },
     "execution_count": 13,
     "metadata": {},
     "output_type": "execute_result"
    }
   ],
   "source": [
    "n, k, m = df.values.sum(), *df.shape\n",
    "\n",
    "p_hat = df / n\n",
    "pi_X = p_hat.sum(axis=0)\n",
    "pi_Y = p_hat.sum(axis=1)\n",
    "\n",
    "print(f'pi_X = \\n{pi_X}')\n",
    "print(f'pi_Y = \\n{pi_Y}')\n",
    "\n",
    "p_hat"
   ]
  },
  {
   "cell_type": "code",
   "execution_count": 14,
   "id": "93efc9f0",
   "metadata": {},
   "outputs": [
    {
     "data": {
      "text/plain": [
       "22.15246864591848"
      ]
     },
     "execution_count": 14,
     "metadata": {},
     "output_type": "execute_result"
    }
   ],
   "source": [
    "t_hat = n * np.sum([[(p_hat.values[i, j] - pi_X[j] * pi_Y[i]) ** 2 / (pi_X[j] * pi_Y[i]) for j in range(m)] for i in range(k)])\n",
    "t_hat"
   ]
  },
  {
   "cell_type": "code",
   "execution_count": 15,
   "id": "e9c71a78",
   "metadata": {},
   "outputs": [
    {
     "name": "stdout",
     "output_type": "stream",
     "text": [
      "reject H0: pvalue=1.547578021399154e-05 < 0.01\n"
     ]
    }
   ],
   "source": [
    "dof = (k-1) * (m-1)\n",
    "T = stats.chi2(dof)\n",
    "p_value = 1 - T.cdf(t_hat)\n",
    "\n",
    "alpha = 0.01\n",
    "decision(p_value, alpha)"
   ]
  },
  {
   "cell_type": "code",
   "execution_count": 16,
   "id": "bd423f2e",
   "metadata": {},
   "outputs": [
    {
     "name": "stdout",
     "output_type": "stream",
     "text": [
      "T_stat = 22.152468645918482, pvalue = 1.547578021398957e-05\n"
     ]
    }
   ],
   "source": [
    "T_stat, pvalue, _, _ = stats.chi2_contingency(df.values.T)\n",
    "print(f'T_stat = {T_stat}, pvalue = {pvalue}')"
   ]
  },
  {
   "cell_type": "code",
   "execution_count": 17,
   "id": "ea246628",
   "metadata": {},
   "outputs": [
    {
     "data": {
      "text/plain": [
       "Chi2ContingencyResult(statistic=22.152468645918482, pvalue=1.547578021398957e-05, dof=2, expected_freq=array([[115.14,  85.5 ,  84.36],\n",
       "       [ 86.86,  64.5 ,  63.64]]))"
      ]
     },
     "execution_count": 17,
     "metadata": {},
     "output_type": "execute_result"
    }
   ],
   "source": [
    "stats.chi2_contingency(df.values.T)"
   ]
  },
  {
   "cell_type": "markdown",
   "id": "5742f035",
   "metadata": {},
   "source": [
    "### Test for homogeneity\n",
    "\n",
    "\n",
    "Suppose we have data of the following form:\n",
    "\n",
    "| \\ | [Cat 1] | [Cat 2] | Total |\n",
    "|:--------:|:-------------------:|:-------------------:| :--------:|\n",
    "| $X_1$ | $O_{11}$ | $O_{12}$  | $n_1$ |\n",
    "| $X_2$ | $O_{21}$ | $O_{22}$   | $n_2$ |\n",
    "| ... | ... | ...  | ... | \n",
    "| Total | $T_1$ | $T_2$  | n |"
   ]
  },
  {
   "cell_type": "markdown",
   "id": "4feecdfa",
   "metadata": {},
   "source": [
    "<br></br>"
   ]
  },
  {
   "cell_type": "markdown",
   "id": "4aa60015",
   "metadata": {},
   "source": [
    "\n",
    "\n",
    "\n",
    "The test for homogeneity to see if the observered frequnecies of the categories are consistent with each other\n",
    "\n",
    "There are r subsets of the populations that are categorical:\n",
    "$$\n",
    "\\text{Categorical} (\\pi_1), \\\\\n",
    "\\text{Categorical} (\\pi_2), \\\\\n",
    "... \\\\\n",
    "\\text{Categorical} (\\pi_{r}), \\\\\n",
    "$$\n",
    "\n"
   ]
  },
  {
   "cell_type": "markdown",
   "id": "718d0ac2",
   "metadata": {},
   "source": [
    "<br></br>"
   ]
  },
  {
   "cell_type": "markdown",
   "id": "4e917110",
   "metadata": {},
   "source": [
    "Take observered frequencies are divided by the column totals"
   ]
  },
  {
   "cell_type": "markdown",
   "id": "c612f00e",
   "metadata": {},
   "source": [
    "| Anatomy of the hypothesis test |  Answer  |\n",
    "|:------------------------------:|:--------:|\n",
    "| Assumption                     | $$\\text{Categorical} (\\pi_1), \\dots , \\text{Categorical} (\\pi_{r})$$ |\n",
    "| Population parameter           | $\\theta = (p_{11}, p_{12}, \\dots, p_{1k}, \\quad \\quad p_{r1}, p_{r2}, \\dots, p_{rk}, \\quad \\quad p_1, p_2, \\dots, p_k)$ |\n",
    "| Sample statistic               | $T = \\sum_{i=1}^r n_i \\times \\Bigg(\\sum_{j=1}^k \\frac{(\\hat p_{ij} - \\hat p_{j})^2}{\\hat p_{j}}\\Bigg) \\sim \\Chisq_{(r-1) \\times (k-1)}$ |\n",
    "| Test statistic                 |$ T = \\sum_{i=1}^r n_i \\times (\\sum_{j=1}^k (\\hat p)) $|\n",
    "| Null hypothesis                | Observered proportions are consistent with each other |\n",
    "| Alternate hypothesis           | The observered proportions are not consistent with each other (for at least one subgroup) |\n",
    "| Rejection region shape         | $(x_\\alpha, \\infty)$ |\n",
    "\n",
    "where \n",
    "\n",
    "Here $O_{ij}$ is the observed frequency of the $j$ th category of sub-population $i$\n",
    "\n",
    "$$\n",
    "\\begin{aligned}\n",
    "n_1 &= O_{11} + O_{12} + \\dots + O_{1k} \\\\\n",
    "n_2 &= O_{21} + O_{22} + \\dots + O_{2k}\\\\\n",
    "n_r &= O_{r1} + O_{r2} + \\dots + O_{rk}\\\\\n",
    "T_i &= O_{1i} + O_{2i} + \\dots + O_{ri} \\quad \\text{for } i = 1, 2, \\dots, k \\\\\n",
    "n &= n_1 + n_2 + \\dots + n_r\n",
    "\\end{aligned}\n",
    "$$"
   ]
  },
  {
   "cell_type": "markdown",
   "id": "a2940191",
   "metadata": {},
   "source": [
    "<br></br>"
   ]
  },
  {
   "cell_type": "markdown",
   "id": "46431d61",
   "metadata": {},
   "source": [
    "An example application is described here:\n",
    "\n"
   ]
  },
  {
   "cell_type": "code",
   "execution_count": 19,
   "id": "a3a22560",
   "metadata": {},
   "outputs": [
    {
     "data": {
      "text/html": [
       "<div>\n",
       "<style scoped>\n",
       "    .dataframe tbody tr th:only-of-type {\n",
       "        vertical-align: middle;\n",
       "    }\n",
       "\n",
       "    .dataframe tbody tr th {\n",
       "        vertical-align: top;\n",
       "    }\n",
       "\n",
       "    .dataframe thead th {\n",
       "        text-align: right;\n",
       "    }\n",
       "</style>\n",
       "<table border=\"1\" class=\"dataframe\">\n",
       "  <thead>\n",
       "    <tr style=\"text-align: right;\">\n",
       "      <th></th>\n",
       "      <th>age</th>\n",
       "      <th>workclass</th>\n",
       "      <th>fnlwgt</th>\n",
       "      <th>education</th>\n",
       "      <th>education-num</th>\n",
       "      <th>marital-status</th>\n",
       "      <th>occupation</th>\n",
       "      <th>relationship</th>\n",
       "      <th>race</th>\n",
       "      <th>sex</th>\n",
       "      <th>capital-gain</th>\n",
       "      <th>capital-loss</th>\n",
       "      <th>hours-per-week</th>\n",
       "      <th>native-country</th>\n",
       "    </tr>\n",
       "  </thead>\n",
       "  <tbody>\n",
       "    <tr>\n",
       "      <th>0</th>\n",
       "      <td>39</td>\n",
       "      <td>State-gov</td>\n",
       "      <td>77516</td>\n",
       "      <td>Bachelors</td>\n",
       "      <td>13</td>\n",
       "      <td>Never-married</td>\n",
       "      <td>Adm-clerical</td>\n",
       "      <td>Not-in-family</td>\n",
       "      <td>White</td>\n",
       "      <td>Male</td>\n",
       "      <td>2174</td>\n",
       "      <td>0</td>\n",
       "      <td>40</td>\n",
       "      <td>United-States</td>\n",
       "    </tr>\n",
       "    <tr>\n",
       "      <th>1</th>\n",
       "      <td>50</td>\n",
       "      <td>Self-emp-not-inc</td>\n",
       "      <td>83311</td>\n",
       "      <td>Bachelors</td>\n",
       "      <td>13</td>\n",
       "      <td>Married-civ-spouse</td>\n",
       "      <td>Exec-managerial</td>\n",
       "      <td>Husband</td>\n",
       "      <td>White</td>\n",
       "      <td>Male</td>\n",
       "      <td>0</td>\n",
       "      <td>0</td>\n",
       "      <td>13</td>\n",
       "      <td>United-States</td>\n",
       "    </tr>\n",
       "    <tr>\n",
       "      <th>2</th>\n",
       "      <td>38</td>\n",
       "      <td>Private</td>\n",
       "      <td>215646</td>\n",
       "      <td>HS-grad</td>\n",
       "      <td>9</td>\n",
       "      <td>Divorced</td>\n",
       "      <td>Handlers-cleaners</td>\n",
       "      <td>Not-in-family</td>\n",
       "      <td>White</td>\n",
       "      <td>Male</td>\n",
       "      <td>0</td>\n",
       "      <td>0</td>\n",
       "      <td>40</td>\n",
       "      <td>United-States</td>\n",
       "    </tr>\n",
       "    <tr>\n",
       "      <th>3</th>\n",
       "      <td>53</td>\n",
       "      <td>Private</td>\n",
       "      <td>234721</td>\n",
       "      <td>11th</td>\n",
       "      <td>7</td>\n",
       "      <td>Married-civ-spouse</td>\n",
       "      <td>Handlers-cleaners</td>\n",
       "      <td>Husband</td>\n",
       "      <td>Black</td>\n",
       "      <td>Male</td>\n",
       "      <td>0</td>\n",
       "      <td>0</td>\n",
       "      <td>40</td>\n",
       "      <td>United-States</td>\n",
       "    </tr>\n",
       "    <tr>\n",
       "      <th>4</th>\n",
       "      <td>28</td>\n",
       "      <td>Private</td>\n",
       "      <td>338409</td>\n",
       "      <td>Bachelors</td>\n",
       "      <td>13</td>\n",
       "      <td>Married-civ-spouse</td>\n",
       "      <td>Prof-specialty</td>\n",
       "      <td>Wife</td>\n",
       "      <td>Black</td>\n",
       "      <td>Female</td>\n",
       "      <td>0</td>\n",
       "      <td>0</td>\n",
       "      <td>40</td>\n",
       "      <td>Cuba</td>\n",
       "    </tr>\n",
       "  </tbody>\n",
       "</table>\n",
       "</div>"
      ],
      "text/plain": [
       "   age         workclass  fnlwgt  education  education-num  \\\n",
       "0   39         State-gov   77516  Bachelors             13   \n",
       "1   50  Self-emp-not-inc   83311  Bachelors             13   \n",
       "2   38           Private  215646    HS-grad              9   \n",
       "3   53           Private  234721       11th              7   \n",
       "4   28           Private  338409  Bachelors             13   \n",
       "\n",
       "       marital-status         occupation   relationship   race     sex  \\\n",
       "0       Never-married       Adm-clerical  Not-in-family  White    Male   \n",
       "1  Married-civ-spouse    Exec-managerial        Husband  White    Male   \n",
       "2            Divorced  Handlers-cleaners  Not-in-family  White    Male   \n",
       "3  Married-civ-spouse  Handlers-cleaners        Husband  Black    Male   \n",
       "4  Married-civ-spouse     Prof-specialty           Wife  Black  Female   \n",
       "\n",
       "   capital-gain  capital-loss  hours-per-week native-country  \n",
       "0          2174             0              40  United-States  \n",
       "1             0             0              13  United-States  \n",
       "2             0             0              40  United-States  \n",
       "3             0             0              40  United-States  \n",
       "4             0             0              40           Cuba  "
      ]
     },
     "execution_count": 19,
     "metadata": {},
     "output_type": "execute_result"
    }
   ],
   "source": [
    "import ucimlrepo\n",
    "\n",
    "adult = ucimlrepo.fetch_ucirepo(id=2)\n",
    "df = adult.data.features\n",
    "df.head(5)"
   ]
  },
  {
   "cell_type": "code",
   "execution_count": 21,
   "id": "b1c8603e",
   "metadata": {},
   "outputs": [
    {
     "data": {
      "text/plain": [
       "education\n",
       "HS-grad      15784\n",
       "Bachelors     8025\n",
       "Masters       2657\n",
       "Doctorate      594\n",
       "dtype: int64"
      ]
     },
     "execution_count": 21,
     "metadata": {},
     "output_type": "execute_result"
    }
   ],
   "source": [
    "df = df.loc[\n",
    "        df['education'].isin(['HS-grad', 'Bachelors', 'Masters', 'Doctorate'])\n",
    "    ]\n",
    "\n",
    "df.value_counts('education')"
   ]
  },
  {
   "cell_type": "code",
   "execution_count": 22,
   "id": "6b06f7d3",
   "metadata": {},
   "outputs": [
    {
     "data": {
      "text/html": [
       "<div>\n",
       "<style scoped>\n",
       "    .dataframe tbody tr th:only-of-type {\n",
       "        vertical-align: middle;\n",
       "    }\n",
       "\n",
       "    .dataframe tbody tr th {\n",
       "        vertical-align: top;\n",
       "    }\n",
       "\n",
       "    .dataframe thead th {\n",
       "        text-align: right;\n",
       "    }\n",
       "</style>\n",
       "<table border=\"1\" class=\"dataframe\">\n",
       "  <thead>\n",
       "    <tr style=\"text-align: right;\">\n",
       "      <th>education</th>\n",
       "      <th>Bachelors</th>\n",
       "      <th>Doctorate</th>\n",
       "      <th>HS-grad</th>\n",
       "      <th>Masters</th>\n",
       "    </tr>\n",
       "    <tr>\n",
       "      <th>sex</th>\n",
       "      <th></th>\n",
       "      <th></th>\n",
       "      <th></th>\n",
       "      <th></th>\n",
       "    </tr>\n",
       "  </thead>\n",
       "  <tbody>\n",
       "    <tr>\n",
       "      <th>Female</th>\n",
       "      <td>2477</td>\n",
       "      <td>113</td>\n",
       "      <td>5097</td>\n",
       "      <td>845</td>\n",
       "    </tr>\n",
       "    <tr>\n",
       "      <th>Male</th>\n",
       "      <td>5548</td>\n",
       "      <td>481</td>\n",
       "      <td>10687</td>\n",
       "      <td>1812</td>\n",
       "    </tr>\n",
       "  </tbody>\n",
       "</table>\n",
       "</div>"
      ],
      "text/plain": [
       "education  Bachelors  Doctorate  HS-grad  Masters\n",
       "sex                                              \n",
       "Female          2477        113     5097      845\n",
       "Male            5548        481    10687     1812"
      ]
     },
     "execution_count": 22,
     "metadata": {},
     "output_type": "execute_result"
    }
   ],
   "source": [
    "contingency_table = pd.crosstab( df['sex'], df['education'])\n",
    "contingency_table"
   ]
  },
  {
   "cell_type": "markdown",
   "id": "34dbba76",
   "metadata": {},
   "source": [
    "Here is the code to perform the test:"
   ]
  },
  {
   "cell_type": "code",
   "execution_count": 26,
   "id": "717bcb47",
   "metadata": {},
   "outputs": [
    {
     "data": {
      "text/html": [
       "<div>\n",
       "<style scoped>\n",
       "    .dataframe tbody tr th:only-of-type {\n",
       "        vertical-align: middle;\n",
       "    }\n",
       "\n",
       "    .dataframe tbody tr th {\n",
       "        vertical-align: top;\n",
       "    }\n",
       "\n",
       "    .dataframe thead th {\n",
       "        text-align: right;\n",
       "    }\n",
       "</style>\n",
       "<table border=\"1\" class=\"dataframe\">\n",
       "  <thead>\n",
       "    <tr style=\"text-align: right;\">\n",
       "      <th>education</th>\n",
       "      <th>Bachelors</th>\n",
       "      <th>Doctorate</th>\n",
       "      <th>HS-grad</th>\n",
       "      <th>Masters</th>\n",
       "    </tr>\n",
       "    <tr>\n",
       "      <th>sex</th>\n",
       "      <th></th>\n",
       "      <th></th>\n",
       "      <th></th>\n",
       "      <th></th>\n",
       "    </tr>\n",
       "  </thead>\n",
       "  <tbody>\n",
       "    <tr>\n",
       "      <th>Female</th>\n",
       "      <td>2477</td>\n",
       "      <td>113</td>\n",
       "      <td>5097</td>\n",
       "      <td>845</td>\n",
       "    </tr>\n",
       "    <tr>\n",
       "      <th>Male</th>\n",
       "      <td>5548</td>\n",
       "      <td>481</td>\n",
       "      <td>10687</td>\n",
       "      <td>1812</td>\n",
       "    </tr>\n",
       "  </tbody>\n",
       "</table>\n",
       "</div>"
      ],
      "text/plain": [
       "education  Bachelors  Doctorate  HS-grad  Masters\n",
       "sex                                              \n",
       "Female          2477        113     5097      845\n",
       "Male            5548        481    10687     1812"
      ]
     },
     "execution_count": 26,
     "metadata": {},
     "output_type": "execute_result"
    }
   ],
   "source": [
    "O_table = pd.crosstab(df['sex'], df['education'])\n",
    "O_table"
   ]
  },
  {
   "cell_type": "code",
   "execution_count": 27,
   "id": "2070c135",
   "metadata": {},
   "outputs": [
    {
     "data": {
      "text/html": [
       "<div>\n",
       "<style scoped>\n",
       "    .dataframe tbody tr th:only-of-type {\n",
       "        vertical-align: middle;\n",
       "    }\n",
       "\n",
       "    .dataframe tbody tr th {\n",
       "        vertical-align: top;\n",
       "    }\n",
       "\n",
       "    .dataframe thead th {\n",
       "        text-align: right;\n",
       "    }\n",
       "</style>\n",
       "<table border=\"1\" class=\"dataframe\">\n",
       "  <thead>\n",
       "    <tr style=\"text-align: right;\">\n",
       "      <th>education</th>\n",
       "      <th>Bachelors</th>\n",
       "      <th>Doctorate</th>\n",
       "      <th>HS-grad</th>\n",
       "      <th>Masters</th>\n",
       "    </tr>\n",
       "    <tr>\n",
       "      <th>sex</th>\n",
       "      <th></th>\n",
       "      <th></th>\n",
       "      <th></th>\n",
       "      <th></th>\n",
       "    </tr>\n",
       "  </thead>\n",
       "  <tbody>\n",
       "    <tr>\n",
       "      <th>Female</th>\n",
       "      <td>0.290319</td>\n",
       "      <td>0.013244</td>\n",
       "      <td>0.597398</td>\n",
       "      <td>0.099039</td>\n",
       "    </tr>\n",
       "    <tr>\n",
       "      <th>Male</th>\n",
       "      <td>0.299439</td>\n",
       "      <td>0.025961</td>\n",
       "      <td>0.576803</td>\n",
       "      <td>0.097798</td>\n",
       "    </tr>\n",
       "  </tbody>\n",
       "</table>\n",
       "</div>"
      ],
      "text/plain": [
       "education  Bachelors  Doctorate   HS-grad   Masters\n",
       "sex                                                \n",
       "Female      0.290319   0.013244  0.597398  0.099039\n",
       "Male        0.299439   0.025961  0.576803  0.097798"
      ]
     },
     "execution_count": 27,
     "metadata": {},
     "output_type": "execute_result"
    }
   ],
   "source": [
    "p_table = O_table.div(O_table.sum(axis=1), axis=0)\n",
    "p_table"
   ]
  },
  {
   "cell_type": "code",
   "execution_count": 28,
   "id": "33eb8b62",
   "metadata": {},
   "outputs": [
    {
     "data": {
      "text/html": [
       "<div>\n",
       "<style scoped>\n",
       "    .dataframe tbody tr th:only-of-type {\n",
       "        vertical-align: middle;\n",
       "    }\n",
       "\n",
       "    .dataframe tbody tr th {\n",
       "        vertical-align: top;\n",
       "    }\n",
       "\n",
       "    .dataframe thead th {\n",
       "        text-align: right;\n",
       "    }\n",
       "</style>\n",
       "<table border=\"1\" class=\"dataframe\">\n",
       "  <thead>\n",
       "    <tr style=\"text-align: right;\">\n",
       "      <th>education</th>\n",
       "      <th>Bachelors</th>\n",
       "      <th>Doctorate</th>\n",
       "      <th>HS-grad</th>\n",
       "      <th>Masters</th>\n",
       "    </tr>\n",
       "    <tr>\n",
       "      <th>sex</th>\n",
       "      <th></th>\n",
       "      <th></th>\n",
       "      <th></th>\n",
       "      <th></th>\n",
       "    </tr>\n",
       "  </thead>\n",
       "  <tbody>\n",
       "    <tr>\n",
       "      <th>Female</th>\n",
       "      <td>0.290319</td>\n",
       "      <td>0.013244</td>\n",
       "      <td>0.597398</td>\n",
       "      <td>0.099039</td>\n",
       "    </tr>\n",
       "    <tr>\n",
       "      <th>Male</th>\n",
       "      <td>0.299439</td>\n",
       "      <td>0.025961</td>\n",
       "      <td>0.576803</td>\n",
       "      <td>0.097798</td>\n",
       "    </tr>\n",
       "    <tr>\n",
       "      <th>total</th>\n",
       "      <td>0.296563</td>\n",
       "      <td>0.021951</td>\n",
       "      <td>0.583296</td>\n",
       "      <td>0.098189</td>\n",
       "    </tr>\n",
       "  </tbody>\n",
       "</table>\n",
       "</div>"
      ],
      "text/plain": [
       "education  Bachelors  Doctorate   HS-grad   Masters\n",
       "sex                                                \n",
       "Female      0.290319   0.013244  0.597398  0.099039\n",
       "Male        0.299439   0.025961  0.576803  0.097798\n",
       "total       0.296563   0.021951  0.583296  0.098189"
      ]
     },
     "execution_count": 28,
     "metadata": {},
     "output_type": "execute_result"
    }
   ],
   "source": [
    "total_count = O_table.sum(axis=0)\n",
    "cum_prop = total_count / total_count.sum()\n",
    "p_table.loc[\"total\"] = cum_prop\n",
    "p_table\n"
   ]
  },
  {
   "cell_type": "code",
   "execution_count": 29,
   "id": "82c56fc5",
   "metadata": {},
   "outputs": [
    {
     "data": {
      "text/plain": [
       "0.004626101452557774"
      ]
     },
     "execution_count": 29,
     "metadata": {},
     "output_type": "execute_result"
    }
   ],
   "source": [
    "from scipy.stats import chi2_contingency\n",
    "\n",
    "contingency_table = p_table.iloc[:-1, :-1]\n",
    "contingency_table\n",
    "\n",
    "chi2_stat, p_val, _, _ = chi2_contingency(contingency_table)\n",
    "chi2_stat"
   ]
  },
  {
   "cell_type": "code",
   "execution_count": 30,
   "id": "8db311e6",
   "metadata": {},
   "outputs": [
    {
     "name": "stdout",
     "output_type": "stream",
     "text": [
      "Fail to reject the null hypothesis\n"
     ]
    }
   ],
   "source": [
    "if (p_val <= 0.0125):\n",
    "    print(\"Reject the null hypothesis\")\n",
    "elif p_val >= 98.75:\n",
    "    print(\"Reject the null hypothesis\")\n",
    "else:\n",
    "    print(\"Fail to reject the null hypothesis\")"
   ]
  },
  {
   "cell_type": "markdown",
   "id": "394bf1b3",
   "metadata": {},
   "source": [
    "<br></br>\n",
    "<br></br>\n",
    "<br></br>"
   ]
  },
  {
   "cell_type": "markdown",
   "id": "f15473cf",
   "metadata": {},
   "source": [
    "---\n",
    "---"
   ]
  },
  {
   "cell_type": "markdown",
   "id": "06efcaa3",
   "metadata": {},
   "source": [
    "## Thu, Apr 18th"
   ]
  },
  {
   "cell_type": "markdown",
   "id": "162e5888",
   "metadata": {},
   "source": [
    "<br></br>"
   ]
  },
  {
   "cell_type": "markdown",
   "id": "43744250",
   "metadata": {},
   "source": [
    "Suppose there is a collection $X_1, X_2, \\dots, X_n \\sim D(\\theta)$"
   ]
  },
  {
   "cell_type": "markdown",
   "id": "faec7325",
   "metadata": {},
   "source": [
    "Likelihood $X \\sim N(\\theta, 1)$ where $\\theta$ is unknown mean"
   ]
  },
  {
   "cell_type": "markdown",
   "id": "9d967582",
   "metadata": {},
   "source": [
    "### Intuition for Maximum likelihood estimation\n",
    "\n",
    "In plain english, the maximum likelihood procedure is how likely the observered data is given the parameter $\\theta$\n",
    "\n",
    "The Maximum likelihood estimator is the value of $\\theta$ that maxmimizes the likelihood function\n",
    "\n",
    "$\\hat\\theta = arg \\text{ max}_\\theta L(\\theta)$"
   ]
  },
  {
   "cell_type": "markdown",
   "id": "e727820d",
   "metadata": {},
   "source": [
    "Also as\n",
    "$$\n",
    "\\log{L(\\theta)} = \\sum_{i_1}^n \\log{f(x_i;\\theta)}\n",
    "$$\n",
    "\n",
    "Want the max value of:\n",
    "$$\n",
    "\\hat\\theta = arg \\max{_\\theta} l(\\theta)\n",
    "$$"
   ]
  },
  {
   "cell_type": "markdown",
   "metadata": {},
   "source": [
    "<br></br>"
   ]
  },
  {
   "cell_type": "markdown",
   "id": "6a2f0606",
   "metadata": {},
   "source": [
    "Ex. $X_1, \\dots, X_n \\sim Exp(\\lambda)$ where there is a exponential distribution of $f(x;\\lambda) - \\lambda e^{-\\lambda x}$"
   ]
  },
  {
   "cell_type": "markdown",
   "id": "01de1dd7",
   "metadata": {},
   "source": [
    "Likelihood function log is $n \\log{\\lambda} - \\lambda \\sum_{i=1}^n x_1 = n \\log{\\lambda} - \\lambda n \\cdot \\bar{x}$"
   ]
  },
  {
   "cell_type": "code",
   "execution_count": 31,
   "id": "99bf6bd6",
   "metadata": {},
   "outputs": [],
   "source": [
    "# likelihood function and log-likelihood function\n",
    "def likelihood(lambda_, data):\n",
    "    return np.prod(stats.expon(scale=1/lambda_).pdf(data))\n",
    "    # return lambda_**len(data) * np.exp(-lambda_*np.sum(data))\n",
    "\n",
    "def log_likelihood(lambda_, data):\n",
    "    return np.sum(stats.expon(scale=1/lambda_).logpdf(data))\n",
    "    # return len(data)*np.log(lambda_) - lambda_*np.sum(data)"
   ]
  },
  {
   "cell_type": "code",
   "execution_count": 33,
   "id": "4023ebfd",
   "metadata": {},
   "outputs": [],
   "source": [
    "import seaborn as sns"
   ]
  },
  {
   "cell_type": "code",
   "execution_count": 35,
   "id": "4802609c",
   "metadata": {},
   "outputs": [],
   "source": [
    "lambda_true = 2.8"
   ]
  },
  {
   "cell_type": "code",
   "execution_count": 36,
   "id": "ad44c565",
   "metadata": {},
   "outputs": [
    {
     "data": {
      "text/plain": [
       "<AxesSubplot:ylabel='Count'>"
      ]
     },
     "execution_count": 36,
     "metadata": {},
     "output_type": "execute_result"
    },
    {
     "data": {
      "image/png": "[encoded data removed]",
      "text/plain": [
       "<Figure size 640x480 with 1 Axes>"
      ]
     },
     "metadata": {},
     "output_type": "display_data"
    }
   ],
   "source": [
    "X = stats.expon(scale=1/lambda_true)\n",
    "data = X.rvs(300)\n",
    "sns.histplot(data)"
   ]
  },
  {
   "cell_type": "code",
   "execution_count": 37,
   "id": "ed521607",
   "metadata": {},
   "outputs": [
    {
     "data": {
      "text/plain": [
       "  message: CONVERGENCE: NORM_OF_PROJECTED_GRADIENT_<=_PGTOL\n",
       "  success: True\n",
       "   status: 0\n",
       "      fun: -5.94304823796425\n",
       "        x: [ 2.773e+00]\n",
       "      nit: 7\n",
       "      jac: [ 1.954e-06]\n",
       "     nfev: 16\n",
       "     njev: 8\n",
       " hess_inv: <1x1 LbfgsInvHessProduct with dtype=float64>"
      ]
     },
     "execution_count": 37,
     "metadata": {},
     "output_type": "execute_result"
    }
   ],
   "source": [
    "from scipy.optimize import minimize\n",
    "nll_function = lambda x: -log_likelihood(x, data)\n",
    "lambda_init = np.random.rand()\n",
    "res = minimize(\n",
    "    nll_function, \n",
    "    lambda_init, \n",
    "    bounds=[(0, np.inf)]\n",
    ")\n",
    "res"
   ]
  },
  {
   "cell_type": "code",
   "execution_count": 38,
   "id": "26c77f6d",
   "metadata": {},
   "outputs": [
    {
     "data": {
      "text/plain": [
       "2.7726683426917274"
      ]
     },
     "execution_count": 38,
     "metadata": {},
     "output_type": "execute_result"
    }
   ],
   "source": [
    "mle_lambda = res.x[0]\n",
    "mle_lambda"
   ]
  },
  {
   "cell_type": "markdown",
   "id": "c193fff6",
   "metadata": {},
   "source": [
    "---"
   ]
  },
  {
   "cell_type": "markdown",
   "id": "3528840e",
   "metadata": {},
   "source": [
    "### Anatomy of maximum likelihood estimation"
   ]
  },
  {
   "cell_type": "markdown",
   "id": "1e8022da",
   "metadata": {},
   "source": [
    "> Assumption:\n",
    "\n",
    "$$\n",
    "X_i \\sim f(x_i; \\theta)\n",
    "$$"
   ]
  },
  {
   "cell_type": "markdown",
   "id": "560221f2",
   "metadata": {},
   "source": [
    "<br></br>"
   ]
  },
  {
   "cell_type": "markdown",
   "id": "9f22a619",
   "metadata": {},
   "source": [
    "> Likelihood Function:\n",
    "\n",
    "\n",
    "$$\n",
    "L(\\theta) = \\prod_{i=1}^n f(x_i; \\theta)\n",
    "$$"
   ]
  },
  {
   "cell_type": "markdown",
   "id": "2c5ba6b3",
   "metadata": {},
   "source": [
    "<br></br>"
   ]
  },
  {
   "cell_type": "markdown",
   "id": "3dce46b7",
   "metadata": {},
   "source": [
    "> Log-likelihood function:\n",
    "\n",
    "$$\n",
    "\\ell(\\theta) = \\log L(\\theta) = \\sum_{i=1}^n \\log f(x_i; \\theta)\n",
    "$$"
   ]
  },
  {
   "cell_type": "markdown",
   "id": "da919899",
   "metadata": {},
   "source": [
    "<br></br>"
   ]
  },
  {
   "cell_type": "markdown",
   "id": "a25544d6",
   "metadata": {},
   "source": [
    "> Maximum likelihood estimate:\n",
    "\n",
    "$$\n",
    "\\hat{\\theta} = \\arg\\max_{\\theta} \\ell(\\theta)\n",
    "$$"
   ]
  },
  {
   "cell_type": "markdown",
   "id": "a7128050",
   "metadata": {},
   "source": [
    "<br></br>"
   ]
  },
  {
   "cell_type": "markdown",
   "id": "68685fd8",
   "metadata": {},
   "source": [
    "> Types of Hypotheses and their associated parameter spaces $\\Theta_0$ and $\\Theta_1$:\n",
    "\n",
    "$H_0: \\theta \\in \\Theta_0$ vs $H_\\alpha: \\theta \\in \\Theta_1$"
   ]
  },
  {
   "cell_type": "markdown",
   "id": "a19238f3",
   "metadata": {},
   "source": [
    "<br></br>"
   ]
  },
  {
   "cell_type": "markdown",
   "id": "d810e970",
   "metadata": {},
   "source": [
    "> Likelihood ratio statistic:\n",
    "\n",
    "$A = - 2 \\log{\\frac{L(\\hat\\theta_0)}{L(\\hat\\theta)}} = 2 \\times (l(\\hat\\theta) - l(\\hat\\theta_0))$\n",
    "\n",
    "\\hat\\theta is the MLE under the alternative hypothesis $H_\\alpha$"
   ]
  },
  {
   "cell_type": "markdown",
   "id": "485e5740",
   "metadata": {},
   "source": [
    "<br></br>"
   ]
  },
  {
   "cell_type": "markdown",
   "id": "db849d6f",
   "metadata": {},
   "source": [
    "> Rejection region:\n",
    "\n",
    "$(x_\\alpha, \\infty)$"
   ]
  },
  {
   "cell_type": "markdown",
   "id": "d180e68f",
   "metadata": {},
   "source": [
    "<br></br>"
   ]
  },
  {
   "cell_type": "markdown",
   "id": "27b671f2",
   "metadata": {},
   "source": [
    "> Wilk's theorem:\n",
    "\n",
    "In plain English, Wilk's theorem is useful because it always follows a chi-squared distribution given by a formula\n",
    "\n",
    "$\\chi^2 (df) = \\chi^2 (dim(\\Theta_1) - dim(\\Theta_0))$"
   ]
  },
  {
   "cell_type": "markdown",
   "id": "c3e55a84",
   "metadata": {},
   "source": [
    "<br></br>"
   ]
  },
  {
   "cell_type": "markdown",
   "id": "4443ea3b",
   "metadata": {},
   "source": [
    "Ex.\n",
    "\n",
    "$X_1,\\dots, X_n \\sim \\Exp(\\lambda)$ $H_0: \\lambda = 2$ vs $H_a = \\lambda \\gt 2$"
   ]
  },
  {
   "cell_type": "code",
   "execution_count": 39,
   "id": "71fe3a33",
   "metadata": {},
   "outputs": [
    {
     "data": {
      "text/plain": [
       "(5.9430482379639535, -8.453886869194331)"
      ]
     },
     "execution_count": 39,
     "metadata": {},
     "output_type": "execute_result"
    }
   ],
   "source": [
    "l_alternative = -minimize(\n",
    "    nll_function, \n",
    "    lambda_init, \n",
    "    bounds=[(2, np.inf)]\n",
    ").fun\n",
    "\n",
    "\n",
    "l_null = -minimize(\n",
    "    nll_function, \n",
    "    lambda_init, \n",
    "    bounds=[(2, 2)]\n",
    ").fun\n",
    "\n",
    "l_alternative, l_null"
   ]
  },
  {
   "cell_type": "code",
   "execution_count": 40,
   "id": "a6455171",
   "metadata": {},
   "outputs": [],
   "source": [
    "pvalue = 1 - stats.chi2(1).cdf( 2*(l_alternative - l_null)   )"
   ]
  },
  {
   "cell_type": "code",
   "execution_count": 41,
   "id": "e2fa876a",
   "metadata": {},
   "outputs": [
    {
     "data": {
      "text/plain": [
       "True"
      ]
     },
     "execution_count": 41,
     "metadata": {},
     "output_type": "execute_result"
    }
   ],
   "source": [
    "pvalue < 0.01"
   ]
  },
  {
   "cell_type": "markdown",
   "id": "27f2c998",
   "metadata": {},
   "source": [
    "---"
   ]
  },
  {
   "cell_type": "markdown",
   "id": "aa2b0722",
   "metadata": {},
   "source": [
    "### Example\n",
    "\n",
    "Suppose $D(\\theta)$ is  [_**⚠️Choose your favorite distribution which isn't**_ $\\Exp(\\lambda)$ **⚠️**] \n",
    "\n",
    "and \n",
    "\n",
    "$$\n",
    "\\Xn \\sim N(x_1, \\theta)\n",
    "$$\n",
    "\n",
    "Here's how I would go about testing the hypotheses:\n",
    "\n",
    "$$\n",
    "H_0 : \\theta = 0 \\quad vs. \\quad H_a: \\theta \\ne 0 \n",
    "$$\n",
    "\n",
    "> **Step 1:**\n",
    "\n",
    "Likelihood function is \n",
    "\n",
    "$$\n",
    "L(\\theta) = \\prod_{i=1}^n N(x_i; \\theta)\n",
    "$$\n",
    "\n",
    "$$\n",
    "N(x_i, \\theta) = \\frac{1}{\\sqrt{2 \\pi \\sigma^2}}e^{-\\frac{(x-\\mu)^2}{2 \\sigma ^ 2}}\n",
    "$$\n",
    "\n",
    "> **Step 2:**\n",
    "\n",
    "MLE is \n",
    "\n",
    "$$\n",
    "\\hat{\\theta} = \\arg\\max_{\\theta} L(\\theta)\n",
    "$$\n",
    "\n",
    "> **Step 3:**\n",
    "\n",
    "Log likelihood is \n",
    "\n",
    "$$\n",
    "\\ell(\\theta) = \\log L(\\theta) = \\sum_{i=1}^n \\log N(x_i; \\theta)\n",
    "$$\n",
    "\n",
    "> **Step 4:**\n",
    "\n",
    "$$\n",
    "\\begin{aligned}\n",
    "L(\\lambda) &= \\prod_{i=1}^n f(x; \\lambda)\\\\\n",
    "&= \\prod_{i=1}^n \\frac{1}{\\sqrt{2 \\pi \\sigma^2}}e^{-\\frac{(x-\\mu)^2}{2 \\sigma ^ 2}}\n",
    "\\end{aligned}$$\n",
    "\n",
    "and the log-likelihood function is\n",
    "\n",
    "$$\\begin{aligned}\n",
    "\\ell(\\lambda) &= \\sum_{i=1}^n \\log \\frac{1}{\\sqrt{2 \\pi \\sigma^2}}e^{-\\frac{(x-\\mu)^2}{2 \\sigma ^ 2}}\\\\\n",
    "\\end{aligned}$$\n"
   ]
  },
  {
   "cell_type": "markdown",
   "metadata": {},
   "source": [
    "<br></br>"
   ]
  },
  {
   "cell_type": "code",
   "execution_count": 46,
   "id": "4684fe08",
   "metadata": {},
   "outputs": [
    {
     "name": "stdout",
     "output_type": "stream",
     "text": [
      "Reject null hypothesis: True\n",
      "Test statistic: 7.405343301690804\n"
     ]
    }
   ],
   "source": [
    "from scipy.stats import norm\n",
    "from scipy.stats import chi2\n",
    "\n",
    "def likelihood_normal(mean_std, data):\n",
    "    mu, sigma = mean_std\n",
    "    return np.prod(norm.pdf(data, mu, sigma))\n",
    "\n",
    "np.random.seed(0)\n",
    "dist = np.random.normal(0, 1, size=20)\n",
    "\n",
    "mu = 0\n",
    "sigma = 1\n",
    "\n",
    "# Calculate the likelihood under the null hypothesis\n",
    "params = (mu, sigma)\n",
    "likelihood_null = likelihood_normal(params, dist)\n",
    "\n",
    "# Calculate the maximum likelihood estimates\n",
    "mu_hat = np.mean(dist)\n",
    "sigma_hat = np.std(dist, ddof=1)  # Use ddof=1 for sample standard deviation\n",
    "params_alt = (mu_hat, sigma_hat)\n",
    "likelihood_alt = likelihood_normal(params_alt, dist)\n",
    "\n",
    "# Calculate the likelihood ratio test statistic\n",
    "test_statistic = -2 * np.log(likelihood_null / likelihood_alt)\n",
    "\n",
    "# Perform the likelihood ratio test\n",
    "alpha = 0.05\n",
    "critical_value = chi2.ppf(1 - alpha, df=2)  # df=2 for 2 parameters in the model\n",
    "reject_null = test_statistic > critical_value\n",
    "\n",
    "print(f\"Reject null hypothesis: {reject_null}\")\n",
    "print(f\"Test statistic: {test_statistic}\")"
   ]
  },
  {
   "cell_type": "markdown",
   "id": "c2054701",
   "metadata": {},
   "source": [
    "---"
   ]
  }
 ],
 "metadata": {
  "celltoolbar": "Slideshow",
  "hide_input": false,
  "kernelspec": {
   "display_name": "Python 3 (ipykernel)",
   "language": "python",
   "name": "python3"
  },
  "language_info": {
   "codemirror_mode": {
    "name": "ipython",
    "version": 3
   },
   "file_extension": ".py",
   "mimetype": "text/x-python",
   "name": "python",
   "nbconvert_exporter": "python",
   "pygments_lexer": "ipython3",
   "version": "3.8.18"
  },
  "toc": {
   "base_numbering": 2
  }
 },
 "nbformat": 4,
 "nbformat_minor": 5
}
