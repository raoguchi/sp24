{
 "cells": [
  {
   "cell_type": "markdown",
   "id": "d499b8cf",
   "metadata": {},
   "source": [
    "# Week 4 Summary\n",
    "> NAME: $\\color{red}{\\text{    <Ryosuke Oguchi>     }}$\n",
    "> \n",
    "> PID: $\\color{red}{\\text{    <A16777050>     }}$\n",
    ">\n",
    "> \n",
    "---"
   ]
  },
  {
   "cell_type": "markdown",
   "id": "1bce0cf8",
   "metadata": {},
   "source": [
    "I certify that the following write-up is my own work, and have abided by the UCSD Academic Integrity Guidelines.\n",
    "\n",
    "- [x] Yes\n",
    "- [ ] No"
   ]
  },
  {
   "cell_type": "markdown",
   "id": "6a1c41b1",
   "metadata": {},
   "source": [
    "% # %load tex-macros\n",
    "<div hidden>\n",
    "\\newcommand{\\require}[1]{}\n",
    "\n",
    "$\\require{begingroup}\\require{newcommand}$\n",
    "$\\long\\def \\forcecommand #1{\\providecommand{#1}{}\\renewcommand{#1}}$\n",
    "$\\forcecommand{\\defeq}{\\stackrel{\\small\\bullet}{=}}$\n",
    "$\\forcecommand{\\ra}{\\rangle}$\n",
    "$\\forcecommand{\\la}{\\langle}$\n",
    "$\\forcecommand{\\pr}{{\\mathbb P}}$\n",
    "$\\forcecommand{\\qr}{{\\mathbb Q}}$\n",
    "$\\forcecommand{\\xv}{{\\boldsymbol{x}}}$\n",
    "$\\forcecommand{\\av}{{\\boldsymbol{a}}}$\n",
    "$\\forcecommand{\\bv}{{\\boldsymbol{b}}}$\n",
    "$\\forcecommand{\\cv}{{\\boldsymbol{c}}}$\n",
    "$\\forcecommand{\\dv}{{\\boldsymbol{d}}}$\n",
    "$\\forcecommand{\\ev}{{\\boldsymbol{e}}}$\n",
    "$\\forcecommand{\\fv}{{\\boldsymbol{f}}}$\n",
    "$\\forcecommand{\\gv}{{\\boldsymbol{g}}}$\n",
    "$\\forcecommand{\\hv}{{\\boldsymbol{h}}}$\n",
    "$\\forcecommand{\\nv}{{\\boldsymbol{n}}}$\n",
    "$\\forcecommand{\\sv}{{\\boldsymbol{s}}}$\n",
    "$\\forcecommand{\\tv}{{\\boldsymbol{t}}}$\n",
    "$\\forcecommand{\\uv}{{\\boldsymbol{u}}}$\n",
    "$\\forcecommand{\\vv}{{\\boldsymbol{v}}}$\n",
    "$\\forcecommand{\\wv}{{\\boldsymbol{w}}}$\n",
    "$\\forcecommand{\\zerov}{{\\mathbf{0}}}$\n",
    "$\\forcecommand{\\onev}{{\\mathbf{0}}}$\n",
    "$\\forcecommand{\\phiv}{{\\boldsymbol{\\phi}}}$\n",
    "$\\forcecommand{\\cc}{{\\check{C}}}$\n",
    "$\\forcecommand{\\xv}{{\\boldsymbol{x}}}$\n",
    "$\\forcecommand{\\Xv}{{\\boldsymbol{X}\\!}}$\n",
    "$\\forcecommand{\\yv}{{\\boldsymbol{y}}}$\n",
    "$\\forcecommand{\\Yv}{{\\boldsymbol{Y}}}$\n",
    "$\\forcecommand{\\zv}{{\\boldsymbol{z}}}$\n",
    "$\\forcecommand{\\Zv}{{\\boldsymbol{Z}}}$\n",
    "$\\forcecommand{\\Iv}{{\\boldsymbol{I}}}$\n",
    "$\\forcecommand{\\Jv}{{\\boldsymbol{J}}}$\n",
    "$\\forcecommand{\\Cv}{{\\boldsymbol{C}}}$\n",
    "$\\forcecommand{\\Ev}{{\\boldsymbol{E}}}$\n",
    "$\\forcecommand{\\Fv}{{\\boldsymbol{F}}}$\n",
    "$\\forcecommand{\\Gv}{{\\boldsymbol{G}}}$\n",
    "$\\forcecommand{\\Hv}{{\\boldsymbol{H}}}$\n",
    "$\\forcecommand{\\alphav}{{\\boldsymbol{\\alpha}}}$\n",
    "$\\forcecommand{\\epsilonv}{{\\boldsymbol{\\epsilon}}}$\n",
    "$\\forcecommand{\\betav}{{\\boldsymbol{\\beta}}}$\n",
    "$\\forcecommand{\\deltav}{{\\boldsymbol{\\delta}}}$\n",
    "$\\forcecommand{\\gammav}{{\\boldsymbol{\\gamma}}}$\n",
    "$\\forcecommand{\\etav}{{\\boldsymbol{\\eta}}}$\n",
    "$\\forcecommand{\\piv}{{\\boldsymbol{\\pi}}}$\n",
    "$\\forcecommand{\\thetav}{{\\boldsymbol{\\theta}}}$\n",
    "$\\forcecommand{\\tauv}{{\\boldsymbol{\\tau}}}$\n",
    "$\\forcecommand{\\muv}{{\\boldsymbol{\\mu}}}$\n",
    "$%$\n",
    "$\\forcecommand{\\sd}{\\text{SD}}$\n",
    "$\\forcecommand{\\se}{\\text{SE}}$\n",
    "$\\forcecommand{\\med}{\\text{median}}$\n",
    "$\\forcecommand{\\median}{\\text{median}}$\n",
    "$%$\n",
    "$\\forcecommand{\\supp}{\\text{supp}}$\n",
    "$\\forcecommand{\\E}{\\mathbb{E}}$\n",
    "$\\forcecommand{\\var}{\\text{Var}}$\n",
    "$\\forcecommand{\\Ber}{{\\text{Ber}}}$\n",
    "$\\forcecommand{\\Bin}{{\\text{Bin}}}$\n",
    "$\\forcecommand{\\Geo}{{\\text{Geo}}}$\n",
    "$\\forcecommand{\\Unif}{{\\text{Unif}}}$\n",
    "$\\forcecommand{\\Poi}{{\\text{Poi}}}$\n",
    "$\\forcecommand{\\Exp}{{\\text{Exp}}}$\n",
    "$\\forcecommand{\\Chisq}{{\\chi^2}}$\n",
    "$\\forcecommand{\\N}{\\mathbb{N}}$\n",
    "$\\forcecommand{\\iid}{{\\stackrel{iid}{\\sim}}}$\n",
    "$\\forcecommand{\\px}{p_{X}}$\n",
    "$\\forcecommand{\\fx}{f_{X}}$\n",
    "$\\forcecommand{\\Fx}{F_{X}}$\n",
    "$\\forcecommand{\\py}{p_{Y}}$\n",
    "$\\forcecommand{\\pxy}{p_{X,Y}}$\n",
    "$\\forcecommand{\\po}{{p_0}}$\n",
    "$\\forcecommand{\\pa}{{p_a}}$\n",
    "$\\forcecommand{\\Xbar}{\\overline{X}}$\n",
    "$\\forcecommand{\\Ybar}{\\overline{Y}}$\n",
    "$\\forcecommand{\\Zbar}{\\overline{Z}}$\n",
    "$\\forcecommand{\\nXbar}{n \\cdot \\overline{X}}$\n",
    "$\\forcecommand{\\nYbar}{n \\cdot \\overline{Y}}$\n",
    "$\\forcecommand{\\nZbar}{n \\cdot \\overline{Z}}$\n",
    "$\\forcecommand{\\Xn}{X_1, X_2, \\dots, X_n}$\n",
    "$\\forcecommand{\\Xm}{{X_1, X_2, \\dots, X_m}}$\n",
    "$\\forcecommand{\\Yn}{Y_1, Y_2, \\dots, Y_n}$\n",
    "$\\forcecommand{\\Ym}{{Y_1, Y_2, \\dots, Y_m}}$\n",
    "$\\forcecommand{\\sumXn}{X_1 + X_2 + \\dots + X_n}$\n",
    "$\\forcecommand{\\sumym}{Y_1 + Y_2 + \\dots + Y_m}$\n",
    "$\\forcecommand{\\la}{\\ell_\\alpha}$\n",
    "$\\forcecommand{\\ua}{u_\\alpha}$\n",
    "$\\forcecommand{\\at}{{\\alpha/2}}$\n",
    "$\\forcecommand{\\mux}{\\mu_{X}}$\n",
    "$\\forcecommand{\\muy}{\\mu_{Y}}$\n",
    "$\\forcecommand{\\sx}{\\sigma_{X}}$\n",
    "$\\forcecommand{\\sy}{\\sigma_{Y}}$\n",
    "$\\forcecommand{\\ci}{\\text{CI}}$\n",
    "$\\forcecommand{\\pvalue}{$p$-value}$\n",
    "$\\forcecommand{\\Ho}{H_{0}}$\n",
    "$\\forcecommand{\\Ha}{H_{a}}$\n",
    "\n",
    "\\vskip-\\parskip\n",
    "\\vskip-\\baselineskip\n",
    "</div>"
   ]
  },
  {
   "cell_type": "code",
   "execution_count": 5,
   "id": "bb0120db",
   "metadata": {},
   "outputs": [],
   "source": [
    "import numpy as np\n",
    "import scipy\n",
    "from scipy import stats as stats\n",
    "\n",
    "import statsmodels\n",
    "import statsmodels.api as sm\n",
    "import pandas as pd"
   ]
  },
  {
   "cell_type": "markdown",
   "id": "fbfec7ec",
   "metadata": {},
   "source": [
    "---"
   ]
  },
  {
   "cell_type": "markdown",
   "id": "15c6dc53",
   "metadata": {},
   "source": [
    "## Key Takeaways from Week 4"
   ]
  },
  {
   "cell_type": "markdown",
   "id": "cc992f31",
   "metadata": {},
   "source": [
    "\n",
    "#### Tuesday: \n",
    "\n",
    "... insert your key takeaways here ..."
   ]
  },
  {
   "cell_type": "markdown",
   "id": "6d69de7b",
   "metadata": {},
   "source": [
    "#### Thursday\n",
    "\n",
    "... insert your takeaway here ...\n"
   ]
  },
  {
   "cell_type": "markdown",
   "id": "aaadbca8",
   "metadata": {},
   "source": [
    "---"
   ]
  },
  {
   "cell_type": "markdown",
   "id": "c2d78965",
   "metadata": {},
   "source": [
    "## Tue, Apr 23"
   ]
  },
  {
   "cell_type": "markdown",
   "id": "f443cd7c",
   "metadata": {},
   "source": [
    "### Goodness of fit test\n",
    "\n",
    "Suppose we have data of the following form:\n",
    "\n",
    "| [Category] | [Observed Frequency] | [Expected Frequency] |\n",
    "|:--------:|:-------------------:|:-------------------:|\n",
    "| 1 | $O_1$ | $E_1$  |\n",
    "| 2 | $O_2$ | $E_2$   |\n",
    "| ... | ... | ...  |\n",
    "| $k$ | $O_k$ | $E_k$  |\n"
   ]
  },
  {
   "cell_type": "markdown",
   "id": "5b31433a",
   "metadata": {},
   "source": [
    "<br></br>"
   ]
  },
  {
   "cell_type": "markdown",
   "id": "c20ae5b4",
   "metadata": {},
   "source": [
    "\n",
    "\n",
    "\n",
    "The goodness of fit test if the observed categories of frequencies of the categories are consistent with some expected frequencies\n",
    "- Use a multinominal distribution\n"
   ]
  },
  {
   "cell_type": "markdown",
   "id": "3464f1ba",
   "metadata": {},
   "source": [
    "Multinomial Distribution\n",
    "A random Vector:\n",
    "$ X = (X_1, X_2, ... , X_k)\\\\$ \n",
    "it has parameters \n",
    "$n \\text{ and } \\pi = (p_1, p_2,...,p_k) \\\\$\n",
    "$X \\sim \\text{Multinomial}(n, \\pi)$\n"
   ]
  },
  {
   "cell_type": "markdown",
   "id": "9ce05d56",
   "metadata": {},
   "source": [
    "<br></br>"
   ]
  },
  {
   "cell_type": "code",
   "execution_count": 3,
   "id": "f8eead16",
   "metadata": {},
   "outputs": [
    {
     "data": {
      "text/plain": [
       "array([[0, 3, 7],\n",
       "       [2, 3, 5],\n",
       "       [0, 6, 4],\n",
       "       [1, 3, 6],\n",
       "       [1, 1, 8]])"
      ]
     },
     "execution_count": 3,
     "metadata": {},
     "output_type": "execute_result"
    }
   ],
   "source": [
    "X = stats.multinomial(10, [0.1, 0.3, 0.6])\n",
    "X.rvs(5)"
   ]
  },
  {
   "cell_type": "markdown",
   "id": "e22e5b2d",
   "metadata": {},
   "source": [
    "When $n=1$, the multinomial distribution is the categorical distribution\n",
    "- it is a generalization of the binomial distribution for more than two categories\n",
    "- For $k=2$, and $\\pi = (p, 1-p)$"
   ]
  },
  {
   "cell_type": "markdown",
   "id": "59a508e7",
   "metadata": {},
   "source": [
    "| Anatomy of the hypothesis test |  Answer  |\n",
    "|:------------------------------:|:--------:|\n",
    "| Assumption                     | Multinominal $(n,p_1,...,p_k)$ |\n",
    "| Population parameter           | $\\theta = (p_1,p_2,...p_k)$ |\n",
    "| Sample statistic               | $\\hat\\theta = (\\hat p_1,\\hat p_2,..., \\hat p_k)$|\n",
    "| Test statistic                 | $n \\times \\sum_{i=1}^k \\frac{(\\hat p _i - p_i)^2}{p_i} \\sim \\chi^2_{k-1}$ |\n",
    "| Null hypothesis                | Observered proportion are consistent with expected proportions |\n",
    "| Alternate hypothesis           | Observered proportion are not consistent with expected proportions. |\n",
    "| Rejection region shape         | $(x_a, \\infty) = (x_{k-1,1-\\alpha/2}^2, \\infty)$ where $x_a = \\chi_{k-1, 1 - \\alpha/2}$|\n"
   ]
  },
  {
   "cell_type": "markdown",
   "id": "f726ea8f",
   "metadata": {},
   "source": [
    "<br></br>"
   ]
  },
  {
   "cell_type": "markdown",
   "id": "421f420a",
   "metadata": {},
   "source": [
    "An example application is described here:\n"
   ]
  },
  {
   "cell_type": "markdown",
   "id": "6fd55836",
   "metadata": {},
   "source": [
    "Here is the code to perform the test:"
   ]
  },
  {
   "cell_type": "code",
   "execution_count": 1,
   "id": "aea4e13f",
   "metadata": {},
   "outputs": [
    {
     "data": {
      "text/plain": [
       "Ellipsis"
      ]
     },
     "execution_count": 1,
     "metadata": {},
     "output_type": "execute_result"
    }
   ],
   "source": [
    "n = df.shape[0]\n",
    "k = df[\"Ethics\"].nunique()\n",
    "\n",
    "p_hat = df['Ethics'].value_counts() / n\n",
    "p = np.repeat(1/4, 4)\n",
    "\n",
    "t_hat = n * np.sum([\n",
    "    (x[0] - x[1] ** 2 / x[1] for x in zip(p_hat, p))\n",
    "])\n",
    "t_hat"
   ]
  },
  {
   "cell_type": "code",
   "execution_count": null,
   "id": "8dd36436",
   "metadata": {},
   "outputs": [],
   "source": [
    "dof = k-1\n",
    "T = stats.chi2(dof)\n",
    "p_value = 1 - T.cdf(t_hat)\n",
    "alpha = 0.01\n",
    "decision(p_value,alpha)"
   ]
  },
  {
   "cell_type": "markdown",
   "id": "c27f5554",
   "metadata": {},
   "source": [
    "<br></br>"
   ]
  },
  {
   "cell_type": "markdown",
   "id": "59464ccd",
   "metadata": {},
   "source": [
    "### Test for independence\n",
    "\n",
    "Suppose we have data of the following form:\n",
    "\n",
    "| [\\] | [Y cat 1] | [Y cat 2] |\n",
    "|:--------:|:-------------------:|:-------------------:|\n",
    "| X Cat 1 | $O_11$ | $O_12$  |\n",
    "| X Cat 2 | $O_21$ | $O_22$   |\n",
    "| ... | ... | ...  |\n",
    "| X Cat k | $O_k1$ | $O_k1$  |"
   ]
  },
  {
   "cell_type": "markdown",
   "id": "dd37ebe2",
   "metadata": {},
   "source": [
    "$n = O_{11} + O_{1m} + O_{21} + ... + O_{km}$ i-th category of x, j-th category of Y"
   ]
  },
  {
   "cell_type": "markdown",
   "id": "ba35fdb7",
   "metadata": {},
   "source": [
    "<br></br>"
   ]
  },
  {
   "cell_type": "code",
   "execution_count": 8,
   "id": "d16b4282",
   "metadata": {},
   "outputs": [
    {
     "data": {
      "text/html": [
       "<div>\n",
       "<style scoped>\n",
       "    .dataframe tbody tr th:only-of-type {\n",
       "        vertical-align: middle;\n",
       "    }\n",
       "\n",
       "    .dataframe tbody tr th {\n",
       "        vertical-align: top;\n",
       "    }\n",
       "\n",
       "    .dataframe thead th {\n",
       "        text-align: right;\n",
       "    }\n",
       "</style>\n",
       "<table border=\"1\" class=\"dataframe\">\n",
       "  <thead>\n",
       "    <tr style=\"text-align: right;\">\n",
       "      <th></th>\n",
       "      <th>Democrat</th>\n",
       "      <th>Republican</th>\n",
       "    </tr>\n",
       "  </thead>\n",
       "  <tbody>\n",
       "    <tr>\n",
       "      <th>Favor</th>\n",
       "      <td>138</td>\n",
       "      <td>64</td>\n",
       "    </tr>\n",
       "    <tr>\n",
       "      <th>Indifferent</th>\n",
       "      <td>83</td>\n",
       "      <td>67</td>\n",
       "    </tr>\n",
       "    <tr>\n",
       "      <th>Opposed</th>\n",
       "      <td>64</td>\n",
       "      <td>84</td>\n",
       "    </tr>\n",
       "  </tbody>\n",
       "</table>\n",
       "</div>"
      ],
      "text/plain": [
       "             Democrat  Republican\n",
       "Favor             138          64\n",
       "Indifferent        83          67\n",
       "Opposed            64          84"
      ]
     },
     "execution_count": 8,
     "metadata": {},
     "output_type": "execute_result"
    }
   ],
   "source": [
    "df = pd.read_csv('../data/political_affiliation.csv').T\n",
    "df.columns = ['Democrat', 'Republican']\n",
    "df"
   ]
  },
  {
   "cell_type": "code",
   "execution_count": 9,
   "id": "b9763736",
   "metadata": {},
   "outputs": [
    {
     "data": {
      "text/html": [
       "<div>\n",
       "<style scoped>\n",
       "    .dataframe tbody tr th:only-of-type {\n",
       "        vertical-align: middle;\n",
       "    }\n",
       "\n",
       "    .dataframe tbody tr th {\n",
       "        vertical-align: top;\n",
       "    }\n",
       "\n",
       "    .dataframe thead th {\n",
       "        text-align: right;\n",
       "    }\n",
       "</style>\n",
       "<table border=\"1\" class=\"dataframe\">\n",
       "  <thead>\n",
       "    <tr style=\"text-align: right;\">\n",
       "      <th></th>\n",
       "      <th>Democrat</th>\n",
       "      <th>Republican</th>\n",
       "    </tr>\n",
       "  </thead>\n",
       "  <tbody>\n",
       "    <tr>\n",
       "      <th>Favor</th>\n",
       "      <td>0.484211</td>\n",
       "      <td>0.297674</td>\n",
       "    </tr>\n",
       "    <tr>\n",
       "      <th>Indifferent</th>\n",
       "      <td>0.291228</td>\n",
       "      <td>0.311628</td>\n",
       "    </tr>\n",
       "    <tr>\n",
       "      <th>Opposed</th>\n",
       "      <td>0.224561</td>\n",
       "      <td>0.390698</td>\n",
       "    </tr>\n",
       "  </tbody>\n",
       "</table>\n",
       "</div>"
      ],
      "text/plain": [
       "             Democrat  Republican\n",
       "Favor        0.484211    0.297674\n",
       "Indifferent  0.291228    0.311628\n",
       "Opposed      0.224561    0.390698"
      ]
     },
     "execution_count": 9,
     "metadata": {},
     "output_type": "execute_result"
    }
   ],
   "source": [
    "df / df.values.sum(axis=0)"
   ]
  },
  {
   "cell_type": "markdown",
   "id": "ab08d9a1",
   "metadata": {},
   "source": [
    "\n",
    "\n",
    "\n",
    "The test for independence to see if the observered frequeneices of the cateogires are independent of each other.\n",
    "\n"
   ]
  },
  {
   "cell_type": "markdown",
   "id": "20b3d228",
   "metadata": {},
   "source": [
    "<br></br>"
   ]
  },
  {
   "cell_type": "markdown",
   "id": "37671a67",
   "metadata": {},
   "source": [
    "| Anatomy of the hypothesis test |  Answer  |\n",
    "|:------------------------------:|:--------:|\n",
    "| Assumption                     | $(X,Y)\\sim \\text{Multinomial}(n,p_{11}, p_{12}, ...p_){km} $$|\n",
    "| Population parameter           | $\\theta = (p_{11}, p_{12}, ...  p_{km}, \\pi_X, \\pi_Y)$ |\n",
    "| Sample statistic               | $\\hat\\theta = (\\hat p_{11}, \\hat p_{12}, ..., \\hat  p_{km}, \\hat \\pi_X, \\hat \\pi_Y)$ |\n",
    "| Test statistic                 | $n \\times \\sum_{i=1}^k \\sum_{j=1}^m \\frac{(\\hat p_{ij} - \\hat\\pi_{X,i} \\cdot \\hat\\pi_{Y,j})^2}{\\hat\\pi_{X,j} \\cdot \\hat\\pi{Y,j}} \\sim \\chi^2_{(k-1) \\times (m-1)} $ |\n",
    "| Null hypothesis                | $p_{ij} = \\pi_{X,i} \\times \\pi_{Y,j}$|\n",
    "| Alternate hypothesis           | $p_{ij} \\ne \\pi_{X,i} \\times \\pi_{Y,j}$ |\n",
    "| Rejection region shape         | ... |\n",
    "\n",
    "where $...$"
   ]
  },
  {
   "cell_type": "markdown",
   "id": "f3deb6dd",
   "metadata": {},
   "source": [
    "<br></br>"
   ]
  },
  {
   "cell_type": "markdown",
   "id": "9e06e6e2",
   "metadata": {},
   "source": [
    "An example application is described here:\n",
    "\n",
    "..."
   ]
  },
  {
   "cell_type": "markdown",
   "id": "aa0715ea",
   "metadata": {},
   "source": [
    "Here is the code to perform the test:"
   ]
  },
  {
   "cell_type": "code",
   "execution_count": null,
   "id": "d3fbd75b",
   "metadata": {},
   "outputs": [
    {
     "data": {
      "text/plain": [
       "Ellipsis"
      ]
     },
     "metadata": {},
     "output_type": "display_data"
    }
   ],
   "source": [
    "..."
   ]
  },
  {
   "cell_type": "markdown",
   "id": "eab0f1bd",
   "metadata": {},
   "source": [
    "<br></br>"
   ]
  },
  {
   "cell_type": "markdown",
   "id": "5742f035",
   "metadata": {},
   "source": [
    "### Test for homogeneity\n",
    "\n",
    "\n",
    "Suppose we have data of the following form:\n",
    "\n",
    "| \\ | [Cat 1] | [Cat 2] | Total |\n",
    "|:--------:|:-------------------:|:-------------------:| :--------:|\n",
    "| $X_1$ | $O_{11}$ | $O_{12}$  | $n_1$ |\n",
    "| $X_2$ | $O_{21}$ | $O_{22}$   | $n_2$ |\n",
    "| ... | ... | ...  | ... | \n",
    "| Total | $T_1$ | $T_2$  | n |"
   ]
  },
  {
   "cell_type": "markdown",
   "id": "4feecdfa",
   "metadata": {},
   "source": [
    "<br></br>"
   ]
  },
  {
   "cell_type": "markdown",
   "id": "4aa60015",
   "metadata": {},
   "source": [
    "\n",
    "\n",
    "\n",
    "The test for homogeneity to see if the observered frequnecies of the categories are consistent with each other\n",
    "\n",
    "There are r subsets of the populations that are categorical:\n",
    "$$\n",
    "\\text{Categorical} (\\pi_1), \\\\\n",
    "\\text{Categorical} (\\pi_2), \\\\\n",
    "... \\\\\n",
    "\\text{Categorical} (\\pi_{r}), \\\\\n",
    "$$\n",
    "\n"
   ]
  },
  {
   "cell_type": "markdown",
   "id": "718d0ac2",
   "metadata": {},
   "source": [
    "<br></br>"
   ]
  },
  {
   "cell_type": "markdown",
   "id": "4e917110",
   "metadata": {},
   "source": [
    "Take observered frequencies are divided by the column totals"
   ]
  },
  {
   "cell_type": "markdown",
   "id": "c612f00e",
   "metadata": {},
   "source": [
    "| Anatomy of the hypothesis test |  Answer  |\n",
    "|:------------------------------:|:--------:|\n",
    "| Assumption                     | ... |\n",
    "| Population parameter           | ... |\n",
    "| Sample statistic               | ... |\n",
    "| Test statistic                 | ... |\n",
    "| Null hypothesis                | Observered proportions are consistent with each other |\n",
    "| Alternate hypothesis           | The observered proportions are not consistent with each other (for at least one subgroup) |\n",
    "| Rejection region shape         | ... |\n",
    "\n",
    "where $...$"
   ]
  },
  {
   "cell_type": "markdown",
   "id": "a2940191",
   "metadata": {},
   "source": [
    "<br></br>"
   ]
  },
  {
   "cell_type": "markdown",
   "id": "46431d61",
   "metadata": {},
   "source": [
    "An example application is described here:\n",
    "\n",
    "..."
   ]
  },
  {
   "cell_type": "markdown",
   "id": "34dbba76",
   "metadata": {},
   "source": [
    "Here is the code to perform the test:"
   ]
  },
  {
   "cell_type": "code",
   "execution_count": null,
   "id": "33eb8b62",
   "metadata": {},
   "outputs": [
    {
     "data": {
      "text/plain": [
       "Ellipsis"
      ]
     },
     "metadata": {},
     "output_type": "display_data"
    }
   ],
   "source": [
    "..."
   ]
  },
  {
   "cell_type": "markdown",
   "id": "394bf1b3",
   "metadata": {},
   "source": [
    "<br></br>\n",
    "<br></br>\n",
    "<br></br>"
   ]
  },
  {
   "cell_type": "markdown",
   "id": "f15473cf",
   "metadata": {},
   "source": [
    "---\n",
    "---"
   ]
  },
  {
   "cell_type": "markdown",
   "id": "06efcaa3",
   "metadata": {},
   "source": [
    "## Thu, Apr 18th"
   ]
  },
  {
   "cell_type": "markdown",
   "id": "162e5888",
   "metadata": {},
   "source": [
    "<br></br>"
   ]
  },
  {
   "cell_type": "markdown",
   "id": "9d967582",
   "metadata": {},
   "source": [
    "### Intuition for Maximum likelihood estimation\n",
    "\n",
    "In plain english, the maximum likelihood procedure is ..."
   ]
  },
  {
   "cell_type": "markdown",
   "metadata": {},
   "source": [
    "<br></br>"
   ]
  },
  {
   "cell_type": "markdown",
   "id": "c193fff6",
   "metadata": {},
   "source": [
    "---"
   ]
  },
  {
   "cell_type": "markdown",
   "id": "3528840e",
   "metadata": {},
   "source": [
    "### Anatomy of maximum likelihood estimation"
   ]
  },
  {
   "cell_type": "markdown",
   "id": "1e8022da",
   "metadata": {},
   "source": [
    "> Assumption:\n",
    "\n",
    "..."
   ]
  },
  {
   "cell_type": "markdown",
   "id": "560221f2",
   "metadata": {},
   "source": [
    "<br></br>"
   ]
  },
  {
   "cell_type": "markdown",
   "id": "9f22a619",
   "metadata": {},
   "source": [
    "> Likelihood Function:\n",
    "\n",
    "..."
   ]
  },
  {
   "cell_type": "markdown",
   "id": "2c5ba6b3",
   "metadata": {},
   "source": [
    "<br></br>"
   ]
  },
  {
   "cell_type": "markdown",
   "id": "3dce46b7",
   "metadata": {},
   "source": [
    "> Log-likelihood function:\n",
    "\n",
    "..."
   ]
  },
  {
   "cell_type": "markdown",
   "id": "da919899",
   "metadata": {},
   "source": [
    "<br></br>"
   ]
  },
  {
   "cell_type": "markdown",
   "id": "a25544d6",
   "metadata": {},
   "source": [
    "> Maximum likelihood estimate:\n",
    "\n",
    "..."
   ]
  },
  {
   "cell_type": "markdown",
   "id": "a7128050",
   "metadata": {},
   "source": [
    "<br></br>"
   ]
  },
  {
   "cell_type": "markdown",
   "id": "68685fd8",
   "metadata": {},
   "source": [
    "> Types of Hypotheses and their associated parameter spaces $\\Theta_0$ and $\\Theta_1$:\n",
    "\n",
    "..."
   ]
  },
  {
   "cell_type": "markdown",
   "id": "a19238f3",
   "metadata": {},
   "source": [
    "<br></br>"
   ]
  },
  {
   "cell_type": "markdown",
   "id": "d810e970",
   "metadata": {},
   "source": [
    "> Likelihood ratio statistic:\n",
    "\n",
    "..."
   ]
  },
  {
   "cell_type": "markdown",
   "id": "485e5740",
   "metadata": {},
   "source": [
    "<br></br>"
   ]
  },
  {
   "cell_type": "markdown",
   "id": "db849d6f",
   "metadata": {},
   "source": [
    "> Rejection region:\n",
    "\n",
    "..."
   ]
  },
  {
   "cell_type": "markdown",
   "id": "d180e68f",
   "metadata": {},
   "source": [
    "<br></br>"
   ]
  },
  {
   "cell_type": "markdown",
   "id": "27b671f2",
   "metadata": {},
   "source": [
    "> Wilk's theorem:\n",
    "\n",
    "In plain English, Wilk's theorem is useful because ..."
   ]
  },
  {
   "cell_type": "markdown",
   "id": "c3e55a84",
   "metadata": {},
   "source": [
    "<br></br>"
   ]
  },
  {
   "cell_type": "markdown",
   "id": "27f2c998",
   "metadata": {},
   "source": [
    "---"
   ]
  },
  {
   "cell_type": "markdown",
   "id": "aa2b0722",
   "metadata": {},
   "source": [
    "### Example\n",
    "\n",
    "Suppose $D(\\theta)$ is  [_**⚠️Choose your favorite distribution which isn't**_ $\\Exp(\\lambda)$ **⚠️**] \n",
    "\n",
    "and \n",
    "\n",
    "$$\n",
    "\\Xn \\sim ...\n",
    "$$\n",
    "\n",
    "Here's how I would go about testing the hypotheses:\n",
    "\n",
    "$$\n",
    "H_0 : ... \\quad vs. \\quad H_a: ... \n",
    "$$\n",
    "\n",
    "> **Step 1:**\n",
    "\n",
    "...\n",
    "\n",
    "> **Step 2:**\n",
    "\n",
    "...\n",
    "\n",
    "> **Step 3:**\n",
    "\n",
    "...\n",
    "\n",
    "> **Step 4:**\n",
    "\n",
    "...\n",
    "\n",
    "> **Step 5:**\n",
    "\n",
    "...\n"
   ]
  },
  {
   "cell_type": "markdown",
   "metadata": {},
   "source": [
    "<br></br>"
   ]
  },
  {
   "cell_type": "markdown",
   "id": "c2054701",
   "metadata": {},
   "source": [
    "---"
   ]
  }
 ],
 "metadata": {
  "celltoolbar": "Slideshow",
  "hide_input": false,
  "kernelspec": {
   "display_name": "Python 3 (ipykernel)",
   "language": "python",
   "name": "python3"
  },
  "language_info": {
   "codemirror_mode": {
    "name": "ipython",
    "version": 3
   },
   "file_extension": ".py",
   "mimetype": "text/x-python",
   "name": "python",
   "nbconvert_exporter": "python",
   "pygments_lexer": "ipython3",
   "version": "3.8.18"
  },
  "toc": {
   "base_numbering": 2
  }
 },
 "nbformat": 4,
 "nbformat_minor": 5
}
