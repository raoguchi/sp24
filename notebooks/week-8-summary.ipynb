{
 "cells": [
  {
   "cell_type": "markdown",
   "id": "d499b8cf",
   "metadata": {},
   "source": [
    "# Week 8 Summary\n",
    "> NAME: $\\color{red}{\\text{    <Ryosuke Oguchi>     }}$\n",
    "> \n",
    "> PID: $\\color{red}{\\text{    <A16777050>     }}$\n",
    ">\n",
    "> \n",
    "---"
   ]
  },
  {
   "cell_type": "markdown",
   "id": "1bce0cf8",
   "metadata": {},
   "source": [
    "I certify that the following write-up is my own work, and have abided by the UCSD Academic Integrity Guidelines.\n",
    "\n",
    "- [x] Yes\n",
    "- [ ] No"
   ]
  },
  {
   "cell_type": "markdown",
   "id": "6a1c41b1",
   "metadata": {},
   "source": [
    "% # %load tex-macros\n",
    "<div hidden>\n",
    "\\newcommand{\\require}[1]{}\n",
    "\n",
    "$\\require{begingroup}\\require{newcommand}$\n",
    "$\\long\\def \\forcecommand #1{\\providecommand{#1}{}\\renewcommand{#1}}$\n",
    "$\\forcecommand{\\defeq}{\\stackrel{\\small\\bullet}{=}}$\n",
    "$\\forcecommand{\\ra}{\\rangle}$\n",
    "$\\forcecommand{\\la}{\\langle}$\n",
    "$\\forcecommand{\\pr}{{\\mathbb P}}$\n",
    "$\\forcecommand{\\qr}{{\\mathbb Q}}$\n",
    "$\\forcecommand{\\xv}{{\\boldsymbol{x}}}$\n",
    "$\\forcecommand{\\av}{{\\boldsymbol{a}}}$\n",
    "$\\forcecommand{\\bv}{{\\boldsymbol{b}}}$\n",
    "$\\forcecommand{\\cv}{{\\boldsymbol{c}}}$\n",
    "$\\forcecommand{\\dv}{{\\boldsymbol{d}}}$\n",
    "$\\forcecommand{\\ev}{{\\boldsymbol{e}}}$\n",
    "$\\forcecommand{\\fv}{{\\boldsymbol{f}}}$\n",
    "$\\forcecommand{\\gv}{{\\boldsymbol{g}}}$\n",
    "$\\forcecommand{\\hv}{{\\boldsymbol{h}}}$\n",
    "$\\forcecommand{\\nv}{{\\boldsymbol{n}}}$\n",
    "$\\forcecommand{\\sv}{{\\boldsymbol{s}}}$\n",
    "$\\forcecommand{\\tv}{{\\boldsymbol{t}}}$\n",
    "$\\forcecommand{\\uv}{{\\boldsymbol{u}}}$\n",
    "$\\forcecommand{\\vv}{{\\boldsymbol{v}}}$\n",
    "$\\forcecommand{\\wv}{{\\boldsymbol{w}}}$\n",
    "$\\forcecommand{\\zerov}{{\\mathbf{0}}}$\n",
    "$\\forcecommand{\\onev}{{\\mathbf{0}}}$\n",
    "$\\forcecommand{\\phiv}{{\\boldsymbol{\\phi}}}$\n",
    "$\\forcecommand{\\cc}{{\\check{C}}}$\n",
    "$\\forcecommand{\\xv}{{\\boldsymbol{x}}}$\n",
    "$\\forcecommand{\\Xv}{{\\boldsymbol{X}\\!}}$\n",
    "$\\forcecommand{\\yv}{{\\boldsymbol{y}}}$\n",
    "$\\forcecommand{\\Yv}{{\\boldsymbol{Y}}}$\n",
    "$\\forcecommand{\\zv}{{\\boldsymbol{z}}}$\n",
    "$\\forcecommand{\\Zv}{{\\boldsymbol{Z}}}$\n",
    "$\\forcecommand{\\Iv}{{\\boldsymbol{I}}}$\n",
    "$\\forcecommand{\\Jv}{{\\boldsymbol{J}}}$\n",
    "$\\forcecommand{\\Cv}{{\\boldsymbol{C}}}$\n",
    "$\\forcecommand{\\Ev}{{\\boldsymbol{E}}}$\n",
    "$\\forcecommand{\\Fv}{{\\boldsymbol{F}}}$\n",
    "$\\forcecommand{\\Gv}{{\\boldsymbol{G}}}$\n",
    "$\\forcecommand{\\Hv}{{\\boldsymbol{H}}}$\n",
    "$\\forcecommand{\\alphav}{{\\boldsymbol{\\alpha}}}$\n",
    "$\\forcecommand{\\epsilonv}{{\\boldsymbol{\\epsilon}}}$\n",
    "$\\forcecommand{\\betav}{{\\boldsymbol{\\beta}}}$\n",
    "$\\forcecommand{\\deltav}{{\\boldsymbol{\\delta}}}$\n",
    "$\\forcecommand{\\gammav}{{\\boldsymbol{\\gamma}}}$\n",
    "$\\forcecommand{\\etav}{{\\boldsymbol{\\eta}}}$\n",
    "$\\forcecommand{\\piv}{{\\boldsymbol{\\pi}}}$\n",
    "$\\forcecommand{\\thetav}{{\\boldsymbol{\\theta}}}$\n",
    "$\\forcecommand{\\tauv}{{\\boldsymbol{\\tau}}}$\n",
    "$\\forcecommand{\\muv}{{\\boldsymbol{\\mu}}}$\n",
    "$%$\n",
    "$\\forcecommand{\\sd}{\\text{SD}}$\n",
    "$\\forcecommand{\\se}{\\text{SE}}$\n",
    "$\\forcecommand{\\med}{\\text{median}}$\n",
    "$\\forcecommand{\\median}{\\text{median}}$\n",
    "$%$\n",
    "$\\forcecommand{\\supp}{\\text{supp}}$\n",
    "$\\forcecommand{\\E}{\\mathbb{E}}$\n",
    "$\\forcecommand{\\var}{\\text{Var}}$\n",
    "$\\forcecommand{\\Ber}{{\\text{Ber}}}$\n",
    "$\\forcecommand{\\Bin}{{\\text{Bin}}}$\n",
    "$\\forcecommand{\\Geo}{{\\text{Geo}}}$\n",
    "$\\forcecommand{\\Unif}{{\\text{Unif}}}$\n",
    "$\\forcecommand{\\Poi}{{\\text{Poi}}}$\n",
    "$\\forcecommand{\\Exp}{{\\text{Exp}}}$\n",
    "$\\forcecommand{\\Chisq}{{\\chi^2}}$\n",
    "$\\forcecommand{\\N}{\\mathbb{N}}$\n",
    "$\\forcecommand{\\iid}{{\\stackrel{iid}{\\sim}}}$\n",
    "$\\forcecommand{\\px}{p_{X}}$\n",
    "$\\forcecommand{\\fx}{f_{X}}$\n",
    "$\\forcecommand{\\Fx}{F_{X}}$\n",
    "$\\forcecommand{\\py}{p_{Y}}$\n",
    "$\\forcecommand{\\pxy}{p_{X,Y}}$\n",
    "$\\forcecommand{\\po}{{p_0}}$\n",
    "$\\forcecommand{\\pa}{{p_a}}$\n",
    "$\\forcecommand{\\Xbar}{\\overline{X}}$\n",
    "$\\forcecommand{\\Ybar}{\\overline{Y}}$\n",
    "$\\forcecommand{\\Zbar}{\\overline{Z}}$\n",
    "$\\forcecommand{\\nXbar}{n \\cdot \\overline{X}}$\n",
    "$\\forcecommand{\\nYbar}{n \\cdot \\overline{Y}}$\n",
    "$\\forcecommand{\\nZbar}{n \\cdot \\overline{Z}}$\n",
    "$\\forcecommand{\\Xn}{X_1, X_2, \\dots, X_n}$\n",
    "$\\forcecommand{\\Xm}{{X_1, X_2, \\dots, X_m}}$\n",
    "$\\forcecommand{\\Yn}{Y_1, Y_2, \\dots, Y_n}$\n",
    "$\\forcecommand{\\Ym}{{Y_1, Y_2, \\dots, Y_m}}$\n",
    "$\\forcecommand{\\sumXn}{X_1 + X_2 + \\dots + X_n}$\n",
    "$\\forcecommand{\\sumym}{Y_1 + Y_2 + \\dots + Y_m}$\n",
    "$\\forcecommand{\\la}{\\ell_\\alpha}$\n",
    "$\\forcecommand{\\ua}{u_\\alpha}$\n",
    "$\\forcecommand{\\at}{{\\alpha/2}}$\n",
    "$\\forcecommand{\\mux}{\\mu_{X}}$\n",
    "$\\forcecommand{\\muy}{\\mu_{Y}}$\n",
    "$\\forcecommand{\\sx}{\\sigma_{X}}$\n",
    "$\\forcecommand{\\sy}{\\sigma_{Y}}$\n",
    "$\\forcecommand{\\ci}{\\text{CI}}$\n",
    "$\\forcecommand{\\pvalue}{$p$-value}$\n",
    "$\\forcecommand{\\Ho}{H_{0}}$\n",
    "$\\forcecommand{\\Ha}{H_{a}}$\n",
    "\n",
    "\\vskip-\\parskip\n",
    "\\vskip-\\baselineskip\n",
    "</div>"
   ]
  },
  {
   "cell_type": "markdown",
   "id": "fbfec7ec",
   "metadata": {},
   "source": [
    "---"
   ]
  },
  {
   "cell_type": "markdown",
   "id": "15c6dc53",
   "metadata": {},
   "source": [
    "## Key Takeaways from Week 8"
   ]
  },
  {
   "cell_type": "markdown",
   "id": "cc992f31",
   "metadata": {},
   "source": [
    "\n",
    "#### Tuesday: \n",
    "\n",
    "Discussed issues with making y as a standard quantiative response for categorical regression. As a solution, viewed a new model and application of Odds, Log Odds and logistic regression."
   ]
  },
  {
   "cell_type": "markdown",
   "id": "6d69de7b",
   "metadata": {},
   "source": [
    "#### Thursday\n",
    "\n",
    "Finished the rest of logistic regression with model visualization with the confusion matrix and ROC curve. Then went into m-logit regression where the reponse variable takles on multiple categories. Discussed the setup for this model how the coefficients change relative to the regular logistic regression.\n"
   ]
  },
  {
   "cell_type": "markdown",
   "id": "aaadbca8",
   "metadata": {},
   "source": [
    "---"
   ]
  },
  {
   "cell_type": "markdown",
   "id": "c2d78965",
   "metadata": {},
   "source": [
    "## Tue, May 21"
   ]
  },
  {
   "cell_type": "markdown",
   "id": "5f374b82",
   "metadata": {},
   "source": [
    "<br></br>"
   ]
  },
  {
   "cell_type": "markdown",
   "id": "2915e324",
   "metadata": {},
   "source": [
    "### Regression with categorical response"
   ]
  },
  {
   "cell_type": "markdown",
   "id": "a185ff2d",
   "metadata": {},
   "source": [
    "> #### Issue with treating $y$ as a standard quantiative response\n",
    "\n",
    "The resulting numbers do not physically correspond with the data. If you were to take them as probabilities, you want the predictions to be within the 0 and 1 probability model."
   ]
  },
  {
   "cell_type": "markdown",
   "id": "bc8ed449",
   "metadata": {},
   "source": [
    "<br></br>"
   ]
  },
  {
   "cell_type": "markdown",
   "id": "25eae9c0",
   "metadata": {},
   "source": [
    "> #### Remedy for the case when $y$ is binary categorical\n",
    "\n",
    "Want a model where\n",
    "\n",
    "$$\n",
    "(x_1, x_2, \\dots, x_p) \\mapsto p(x_1, x_2, \\dots, x_p)\n",
    "$$\n",
    "\n",
    "where\n",
    "\n",
    "$$\n",
    "p(x_1, x_2, \\dots, x_p) = \\pr(y = 1 \\mid x_1, x_2, \\dots, x_p)\n",
    "$$\n"
   ]
  },
  {
   "cell_type": "markdown",
   "id": "5a46a115",
   "metadata": {},
   "source": [
    "<br></br>"
   ]
  },
  {
   "cell_type": "markdown",
   "id": "49d3c4b4",
   "metadata": {},
   "source": [
    "> #### Odds\n",
    "\n",
    "Ex.\n",
    "\n",
    "$$\n",
    "\\frac{P(\\text{Up})}{P(\\text{Down})} = \\frac{0.3}{0.7}\n",
    "$$\n",
    "\n",
    "Odds\n",
    "\n",
    "$$\n",
    "\\text{odds}(A) = \\frac{P(A)}{P(A^c)} = \\frac{P(A)}{1-P(A)}"
   ]
  },
  {
   "cell_type": "markdown",
   "id": "bdcb48af",
   "metadata": {},
   "source": [
    "<br></br>"
   ]
  },
  {
   "cell_type": "markdown",
   "id": "80329148",
   "metadata": {},
   "source": [
    "> #### log-Odds\n",
    "\n",
    "log-odds($A$) $\\in (-\\infty, \\infty)$\n",
    "\n",
    "$$\n",
    "\\text{log odds}({y=1 | x_1, \\dots, x_p}) \\\n",
    "= \\log \\frac{P(A)}{P(A^c)}\n",
    "= \\log \\frac{P(y=1|x_1, \\dots, x_p)}{P(y=0|x-1, \\dots, x_p)}"
   ]
  },
  {
   "cell_type": "markdown",
   "id": "bb43b873",
   "metadata": {},
   "source": [
    "<br></br>"
   ]
  },
  {
   "cell_type": "markdown",
   "id": "db815b83",
   "metadata": {},
   "source": [
    "> #### Logistic Function\n",
    "The main point of the logistic function is to \n",
    "\n",
    "$$\n",
    "\\text{log odds}({y=1 | x_1, \\dots, x_p}) = \\beta_0 + \\beta_1 x_1 + \\beta_2 x_2 \\dots + \\beta_p x_p\n",
    "\n",
    "$$\n",
    "\n",
    "\\\n",
    "\n",
    "$$\n",
    "\\implies odds(y=1 | x_1, \\dots, x_p) = \\exp(\\beta_0 + \\beta_1 x_1 + \\beta_2 x_2 \\dots + \\beta_p x_p ) \\\\ \n",
    "$$\n",
    "\\\n",
    "$$\n",
    "\\implies \\frac{P(y=1|x_1, \\dots, x_p)}{P(y=0|x_1, \\dots, x_p)} = \\exp(\\beta_0 + \\beta_1 x_1 + \\beta_2 x_2 \\dots + \\beta_p x_p ) \\\\\n",
    "$$\n",
    "\\\n",
    "$$\n",
    "\\implies \\frac{P(y=1|x_1, \\dots, x_p)}{1 - P(y=1|x_1, \\dots, x_p)} = \\exp(\\beta_0 + \\beta_1 x_1 + \\beta_2 x_2 \\dots + \\beta_p x_p )\n",
    "$$"
   ]
  },
  {
   "cell_type": "markdown",
   "id": "ea979c5b",
   "metadata": {},
   "source": [
    "<br></br>"
   ]
  },
  {
   "cell_type": "markdown",
   "id": "f3f29d1e",
   "metadata": {},
   "source": [
    "> #### Logistic Regression\n",
    "The way logistic regression remedies the issue of standard regression for a categorical response is \n",
    "\n",
    "$$\n",
    "P(y=1|x_1, \\dots, x_p) = \\sigma(\\beta_0 + \\beta_1 x_1 + \\beta_2 x_2 + \\dots + \\beta_p x_p)\n",
    "$$"
   ]
  },
  {
   "cell_type": "markdown",
   "id": "59065ae4",
   "metadata": {},
   "source": [
    "Sigmoid function bridges the gap between log odds and probability to make the logistic function\n",
    "* It is the probability of the response variable being a 1 is given by the logistic function"
   ]
  },
  {
   "cell_type": "markdown",
   "id": "e9684cad",
   "metadata": {},
   "source": [
    "<br></br>"
   ]
  },
  {
   "cell_type": "markdown",
   "id": "e8104943",
   "metadata": {},
   "source": [
    "> #### Interpretation of the coefficients\n",
    "...\n",
    "\n",
    "##### 1. Coefficient of continuous covariate\n",
    "\n",
    "It is the sensitivity of the log odds from a minor change in the covariate.\n",
    "* Interpratation is exponentiated\n",
    "\n",
    "$$\n",
    "\\frac{d}{d x_i} \\text{log-odds} (y=1|x_1,\\dots,x_p) = \\beta_i\n",
    "$$\n",
    "\n",
    "##### 2. Coefficient of categorical covariate\n",
    "\n",
    "It is interpretating the change from one factor to another\n",
    "\n"
   ]
  },
  {
   "cell_type": "markdown",
   "id": "8f2c774d",
   "metadata": {},
   "source": [
    "<br></br>"
   ]
  },
  {
   "cell_type": "markdown",
   "id": "b88c725f",
   "metadata": {},
   "source": [
    "### Odds ratio\n",
    "\n",
    "$$\n",
    "\\text{odds-ratio}(A:B) = \\frac{odds(A)}{odds(B)}\n",
    "$$\n",
    "\n",
    "$$\n",
    "A = {y=1 | x_1, \\dots x_p \\text{ and } x_i = x_i} \\\\\n",
    "B = {y=1 | x_1, \\dots x_p \\text{ and } x_i = x_i + 1}\n",
    "$$\n",
    "\n",
    "$$\n",
    "\\text{odds}(A) = \\text{odds}(y=1 | x_1, \\dots x_p \\text{ add } x_i = x_i) = \\exp(\\beta_0 + \\dots + \\beta_p x_p + \\beta_i x_i) \\\\\n",
    "\\text{odds}(B) = \\text{odds}(y=1 | x_1, \\dots x_p \\text{ add } x_i = x_i + 1) = \\exp(\\beta_0 + \\dots + \\beta_p x_p + \\beta_i x_i + \\beta_i)\n",
    "$$\n",
    "\n",
    "$$\n",
    "\\text{odds-ratio}(B:A) = \\frac{exp(\\beta_0 + \\dots + \\beta_p x_p + \\beta_i x_i + \\beta_i)}{exp(\\beta_0 + \\dots + \\beta_p x_p + \\beta_i x_i)}\n",
    "$$"
   ]
  },
  {
   "cell_type": "markdown",
   "id": "9478b4aa",
   "metadata": {},
   "source": [
    "$\\exp(\\beta_i)$ is the relative change in odds for a one unit change in $x_i$ holding all other variables constant"
   ]
  },
  {
   "cell_type": "markdown",
   "id": "dc05a1db",
   "metadata": {},
   "source": [
    "if $\\beta_i < 0$  implies that one unit increase in $x_i$ decreaess the odds of the reponse variable $y=1$ \\\n",
    "if $\\beta_i > 0$  implies that one unit increase in $x_i$ increases the odds of the reponse variable $y=1$\n"
   ]
  },
  {
   "cell_type": "markdown",
   "id": "c2d12e6d",
   "metadata": {},
   "source": [
    "> #### Maximum likelihood\n",
    "Under the hood, the logistic regression model is equivalent to maximum likelihood estimation. The explanation is as follows \n",
    "\n",
    "$$\\begin{aligned}\n",
    "&\\text{log-odds}(\\{ y=1 \\mid x_1, x_2, \\dots, x_p \\}) \\\\\n",
    "&\\quad= \\log\\frac{\\pr(A)}{\\pr(A^c)}\\\\ \n",
    "&\\quad= \\log\\Bigg(\\frac{\\pr(y=1 \\mid x_1, x_2, \\dots, x_p)}{\\pr(y=0 \\mid x_1, x_2, \\dots, x_p)}\\Bigg)\n",
    "\\end{aligned}\n",
    "$$\n",
    "\n",
    "log-likelihood\n",
    "\n",
    "\\begin{aligned}\n",
    "\\ell(\\betav) &= \\sum_{i=1}^n y_i \\log(p(x_i)) + (1 - y_i) \\log(1 - p(x_i))\\\\ \\\\\n",
    "&= \\sum_{i=1}^n y_i \\log\\Big(\\frac{p(x_i)}{1 - p(x_i)}\\Big) + \\log(1 - p(x_i))\n",
    "\\end{aligned}\n",
    "$$\n"
   ]
  },
  {
   "cell_type": "markdown",
   "id": "d834f8de",
   "metadata": {},
   "source": [
    "<br></br>"
   ]
  },
  {
   "cell_type": "markdown",
   "id": "1f42d865",
   "metadata": {},
   "source": [
    "> #### Diagnostics\n",
    "There are several ways to diagnose the logistic regression model fit. These include \n",
    "\n",
    "Assumptions\n",
    "\n",
    "$$\n",
    "y|x_1, \\dots, x_p \\sim Ber(p(x_i))\n",
    "$$\n",
    "Response variable is a Bernoulli\n",
    "\n",
    "$$\n",
    "\\sigma^-1(p(x)) = \\beta_0 + \\beta_1 x_1 + \\dots + \\beta_p x_p\n",
    "$$\n",
    "\n",
    "Fitted values and residuals\n",
    "\n",
    "Predicted probabilities\n",
    "$$\n",
    "\\hat y = \\hat p(x) = \\sigma(\\hat \\beta(x))\n",
    "$$\n",
    "\n",
    "$$\n",
    "\\hat\\beta(x) = \\hat\\beta_0 + \\hat\\beta_1 x_1 + \\dots \\hat\\beta_p x_p\n",
    "$$"
   ]
  },
  {
   "cell_type": "markdown",
   "id": "8ab51602",
   "metadata": {},
   "source": [
    "Standardized residuals\n",
    "\n",
    "\n",
    "$$\n",
    "\\hat\\epsilon_i = \\frac{y_i - p(x_i)}{\\sqrt{p(x_i) \\times (1-p(x_i))}}\n",
    "$$"
   ]
  },
  {
   "cell_type": "markdown",
   "id": "fe0d1579",
   "metadata": {},
   "source": [
    "<br></br>"
   ]
  },
  {
   "cell_type": "markdown",
   "id": "859e33e3",
   "metadata": {},
   "source": [
    "# MAY 23rd Starts HERE"
   ]
  },
  {
   "cell_type": "markdown",
   "id": "e686ac3f",
   "metadata": {},
   "source": [
    "For two of the most popular techniques for assessing model fit in logistic regression, the intuition is as follows:\n",
    "\n",
    "**1. Confusion matrix**\n",
    "\n",
    "| $\\phantom{1}$ | Predicted 0 | Predicted 1 |\n",
    "|---|---|---|\n",
    "| Actual 0 | True Negative | False Positive |\n",
    "| Actual 1 | False Negative | True Positive |\n",
    "\n",
    "\n",
    "**2. ROC Curve**\n",
    "\n",
    "ROC curve represents trade off between true positive rate and false posistive rate for every possible cutoff value\n"
   ]
  },
  {
   "attachments": {
    "image.png": {
     "image/png": "[encoded data removed]"
    }
   },
   "cell_type": "markdown",
   "id": "a1c70a09",
   "metadata": {},
   "source": [
    "![image.png](attachment:image.png)"
   ]
  },
  {
   "cell_type": "markdown",
   "id": "8edc695a",
   "metadata": {},
   "source": [
    "<br></br>"
   ]
  },
  {
   "cell_type": "markdown",
   "id": "5a2cc0d6",
   "metadata": {},
   "source": [
    "### Regression with categorical response with multiple levels"
   ]
  },
  {
   "cell_type": "markdown",
   "id": "a8ebf81b",
   "metadata": {},
   "source": [
    "When the response variable $y$ has more than two levels, we can extend the logistic regression model to **multinomial logistic regression**. The main idea is \n",
    "\n",
    "that when fitting an OLS model to categorical data, it leads ot inconsistent predictions."
   ]
  },
  {
   "cell_type": "markdown",
   "id": "aa4b5b73",
   "metadata": {},
   "source": [
    "<br></br>"
   ]
  },
  {
   "cell_type": "markdown",
   "id": "b5827689",
   "metadata": {},
   "source": [
    "Model assuems that regression model is a generalization of the logistic regression model where the response variable can take on more than two values\n",
    "\n",
    "$$\n",
    "y \\mid x \\sim \\text{Categorical}(\\pi(x))\n",
    "$$"
   ]
  },
  {
   "cell_type": "markdown",
   "id": "6b303212",
   "metadata": {},
   "source": [
    "Model has distribution \n",
    "\n",
    "$$\n",
    "\\begin{aligned}\n",
    "\\pr(X = i) &= p_i \\quad \\quad \\text{for } i = 0, 1, 2, \\dots, k-1 \\\\\n",
    "\\end{aligned}\n",
    "$$\n",
    "\n",
    "$$\n",
    "\\begin{aligned}\n",
    "0 \\le p_i &\\le 1 \\quad \\quad \\text{for } i = 0, 1, 2, \\dots, k-1 \\\\\n",
    "\\sum_{i=1}^k p_i &= 1\n",
    "\\end{aligned}\n",
    "$$"
   ]
  },
  {
   "cell_type": "markdown",
   "id": "d037c339",
   "metadata": {},
   "source": [
    "> #### Interpretation of the coefficients\n",
    "\n",
    "$$\n",
    "\\begin{aligned}\n",
    "\\pi(x) &= (\\pi_1(x), \\pi_2(x), \\dots, \\pi_k(x))\\\\ \\\\\n",
    "\\pi_i(x) &= \\pr(y = i | x) \\quad \\quad \\text{for } i = 2, 3, 4 \\dots, k\n",
    "\\end{aligned}\n",
    "$$\n",
    "\n",
    "\n",
    "<br></br>\n",
    "\n",
    "If we were to fit a multinomial logistic regression model to the data, the interpretation of the coefficients would be ..."
   ]
  },
  {
   "cell_type": "markdown",
   "id": "d77a3346",
   "metadata": {},
   "source": [
    "$$\n",
    "\\pi_1(x) = 1 - \\sum_{i=2}^{k} \\pi_i(x)\n",
    "$$"
   ]
  },
  {
   "cell_type": "markdown",
   "id": "1a47a8a2",
   "metadata": {},
   "source": [
    "$$\n",
    "Ber(p) = \\text{Categorical}(1-p, p)\n",
    "$$"
   ]
  },
  {
   "cell_type": "markdown",
   "id": "ff1fb385",
   "metadata": {},
   "source": [
    "With events A and B\n",
    "\n",
    "* $A = \\{y=i \\mid x_1, x_2, \\dots, x_p\\quad \\text{and} \\quad x_j = x_j\\}$\n",
    "* $B = \\{y=i \\mid x_1, x_2, \\dots, x_p \\quad \\text{and} \\quad x_j = x_j + 1\\}$\n",
    "\n",
    "Then\n",
    "\n",
    "$$\n",
    "\\text{odds-ratio}(B:A) = \\exp({\\beta_{ij}})\n",
    "$$"
   ]
  },
  {
   "cell_type": "markdown",
   "id": "949c9187",
   "metadata": {},
   "source": [
    "<br></br>\n",
    "<br></br>\n",
    "<br></br>"
   ]
  },
  {
   "cell_type": "markdown",
   "id": "f15473cf",
   "metadata": {},
   "source": [
    "---\n",
    "---"
   ]
  }
 ],
 "metadata": {
  "celltoolbar": "Slideshow",
  "hide_input": false,
  "kernelspec": {
   "display_name": "Python 3 (ipykernel)",
   "language": "python",
   "name": "python3"
  },
  "language_info": {
   "codemirror_mode": {
    "name": "ipython",
    "version": 3
   },
   "file_extension": ".py",
   "mimetype": "text/x-python",
   "name": "python",
   "nbconvert_exporter": "python",
   "pygments_lexer": "ipython3",
   "version": "3.12.1"
  },
  "toc": {
   "base_numbering": 2
  }
 },
 "nbformat": 4,
 "nbformat_minor": 5
}
