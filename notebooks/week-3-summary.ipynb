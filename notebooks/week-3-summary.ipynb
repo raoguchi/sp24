{
 "cells": [
  {
   "cell_type": "markdown",
   "id": "d499b8cf",
   "metadata": {},
   "source": [
    "# Week 3 Summary\n",
    "> NAME: $\\color{red}{\\text{    <Insert Your Name Here>     }}$\n",
    "> \n",
    "> PID: $\\color{red}{\\text{    <Insert Your ID Here>     }}$\n",
    ">\n",
    "> \n",
    "---"
   ]
  },
  {
   "cell_type": "markdown",
   "id": "1bce0cf8",
   "metadata": {},
   "source": [
    "I certify that the following write-up is my own work, and have abided by the UCSD Academic Integrity Guidelines.\n",
    "\n",
    "- [x] Yes\n",
    "- [ ] No"
   ]
  },
  {
   "cell_type": "markdown",
   "id": "6a1c41b1",
   "metadata": {},
   "source": [
    "% # %load tex-macros\n",
    "<div hidden>\n",
    "\\newcommand{\\require}[1]{}\n",
    "\n",
    "$\\require{begingroup}\\require{newcommand}$\n",
    "$\\long\\def \\forcecommand #1{\\providecommand{#1}{}\\renewcommand{#1}}$\n",
    "$\\forcecommand{\\defeq}{\\stackrel{\\small\\bullet}{=}}$\n",
    "$\\forcecommand{\\ra}{\\rangle}$\n",
    "$\\forcecommand{\\la}{\\langle}$\n",
    "$\\forcecommand{\\pr}{{\\mathbb P}}$\n",
    "$\\forcecommand{\\qr}{{\\mathbb Q}}$\n",
    "$\\forcecommand{\\xv}{{\\boldsymbol{x}}}$\n",
    "$\\forcecommand{\\av}{{\\boldsymbol{a}}}$\n",
    "$\\forcecommand{\\bv}{{\\boldsymbol{b}}}$\n",
    "$\\forcecommand{\\cv}{{\\boldsymbol{c}}}$\n",
    "$\\forcecommand{\\dv}{{\\boldsymbol{d}}}$\n",
    "$\\forcecommand{\\ev}{{\\boldsymbol{e}}}$\n",
    "$\\forcecommand{\\fv}{{\\boldsymbol{f}}}$\n",
    "$\\forcecommand{\\gv}{{\\boldsymbol{g}}}$\n",
    "$\\forcecommand{\\hv}{{\\boldsymbol{h}}}$\n",
    "$\\forcecommand{\\nv}{{\\boldsymbol{n}}}$\n",
    "$\\forcecommand{\\sv}{{\\boldsymbol{s}}}$\n",
    "$\\forcecommand{\\tv}{{\\boldsymbol{t}}}$\n",
    "$\\forcecommand{\\uv}{{\\boldsymbol{u}}}$\n",
    "$\\forcecommand{\\vv}{{\\boldsymbol{v}}}$\n",
    "$\\forcecommand{\\wv}{{\\boldsymbol{w}}}$\n",
    "$\\forcecommand{\\zerov}{{\\mathbf{0}}}$\n",
    "$\\forcecommand{\\onev}{{\\mathbf{0}}}$\n",
    "$\\forcecommand{\\phiv}{{\\boldsymbol{\\phi}}}$\n",
    "$\\forcecommand{\\cc}{{\\check{C}}}$\n",
    "$\\forcecommand{\\xv}{{\\boldsymbol{x}}}$\n",
    "$\\forcecommand{\\Xv}{{\\boldsymbol{X}\\!}}$\n",
    "$\\forcecommand{\\yv}{{\\boldsymbol{y}}}$\n",
    "$\\forcecommand{\\Yv}{{\\boldsymbol{Y}}}$\n",
    "$\\forcecommand{\\zv}{{\\boldsymbol{z}}}$\n",
    "$\\forcecommand{\\Zv}{{\\boldsymbol{Z}}}$\n",
    "$\\forcecommand{\\Iv}{{\\boldsymbol{I}}}$\n",
    "$\\forcecommand{\\Jv}{{\\boldsymbol{J}}}$\n",
    "$\\forcecommand{\\Cv}{{\\boldsymbol{C}}}$\n",
    "$\\forcecommand{\\Ev}{{\\boldsymbol{E}}}$\n",
    "$\\forcecommand{\\Fv}{{\\boldsymbol{F}}}$\n",
    "$\\forcecommand{\\Gv}{{\\boldsymbol{G}}}$\n",
    "$\\forcecommand{\\Hv}{{\\boldsymbol{H}}}$\n",
    "$\\forcecommand{\\alphav}{{\\boldsymbol{\\alpha}}}$\n",
    "$\\forcecommand{\\epsilonv}{{\\boldsymbol{\\epsilon}}}$\n",
    "$\\forcecommand{\\betav}{{\\boldsymbol{\\beta}}}$\n",
    "$\\forcecommand{\\deltav}{{\\boldsymbol{\\delta}}}$\n",
    "$\\forcecommand{\\gammav}{{\\boldsymbol{\\gamma}}}$\n",
    "$\\forcecommand{\\etav}{{\\boldsymbol{\\eta}}}$\n",
    "$\\forcecommand{\\piv}{{\\boldsymbol{\\pi}}}$\n",
    "$\\forcecommand{\\thetav}{{\\boldsymbol{\\theta}}}$\n",
    "$\\forcecommand{\\tauv}{{\\boldsymbol{\\tau}}}$\n",
    "$\\forcecommand{\\muv}{{\\boldsymbol{\\mu}}}$\n",
    "$%$\n",
    "$\\forcecommand{\\sd}{\\text{SD}}$\n",
    "$\\forcecommand{\\se}{\\text{SE}}$\n",
    "$\\forcecommand{\\med}{\\text{median}}$\n",
    "$\\forcecommand{\\median}{\\text{median}}$\n",
    "$%$\n",
    "$\\forcecommand{\\supp}{\\text{supp}}$\n",
    "$\\forcecommand{\\E}{\\mathbb{E}}$\n",
    "$\\forcecommand{\\var}{\\text{Var}}$\n",
    "$\\forcecommand{\\Ber}{{\\text{Ber}}}$\n",
    "$\\forcecommand{\\Bin}{{\\text{Bin}}}$\n",
    "$\\forcecommand{\\Geo}{{\\text{Geo}}}$\n",
    "$\\forcecommand{\\Unif}{{\\text{Unif}}}$\n",
    "$\\forcecommand{\\Poi}{{\\text{Poi}}}$\n",
    "$\\forcecommand{\\Exp}{{\\text{Exp}}}$\n",
    "$\\forcecommand{\\Chisq}{{\\chi^2}}$\n",
    "$\\forcecommand{\\N}{\\mathbb{N}}$\n",
    "$\\forcecommand{\\iid}{{\\stackrel{iid}{\\sim}}}$\n",
    "$\\forcecommand{\\px}{p_{X}}$\n",
    "$\\forcecommand{\\fx}{f_{X}}$\n",
    "$\\forcecommand{\\Fx}{F_{X}}$\n",
    "$\\forcecommand{\\py}{p_{Y}}$\n",
    "$\\forcecommand{\\pxy}{p_{X,Y}}$\n",
    "$\\forcecommand{\\po}{{p_0}}$\n",
    "$\\forcecommand{\\pa}{{p_a}}$\n",
    "$\\forcecommand{\\Xbar}{\\overline{X}}$\n",
    "$\\forcecommand{\\Ybar}{\\overline{Y}}$\n",
    "$\\forcecommand{\\Zbar}{\\overline{Z}}$\n",
    "$\\forcecommand{\\nXbar}{n \\cdot \\overline{X}}$\n",
    "$\\forcecommand{\\nYbar}{n \\cdot \\overline{Y}}$\n",
    "$\\forcecommand{\\nZbar}{n \\cdot \\overline{Z}}$\n",
    "$\\forcecommand{\\Xn}{X_1, X_2, \\dots, X_n}$\n",
    "$\\forcecommand{\\Xm}{{X_1, X_2, \\dots, X_m}}$\n",
    "$\\forcecommand{\\Yn}{Y_1, Y_2, \\dots, Y_n}$\n",
    "$\\forcecommand{\\Ym}{{Y_1, Y_2, \\dots, Y_m}}$\n",
    "$\\forcecommand{\\sumXn}{X_1 + X_2 + \\dots + X_n}$\n",
    "$\\forcecommand{\\sumym}{Y_1 + Y_2 + \\dots + Y_m}$\n",
    "$\\forcecommand{\\la}{\\ell_\\alpha}$\n",
    "$\\forcecommand{\\ua}{u_\\alpha}$\n",
    "$\\forcecommand{\\at}{{\\alpha/2}}$\n",
    "$\\forcecommand{\\mux}{\\mu_{X}}$\n",
    "$\\forcecommand{\\muy}{\\mu_{Y}}$\n",
    "$\\forcecommand{\\sx}{\\sigma_{X}}$\n",
    "$\\forcecommand{\\sy}{\\sigma_{Y}}$\n",
    "$\\forcecommand{\\ci}{\\text{CI}}$\n",
    "$\\forcecommand{\\pvalue}{$p$-value}$\n",
    "$\\forcecommand{\\Ho}{H_{0}}$\n",
    "$\\forcecommand{\\Ha}{H_{a}}$\n",
    "\n",
    "\\vskip-\\parskip\n",
    "\\vskip-\\baselineskip\n",
    "</div>"
   ]
  },
  {
   "cell_type": "code",
   "execution_count": null,
   "id": "bb0120db",
   "metadata": {},
   "outputs": [],
   "source": [
    "import numpy as np\n",
    "import scipy\n",
    "from scipy import stats as stats\n",
    "\n",
    "import statsmodels\n",
    "import statsmodels.api as sm"
   ]
  },
  {
   "cell_type": "markdown",
   "id": "fbfec7ec",
   "metadata": {},
   "source": [
    "---"
   ]
  },
  {
   "cell_type": "markdown",
   "id": "15c6dc53",
   "metadata": {},
   "source": [
    "## Key Takeaways from Week 3"
   ]
  },
  {
   "cell_type": "markdown",
   "id": "cc992f31",
   "metadata": {},
   "source": [
    "\n",
    "#### Tuesday: \n",
    "\n",
    "... insert your key takeaways here ..."
   ]
  },
  {
   "cell_type": "markdown",
   "id": "6d69de7b",
   "metadata": {},
   "source": [
    "#### Thursday\n",
    "\n",
    "... insert your takeaway here ...\n"
   ]
  },
  {
   "cell_type": "markdown",
   "id": "aaadbca8",
   "metadata": {},
   "source": [
    "---"
   ]
  },
  {
   "cell_type": "markdown",
   "id": "c2d78965",
   "metadata": {},
   "source": [
    "## Tue, Apr 16th"
   ]
  },
  {
   "cell_type": "markdown",
   "id": "47be1676",
   "metadata": {},
   "source": [
    "#### Coverage probability\n",
    "\n",
    "The coverage probability of a confidence interval is ..."
   ]
  },
  {
   "cell_type": "markdown",
   "id": "59cf0f47",
   "metadata": {},
   "source": [
    "---"
   ]
  },
  {
   "cell_type": "markdown",
   "id": "936f2611",
   "metadata": {},
   "source": [
    "#### Examples (continued from week 2)"
   ]
  },
  {
   "cell_type": "markdown",
   "id": "084420dd",
   "metadata": {},
   "source": [
    "§3. One sample Mean (with unknown variance)\n",
    "\n",
    "| Description | Answer |\n",
    "|:---|:---|\n",
    "| Assumption | $\\Xn \\sim ...$ |\n",
    "| Population parameter | $\\theta = ...$ |\n",
    "| Statistic | $\\hat\\theta = ...$ |\n",
    "| Standard Error | $\\se(\\hat\\theta) = \\hat\\sigma / \\sqrt{n}$ |\n",
    "| Sampling distribution | $D_{\\hat\\theta} = ...$ |\n",
    "\n",
    "The **93\\% confidence interval** for $\\theta$ is given by\n",
    "\n",
    "$$\n",
    "\\ci(\\theta, \\alpha) = [\\hat\\mu - t_{n-1;1-\\alpha/2} \\cdot SE, \\hat\\mu + t_{n-1;1-\\alpha/2} \\cdot SE]\n",
    "$$"
   ]
  },
  {
   "cell_type": "markdown",
   "id": "4020b164",
   "metadata": {},
   "source": [
    "Assume n=20 for hours of sleep $X_i = \\text{number of hours respondent sleeps}$. The true $\\mu$ is 7.2 hours"
   ]
  },
  {
   "cell_type": "markdown",
   "id": "71dd5c44",
   "metadata": {},
   "source": [
    "Z vs T quantile results\n",
    "- As $\\alpha = 0.05$\n",
    "- z coverage is about 0.9218\n",
    "- t coverage is 0.9556\n",
    "- Guarantees are different; z coverage is anti-conservative, and is doing worse\n",
    "- As degree of freedom increases, the z coverage looks like the t coverage"
   ]
  },
  {
   "cell_type": "markdown",
   "id": "ebb337e9",
   "metadata": {},
   "source": [
    "---"
   ]
  },
  {
   "cell_type": "markdown",
   "id": "0d3a88e3",
   "metadata": {},
   "source": [
    "§1. Difference of two means (with unknown variances)\n",
    "\n",
    "| Description | Answer |\n",
    "|:---|:---|\n",
    "| Assumption | $\\Xn \\sim N(\\mu_x,\\sigma^2 _x)$ and $\\Ym \\sim N(\\mu_y,\\sigma^2 _y)$ |\n",
    "| Population parameter | $\\theta = \\theta_x , \\theta_y$ |\n",
    "| Statistic | $\\hat\\theta = \\hat\\mu_x - \\hat\\mu_y$ |\n",
    "| Standard Error | $\\se(\\hat\\theta) = \\sqrt{\\frac{\\mu^2_x}{n} + \\frac{\\mu^2_y}{m}}$ |\n",
    "| Sampling distribution | $D_{\\hat\\theta} = ...$ |\n",
    "\n",
    "The **96\\% confidence interval** for $\\theta$ is given by\n",
    "\n",
    "$$\n",
    "\\ci(\\theta, \\alpha) = \n",
    "$$"
   ]
  },
  {
   "cell_type": "markdown",
   "id": "8da1e7e6",
   "metadata": {},
   "source": [
    "Suppose n = 15, m = 20; $X_i = \\text{num of hours that they sleep } i$; $Y_j = \\text{num of hours that they sleep } j$ "
   ]
  },
  {
   "cell_type": "markdown",
   "id": "de0f9314",
   "metadata": {},
   "source": [
    "$\\mu_x = 7.2, \\mu_y = 6.1$"
   ]
  },
  {
   "cell_type": "markdown",
   "id": "6bdb04c1",
   "metadata": {},
   "source": [
    "As you decrease the value of n,m you get greater coverage guarantee"
   ]
  },
  {
   "cell_type": "markdown",
   "id": "92278c55",
   "metadata": {},
   "source": [
    "##### Hypothesis testing\n",
    "\n",
    "We are interested in testing hypotheses when you want to understadn whetehr the true population parameter $\\theta$ is equal to some value $\\theta_0$"
   ]
  },
  {
   "cell_type": "markdown",
   "id": "6303b7f3",
   "metadata": {},
   "source": [
    "<br></br>"
   ]
  },
  {
   "cell_type": "markdown",
   "id": "9bfd3c4f",
   "metadata": {},
   "source": [
    "#### Anatomy of a statistical hypothesis test:"
   ]
  },
  {
   "cell_type": "markdown",
   "id": "1974d0a8",
   "metadata": {},
   "source": [
    "\n",
    "> 1. \n",
    "- Assume that $X_1, X_2, \\dots, X_n \\sim D(\\theta)$ from you draw to obtain the data\n",
    "- Population Parameter $\\theta$ encodes some paramter about the population\n",
    " - $H_0$ is a statement about $\\theta$ under conservative assumptions\n",
    "- $H_1$ is a statement about $\\theta$ you want to show evidence in favor of\n",
    "- $\\hat T = \\hat T (X_1, X_2, \\dots, X_n)$ is a function that is used to decide between null and alternate\n",
    "- Rejection region $R(\\hat T, \\alpha)$ is a set of value of $\\hat T$ for wihch we reject $H_0$\n",
    "    - Signifiance level $\\alpha$ \n",
    "- Scenarios\n",
    "    - Either fail to reject $H_0$ or Reject $H_0$\n",
    "    - Either get Type 1 error $H_0$ true but reject\n",
    "    - Type 2 error is $H_\\alpha$ is true but fail to reject $H_0$\n",
    "    - $\\alpha = P (\\text{reject} H_0 | H_0 \\text{is true})$"
   ]
  },
  {
   "cell_type": "markdown",
   "id": "4e6fef9d",
   "metadata": {},
   "source": [
    "<br></br>"
   ]
  },
  {
   "cell_type": "markdown",
   "id": "ee3dfc21",
   "metadata": {},
   "source": [
    "\n",
    "> 2. \n",
    "- Assume $N(\\mu, \\sigma ^2)$\n",
    "- $\\theta = \\mu$\n",
    "- $\\hat\\theta = \\bar{X}$\n",
    "- $ T = \\frac{\\hat\\theta - \\theta}{\\hat\\sigma / \\sqrt{n}}$\n",
    "- $H_0: \\theta = 7$\n",
    "- $H_\\alpha: \\theta \\lt 7$"
   ]
  },
  {
   "cell_type": "markdown",
   "id": "0f95683f",
   "metadata": {},
   "source": [
    "<br></br>"
   ]
  },
  {
   "cell_type": "markdown",
   "id": "ac9892a3",
   "metadata": {},
   "source": [
    "\n",
    "> 3. \n",
    "- Assume $Ber(p)$\n",
    "- $\\theta = p$\n",
    "- $\\hat\\theta = \\bar{X}$\n",
    "- $ T = \\frac{\\hat\\theta - \\theta}{\\hat\\sigma \\times ( 1 - \\hat\\theta) / \\sqrt{n}}$\n",
    "- $H_0: \\theta = 0.5$\n",
    "- $H_\\alpha: \\theta \\gt 0.5$\n",
    "> \n",
    ">"
   ]
  },
  {
   "cell_type": "markdown",
   "id": "5100348d",
   "metadata": {},
   "source": [
    "<br></br>"
   ]
  },
  {
   "cell_type": "markdown",
   "id": "f12aa4c1",
   "metadata": {},
   "source": [
    "\n",
    "> 4. \n",
    "> \n",
    "> \n",
    ">"
   ]
  },
  {
   "cell_type": "markdown",
   "id": "c82c86b2",
   "metadata": {},
   "source": [
    "<br></br>"
   ]
  },
  {
   "cell_type": "markdown",
   "id": "11355985",
   "metadata": {},
   "source": [
    "\n",
    "> 5. \n",
    "> \n",
    "> \n",
    ">"
   ]
  },
  {
   "cell_type": "markdown",
   "id": "66df1f40",
   "metadata": {},
   "source": [
    "<br></br>"
   ]
  },
  {
   "cell_type": "markdown",
   "id": "03a26dbd",
   "metadata": {},
   "source": [
    "\n",
    "> 6. \n",
    "> \n",
    "> \n",
    ">"
   ]
  },
  {
   "cell_type": "markdown",
   "id": "f374ee2f",
   "metadata": {},
   "source": [
    "<br></br>"
   ]
  },
  {
   "cell_type": "markdown",
   "id": "8d7b319b",
   "metadata": {},
   "source": [
    "\n",
    "> 7. \n",
    "> \n",
    "> \n",
    ">"
   ]
  },
  {
   "cell_type": "markdown",
   "id": "449e2be2",
   "metadata": {},
   "source": [
    "<br></br>"
   ]
  },
  {
   "cell_type": "markdown",
   "id": "6a755a51",
   "metadata": {},
   "source": [
    "#### Outcomes\n",
    "\n",
    "Given two hypotheses we want to test, there are the following four scenarios which can happen:\n",
    "\n",
    "1. \n",
    "2. \n",
    "3. Type 1 error $H_0$ true but reject\n",
    "4. Type 2 error is $H_\\alpha$ is true but fail to reject $H_0$\n"
   ]
  },
  {
   "cell_type": "code",
   "execution_count": null,
   "id": "89488c2c",
   "metadata": {},
   "outputs": [],
   "source": []
  },
  {
   "cell_type": "markdown",
   "id": "50ece637",
   "metadata": {},
   "source": [
    "> **Significance level**\n",
    ">\n",
    "> \n"
   ]
  },
  {
   "cell_type": "markdown",
   "id": "5ed68e8f",
   "metadata": {},
   "source": [
    "$\\alpha = P (\\text{reject} H_0 | H_0 \\text{is true})$"
   ]
  },
  {
   "cell_type": "markdown",
   "id": "ce7cf23a",
   "metadata": {},
   "source": [
    "> **Power**\n",
    ">\n",
    "> $1- \\beta$ probability making the right decision when $H_a$ is true\n"
   ]
  },
  {
   "cell_type": "markdown",
   "id": "8ee3a49d",
   "metadata": {},
   "source": [
    "<br></br>"
   ]
  },
  {
   "cell_type": "code",
   "execution_count": null,
   "id": "46a522fe",
   "metadata": {},
   "outputs": [],
   "source": []
  },
  {
   "cell_type": "markdown",
   "id": "7df4f1fb",
   "metadata": {},
   "source": [
    "##### Example\n",
    "\n",
    "Random Sample 100 freshman, 90 seniors to see how many hours of sleep they get. Average from freshman is 7 hours and seniors are 6 hours. Want to know if this reflects in the population if number of hours of sleep is greater for freshman than seniors."
   ]
  },
  {
   "cell_type": "markdown",
   "id": "ef25d009",
   "metadata": {},
   "source": [
    "<br></br>"
   ]
  },
  {
   "cell_type": "markdown",
   "id": "431cb143",
   "metadata": {},
   "source": [
    "| Anatomy of the hypothesis test |  Answer  |\n",
    "|:------------------------------:|:--------:|\n",
    "| Assumption                     | Distributions of hours of sleep is normal for both X and Y |\n",
    "| Population parameter           | $\\theta = \\mu_x - \\mu_y$ |\n",
    "| Sample statistic               | $\\hat\\mu = \\bar{X} - \\bar{Y}$ |\n",
    "| Test statistic                 | $T = \\frac{\\hat\\theta - \\theta}{\\text{SE}} \\sim t_{\\text{min}(n-1, m-1)}$ |\n",
    "| Null hypothesis                | $H_0 : \\theta = 0$ |\n",
    "| Alternate hypothesis           | $H_a : \\theta \\gt 0$ |\n",
    "| Rejection region shape         | $(X_a, \\infty)$ |"
   ]
  },
  {
   "cell_type": "markdown",
   "id": "99cd4e8c",
   "metadata": {},
   "source": [
    "<br></br>"
   ]
  },
  {
   "cell_type": "markdown",
   "id": "f738474a",
   "metadata": {},
   "source": [
    "---\n",
    "\n",
    "\n",
    "### $p$-value"
   ]
  },
  {
   "cell_type": "markdown",
   "id": "feaa8695",
   "metadata": {},
   "source": [
    "The $p$-value is smallest value of alpha that falls inside rejection region\n",
    "\n",
    "$$\n",
    "p = [\\begin{cases}\n",
    "    a \\\\\n",
    "    \n",
    "\\]\n",
    "$$\n",
    "\n",
    "as alpha increases, rejection region gets larger and larger.\n",
    "\n",
    "If p value is less than pre-specified value alpha, reject null in favor of alternate\n",
    "If larger than alpha, there is not enough evidence to reject the null\n"
   ]
  },
  {
   "cell_type": "markdown",
   "id": "394bf1b3",
   "metadata": {},
   "source": [
    "<br></br>\n",
    "<br></br>\n",
    "<br></br>"
   ]
  },
  {
   "cell_type": "markdown",
   "id": "f15473cf",
   "metadata": {},
   "source": [
    "---\n",
    "---"
   ]
  },
  {
   "cell_type": "markdown",
   "id": "06efcaa3",
   "metadata": {},
   "source": [
    "## Thu, Apr 18th"
   ]
  },
  {
   "cell_type": "markdown",
   "id": "162e5888",
   "metadata": {},
   "source": [
    "<br></br>"
   ]
  },
  {
   "cell_type": "markdown",
   "id": "bbd00e21",
   "metadata": {},
   "source": [
    "#### Categorical distribuion\n",
    "\n",
    "A random variable $X \\sim \\text{Categorical}(\\piv)$ follows a Categorical distribution with parameter(s) ... \n",
    "\n",
    "* The support is\n",
    "$$\n",
    "\\supp(X) = ...\n",
    "$$\n",
    "\n",
    "* The parameter(s) need to satisfy the condition(s):\n",
    "\n",
    "$$\n",
    "...\n",
    "$$\n",
    "\n",
    "\n",
    "* The relationship with a Bernoulli distribution is\n",
    "$$\n",
    "...\n",
    "$$\n",
    "\n",
    "\n",
    "We can generate $10$ random samples from a Categorical distribution as follows:"
   ]
  },
  {
   "cell_type": "code",
   "execution_count": null,
   "id": "8fe2c7be",
   "metadata": {},
   "outputs": [],
   "source": [
    "..."
   ]
  },
  {
   "cell_type": "markdown",
   "id": "560221f2",
   "metadata": {},
   "source": [
    "<br></br>"
   ]
  },
  {
   "cell_type": "markdown",
   "id": "8ae03f55",
   "metadata": {},
   "source": [
    "### Goodness of fit test\n",
    "\n",
    "Suppose we have ... \n",
    "\n",
    "\n",
    "The goodness of fit test ...\n",
    "\n",
    "\n",
    "<br></br>"
   ]
  },
  {
   "cell_type": "markdown",
   "id": "fa968520",
   "metadata": {},
   "source": [
    "| Anatomy of the hypothesis test |  Answer  |\n",
    "|:------------------------------:|:--------:|\n",
    "| Assumption                     | ... |\n",
    "| Population parameter           | ... |\n",
    "| Sample statistic               | ... |\n",
    "| Test statistic                 | ... |\n",
    "| Null hypothesis                | ... |\n",
    "| Alternate hypothesis           | ... |\n",
    "| Rejection region shape         | ... |\n",
    "\n",
    "where $...$"
   ]
  },
  {
   "cell_type": "code",
   "execution_count": null,
   "id": "8201ba16",
   "metadata": {},
   "outputs": [],
   "source": []
  },
  {
   "cell_type": "markdown",
   "id": "a7c83fa8",
   "metadata": {},
   "source": [
    "<br></br>"
   ]
  },
  {
   "cell_type": "markdown",
   "id": "6b4ac919",
   "metadata": {},
   "source": [
    "### Test for independence\n",
    "\n",
    "Suppose we have ... \n",
    "\n",
    "\n",
    "The goodness of fit test ...\n",
    "\n",
    "\n",
    "<br></br>"
   ]
  },
  {
   "cell_type": "markdown",
   "id": "306a5250",
   "metadata": {},
   "source": [
    "| Anatomy of the hypothesis test |  Answer  |\n",
    "|:------------------------------:|:--------:|\n",
    "| Assumption                     | ... |\n",
    "| Population parameter           | ... |\n",
    "| Sample statistic               | ... |\n",
    "| Test statistic                 | ... |\n",
    "| Null hypothesis                | ... |\n",
    "| Alternate hypothesis           | ... |\n",
    "| Rejection region shape         | ... |\n",
    "\n",
    "where $...$"
   ]
  },
  {
   "cell_type": "code",
   "execution_count": null,
   "id": "7df8649d",
   "metadata": {},
   "outputs": [],
   "source": []
  },
  {
   "cell_type": "markdown",
   "id": "c478fefb",
   "metadata": {},
   "source": [
    "<br></br>"
   ]
  },
  {
   "cell_type": "markdown",
   "id": "1c19eefe",
   "metadata": {},
   "source": [
    "### Test for homogeneity\n",
    "\n",
    "Suppose we have ... \n",
    "\n",
    "\n",
    "The goodness of fit test ...\n",
    "\n",
    "\n",
    "<br></br>"
   ]
  },
  {
   "cell_type": "markdown",
   "id": "a8ae7910",
   "metadata": {},
   "source": [
    "| Anatomy of the hypothesis test |  Answer  |\n",
    "|:------------------------------:|:--------:|\n",
    "| Assumption                     | ... |\n",
    "| Population parameter           | ... |\n",
    "| Sample statistic               | ... |\n",
    "| Test statistic                 | ... |\n",
    "| Null hypothesis                | ... |\n",
    "| Alternate hypothesis           | ... |\n",
    "| Rejection region shape         | ... |\n",
    "\n",
    "where $...$"
   ]
  },
  {
   "cell_type": "code",
   "execution_count": null,
   "id": "4d5dc34e",
   "metadata": {},
   "outputs": [],
   "source": []
  },
  {
   "cell_type": "markdown",
   "id": "1ebed9ba",
   "metadata": {},
   "source": [
    "---"
   ]
  }
 ],
 "metadata": {
  "celltoolbar": "Slideshow",
  "hide_input": false,
  "kernelspec": {
   "display_name": "Python 3 (ipykernel)",
   "language": "python",
   "name": "python3"
  },
  "language_info": {
   "codemirror_mode": {
    "name": "ipython",
    "version": 3
   },
   "file_extension": ".py",
   "mimetype": "text/x-python",
   "name": "python",
   "nbconvert_exporter": "python",
   "pygments_lexer": "ipython3",
   "version": "3.8.18"
  },
  "toc": {
   "base_numbering": 2
  }
 },
 "nbformat": 4,
 "nbformat_minor": 5
}
