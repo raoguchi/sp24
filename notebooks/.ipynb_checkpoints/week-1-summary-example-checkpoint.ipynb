{
 "cells": [
  {
   "cell_type": "markdown",
   "id": "f5699a71",
   "metadata": {
    "tags": []
   },
   "source": [
    "# Week 1 Summary\n",
    "> NAME: $\\color{red}{\\text{    Example     }}$\n",
    "> \n",
    "> PID: $\\color{red}{\\text{    \\_     }}$\n",
    ">\n",
    "> \n",
    "---"
   ]
  },
  {
   "cell_type": "markdown",
   "id": "b0e61ba4-c23c-44b6-8933-ad5c5013a12d",
   "metadata": {},
   "source": [
    "I certify that the following write-up is my own work, and have abided by the UCSD Academic Integrity Guidelines.\n",
    "\n",
    "- [x] Yes\n",
    "- [ ] No"
   ]
  },
  {
   "cell_type": "markdown",
   "id": "af9291c5",
   "metadata": {},
   "source": [
    "% # %load tex-macros\n",
    "<div hidden>\n",
    "\\newcommand{\\require}[1]{}\n",
    "\n",
    "$\\require{begingroup}\\require{newcommand}$\n",
    "$\\long\\def \\forcecommand #1{\\providecommand{#1}{}\\renewcommand{#1}}$\n",
    "$\\forcecommand{\\defeq}{\\stackrel{\\small\\bullet}{=}}$\n",
    "$\\forcecommand{\\ra}{\\rangle}$\n",
    "$\\forcecommand{\\la}{\\langle}$\n",
    "$\\forcecommand{\\pr}{{\\mathbb P}}$\n",
    "$\\forcecommand{\\qr}{{\\mathbb Q}}$\n",
    "$\\forcecommand{\\xv}{{\\boldsymbol{x}}}$\n",
    "$\\forcecommand{\\av}{{\\boldsymbol{a}}}$\n",
    "$\\forcecommand{\\bv}{{\\boldsymbol{b}}}$\n",
    "$\\forcecommand{\\cv}{{\\boldsymbol{c}}}$\n",
    "$\\forcecommand{\\dv}{{\\boldsymbol{d}}}$\n",
    "$\\forcecommand{\\ev}{{\\boldsymbol{e}}}$\n",
    "$\\forcecommand{\\fv}{{\\boldsymbol{f}}}$\n",
    "$\\forcecommand{\\gv}{{\\boldsymbol{g}}}$\n",
    "$\\forcecommand{\\hv}{{\\boldsymbol{h}}}$\n",
    "$\\forcecommand{\\nv}{{\\boldsymbol{n}}}$\n",
    "$\\forcecommand{\\sv}{{\\boldsymbol{s}}}$\n",
    "$\\forcecommand{\\tv}{{\\boldsymbol{t}}}$\n",
    "$\\forcecommand{\\uv}{{\\boldsymbol{u}}}$\n",
    "$\\forcecommand{\\vv}{{\\boldsymbol{v}}}$\n",
    "$\\forcecommand{\\wv}{{\\boldsymbol{w}}}$\n",
    "$\\forcecommand{\\zerov}{{\\mathbf{0}}}$\n",
    "$\\forcecommand{\\onev}{{\\mathbf{0}}}$\n",
    "$\\forcecommand{\\phiv}{{\\boldsymbol{\\phi}}}$\n",
    "$\\forcecommand{\\cc}{{\\check{C}}}$\n",
    "$\\forcecommand{\\xv}{{\\boldsymbol{x}}}$\n",
    "$\\forcecommand{\\Xv}{{\\boldsymbol{X}\\!}}$\n",
    "$\\forcecommand{\\yv}{{\\boldsymbol{y}}}$\n",
    "$\\forcecommand{\\Yv}{{\\boldsymbol{Y}}}$\n",
    "$\\forcecommand{\\zv}{{\\boldsymbol{z}}}$\n",
    "$\\forcecommand{\\Zv}{{\\boldsymbol{Z}}}$\n",
    "$\\forcecommand{\\Iv}{{\\boldsymbol{I}}}$\n",
    "$\\forcecommand{\\Jv}{{\\boldsymbol{J}}}$\n",
    "$\\forcecommand{\\Cv}{{\\boldsymbol{C}}}$\n",
    "$\\forcecommand{\\Ev}{{\\boldsymbol{E}}}$\n",
    "$\\forcecommand{\\Fv}{{\\boldsymbol{F}}}$\n",
    "$\\forcecommand{\\Gv}{{\\boldsymbol{G}}}$\n",
    "$\\forcecommand{\\Hv}{{\\boldsymbol{H}}}$\n",
    "$\\forcecommand{\\alphav}{{\\boldsymbol{\\alpha}}}$\n",
    "$\\forcecommand{\\epsilonv}{{\\boldsymbol{\\epsilon}}}$\n",
    "$\\forcecommand{\\betav}{{\\boldsymbol{\\beta}}}$\n",
    "$\\forcecommand{\\deltav}{{\\boldsymbol{\\delta}}}$\n",
    "$\\forcecommand{\\gammav}{{\\boldsymbol{\\gamma}}}$\n",
    "$\\forcecommand{\\etav}{{\\boldsymbol{\\eta}}}$\n",
    "$\\forcecommand{\\piv}{{\\boldsymbol{\\pi}}}$\n",
    "$\\forcecommand{\\thetav}{{\\boldsymbol{\\theta}}}$\n",
    "$\\forcecommand{\\tauv}{{\\boldsymbol{\\tau}}}$\n",
    "$\\forcecommand{\\muv}{{\\boldsymbol{\\mu}}}$\n",
    "$%$\n",
    "$\\forcecommand{\\sd}{\\text{SD}}$\n",
    "$\\forcecommand{\\se}{\\text{SE}}$\n",
    "$\\forcecommand{\\med}{\\text{median}}$\n",
    "$\\forcecommand{\\median}{\\text{median}}$\n",
    "$%$\n",
    "$\\forcecommand{\\Ber}{{\\text{Ber}}}$\n",
    "$\\forcecommand{\\Bin}{{\\text{Bin}}}$\n",
    "$\\forcecommand{\\Geo}{{\\text{Geo}}}$\n",
    "$\\forcecommand{\\Unif}{{\\text{Unif}}}$\n",
    "$\\forcecommand{\\Poi}{{\\text{Poi}}}$\n",
    "$\\forcecommand{\\Exp}{{\\text{Exp}}}$\n",
    "$\\forcecommand{\\Chisq}{{\\chi^2}}$\n",
    "$\\forcecommand{\\N}{\\mathbb{N}}$\n",
    "$\\forcecommand{\\iid}{{\\stackrel{iid}{\\sim}}}$\n",
    "$\\forcecommand{\\px}{p_{X}}$\n",
    "$\\forcecommand{\\fx}{f_{X}}$\n",
    "$\\forcecommand{\\Fx}{F_{X}}$\n",
    "$\\forcecommand{\\py}{p_{Y}}$\n",
    "$\\forcecommand{\\pxy}{p_{X,Y}}$\n",
    "$\\forcecommand{\\po}{{p_0}}$\n",
    "$\\forcecommand{\\pa}{{p_a}}$\n",
    "$\\forcecommand{\\Xbar}{\\overline{X}}$\n",
    "$\\forcecommand{\\Ybar}{\\overline{Y}}$\n",
    "$\\forcecommand{\\Zbar}{\\overline{Z}}$\n",
    "$\\forcecommand{\\nXbar}{n \\cdot \\overline{X}}$\n",
    "$\\forcecommand{\\nYbar}{n \\cdot \\overline{Y}}$\n",
    "$\\forcecommand{\\nZbar}{n \\cdot \\overline{Z}}$\n",
    "$\\forcecommand{\\Xn}{X_1, X_2, \\dots, X_n}$\n",
    "$\\forcecommand{\\Xm}{{X_1, X_2, \\dots, X_m}}$\n",
    "$\\forcecommand{\\Yn}{Y_1, Y_2, \\dots, Y_n}$\n",
    "$\\forcecommand{\\Ym}{{Y_1, Y_2, \\dots, Y_m}}$\n",
    "$\\forcecommand{\\sumXn}{X_1 + X_2 + \\dots + X_n}$\n",
    "$\\forcecommand{\\sumym}{Y_1 + Y_2 + \\dots + Y_m}$\n",
    "$\\forcecommand{\\la}{\\ell_\\alpha}$\n",
    "$\\forcecommand{\\ua}{u_\\alpha}$\n",
    "$\\forcecommand{\\at}{{\\alpha/2}}$\n",
    "$\\forcecommand{\\mux}{\\mu_{X}}$\n",
    "$\\forcecommand{\\muy}{\\mu_{Y}}$\n",
    "$\\forcecommand{\\sx}{\\sigma_{X}}$\n",
    "$\\forcecommand{\\sy}{\\sigma_{Y}}$\n",
    "$\\forcecommand{\\pvalue}{$p$-value}$\n",
    "$\\forcecommand{\\Ho}{H_{0}}$\n",
    "$\\forcecommand{\\Ha}{H_{a}}$\n",
    "$\\newcommand{\\R}{\\mathbb{R}}$\n",
    "\n",
    "\\vskip-\\parskip\n",
    "\\vskip-\\baselineskip\n",
    "</div>"
   ]
  },
  {
   "cell_type": "markdown",
   "id": "2e3d69d4-fc3b-467c-867a-232ea44b034d",
   "metadata": {},
   "source": [
    "---"
   ]
  },
  {
   "cell_type": "markdown",
   "id": "de700466",
   "metadata": {},
   "source": [
    "## Key Takeaways from Week 1"
   ]
  },
  {
   "cell_type": "markdown",
   "id": "e89169e3",
   "metadata": {},
   "source": [
    "\n",
    "#### Tuesday: \n",
    "\n",
    "We went through the syllabus, the course structure, and the course expectations. We also discussed the importance of frictionless reproducibility and the use of Jupyter notebooks for the course."
   ]
  },
  {
   "cell_type": "markdown",
   "id": "29081a6f",
   "metadata": {},
   "source": [
    "#### Thursday\n",
    "\n",
    "We started off with the basics of Markdown and $\\LaTeX$ and how to use them in Jupyter notebooks, and a quick recap on data types and data structures. We, then, spent the rest of the class revisiting the basics of linear algebra and their implementation. \n"
   ]
  },
  {
   "cell_type": "markdown",
   "id": "5928a1a1",
   "metadata": {},
   "source": [
    "---"
   ]
  },
  {
   "cell_type": "markdown",
   "id": "e9e01ee9",
   "metadata": {},
   "source": [
    "## Tue, Apr 2nd"
   ]
  },
  {
   "cell_type": "markdown",
   "id": "50b13336",
   "metadata": {},
   "source": [
    "We didn't do any hands-on work on Tuesday."
   ]
  },
  {
   "cell_type": "markdown",
   "id": "af5974aa",
   "metadata": {},
   "source": [
    "---"
   ]
  },
  {
   "cell_type": "markdown",
   "id": "70f5a715",
   "metadata": {},
   "source": [
    "## Thu, Apr 4th"
   ]
  },
  {
   "cell_type": "markdown",
   "id": "50aa8ef5",
   "metadata": {},
   "source": [
    "### Basics of markdown"
   ]
  },
  {
   "cell_type": "markdown",
   "id": "aa7c1972",
   "metadata": {},
   "source": [
    "**Bullet Lists and Numbered Lists**"
   ]
  },
  {
   "cell_type": "markdown",
   "id": "8c99d370",
   "metadata": {},
   "source": [
    "This is how you can create bullet lists:\n",
    "* Item 1\n",
    "* Item 2\n",
    "    * Subitem 1\n",
    "    * Subitem 2\n",
    "        * Subsubitem 1\n",
    "        * Subsubitem 2\n",
    "    * Subitem 3\n",
    "* Item 3\n",
    "\n",
    "\n",
    "\n",
    "And numbered lists are as follows:\n",
    "1. Item 1\n",
    "1. Item 2\n",
    "    1. Subitem 1\n",
    "    1. Subitem 2\n",
    "        1. Subsubitem 1\n",
    "        1. Subsubitem 2\n",
    "    1. Subitem 3\n",
    "1. Item 3"
   ]
  },
  {
   "cell_type": "markdown",
   "id": "dd300ee4",
   "metadata": {},
   "source": [
    "**Math**"
   ]
  },
  {
   "cell_type": "markdown",
   "id": "cbf52587",
   "metadata": {},
   "source": [
    "This is a simple math equation typeset in $\\TeX$ as a display:\n",
    "\n",
    "$$\n",
    "(a+b)^3 = a^3 + 3a^2b + 3ab^2 + b^3\n",
    "$$\n",
    "\n",
    "and this the same equation in-line: $(a+b)^3 = a^3 + 3a^2b + 3ab^2 + b^3$"
   ]
  },
  {
   "cell_type": "markdown",
   "id": "493984b6",
   "metadata": {},
   "source": [
    "**Boxed & Colored Equations**"
   ]
  },
  {
   "cell_type": "markdown",
   "id": "832db6e5",
   "metadata": {},
   "source": [
    "The same equation above can be boxed and colored as follows:\n",
    "\n",
    "$$\n",
    "\\color{red}{\\boxed{(a+b)^3 = a^3 + 3a^2b + 3ab^2 + b^3}}\n",
    "$$\n",
    "\n"
   ]
  },
  {
   "cell_type": "markdown",
   "id": "365246bd",
   "metadata": {},
   "source": [
    "**Math Macros**"
   ]
  },
  {
   "cell_type": "markdown",
   "id": "139cb07f",
   "metadata": {},
   "source": [
    "We can define a math macro `\\ab` which takes in an argument `n` and outputs $(a+b)^n$ as follows:\n",
    "\n",
    "$$\n",
    "\\newcommand{\\ab}[1]{(a+b)^{#1}}\n",
    "\n",
    "\\ab{n+1} = \\ab{} \\times \\ab{n}\n",
    "$$\n"
   ]
  },
  {
   "cell_type": "markdown",
   "id": "c3d4b14f",
   "metadata": {},
   "source": [
    "---"
   ]
  },
  {
   "cell_type": "markdown",
   "id": "ad2d56af",
   "metadata": {},
   "source": [
    "**Vectors**"
   ]
  },
  {
   "cell_type": "markdown",
   "id": "a7959f07",
   "metadata": {},
   "source": [
    "A vector $v \\in \\R^n$ is a tuple of numbers $(v_1, v_2, \\dots, v_n)$ which represents a maginitude and a direction in $n$-dimensional space.\n",
    "\n",
    "Given to vectors $u \\in \\R^n$ and $v \\in \\R^n$ the addition of the two vectors is another vector with a magnitude and direction, $w \\in \\R^n$. The components of $w = (w_1, w_2, \\dots, w_n)$ are the element-wise sum of the components of $u$ and $v$, i.e., \n",
    "\n",
    "$$\n",
    "\\begin{aligned}\n",
    "w_1 &= u_1 + v_1 \\\\\n",
    "w_2 &= u_2 + v_2 \\\\\n",
    "&\\vdots \\\\\n",
    "w_n &= u_n + v_n\n",
    "\\end{aligned}\n",
    "$$"
   ]
  },
  {
   "cell_type": "markdown",
   "id": "215464eb",
   "metadata": {},
   "source": [
    "When you multiply a vector $v \\in \\R^n$ by a scalar $c \\in \\R$ you get another vector $w = cv \\in \\R^n$ whose magnitude is $c$ times the magnitude of $v$ and whose direction is the same as $v$ if $c > 0$ and opposite if $c < 0$."
   ]
  },
  {
   "cell_type": "markdown",
   "id": "be1dd332",
   "metadata": {},
   "source": [
    "You can \"multiply\" two vectors in two different ways:\n",
    "\n",
    "1. **Dot product**:\n",
    "\n",
    "Given two vectors $u \\in \\R^n$ and $v \\in \\R^n$, the dot product of the two vectors is a **scalar** whose value is:\n",
    "\n",
    "$$\n",
    "s = u \\cdot v = \\sum_{i=1}^n u_i v_i = \\|u\\| \\|v\\| \\cos\\Big( \\angle(u, v)  \\Big)\n",
    "$$\n",
    "\n",
    "\n",
    "2. **Cross product**:\n",
    "\n",
    "Given two vectors $u \\in \\R^3$ and $v \\in \\R^3$, the cross product of the two vectors is another **vector** whose magnitude is:\n",
    "\n",
    "$$\n",
    "\\|u \\times v\\| = \\|u\\| \\|v\\| \\sin\\Big( \\angle(u, v)  \\Big)\n",
    "$$\n",
    "\n",
    "and whose direction is perpendicular to the plane formed by $u$ and $v$."
   ]
  },
  {
   "cell_type": "markdown",
   "id": "58b01417",
   "metadata": {},
   "source": [
    "**Matrices**"
   ]
  },
  {
   "cell_type": "markdown",
   "id": "39642289",
   "metadata": {},
   "source": [
    "Intuitively, a matrix is a **linear function** that takes a vector as input and outputs another vector.\n",
    "\n",
    "If $A$ is an $m \\times n$ matrix, then given an input vector $v \\in \\R^n$ the output vector $w = Av \\in \\R^m$, i.e., \n",
    "$$\n",
    "A: v \\in \\R^n \\mapsto w\\in \\R^m.\n",
    "$$"
   ]
  },
  {
   "cell_type": "code",
   "execution_count": 1,
   "id": "27cef97f",
   "metadata": {},
   "outputs": [
    {
     "data": {
      "text/plain": [
       "array([[ 0.6  ],\n",
       "       [-0.698],\n",
       "       [-1.106],\n",
       "       [-1.357],\n",
       "       [ 0.074],\n",
       "       [ 0.287]])"
      ]
     },
     "execution_count": 1,
     "metadata": {},
     "output_type": "execute_result"
    }
   ],
   "source": [
    "import numpy as np\n",
    "np.set_printoptions(precision=3)\n",
    "\n",
    "n, m = 3, 6\n",
    "\n",
    "# Creating vectors and matrices\n",
    "vector = np.random.randn(n, 1)\n",
    "matrix = np.random.randn(m, n)\n",
    "\n",
    "# Calculating the product\n",
    "product = matrix @ vector\n",
    "product"
   ]
  },
  {
   "cell_type": "markdown",
   "id": "b0659f26",
   "metadata": {},
   "source": [
    "**Basic linear algebra operations:**\n",
    "1. **Norm.**\n",
    "\n",
    "The norm of a vector $v \\in \\R^n$ is a scalar that represents the magnitude of the vector. The norm of a vector is denoted by $\\|v\\|$ and is calculated as follows:\n",
    "\n",
    "$$\n",
    "\\|v\\| = \\sqrt{v \\cdot v} =  \\sqrt{v_1^2 + v_2^2 + \\dots + v_n^2}\n",
    "$$|\n",
    "\n",
    "\n",
    "2. **Matrix transpose**: \n",
    "\n",
    "Given a matrix $A \\in \\R^{m \\times n}$, the transpose of the matrix $A^\\top \\in \\R^{n \\times m}$ is a matrix whose rows are the columns of $A$ and whose columns are the rows of $A$.\n",
    "\n",
    "Intuitively, if a matrix $A: v \\in \\R^n \\mapsto w \\in \\R^m$ then \n",
    "$$\n",
    "A^\\top: v \\in \\R^m \\mapsto w \\in \\R^n.\n",
    "$$\n",
    "\n",
    "3. **Matrix inverse** \n",
    "\n",
    "The inverse of an $n \\times n$ matrix $A$ is another matrix $A^{-1}$ such that $AA^{-1} = A^{-1}A = I$ where $I$ is the identity matrix.\n",
    "\n",
    "Intuitively, if $w = Av$ is the forward-map of the matrix $A$, then \n",
    "$$\n",
    "v = A^{-1}w\n",
    "$$ \n",
    "is the inverse-map of the matrix $A$."
   ]
  },
  {
   "cell_type": "code",
   "execution_count": 2,
   "id": "7f1359fa",
   "metadata": {},
   "outputs": [
    {
     "name": "stdout",
     "output_type": "stream",
     "text": [
      "norm of vector: \n",
      " 0.6146482050846539\n",
      "\n",
      "Transpose of matrix: \n",
      " [[-1.164  0.918  0.259  0.535  0.298 -0.476]\n",
      " [-0.45  -1.237  0.41   0.157 -0.978  2.127]\n",
      " [ 0.148 -0.826 -2.297 -2.629  0.379  0.417]]\n",
      "\n",
      "Square matrix AtA: \n",
      " [[ 2.865 -1.726 -3.017]\n",
      " [-1.726  7.409  0.118]\n",
      " [-3.017  0.118 13.208]]\n",
      "\n",
      "Inverse of AtA: \n",
      " [[0.56  0.128 0.127]\n",
      " [0.128 0.164 0.028]\n",
      " [0.127 0.028 0.104]]\n",
      "\n"
     ]
    }
   ],
   "source": [
    "print(f'norm of vector: \\n {np.linalg.norm(vector)}\\n')\n",
    "print(f'Transpose of matrix: \\n {matrix.T}\\n')\n",
    "\n",
    "AtA = matrix.T @ matrix # square n x n matrix\n",
    "print(f'Square matrix AtA: \\n {AtA}\\n')\n",
    "\n",
    "AtA_inv = np.linalg.inv(AtA) # inverse of AtA\n",
    "print(f'Inverse of AtA: \\n {AtA_inv}\\n')"
   ]
  },
  {
   "cell_type": "markdown",
   "id": "ee801279",
   "metadata": {},
   "source": [
    "---"
   ]
  },
  {
   "cell_type": "markdown",
   "id": "334f2192",
   "metadata": {},
   "source": [
    "**Slightly more advanced linear algebra operations**"
   ]
  },
  {
   "cell_type": "markdown",
   "id": "3d968462",
   "metadata": {},
   "source": [
    "If we're given a system of equations, for example, \n",
    "\n",
    "$$\n",
    "\\begin{align*}\n",
    "2x + 3y &= 5 \\\\\n",
    "4x + 5y &= 6\n",
    "\\end{align*}\n",
    "$$\n",
    "\n",
    "We can represent it in the matrix-vector form as ..."
   ]
  },
  {
   "cell_type": "markdown",
   "id": "60b7c47c",
   "metadata": {},
   "source": [
    "$$\n",
    "\\underbrace{\\begin{pmatrix}\n",
    "2 & 3 \\\\\n",
    "4 & 5\n",
    "\\end{pmatrix}}_A\n",
    "\\begin{pmatrix}\n",
    "x \\\\\n",
    "y\n",
    "\\end{pmatrix}\n",
    "=\n",
    "\\underbrace{\\begin{pmatrix}\n",
    "5 \\\\\n",
    "6\n",
    "\\end{pmatrix}}_b\n",
    "$$"
   ]
  },
  {
   "cell_type": "markdown",
   "id": "5be358a9",
   "metadata": {},
   "source": [
    "The solution for the unknown variables, $(x, y)$ is given by\n",
    "\n",
    "$$\n",
    "\\begin{pmatrix}\n",
    "x \\\\\n",
    "y\n",
    "\\end{pmatrix}\n",
    "=\n",
    "\\underbrace{\\begin{pmatrix}\n",
    "2 & 3 \\\\\n",
    "4 & 5\n",
    "\\end{pmatrix}^{-1}\n",
    "\\begin{pmatrix}\n",
    "5 \\\\\n",
    "6\n",
    "\\end{pmatrix}}_{A^{-1} b}\n",
    "$$"
   ]
  },
  {
   "cell_type": "markdown",
   "id": "f07d95f8",
   "metadata": {},
   "source": [
    "In code, we can do this as follows: ..."
   ]
  },
  {
   "cell_type": "code",
   "execution_count": 3,
   "id": "17da9f42",
   "metadata": {},
   "outputs": [
    {
     "name": "stdout",
     "output_type": "stream",
     "text": [
      "A-1 * b: \n",
      " [-3.5  4. ]\n"
     ]
    }
   ],
   "source": [
    "# Solving a system of linear equations\n",
    "A = np.array([[2, 3], [4, 5]])\n",
    "b = np.array([5, 6])\n",
    "solution = np.linalg.solve(A, b)\n",
    "print(f'A-1 * b: \\n {solution}')"
   ]
  },
  {
   "cell_type": "markdown",
   "id": "f14cb893",
   "metadata": {},
   "source": [
    "---"
   ]
  },
  {
   "cell_type": "markdown",
   "id": "4c3c84c6",
   "metadata": {},
   "source": [
    "**Eigenvalues and eigenvectors**"
   ]
  },
  {
   "cell_type": "markdown",
   "id": "2f086932",
   "metadata": {},
   "source": [
    "Given an $n \\times n$ matrix $A$, the **eigenvalue** of $A$ is the scalar $\\lambda$ such that \n",
    "\n",
    "$$\n",
    "Av = \\lambda v\n",
    "$$\n",
    "\n",
    "and the vector $v \\in \\R^n$ which satisfies the above equation is called the **eigenvector** of $A$."
   ]
  },
  {
   "cell_type": "markdown",
   "id": "48e779b5",
   "metadata": {},
   "source": [
    "Intuitively, the eigenvector of a matrix describes the direction in which the matrix stretches or compresses the vector in magnitude."
   ]
  },
  {
   "cell_type": "markdown",
   "id": "6f3eb584",
   "metadata": {},
   "source": [
    "In code, we can compute the eigenvalues and eigenvectors of a matrix as follows:"
   ]
  },
  {
   "cell_type": "code",
   "execution_count": 4,
   "id": "14936c12",
   "metadata": {},
   "outputs": [
    {
     "name": "stdout",
     "output_type": "stream",
     "text": [
      "Eigenvalues: \n",
      " [12.148  5.033  2.474  0.321]\n",
      "\n",
      "Eigenvectors: \n",
      " [[ 0.084  0.751  0.609 -0.243]\n",
      " [-0.797  0.306 -0.062  0.516]\n",
      " [-0.169  0.394 -0.694 -0.579]\n",
      " [ 0.573  0.433 -0.38   0.583]]\n",
      "\n"
     ]
    }
   ],
   "source": [
    "B = np.random.randn(4, 4)\n",
    "A = B.T @ B\n",
    "\n",
    "eigenvalues, eigenvectors = np.linalg.eig(A)\n",
    "\n",
    "print(f'Eigenvalues: \\n {eigenvalues}\\n')\n",
    "print(f'Eigenvectors: \\n {eigenvectors}\\n')"
   ]
  },
  {
   "cell_type": "markdown",
   "id": "b11ff8bf",
   "metadata": {},
   "source": [
    "We can verify that the eigenvalues and eigenvectors are correct by running the following code and ensuring that the output matches the expected values:\n"
   ]
  },
  {
   "cell_type": "code",
   "execution_count": 5,
   "id": "226d378c",
   "metadata": {},
   "outputs": [
    {
     "data": {
      "text/plain": [
       "True"
      ]
     },
     "execution_count": 5,
     "metadata": {},
     "output_type": "execute_result"
    }
   ],
   "source": [
    "index = eigenvalues.argmax()\n",
    "lambda1 = eigenvalues[index] # Largest eigenvalue\n",
    "v1 = eigenvectors[:, index] # Corresponding eigenvector\n",
    "\n",
    "\n",
    "# Expected value of Av\n",
    "expected_value = lambda1 * v1\n",
    "\n",
    "# Actual value of Av\n",
    "Av = A @ v1\n",
    "\n",
    "# Check if the expected value and actual value are equal\n",
    "np.allclose(expected_value, Av)"
   ]
  }
 ],
 "metadata": {
  "hide_input": false,
  "kernelspec": {
   "display_name": "Python 3 (ipykernel)",
   "language": "python",
   "name": "python3"
  },
  "language_info": {
   "codemirror_mode": {
    "name": "ipython",
    "version": 3
   },
   "file_extension": ".py",
   "mimetype": "text/x-python",
   "name": "python",
   "nbconvert_exporter": "python",
   "pygments_lexer": "ipython3",
   "version": "3.12.1"
  }
 },
 "nbformat": 4,
 "nbformat_minor": 5
}
