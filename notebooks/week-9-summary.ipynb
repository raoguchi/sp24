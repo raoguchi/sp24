{
 "cells": [
  {
   "cell_type": "markdown",
   "id": "d499b8cf",
   "metadata": {},
   "source": [
    "# Week 9 Summary\n",
    "> NAME: $\\color{red}{\\text{    <Alex Oguchi>     }}$\n",
    "> \n",
    "> PID: $\\color{red}{\\text{    <A16777050>     }}$\n",
    ">\n",
    "> \n",
    "---"
   ]
  },
  {
   "cell_type": "markdown",
   "id": "1bce0cf8",
   "metadata": {},
   "source": [
    "I certify that the following write-up is my own work, and have abided by the UCSD Academic Integrity Guidelines.\n",
    "\n",
    "- [x] Yes\n",
    "- [ ] No"
   ]
  },
  {
   "cell_type": "markdown",
   "id": "6a1c41b1",
   "metadata": {},
   "source": [
    "% # %load tex-macros\n",
    "<div hidden>\n",
    "\\newcommand{\\require}[1]{}\n",
    "\n",
    "$\\require{begingroup}\\require{newcommand}$\n",
    "$\\long\\def \\forcecommand #1{\\providecommand{#1}{}\\renewcommand{#1}}$\n",
    "$\\forcecommand{\\defeq}{\\stackrel{\\small\\bullet}{=}}$\n",
    "$\\forcecommand{\\ra}{\\rangle}$\n",
    "$\\forcecommand{\\la}{\\langle}$\n",
    "$\\forcecommand{\\pr}{{\\mathbb P}}$\n",
    "$\\forcecommand{\\qr}{{\\mathbb Q}}$\n",
    "$\\forcecommand{\\xv}{{\\boldsymbol{x}}}$\n",
    "$\\forcecommand{\\av}{{\\boldsymbol{a}}}$\n",
    "$\\forcecommand{\\bv}{{\\boldsymbol{b}}}$\n",
    "$\\forcecommand{\\cv}{{\\boldsymbol{c}}}$\n",
    "$\\forcecommand{\\dv}{{\\boldsymbol{d}}}$\n",
    "$\\forcecommand{\\ev}{{\\boldsymbol{e}}}$\n",
    "$\\forcecommand{\\fv}{{\\boldsymbol{f}}}$\n",
    "$\\forcecommand{\\gv}{{\\boldsymbol{g}}}$\n",
    "$\\forcecommand{\\hv}{{\\boldsymbol{h}}}$\n",
    "$\\forcecommand{\\nv}{{\\boldsymbol{n}}}$\n",
    "$\\forcecommand{\\sv}{{\\boldsymbol{s}}}$\n",
    "$\\forcecommand{\\tv}{{\\boldsymbol{t}}}$\n",
    "$\\forcecommand{\\uv}{{\\boldsymbol{u}}}$\n",
    "$\\forcecommand{\\vv}{{\\boldsymbol{v}}}$\n",
    "$\\forcecommand{\\wv}{{\\boldsymbol{w}}}$\n",
    "$\\forcecommand{\\zerov}{{\\mathbf{0}}}$\n",
    "$\\forcecommand{\\onev}{{\\mathbf{0}}}$\n",
    "$\\forcecommand{\\phiv}{{\\boldsymbol{\\phi}}}$\n",
    "$\\forcecommand{\\cc}{{\\check{C}}}$\n",
    "$\\forcecommand{\\xv}{{\\boldsymbol{x}}}$\n",
    "$\\forcecommand{\\Xv}{{\\boldsymbol{X}\\!}}$\n",
    "$\\forcecommand{\\yv}{{\\boldsymbol{y}}}$\n",
    "$\\forcecommand{\\Yv}{{\\boldsymbol{Y}}}$\n",
    "$\\forcecommand{\\zv}{{\\boldsymbol{z}}}$\n",
    "$\\forcecommand{\\Zv}{{\\boldsymbol{Z}}}$\n",
    "$\\forcecommand{\\Iv}{{\\boldsymbol{I}}}$\n",
    "$\\forcecommand{\\Jv}{{\\boldsymbol{J}}}$\n",
    "$\\forcecommand{\\Cv}{{\\boldsymbol{C}}}$\n",
    "$\\forcecommand{\\Ev}{{\\boldsymbol{E}}}$\n",
    "$\\forcecommand{\\Fv}{{\\boldsymbol{F}}}$\n",
    "$\\forcecommand{\\Gv}{{\\boldsymbol{G}}}$\n",
    "$\\forcecommand{\\Hv}{{\\boldsymbol{H}}}$\n",
    "$\\forcecommand{\\alphav}{{\\boldsymbol{\\alpha}}}$\n",
    "$\\forcecommand{\\epsilonv}{{\\boldsymbol{\\epsilon}}}$\n",
    "$\\forcecommand{\\betav}{{\\boldsymbol{\\beta}}}$\n",
    "$\\forcecommand{\\deltav}{{\\boldsymbol{\\delta}}}$\n",
    "$\\forcecommand{\\gammav}{{\\boldsymbol{\\gamma}}}$\n",
    "$\\forcecommand{\\etav}{{\\boldsymbol{\\eta}}}$\n",
    "$\\forcecommand{\\piv}{{\\boldsymbol{\\pi}}}$\n",
    "$\\forcecommand{\\thetav}{{\\boldsymbol{\\theta}}}$\n",
    "$\\forcecommand{\\tauv}{{\\boldsymbol{\\tau}}}$\n",
    "$\\forcecommand{\\muv}{{\\boldsymbol{\\mu}}}$\n",
    "$%$\n",
    "$\\forcecommand{\\sd}{\\text{SD}}$\n",
    "$\\forcecommand{\\se}{\\text{SE}}$\n",
    "$\\forcecommand{\\med}{\\text{median}}$\n",
    "$\\forcecommand{\\median}{\\text{median}}$\n",
    "$%$\n",
    "$\\forcecommand{\\supp}{\\text{supp}}$\n",
    "$\\forcecommand{\\E}{\\mathbb{E}}$\n",
    "$\\forcecommand{\\var}{\\text{Var}}$\n",
    "$\\forcecommand{\\Ber}{{\\text{Ber}}}$\n",
    "$\\forcecommand{\\Bin}{{\\text{Bin}}}$\n",
    "$\\forcecommand{\\Geo}{{\\text{Geo}}}$\n",
    "$\\forcecommand{\\Unif}{{\\text{Unif}}}$\n",
    "$\\forcecommand{\\Poi}{{\\text{Poi}}}$\n",
    "$\\forcecommand{\\Exp}{{\\text{Exp}}}$\n",
    "$\\forcecommand{\\Chisq}{{\\chi^2}}$\n",
    "$\\forcecommand{\\N}{\\mathbb{N}}$\n",
    "$\\forcecommand{\\iid}{{\\stackrel{iid}{\\sim}}}$\n",
    "$\\forcecommand{\\px}{p_{X}}$\n",
    "$\\forcecommand{\\fx}{f_{X}}$\n",
    "$\\forcecommand{\\Fx}{F_{X}}$\n",
    "$\\forcecommand{\\py}{p_{Y}}$\n",
    "$\\forcecommand{\\pxy}{p_{X,Y}}$\n",
    "$\\forcecommand{\\po}{{p_0}}$\n",
    "$\\forcecommand{\\pa}{{p_a}}$\n",
    "$\\forcecommand{\\Xbar}{\\overline{X}}$\n",
    "$\\forcecommand{\\Ybar}{\\overline{Y}}$\n",
    "$\\forcecommand{\\Zbar}{\\overline{Z}}$\n",
    "$\\forcecommand{\\nXbar}{n \\cdot \\overline{X}}$\n",
    "$\\forcecommand{\\nYbar}{n \\cdot \\overline{Y}}$\n",
    "$\\forcecommand{\\nZbar}{n \\cdot \\overline{Z}}$\n",
    "$\\forcecommand{\\Xn}{X_1, X_2, \\dots, X_n}$\n",
    "$\\forcecommand{\\Xm}{{X_1, X_2, \\dots, X_m}}$\n",
    "$\\forcecommand{\\Yn}{Y_1, Y_2, \\dots, Y_n}$\n",
    "$\\forcecommand{\\Ym}{{Y_1, Y_2, \\dots, Y_m}}$\n",
    "$\\forcecommand{\\sumXn}{X_1 + X_2 + \\dots + X_n}$\n",
    "$\\forcecommand{\\sumym}{Y_1 + Y_2 + \\dots + Y_m}$\n",
    "$\\forcecommand{\\la}{\\ell_\\alpha}$\n",
    "$\\forcecommand{\\ua}{u_\\alpha}$\n",
    "$\\forcecommand{\\at}{{\\alpha/2}}$\n",
    "$\\forcecommand{\\mux}{\\mu_{X}}$\n",
    "$\\forcecommand{\\muy}{\\mu_{Y}}$\n",
    "$\\forcecommand{\\sx}{\\sigma_{X}}$\n",
    "$\\forcecommand{\\sy}{\\sigma_{Y}}$\n",
    "$\\forcecommand{\\ci}{\\text{CI}}$\n",
    "$\\forcecommand{\\pvalue}{$p$-value}$\n",
    "$\\forcecommand{\\Ho}{H_{0}}$\n",
    "$\\forcecommand{\\Ha}{H_{a}}$\n",
    "\n",
    "\\vskip-\\parskip\n",
    "\\vskip-\\baselineskip\n",
    "</div>"
   ]
  },
  {
   "cell_type": "markdown",
   "id": "fbfec7ec",
   "metadata": {},
   "source": [
    "---"
   ]
  },
  {
   "cell_type": "markdown",
   "id": "15c6dc53",
   "metadata": {},
   "source": [
    "## Key Takeaways from Week 9"
   ]
  },
  {
   "cell_type": "markdown",
   "id": "cc992f31",
   "metadata": {},
   "source": [
    "\n",
    "#### Tuesday: \n",
    "\n",
    "Discussed two methods of variable selection; the first criterion of selecting variables for a model. The second examined iterative methods of selecting variables such as forward, backward, and mixed selection"
   ]
  },
  {
   "cell_type": "markdown",
   "id": "6d69de7b",
   "metadata": {},
   "source": [
    "#### Thursday\n",
    "\n",
    "... insert your takeaway here ...\n"
   ]
  },
  {
   "cell_type": "markdown",
   "id": "aaadbca8",
   "metadata": {},
   "source": [
    "---"
   ]
  },
  {
   "cell_type": "markdown",
   "id": "c2d78965",
   "metadata": {},
   "source": [
    "## Tue, May 28"
   ]
  },
  {
   "cell_type": "markdown",
   "id": "5f374b82",
   "metadata": {},
   "source": [
    "<br></br>"
   ]
  },
  {
   "cell_type": "markdown",
   "id": "b0650df5",
   "metadata": {},
   "source": [
    "### Variable selection"
   ]
  },
  {
   "cell_type": "markdown",
   "id": "c5d88520",
   "metadata": {},
   "source": [
    "The reason why we need variable selection is \n",
    "\n",
    "to identify the most important predictors, and include them in the final regression model"
   ]
  },
  {
   "cell_type": "markdown",
   "id": "718b3024",
   "metadata": {},
   "source": [
    "<br></br>"
   ]
  },
  {
   "cell_type": "markdown",
   "id": "9ccec93a",
   "metadata": {},
   "source": [
    "In class, we discussed three main techniques for variable selection:\n",
    "\n",
    "1. All possible subsets: Fit all possible models and select the best one based on some criterion\n",
    "2. Stepwise selection: Start with the full or the null model and iteratively add or remove predictors based off of some criterion\n",
    "3. Shrinkage methods: Use a penalty to shrink the coefficients of the less important predicotrs to zero\n",
    "\n",
    "\n",
    "<br></br>"
   ]
  },
  {
   "cell_type": "markdown",
   "id": "d8c1d8f8",
   "metadata": {},
   "source": [
    "##### Selection criterion\n",
    "\n",
    "For the first two methods, we need to define a selection criterion. \n",
    "\n",
    "Some examples of selection criteria include ...\n",
    "\n",
    "* Adjusted R Squared\n",
    "* Akaike Information Criterion (AIC) and Bayesian Information Criterion (BIC)\n",
    "* Cross validation error\n",
    "* Full model vs True Model"
   ]
  },
  {
   "cell_type": "markdown",
   "id": "4d3e42a1",
   "metadata": {},
   "source": [
    "<br></br>"
   ]
  },
  {
   "cell_type": "markdown",
   "id": "9d06daec",
   "metadata": {},
   "source": [
    "The main drawback with the first method is \n",
    "\n",
    "* For adjusted R Squared: There is not a good measure of goodness of fit of the model\n",
    "    * There is no good Adjusted R-squared metric for logistic and multinomial regression models\n",
    "* For cross validation, it is not computationally expensive; it is not a measure of goodness of fit\n",
    "    * You can have two models with same cross validation error but one is a better fit than the other"
   ]
  },
  {
   "cell_type": "markdown",
   "id": "33fa8a14",
   "metadata": {},
   "source": [
    "<br></br>"
   ]
  },
  {
   "cell_type": "markdown",
   "id": "8e193521",
   "metadata": {},
   "source": [
    "In the second method, there are three main methods for selecting the best subset of variables. These are ...\n",
    "\n",
    "1. Forward Selection\n",
    "2. Backward Selection\n",
    "3. Mixed Selection"
   ]
  },
  {
   "cell_type": "markdown",
   "id": "daf453f0",
   "metadata": {},
   "source": [
    "<br></br>"
   ]
  },
  {
   "cell_type": "markdown",
   "id": "266905a9",
   "metadata": {},
   "source": [
    "For an example of the second method, consider the following example "
   ]
  },
  {
   "cell_type": "markdown",
   "id": "a4523d0c",
   "metadata": {},
   "source": [
    "### Forward Selection"
   ]
  },
  {
   "cell_type": "markdown",
   "id": "dfa0c084",
   "metadata": {},
   "source": [
    "Start with null model and add predictor that improves the model according to the criterion\n",
    "\n",
    "$$\n",
    "C(x_{i_1}, x_{i_2}, \\dots, x_{i_k}, x_{i_{k+1}}) = \\min_{j \\notin \\{i_1, i_2, \\dots, i_k\\}} C(x_{i_1}, x_{i_2}, \\dots, x_{i_k}, x_j)\n",
    "$$"
   ]
  },
  {
   "cell_type": "code",
   "execution_count": 3,
   "id": "259b256e",
   "metadata": {},
   "outputs": [],
   "source": [
    "import numpy as np\n",
    "import scipy.stats as stats\n",
    "\n",
    "import warnings\n",
    "warnings.simplefilter(action='ignore', category=FutureWarning)\n",
    "import pandas as pd\n",
    "import seaborn as sns\n",
    "\n",
    "import plotly\n",
    "import plotly.express as px\n",
    "import plotly.graph_objects as go\n",
    "import plotly.io as pio\n",
    "# pio.renderers.default='notebook'\n",
    "\n",
    "import matplotlib\n",
    "import matplotlib.pyplot as plt\n",
    "import seaborn as sns\n",
    "\n",
    "import statsmodels\n",
    "import statsmodels.api as sm\n",
    "import statsmodels.formula.api as smf\n",
    "from statsmodels.tsa.stattools import acf\n",
    "\n",
    "# Optional \n",
    "import ipywidgets as widgets\n",
    "from ipywidgets import interact, interactive, fixed, interact_manual\n",
    "matplotlib.rcParams['figure.figsize'] = 7, 7\n",
    "%matplotlib inline"
   ]
  },
  {
   "cell_type": "code",
   "execution_count": 5,
   "id": "51748947",
   "metadata": {},
   "outputs": [
    {
     "data": {
      "text/html": [
       "<div>\n",
       "<style scoped>\n",
       "    .dataframe tbody tr th:only-of-type {\n",
       "        vertical-align: middle;\n",
       "    }\n",
       "\n",
       "    .dataframe tbody tr th {\n",
       "        vertical-align: top;\n",
       "    }\n",
       "\n",
       "    .dataframe thead th {\n",
       "        text-align: right;\n",
       "    }\n",
       "</style>\n",
       "<table border=\"1\" class=\"dataframe\">\n",
       "  <thead>\n",
       "    <tr style=\"text-align: right;\">\n",
       "      <th></th>\n",
       "      <th>x0</th>\n",
       "      <th>x1</th>\n",
       "      <th>x2</th>\n",
       "      <th>x3</th>\n",
       "      <th>x4</th>\n",
       "      <th>x5</th>\n",
       "      <th>x6</th>\n",
       "      <th>x7</th>\n",
       "      <th>x8</th>\n",
       "      <th>x9</th>\n",
       "      <th>...</th>\n",
       "      <th>x41</th>\n",
       "      <th>x42</th>\n",
       "      <th>x43</th>\n",
       "      <th>x44</th>\n",
       "      <th>x45</th>\n",
       "      <th>x46</th>\n",
       "      <th>x47</th>\n",
       "      <th>x48</th>\n",
       "      <th>x49</th>\n",
       "      <th>y</th>\n",
       "    </tr>\n",
       "  </thead>\n",
       "  <tbody>\n",
       "    <tr>\n",
       "      <th>0</th>\n",
       "      <td>0.535952</td>\n",
       "      <td>0.017227</td>\n",
       "      <td>1.208062</td>\n",
       "      <td>0.202533</td>\n",
       "      <td>-1.644516</td>\n",
       "      <td>1.929728</td>\n",
       "      <td>-1.379576</td>\n",
       "      <td>-0.019722</td>\n",
       "      <td>-0.393779</td>\n",
       "      <td>-0.503232</td>\n",
       "      <td>...</td>\n",
       "      <td>0.391509</td>\n",
       "      <td>-1.405062</td>\n",
       "      <td>-1.405331</td>\n",
       "      <td>-0.016737</td>\n",
       "      <td>0.001191</td>\n",
       "      <td>-0.001794</td>\n",
       "      <td>-0.190739</td>\n",
       "      <td>0.328353</td>\n",
       "      <td>0.240302</td>\n",
       "      <td>-7.685229</td>\n",
       "    </tr>\n",
       "    <tr>\n",
       "      <th>1</th>\n",
       "      <td>-0.045469</td>\n",
       "      <td>-1.634152</td>\n",
       "      <td>-0.179330</td>\n",
       "      <td>-0.124893</td>\n",
       "      <td>-0.498187</td>\n",
       "      <td>0.301229</td>\n",
       "      <td>1.433573</td>\n",
       "      <td>0.371730</td>\n",
       "      <td>-1.050995</td>\n",
       "      <td>-0.154174</td>\n",
       "      <td>...</td>\n",
       "      <td>-0.013053</td>\n",
       "      <td>0.969492</td>\n",
       "      <td>-1.148017</td>\n",
       "      <td>-1.267893</td>\n",
       "      <td>-1.750522</td>\n",
       "      <td>-0.520060</td>\n",
       "      <td>0.022586</td>\n",
       "      <td>-0.039151</td>\n",
       "      <td>-0.659468</td>\n",
       "      <td>6.703571</td>\n",
       "    </tr>\n",
       "    <tr>\n",
       "      <th>2</th>\n",
       "      <td>0.892632</td>\n",
       "      <td>0.381754</td>\n",
       "      <td>0.721225</td>\n",
       "      <td>0.462180</td>\n",
       "      <td>-0.215102</td>\n",
       "      <td>0.448884</td>\n",
       "      <td>-0.372852</td>\n",
       "      <td>-0.991715</td>\n",
       "      <td>-1.168858</td>\n",
       "      <td>-0.502264</td>\n",
       "      <td>...</td>\n",
       "      <td>-0.814421</td>\n",
       "      <td>-1.676396</td>\n",
       "      <td>1.435880</td>\n",
       "      <td>0.380768</td>\n",
       "      <td>-0.622424</td>\n",
       "      <td>0.110701</td>\n",
       "      <td>0.399384</td>\n",
       "      <td>-0.474989</td>\n",
       "      <td>-0.164104</td>\n",
       "      <td>-4.073610</td>\n",
       "    </tr>\n",
       "    <tr>\n",
       "      <th>3</th>\n",
       "      <td>1.840379</td>\n",
       "      <td>1.357147</td>\n",
       "      <td>-0.484678</td>\n",
       "      <td>-1.672245</td>\n",
       "      <td>-0.831480</td>\n",
       "      <td>-0.120234</td>\n",
       "      <td>0.205111</td>\n",
       "      <td>0.027005</td>\n",
       "      <td>-0.713226</td>\n",
       "      <td>-1.004653</td>\n",
       "      <td>...</td>\n",
       "      <td>0.351127</td>\n",
       "      <td>1.443565</td>\n",
       "      <td>-0.442276</td>\n",
       "      <td>0.081147</td>\n",
       "      <td>-0.458059</td>\n",
       "      <td>0.919639</td>\n",
       "      <td>-0.940152</td>\n",
       "      <td>0.407683</td>\n",
       "      <td>-0.992897</td>\n",
       "      <td>3.916415</td>\n",
       "    </tr>\n",
       "    <tr>\n",
       "      <th>4</th>\n",
       "      <td>1.789296</td>\n",
       "      <td>2.017991</td>\n",
       "      <td>1.447001</td>\n",
       "      <td>-0.669401</td>\n",
       "      <td>0.488512</td>\n",
       "      <td>-0.594615</td>\n",
       "      <td>1.097597</td>\n",
       "      <td>-0.174369</td>\n",
       "      <td>0.125458</td>\n",
       "      <td>0.012450</td>\n",
       "      <td>...</td>\n",
       "      <td>0.127604</td>\n",
       "      <td>-0.693991</td>\n",
       "      <td>0.572990</td>\n",
       "      <td>0.145557</td>\n",
       "      <td>0.646001</td>\n",
       "      <td>0.073362</td>\n",
       "      <td>-0.865835</td>\n",
       "      <td>0.469710</td>\n",
       "      <td>-1.151751</td>\n",
       "      <td>3.689591</td>\n",
       "    </tr>\n",
       "  </tbody>\n",
       "</table>\n",
       "<p>5 rows × 51 columns</p>\n",
       "</div>"
      ],
      "text/plain": [
       "         x0        x1        x2        x3        x4        x5        x6  \\\n",
       "0  0.535952  0.017227  1.208062  0.202533 -1.644516  1.929728 -1.379576   \n",
       "1 -0.045469 -1.634152 -0.179330 -0.124893 -0.498187  0.301229  1.433573   \n",
       "2  0.892632  0.381754  0.721225  0.462180 -0.215102  0.448884 -0.372852   \n",
       "3  1.840379  1.357147 -0.484678 -1.672245 -0.831480 -0.120234  0.205111   \n",
       "4  1.789296  2.017991  1.447001 -0.669401  0.488512 -0.594615  1.097597   \n",
       "\n",
       "         x7        x8        x9  ...       x41       x42       x43       x44  \\\n",
       "0 -0.019722 -0.393779 -0.503232  ...  0.391509 -1.405062 -1.405331 -0.016737   \n",
       "1  0.371730 -1.050995 -0.154174  ... -0.013053  0.969492 -1.148017 -1.267893   \n",
       "2 -0.991715 -1.168858 -0.502264  ... -0.814421 -1.676396  1.435880  0.380768   \n",
       "3  0.027005 -0.713226 -1.004653  ...  0.351127  1.443565 -0.442276  0.081147   \n",
       "4 -0.174369  0.125458  0.012450  ...  0.127604 -0.693991  0.572990  0.145557   \n",
       "\n",
       "        x45       x46       x47       x48       x49         y  \n",
       "0  0.001191 -0.001794 -0.190739  0.328353  0.240302 -7.685229  \n",
       "1 -1.750522 -0.520060  0.022586 -0.039151 -0.659468  6.703571  \n",
       "2 -0.622424  0.110701  0.399384 -0.474989 -0.164104 -4.073610  \n",
       "3 -0.458059  0.919639 -0.940152  0.407683 -0.992897  3.916415  \n",
       "4  0.646001  0.073362 -0.865835  0.469710 -1.151751  3.689591  \n",
       "\n",
       "[5 rows x 51 columns]"
      ]
     },
     "execution_count": 5,
     "metadata": {},
     "output_type": "execute_result"
    }
   ],
   "source": [
    "df_50 = pd.read_csv(\"../data/high_dim_data.csv\")\n",
    "df_50.head()"
   ]
  },
  {
   "cell_type": "code",
   "execution_count": 6,
   "id": "c0ca226b",
   "metadata": {},
   "outputs": [
    {
     "data": {
      "text/plain": [
       "'y ~ x0 + x1 + x2 + x3 + x4 + x5 + x6 + x7 + x8 + x9 + x10 + x11 + x12 + x13 + x14 + x15 + x16 + x17 + x18 + x19 + x20 + x21 + x22 + x23 + x24 + x25 + x26 + x27 + x28 + x29 + x30 + x31 + x32 + x33 + x34 + x35 + x36 + x37 + x38 + x39 + x40 + x41 + x42 + x43 + x44 + x45 + x46 + x47 + x48 + x49'"
      ]
     },
     "execution_count": 6,
     "metadata": {},
     "output_type": "execute_result"
    }
   ],
   "source": [
    "df = df_50\n",
    "response = 'y'\n",
    "all_variables = df.columns.drop(response)\n",
    "full_model_formula = f'{response} ~ {\" + \".join(all_variables)}'\n",
    "full_model_formula"
   ]
  },
  {
   "cell_type": "code",
   "execution_count": 8,
   "id": "57d15feb",
   "metadata": {},
   "outputs": [
    {
     "data": {
      "text/plain": [
       "[2, 3, 13, 29, 42]"
      ]
     },
     "execution_count": 8,
     "metadata": {},
     "output_type": "execute_result"
    }
   ],
   "source": [
    "true_p = [2, 3, 13, 29, 42]\n",
    "true_p"
   ]
  },
  {
   "cell_type": "code",
   "execution_count": 9,
   "id": "053bf960",
   "metadata": {},
   "outputs": [
    {
     "data": {
      "text/plain": [
       "'y ~ x2 + x3 + x13 + x29 + x42'"
      ]
     },
     "execution_count": 9,
     "metadata": {},
     "output_type": "execute_result"
    }
   ],
   "source": [
    "true_model_formula = 'y ~ ' + ' + '.join(df.columns[true_p])\n",
    "true_model_formula"
   ]
  },
  {
   "cell_type": "code",
   "execution_count": 10,
   "id": "218fbb30",
   "metadata": {},
   "outputs": [
    {
     "name": "stdout",
     "output_type": "stream",
     "text": [
      "Simple model:\t y ~ x0 + x1\n",
      "True model:\t y ~ x2 + x3 + x13 + x29 + x42\n",
      "Full model:\t y ~ x0 + x1 + x2 + x3 + x4 + x5 + x6 + x7 + x8 + x9 + x10 + x11 + x12 + x13 + x14 + x15 + x16 + x17 + x18 + x19 + x20 + x21 + x22 + x23 + x24 + x25 + x26 + x27 + x28 + x29 + x30 + x31 + x32 + x33 + x34 + x35 + x36 + x37 + x38 + x39 + x40 + x41 + x42 + x43 + x44 + x45 + x46 + x47 + x48 + x49\n"
     ]
    }
   ],
   "source": [
    "simple_model_formula = 'y ~ x0 + x1'\n",
    "true_model_formula = 'y ~ ' + ' + '.join(df.columns[true_p])\n",
    "full_model_formula = f'{response} ~ {\" + \".join(all_variables)}'\n",
    "print(f'Simple model:\\t {simple_model_formula}')\n",
    "print(f'True model:\\t {true_model_formula}')\n",
    "print(f'Full model:\\t {full_model_formula}')"
   ]
  },
  {
   "cell_type": "code",
   "execution_count": 11,
   "id": "66296c34",
   "metadata": {},
   "outputs": [
    {
     "data": {
      "text/plain": [
       "283.4827739444817"
      ]
     },
     "execution_count": 11,
     "metadata": {},
     "output_type": "execute_result"
    }
   ],
   "source": [
    "criterion = lambda formula, df: smf.ols(formula, data=df).fit().bic\n",
    "criterion(true_model_formula, df)"
   ]
  },
  {
   "cell_type": "code",
   "execution_count": 12,
   "id": "f81156d0",
   "metadata": {},
   "outputs": [],
   "source": [
    "def add(df, selected_columns, columns, criterion, response='y'):\n",
    "    best_criterion = np.inf\n",
    "    best_column = None\n",
    "    for column in columns - selected_columns:\n",
    "        new_columns = selected_columns.union({column})\n",
    "        formula = f'{response} ~ {\" + \".join(new_columns)}'\n",
    "        current_criterion = criterion(formula, df)\n",
    "        if current_criterion < best_criterion:\n",
    "            best_criterion = current_criterion\n",
    "            best_column = column\n",
    "    return selected_columns.union({best_column}), best_criterion"
   ]
  },
  {
   "cell_type": "code",
   "execution_count": 13,
   "id": "634b8ffb",
   "metadata": {},
   "outputs": [
    {
     "data": {
      "text/plain": [
       "753.4027934220106"
      ]
     },
     "execution_count": 13,
     "metadata": {},
     "output_type": "execute_result"
    }
   ],
   "source": [
    "criterion('y ~ x30', df)"
   ]
  },
  {
   "cell_type": "code",
   "execution_count": 14,
   "id": "7d8d4041",
   "metadata": {},
   "outputs": [
    {
     "data": {
      "text/plain": [
       "({'x29'}, 674.5235984769226)"
      ]
     },
     "execution_count": 14,
     "metadata": {},
     "output_type": "execute_result"
    }
   ],
   "source": [
    "add(df, set(), set(df.columns[:-1]), criterion, 'y')"
   ]
  },
  {
   "cell_type": "code",
   "execution_count": 15,
   "id": "edfab0ca",
   "metadata": {},
   "outputs": [],
   "source": [
    "def forward(df, criterion, response='y'):\n",
    "    selected_columns = set()\n",
    "    columns = set(df.columns.drop(response))\n",
    "    best_criterion = np.inf\n",
    "    while len(selected_columns) < len(columns):\n",
    "        potential_columns, current_criterion = add(df, selected_columns, columns, criterion, response)\n",
    "        if current_criterion > best_criterion:\n",
    "            break\n",
    "        else:\n",
    "            selected_columns = potential_columns\n",
    "            best_criterion = current_criterion\n",
    "            print(f'Criterion: {best_criterion}')\n",
    "    return selected_columns"
   ]
  },
  {
   "cell_type": "code",
   "execution_count": 16,
   "id": "5fa29443",
   "metadata": {},
   "outputs": [
    {
     "name": "stdout",
     "output_type": "stream",
     "text": [
      "Criterion: 674.5235984769226\n",
      "Criterion: 596.6114618297019\n",
      "Criterion: 539.9620522701616\n",
      "Criterion: 457.96931571154164\n",
      "Criterion: 283.4827739444817\n",
      "Criterion: 281.58438703116974\n",
      "forward_vars: {'x5', 'x42', 'x13', 'x3', 'x29', 'x2'}\n"
     ]
    }
   ],
   "source": [
    "forward_vars = forward(df, criterion, response='y')\n",
    "print(f'forward_vars: {forward_vars}')"
   ]
  },
  {
   "cell_type": "markdown",
   "id": "a04d9c53",
   "metadata": {},
   "source": [
    "### Backward Selection"
   ]
  },
  {
   "cell_type": "markdown",
   "id": "f6eb5b29",
   "metadata": {},
   "source": [
    "Start with full model and remove predictors that least contribute to the model according to the selection criterion."
   ]
  },
  {
   "cell_type": "markdown",
   "id": "2cc62421",
   "metadata": {},
   "source": [
    "$$\n",
    "\\min_{j \\in \\{i_1, i_2, \\dots, i_k\\}} C(x_{i_1}, x_{i_2}, \\dots, x_{i_k} \\setminus x_j)\n",
    "$$"
   ]
  },
  {
   "cell_type": "markdown",
   "id": "a0c79c4c",
   "metadata": {},
   "source": [
    "Stop if:\n",
    "\n",
    "$$\n",
    "\\min_{j \\in \\{i_1, i_2, \\dots, i_k\\}} C(x_{i_1}, x_{i_2}, \\dots, x_{i_k} \\setminus x_j) > C(x_{i_1}, x_{i_2}, \\dots, x_{i_k})\n",
    "$$"
   ]
  },
  {
   "cell_type": "code",
   "execution_count": 17,
   "id": "b07aee34",
   "metadata": {},
   "outputs": [],
   "source": [
    "def remove(df, selected_columns, criterion, response='y'):\n",
    "    worst_criterion = np.inf\n",
    "    worst_column = None\n",
    "    for column in selected_columns:\n",
    "        new_columns = selected_columns - {column}\n",
    "        formula = f'{response} ~ {\" + \".join(new_columns)}'\n",
    "        current_criterion = criterion(formula, df)\n",
    "        if current_criterion < worst_criterion:\n",
    "            worst_criterion = current_criterion\n",
    "            worst_column = column\n",
    "    return worst_column, worst_criterion"
   ]
  },
  {
   "cell_type": "code",
   "execution_count": 18,
   "id": "07d75c74",
   "metadata": {},
   "outputs": [
    {
     "data": {
      "text/plain": [
       "('x21', 435.3349460721872)"
      ]
     },
     "execution_count": 18,
     "metadata": {},
     "output_type": "execute_result"
    }
   ],
   "source": [
    "remove(df, set(df.columns.drop(response)), criterion)"
   ]
  },
  {
   "cell_type": "code",
   "execution_count": 19,
   "id": "a0f44819",
   "metadata": {},
   "outputs": [],
   "source": [
    "def backward(df, criterion, response='y'):\n",
    "    selected_columns = set(df.columns.drop(response))\n",
    "    columns = set(df.columns.drop(response))\n",
    "    best_criterion = np.inf\n",
    "    while len(selected_columns) > 0:\n",
    "        potential_column, current_criterion = remove(df, selected_columns, criterion, response)\n",
    "        if current_criterion > best_criterion:\n",
    "            break\n",
    "        else:\n",
    "            selected_columns = selected_columns - {potential_column}\n",
    "            best_criterion = current_criterion\n",
    "            print(f'Criterion: {best_criterion}')\n",
    "    return selected_columns"
   ]
  },
  {
   "cell_type": "code",
   "execution_count": 20,
   "id": "04be26d4",
   "metadata": {},
   "outputs": [
    {
     "name": "stdout",
     "output_type": "stream",
     "text": [
      "Criterion: 435.3349460721872\n",
      "Criterion: 430.7372999372186\n",
      "Criterion: 426.13951916926675\n",
      "Criterion: 421.55475848625144\n",
      "Criterion: 416.964520649462\n",
      "Criterion: 412.38236017662916\n",
      "Criterion: 407.8937967671607\n",
      "Criterion: 403.3730353908611\n",
      "Criterion: 398.9586344736025\n",
      "Criterion: 394.515849473467\n",
      "Criterion: 390.0479724024248\n",
      "Criterion: 385.5840288669791\n",
      "Criterion: 381.1367564576192\n",
      "Criterion: 376.80805004934075\n",
      "Criterion: 372.5178644226571\n",
      "Criterion: 368.18449610514665\n",
      "Criterion: 363.8386694786908\n",
      "Criterion: 359.54732541554023\n",
      "Criterion: 355.26324664538333\n",
      "Criterion: 350.95354167830965\n",
      "Criterion: 346.74377628159414\n",
      "Criterion: 342.5216705164869\n",
      "Criterion: 338.4278091681549\n",
      "Criterion: 334.3462455357876\n",
      "Criterion: 330.3667095082936\n",
      "Criterion: 326.5896362219588\n",
      "Criterion: 322.81671875726283\n",
      "Criterion: 319.5930681919954\n",
      "Criterion: 316.81999705968826\n",
      "Criterion: 313.6126666171288\n",
      "Criterion: 310.7833547596321\n",
      "Criterion: 307.93870691445613\n",
      "Criterion: 305.1624178835925\n",
      "Criterion: 302.2939860321138\n",
      "Criterion: 299.5649288615447\n",
      "Criterion: 297.51616043420415\n",
      "Criterion: 295.08715353475054\n",
      "Criterion: 292.73032014932335\n",
      "Criterion: 291.0373120620955\n",
      "Criterion: 289.4371556079508\n",
      "Criterion: 287.57527764558006\n",
      "Criterion: 286.1796342929517\n",
      "Criterion: 284.3075371657784\n",
      "Criterion: 283.09471290538454\n",
      "backward_vars: {'x38', 'x42', 'x13', 'x3', 'x29', 'x2'}\n"
     ]
    }
   ],
   "source": [
    "backward_vars = backward(df, criterion, response='y')\n",
    "print(f'backward_vars: {backward_vars}')"
   ]
  },
  {
   "cell_type": "code",
   "execution_count": 21,
   "id": "ea13a4ab",
   "metadata": {},
   "outputs": [
    {
     "data": {
      "text/plain": [
       "False"
      ]
     },
     "execution_count": 21,
     "metadata": {},
     "output_type": "execute_result"
    }
   ],
   "source": [
    "backward_vars == forward_vars"
   ]
  },
  {
   "cell_type": "markdown",
   "id": "7763c728",
   "metadata": {},
   "source": [
    "### Mixed Selection\n",
    "\n",
    "Combination of forward and backward selection"
   ]
  },
  {
   "cell_type": "code",
   "execution_count": 23,
   "id": "2629656d",
   "metadata": {},
   "outputs": [
    {
     "name": "stdout",
     "output_type": "stream",
     "text": [
      "Criterion: 669.3132581049465\n",
      "Criterion: 588.7959512717375\n",
      "Criterion: 529.5413715262092\n",
      "Criterion: 444.94346478160116\n",
      "Criterion: 267.8517528285532\n",
      "Criterion: 263.3481957292531\n",
      "Criterion: 261.5278712779194\n",
      "Criterion: 260.71568614213606\n",
      "Criterion: 260.3579088780592\n",
      "Criterion: 260.26552529189667\n",
      "Criterion: 260.2605495701488\n",
      "Criterion: 259.90538967344935\n",
      "Criterion: 258.96972495152215\n",
      "Criterion: 258.7586670609048\n",
      "Criterion: 258.1719388296532\n",
      "Criterion: 257.66034934782675\n",
      "Criterion: 674.5235984769226\n",
      "Criterion: 596.6114618297019\n",
      "Criterion: 539.9620522701616\n",
      "Criterion: 457.96931571154164\n",
      "Criterion: 283.4827739444817\n",
      "Criterion: 281.58438703116974\n",
      "Criterion: -0.5483773754592418\n",
      "Criterion: -0.8000773860373486\n",
      "Criterion: -0.8905194014829971\n",
      "Criterion: -0.9534633774894645\n",
      "Criterion: -0.992154778869076\n",
      "Criterion: -0.9925697144396994\n",
      "Criterion: -0.9927704849227563\n",
      "Criterion: -0.9928937179958062\n",
      "Criterion: -0.9929821897040833\n",
      "Criterion: -0.9930502845905527\n",
      "Criterion: -0.9931108307222202\n",
      "Criterion: -0.993193843260972\n",
      "Criterion: -0.9933138930730606\n",
      "Criterion: -0.9933831644544968\n",
      "Criterion: -0.993475368890137\n",
      "Criterion: -0.9935605398243105\n",
      "Criterion: -0.9935853393963827\n",
      "Criterion: -0.9936087203158213\n",
      "Criterion: -0.9936509239143198\n",
      "Criterion: -0.993674271111379\n",
      "forward_vars_aic: {'x40', 'x15', 'x10', 'x38', 'x32', 'x35', 'x5', 'x42', 'x33', 'x11', 'x13', 'x3', 'x9', 'x41', 'x29', 'x2'}\n",
      "forward_vars_bic: {'x5', 'x42', 'x13', 'x3', 'x29', 'x2'}\n",
      "forward_vars_r2: {'x38', 'x42', 'x13', 'x3', 'x24', 'x41', 'x29', 'x2', 'x40', 'x15', 'x10', 'x32', 'x35', 'x47', 'x5', 'x39', 'x33', 'x11', 'x9', 'x19'}\n"
     ]
    }
   ],
   "source": [
    "r2_adj_criterion = lambda formula, df: -smf.ols(formula, data=df).fit().rsquared_adj\n",
    "bic_criterion = lambda formula, df: smf.ols(formula, data=df).fit().bic\n",
    "aic_criterion = lambda formula, df: smf.ols(formula, data=df).fit().aic\n",
    "\n",
    "forward_vars_aic = forward(df, aic_criterion, response='y')\n",
    "forward_vars_bic = forward(df, bic_criterion, response='y')\n",
    "forward_vars_r2 = forward(df, r2_adj_criterion, response='y')\n",
    "\n",
    "print(f'forward_vars_aic: {forward_vars_aic}')\n",
    "print(f'forward_vars_bic: {forward_vars_bic}')\n",
    "print(f'forward_vars_r2: {forward_vars_r2}')"
   ]
  },
  {
   "cell_type": "markdown",
   "id": "949c9187",
   "metadata": {},
   "source": [
    "<br></br>\n",
    "<br></br>\n",
    "<br></br>"
   ]
  },
  {
   "cell_type": "markdown",
   "id": "f15473cf",
   "metadata": {},
   "source": [
    "---\n",
    "---"
   ]
  },
  {
   "cell_type": "markdown",
   "id": "06efcaa3",
   "metadata": {},
   "source": [
    "## Thu, May 30"
   ]
  },
  {
   "cell_type": "markdown",
   "id": "162e5888",
   "metadata": {},
   "source": [
    "<br></br>"
   ]
  },
  {
   "cell_type": "markdown",
   "id": "14e2f50d",
   "metadata": {},
   "source": [
    "## Regularization"
   ]
  },
  {
   "cell_type": "markdown",
   "id": "79fdce63",
   "metadata": {},
   "source": [
    "The standard linear model we have looked at so far is\n",
    "\n",
    "$$\n",
    "...\n",
    "$$\n",
    "\n",
    "which is obtained by solving\n",
    "\n",
    "$$\n",
    "...\n",
    "$$\n",
    "\n",
    "\n",
    "The regularization technique inludes a penalty term\n",
    "\n",
    "$$\n",
    "...\n",
    "$$\n",
    "\n",
    "And, the new optimization problem is\n",
    "\n",
    "$$\n",
    "...\n",
    "$$"
   ]
  },
  {
   "cell_type": "markdown",
   "id": "7a298da0",
   "metadata": {},
   "source": [
    "<br></br>"
   ]
  },
  {
   "cell_type": "markdown",
   "id": "1849ee39",
   "metadata": {},
   "source": [
    "#### Intuition\n",
    "\n",
    "The intuition of the regularization technique is \n",
    "\n",
    "..."
   ]
  },
  {
   "cell_type": "markdown",
   "id": "aebe9305",
   "metadata": {},
   "source": [
    "<br></br>"
   ]
  },
  {
   "cell_type": "markdown",
   "id": "a9f002aa",
   "metadata": {},
   "source": [
    "#### Desiderata\n",
    "\n",
    "A good penalty function should satisfy the following properties:\n",
    "\n",
    "1. ...\n",
    "2. ...\n",
    "3. ...\n",
    "\n",
    "<br></br>"
   ]
  },
  {
   "cell_type": "markdown",
   "id": "80d7fc59",
   "metadata": {},
   "source": [
    "<br></br>"
   ]
  },
  {
   "cell_type": "markdown",
   "id": "a71d038b",
   "metadata": {},
   "source": [
    "#### Competing objectives\n",
    "\n",
    "The regularization technique balances two competing objectives:\n",
    "\n",
    "1. ...\n",
    "2. ...\n",
    "\n",
    "<br></br>"
   ]
  },
  {
   "cell_type": "markdown",
   "id": "bd1e2315",
   "metadata": {},
   "source": [
    "<br></br>"
   ]
  },
  {
   "cell_type": "markdown",
   "id": "3f33b7da",
   "metadata": {},
   "source": [
    "#### Penalty functions\n",
    "\n",
    "In class we discussed three different penalty functions:\n",
    "\n",
    "1. ...\n",
    "2. ...\n",
    "3. ...\n",
    "\n",
    "<br></br>"
   ]
  },
  {
   "cell_type": "markdown",
   "id": "0ef3480c",
   "metadata": {},
   "source": [
    "<br></br>"
   ]
  },
  {
   "cell_type": "markdown",
   "id": "c2143086",
   "metadata": {},
   "source": [
    "#### Penalty function 1\n",
    "\n",
    "The mathematical form is:\n",
    "\n",
    "$$\n",
    "...\n",
    "$$\n",
    "\n",
    "Intuitively, this penalty function is trying to ...\n",
    "<br></br>"
   ]
  },
  {
   "cell_type": "markdown",
   "id": "bdbd0859",
   "metadata": {},
   "source": [
    "<br></br>"
   ]
  },
  {
   "cell_type": "markdown",
   "id": "042ce46c",
   "metadata": {},
   "source": [
    "#### Penalty function 2\n",
    "\n",
    "The mathematical form is:\n",
    "\n",
    "$$\n",
    "...\n",
    "$$\n",
    "\n",
    "Intuitively, this penalty function is trying to ...\n",
    "<br></br>"
   ]
  },
  {
   "cell_type": "markdown",
   "id": "e87ee28e",
   "metadata": {},
   "source": [
    "<br></br>"
   ]
  },
  {
   "cell_type": "markdown",
   "id": "6fd533aa",
   "metadata": {},
   "source": [
    "#### Penalty function 3\n",
    "\n",
    "The mathematical form is:\n",
    "\n",
    "$$\n",
    "...\n",
    "$$\n",
    "\n",
    "Intuitively, this penalty function is trying to ...\n",
    "<br></br>"
   ]
  },
  {
   "cell_type": "markdown",
   "id": "41feb894",
   "metadata": {},
   "source": [
    "<br></br>"
   ]
  },
  {
   "cell_type": "markdown",
   "id": "f1d23ab7",
   "metadata": {},
   "source": [
    "#### Penalty function: New\n",
    "\n",
    "Based on my understanding, the following is a fourth candidate penalty function I propose:\n",
    "\n",
    "$$\n",
    "...\n",
    "$$\n",
    "\n",
    "This could be a useful penalty function because ...\n",
    "<br></br>"
   ]
  },
  {
   "cell_type": "markdown",
   "id": "9ea083a4",
   "metadata": {},
   "source": [
    "<br></br>"
   ]
  },
  {
   "cell_type": "markdown",
   "id": "95a37685",
   "metadata": {},
   "source": [
    "## Principal Component Analysis\n",
    "\n",
    "The setup for PCA is as follows:\n",
    "\n",
    "$$\n",
    "...\n",
    "$$\n",
    "\n",
    "The objective is to \n",
    "\n",
    "...\n",
    "\n",
    "...\n",
    "\n",
    "...\n",
    "\n",
    "<br></br>"
   ]
  },
  {
   "cell_type": "markdown",
   "id": "991e971f",
   "metadata": {},
   "source": [
    "<br></br>"
   ]
  },
  {
   "cell_type": "markdown",
   "id": "d3d97f1f",
   "metadata": {},
   "source": [
    "#### How PCA works\n",
    "\n",
    "The following is a high-level explanation of PCA based on my own understanding:\n",
    "\n",
    "...\n",
    "\n",
    "<br></br>"
   ]
  },
  {
   "cell_type": "markdown",
   "id": "6b496385",
   "metadata": {},
   "source": [
    "<br></br>"
   ]
  },
  {
   "cell_type": "markdown",
   "id": "47d52043",
   "metadata": {},
   "source": [
    "### Practical Considerations"
   ]
  },
  {
   "cell_type": "markdown",
   "id": "d7f1d320",
   "metadata": {},
   "source": [
    "##### Importance of rescaling the data\n",
    "\n",
    "...\n",
    "\n",
    "<br></br>"
   ]
  },
  {
   "cell_type": "markdown",
   "id": "69954eff",
   "metadata": {},
   "source": [
    "##### Interpretation of eigenvectors\n",
    "\n",
    "The eigenvectors are useful because\n",
    "\n",
    "...\n",
    "\n",
    "<br></br>"
   ]
  },
  {
   "cell_type": "markdown",
   "id": "2aefbabf",
   "metadata": {},
   "source": [
    "##### Use of PCA\n",
    "\n",
    "The following is an example of how PCA can be used in practice:\n",
    "\n",
    "...\n",
    "\n",
    "<br></br>"
   ]
  },
  {
   "cell_type": "markdown",
   "id": "112bceb8",
   "metadata": {},
   "source": [
    "<br></br>\n",
    "<br></br>\n",
    "<br></br>"
   ]
  },
  {
   "cell_type": "markdown",
   "id": "c2054701",
   "metadata": {},
   "source": [
    "---"
   ]
  }
 ],
 "metadata": {
  "celltoolbar": "Slideshow",
  "hide_input": false,
  "kernelspec": {
   "display_name": "Python 3 (ipykernel)",
   "language": "python",
   "name": "python3"
  },
  "language_info": {
   "codemirror_mode": {
    "name": "ipython",
    "version": 3
   },
   "file_extension": ".py",
   "mimetype": "text/x-python",
   "name": "python",
   "nbconvert_exporter": "python",
   "pygments_lexer": "ipython3",
   "version": "3.8.18"
  },
  "toc": {
   "base_numbering": 2
  }
 },
 "nbformat": 4,
 "nbformat_minor": 5
}
