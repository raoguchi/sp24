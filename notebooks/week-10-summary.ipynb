{
 "cells": [
  {
   "cell_type": "markdown",
   "id": "d499b8cf",
   "metadata": {},
   "source": [
    "# Week 10 Summary\n",
    "> NAME: $\\color{red}{\\text{    <Ryosuke Oguchi>     }}$\n",
    "> \n",
    "> PID: $\\color{red}{\\text{    <A16777050>     }}$\n",
    ">\n",
    "> \n",
    "---"
   ]
  },
  {
   "cell_type": "markdown",
   "id": "1bce0cf8",
   "metadata": {},
   "source": [
    "I certify that the following write-up is my own work, and have abided by the UCSD Academic Integrity Guidelines.\n",
    "\n",
    "- [x] Yes\n",
    "- [ ] No"
   ]
  },
  {
   "cell_type": "markdown",
   "id": "6a1c41b1",
   "metadata": {},
   "source": [
    "% # %load tex-macros\n",
    "<div hidden>\n",
    "\\newcommand{\\require}[1]{}\n",
    "\n",
    "$\\require{begingroup}\\require{newcommand}$\n",
    "$\\long\\def \\forcecommand #1{\\providecommand{#1}{}\\renewcommand{#1}}$\n",
    "$\\forcecommand{\\defeq}{\\stackrel{\\small\\bullet}{=}}$\n",
    "$\\forcecommand{\\ra}{\\rangle}$\n",
    "$\\forcecommand{\\la}{\\langle}$\n",
    "$\\forcecommand{\\pr}{{\\mathbb P}}$\n",
    "$\\forcecommand{\\qr}{{\\mathbb Q}}$\n",
    "$\\forcecommand{\\xv}{{\\boldsymbol{x}}}$\n",
    "$\\forcecommand{\\av}{{\\boldsymbol{a}}}$\n",
    "$\\forcecommand{\\bv}{{\\boldsymbol{b}}}$\n",
    "$\\forcecommand{\\cv}{{\\boldsymbol{c}}}$\n",
    "$\\forcecommand{\\dv}{{\\boldsymbol{d}}}$\n",
    "$\\forcecommand{\\ev}{{\\boldsymbol{e}}}$\n",
    "$\\forcecommand{\\fv}{{\\boldsymbol{f}}}$\n",
    "$\\forcecommand{\\gv}{{\\boldsymbol{g}}}$\n",
    "$\\forcecommand{\\hv}{{\\boldsymbol{h}}}$\n",
    "$\\forcecommand{\\nv}{{\\boldsymbol{n}}}$\n",
    "$\\forcecommand{\\sv}{{\\boldsymbol{s}}}$\n",
    "$\\forcecommand{\\tv}{{\\boldsymbol{t}}}$\n",
    "$\\forcecommand{\\uv}{{\\boldsymbol{u}}}$\n",
    "$\\forcecommand{\\vv}{{\\boldsymbol{v}}}$\n",
    "$\\forcecommand{\\wv}{{\\boldsymbol{w}}}$\n",
    "$\\forcecommand{\\zerov}{{\\mathbf{0}}}$\n",
    "$\\forcecommand{\\onev}{{\\mathbf{0}}}$\n",
    "$\\forcecommand{\\phiv}{{\\boldsymbol{\\phi}}}$\n",
    "$\\forcecommand{\\cc}{{\\check{C}}}$\n",
    "$\\forcecommand{\\xv}{{\\boldsymbol{x}}}$\n",
    "$\\forcecommand{\\Xv}{{\\boldsymbol{X}\\!}}$\n",
    "$\\forcecommand{\\yv}{{\\boldsymbol{y}}}$\n",
    "$\\forcecommand{\\Yv}{{\\boldsymbol{Y}}}$\n",
    "$\\forcecommand{\\zv}{{\\boldsymbol{z}}}$\n",
    "$\\forcecommand{\\Zv}{{\\boldsymbol{Z}}}$\n",
    "$\\forcecommand{\\Iv}{{\\boldsymbol{I}}}$\n",
    "$\\forcecommand{\\Jv}{{\\boldsymbol{J}}}$\n",
    "$\\forcecommand{\\Cv}{{\\boldsymbol{C}}}$\n",
    "$\\forcecommand{\\Ev}{{\\boldsymbol{E}}}$\n",
    "$\\forcecommand{\\Fv}{{\\boldsymbol{F}}}$\n",
    "$\\forcecommand{\\Gv}{{\\boldsymbol{G}}}$\n",
    "$\\forcecommand{\\Hv}{{\\boldsymbol{H}}}$\n",
    "$\\forcecommand{\\alphav}{{\\boldsymbol{\\alpha}}}$\n",
    "$\\forcecommand{\\epsilonv}{{\\boldsymbol{\\epsilon}}}$\n",
    "$\\forcecommand{\\betav}{{\\boldsymbol{\\beta}}}$\n",
    "$\\forcecommand{\\deltav}{{\\boldsymbol{\\delta}}}$\n",
    "$\\forcecommand{\\gammav}{{\\boldsymbol{\\gamma}}}$\n",
    "$\\forcecommand{\\etav}{{\\boldsymbol{\\eta}}}$\n",
    "$\\forcecommand{\\piv}{{\\boldsymbol{\\pi}}}$\n",
    "$\\forcecommand{\\thetav}{{\\boldsymbol{\\theta}}}$\n",
    "$\\forcecommand{\\tauv}{{\\boldsymbol{\\tau}}}$\n",
    "$\\forcecommand{\\muv}{{\\boldsymbol{\\mu}}}$\n",
    "$%$\n",
    "$\\forcecommand{\\sd}{\\text{SD}}$\n",
    "$\\forcecommand{\\se}{\\text{SE}}$\n",
    "$\\forcecommand{\\med}{\\text{median}}$\n",
    "$\\forcecommand{\\median}{\\text{median}}$\n",
    "$%$\n",
    "$\\forcecommand{\\supp}{\\text{supp}}$\n",
    "$\\forcecommand{\\E}{\\mathbb{E}}$\n",
    "$\\forcecommand{\\var}{\\text{Var}}$\n",
    "$\\forcecommand{\\Ber}{{\\text{Ber}}}$\n",
    "$\\forcecommand{\\Bin}{{\\text{Bin}}}$\n",
    "$\\forcecommand{\\Geo}{{\\text{Geo}}}$\n",
    "$\\forcecommand{\\Unif}{{\\text{Unif}}}$\n",
    "$\\forcecommand{\\Poi}{{\\text{Poi}}}$\n",
    "$\\forcecommand{\\Exp}{{\\text{Exp}}}$\n",
    "$\\forcecommand{\\Chisq}{{\\chi^2}}$\n",
    "$\\forcecommand{\\N}{\\mathbb{N}}$\n",
    "$\\forcecommand{\\iid}{{\\stackrel{iid}{\\sim}}}$\n",
    "$\\forcecommand{\\px}{p_{X}}$\n",
    "$\\forcecommand{\\fx}{f_{X}}$\n",
    "$\\forcecommand{\\Fx}{F_{X}}$\n",
    "$\\forcecommand{\\py}{p_{Y}}$\n",
    "$\\forcecommand{\\pxy}{p_{X,Y}}$\n",
    "$\\forcecommand{\\po}{{p_0}}$\n",
    "$\\forcecommand{\\pa}{{p_a}}$\n",
    "$\\forcecommand{\\Xbar}{\\overline{X}}$\n",
    "$\\forcecommand{\\Ybar}{\\overline{Y}}$\n",
    "$\\forcecommand{\\Zbar}{\\overline{Z}}$\n",
    "$\\forcecommand{\\nXbar}{n \\cdot \\overline{X}}$\n",
    "$\\forcecommand{\\nYbar}{n \\cdot \\overline{Y}}$\n",
    "$\\forcecommand{\\nZbar}{n \\cdot \\overline{Z}}$\n",
    "$\\forcecommand{\\Xn}{X_1, X_2, \\dots, X_n}$\n",
    "$\\forcecommand{\\Xm}{{X_1, X_2, \\dots, X_m}}$\n",
    "$\\forcecommand{\\Yn}{Y_1, Y_2, \\dots, Y_n}$\n",
    "$\\forcecommand{\\Ym}{{Y_1, Y_2, \\dots, Y_m}}$\n",
    "$\\forcecommand{\\sumXn}{X_1 + X_2 + \\dots + X_n}$\n",
    "$\\forcecommand{\\sumym}{Y_1 + Y_2 + \\dots + Y_m}$\n",
    "$\\forcecommand{\\la}{\\ell_\\alpha}$\n",
    "$\\forcecommand{\\ua}{u_\\alpha}$\n",
    "$\\forcecommand{\\at}{{\\alpha/2}}$\n",
    "$\\forcecommand{\\mux}{\\mu_{X}}$\n",
    "$\\forcecommand{\\muy}{\\mu_{Y}}$\n",
    "$\\forcecommand{\\sx}{\\sigma_{X}}$\n",
    "$\\forcecommand{\\sy}{\\sigma_{Y}}$\n",
    "$\\forcecommand{\\ci}{\\text{CI}}$\n",
    "$\\forcecommand{\\pvalue}{$p$-value}$\n",
    "$\\forcecommand{\\Ho}{H_{0}}$\n",
    "$\\forcecommand{\\Ha}{H_{a}}$\n",
    "\n",
    "\\vskip-\\parskip\n",
    "\\vskip-\\baselineskip\n",
    "</div>"
   ]
  },
  {
   "cell_type": "markdown",
   "id": "fbfec7ec",
   "metadata": {},
   "source": [
    "---"
   ]
  },
  {
   "cell_type": "markdown",
   "id": "15c6dc53",
   "metadata": {},
   "source": [
    "## Key Takeaways from Week 10"
   ]
  },
  {
   "cell_type": "markdown",
   "id": "cc992f31",
   "metadata": {},
   "source": [
    "\n",
    "#### Tuesday: \n",
    "\n",
    "... insert your key takeaways here ..."
   ]
  },
  {
   "cell_type": "markdown",
   "id": "6d69de7b",
   "metadata": {},
   "source": [
    "#### Thursday\n",
    "\n",
    "... insert your takeaway here ...\n"
   ]
  },
  {
   "cell_type": "markdown",
   "id": "aaadbca8",
   "metadata": {},
   "source": [
    "---"
   ]
  },
  {
   "cell_type": "markdown",
   "id": "c2d78965",
   "metadata": {},
   "source": [
    "## Tue, Jun 4"
   ]
  },
  {
   "cell_type": "markdown",
   "id": "5f374b82",
   "metadata": {},
   "source": [
    "<br></br>"
   ]
  },
  {
   "cell_type": "markdown",
   "id": "78f510c6",
   "metadata": {},
   "source": [
    "## Intuition for LASSO vs Ridge Penalty\n",
    "\n",
    "As opposed to the Ridge penalty, the LASSO penalty does a better job at shrinking the coefficients to zero because\n",
    "\n",
    "...\n",
    "\n",
    "...\n",
    "\n",
    "...\n",
    "\n",
    "<br></br>"
   ]
  },
  {
   "cell_type": "markdown",
   "id": "e44a2a92",
   "metadata": {},
   "source": [
    "## Principal Component Analysis\n",
    "\n",
    "The setup for PCA is as follows:\n",
    "\n",
    "Given variables $(X_1, \\dots, X_p)$\n",
    "\n",
    "The objective is to \n",
    "\n",
    "find groups of variables that behave similarly\n",
    "\n",
    "...\n",
    "\n",
    "...\n",
    "\n",
    "<br></br>"
   ]
  },
  {
   "cell_type": "markdown",
   "id": "6d995e95",
   "metadata": {},
   "source": [
    "<br></br>"
   ]
  },
  {
   "cell_type": "markdown",
   "id": "fad79eb5",
   "metadata": {},
   "source": [
    "#### How PCA works\n",
    "\n",
    "The following is a high-level explanation of PCA based on my own understanding:\n",
    "\n",
    "take variables and make them into a new, smaller set of variable in $z_q$ where $q<<p$\n",
    "\n",
    "Constaints\n",
    "* z is linear combination of $x_1, \\dots x_p$\n",
    "* Variance of x and z are close\n",
    "* $z_1, \\dots, z_p$ are not correlated\n",
    "\n",
    "<br></br>"
   ]
  },
  {
   "cell_type": "markdown",
   "id": "0a9f67e7",
   "metadata": {},
   "source": [
    "Min Max Theorem\n",
    "\n",
    "$$\n",
    "\\text{max}v^T \\cdot \\text{cov}(X) \\cdot v \\\\\n",
    "v \\cdot v = 1\n",
    "$$"
   ]
  },
  {
   "cell_type": "markdown",
   "id": "94e14ec6",
   "metadata": {},
   "source": [
    "max value = largest eigenvalue of $X$ \\\n",
    "maximizer $v^*$ = eigenvector corresponding to the largest eigenvalue"
   ]
  },
  {
   "cell_type": "markdown",
   "id": "2c175136",
   "metadata": {},
   "source": [
    "<br></br>"
   ]
  },
  {
   "cell_type": "markdown",
   "id": "2f6fe084",
   "metadata": {},
   "source": [
    "### Practical Considerations"
   ]
  },
  {
   "cell_type": "markdown",
   "id": "fc2863dc",
   "metadata": {},
   "source": [
    "##### Importance of rescaling the data\n",
    "\n",
    "You can artificially inflate the varianace in $Z_1$\n",
    "\n",
    "<br></br>"
   ]
  },
  {
   "cell_type": "markdown",
   "id": "d2411b43",
   "metadata": {},
   "source": [
    "$$\n",
    "Z_2 = v_{12} X_1 + v_{22} X_2 + \\dots v_{pq}X_p\n",
    "$$\n",
    "such that $v_2$ is orthogonal to $v_1$\\\n",
    "$V_q$ is orthologal to span of $V$"
   ]
  },
  {
   "cell_type": "markdown",
   "id": "e74096fe",
   "metadata": {},
   "source": [
    "You want to have a projection where the variance of the data to be maximized"
   ]
  },
  {
   "cell_type": "markdown",
   "id": "12b2eb6c",
   "metadata": {},
   "source": [
    "##### Interpretation of eigenvectors\n",
    "\n",
    "The eigenvectors are useful because\n",
    "\n",
    "...\n",
    "\n",
    "<br></br>"
   ]
  },
  {
   "cell_type": "markdown",
   "id": "98086b01",
   "metadata": {},
   "source": [
    "##### Use of PCA\n",
    "\n",
    "The following is an example of how PCA can be used in practice:\n",
    "\n",
    "...\n",
    "\n",
    "<br></br>"
   ]
  },
  {
   "cell_type": "markdown",
   "id": "463e8eed",
   "metadata": {},
   "source": [
    "* First PC is the direction where there is most variance\n",
    "* Second PC is the direction where there is 2nd most variance, it is orthogoonal to the first component"
   ]
  },
  {
   "cell_type": "markdown",
   "id": "18b3b0c1",
   "metadata": {},
   "source": [
    "# June 6th"
   ]
  },
  {
   "cell_type": "markdown",
   "id": "1ec6afee",
   "metadata": {},
   "source": [
    "## Clustering"
   ]
  },
  {
   "cell_type": "markdown",
   "id": "d2786517",
   "metadata": {},
   "source": [
    "View Data as scatterplot and data is bunched into groups\n",
    "* Interested in the rows of the dataset, want to find groups within such observations"
   ]
  },
  {
   "cell_type": "markdown",
   "id": "f13a5282",
   "metadata": {},
   "source": [
    "### Key Properties"
   ]
  },
  {
   "cell_type": "markdown",
   "id": "5e6a913a",
   "metadata": {},
   "source": [
    "1. Always Rescale, it is extremely sensitive\n",
    "2. PCA on covariance matrix of rescaled data is the same as PCA on correlation matrix of the original data\n",
    "3. PCA components are guarnateed to be uncorrelated with each other"
   ]
  },
  {
   "cell_type": "markdown",
   "id": "0431f088",
   "metadata": {},
   "source": [
    "You can make p principle components, if you have p features; this is as the covariance matrix is p by p, and there are p eigenvalues"
   ]
  },
  {
   "cell_type": "markdown",
   "id": "743d3544",
   "metadata": {},
   "source": [
    "You can determine the amount of information you can gain by viewing a skree plot, then select the relevant components "
   ]
  },
  {
   "cell_type": "markdown",
   "id": "0a7d9788",
   "metadata": {},
   "source": [
    "### Removing Multicollinearity"
   ]
  },
  {
   "cell_type": "markdown",
   "id": "463bd1f2",
   "metadata": {},
   "source": [
    "* Make new regression of linear combination of $Z_1, \\dots, Z_q$"
   ]
  },
  {
   "cell_type": "markdown",
   "id": "949c9187",
   "metadata": {},
   "source": [
    "<br></br>\n",
    "<br></br>\n",
    "<br></br>"
   ]
  },
  {
   "cell_type": "markdown",
   "id": "f15473cf",
   "metadata": {},
   "source": [
    "---\n",
    "---"
   ]
  }
 ],
 "metadata": {
  "celltoolbar": "Slideshow",
  "hide_input": false,
  "kernelspec": {
   "display_name": "Python 3 (ipykernel)",
   "language": "python",
   "name": "python3"
  },
  "language_info": {
   "codemirror_mode": {
    "name": "ipython",
    "version": 3
   },
   "file_extension": ".py",
   "mimetype": "text/x-python",
   "name": "python",
   "nbconvert_exporter": "python",
   "pygments_lexer": "ipython3",
   "version": "3.12.1"
  },
  "toc": {
   "base_numbering": 2
  }
 },
 "nbformat": 4,
 "nbformat_minor": 5
}
