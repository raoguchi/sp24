{
 "cells": [
  {
   "cell_type": "markdown",
   "id": "d499b8cf",
   "metadata": {},
   "source": [
    "# Week 2 Summary\n",
    "> NAME: $\\color{red}{\\text{    <Ryosuke Oguchi>     }}$\n",
    "> \n",
    "> PID: $\\color{red}{\\text{    <A16777050>     }}$\n",
    ">\n",
    "> \n",
    "---"
   ]
  },
  {
   "cell_type": "markdown",
   "id": "1bce0cf8",
   "metadata": {},
   "source": [
    "I certify that the following write-up is my own work, and have abided by the UCSD Academic Integrity Guidelines.\n",
    "\n",
    "- [x] Yes\n",
    "- [ ] No"
   ]
  },
  {
   "cell_type": "markdown",
   "id": "6a1c41b1",
   "metadata": {},
   "source": [
    "% # %load tex-macros\n",
    "<div hidden>\n",
    "\\newcommand{\\require}[1]{}\n",
    "\n",
    "$\\require{begingroup}\\require{newcommand}$\n",
    "$\\long\\def \\forcecommand #1{\\providecommand{#1}{}\\renewcommand{#1}}$\n",
    "$\\forcecommand{\\defeq}{\\stackrel{\\small\\bullet}{=}}$\n",
    "$\\forcecommand{\\ra}{\\rangle}$\n",
    "$\\forcecommand{\\la}{\\langle}$\n",
    "$\\forcecommand{\\pr}{{\\mathbb P}}$\n",
    "$\\forcecommand{\\qr}{{\\mathbb Q}}$\n",
    "$\\forcecommand{\\xv}{{\\boldsymbol{x}}}$\n",
    "$\\forcecommand{\\av}{{\\boldsymbol{a}}}$\n",
    "$\\forcecommand{\\bv}{{\\boldsymbol{b}}}$\n",
    "$\\forcecommand{\\cv}{{\\boldsymbol{c}}}$\n",
    "$\\forcecommand{\\dv}{{\\boldsymbol{d}}}$\n",
    "$\\forcecommand{\\ev}{{\\boldsymbol{e}}}$\n",
    "$\\forcecommand{\\fv}{{\\boldsymbol{f}}}$\n",
    "$\\forcecommand{\\gv}{{\\boldsymbol{g}}}$\n",
    "$\\forcecommand{\\hv}{{\\boldsymbol{h}}}$\n",
    "$\\forcecommand{\\nv}{{\\boldsymbol{n}}}$\n",
    "$\\forcecommand{\\sv}{{\\boldsymbol{s}}}$\n",
    "$\\forcecommand{\\tv}{{\\boldsymbol{t}}}$\n",
    "$\\forcecommand{\\uv}{{\\boldsymbol{u}}}$\n",
    "$\\forcecommand{\\vv}{{\\boldsymbol{v}}}$\n",
    "$\\forcecommand{\\wv}{{\\boldsymbol{w}}}$\n",
    "$\\forcecommand{\\zerov}{{\\mathbf{0}}}$\n",
    "$\\forcecommand{\\onev}{{\\mathbf{0}}}$\n",
    "$\\forcecommand{\\phiv}{{\\boldsymbol{\\phi}}}$\n",
    "$\\forcecommand{\\cc}{{\\check{C}}}$\n",
    "$\\forcecommand{\\xv}{{\\boldsymbol{x}}}$\n",
    "$\\forcecommand{\\Xv}{{\\boldsymbol{X}\\!}}$\n",
    "$\\forcecommand{\\yv}{{\\boldsymbol{y}}}$\n",
    "$\\forcecommand{\\Yv}{{\\boldsymbol{Y}}}$\n",
    "$\\forcecommand{\\zv}{{\\boldsymbol{z}}}$\n",
    "$\\forcecommand{\\Zv}{{\\boldsymbol{Z}}}$\n",
    "$\\forcecommand{\\Iv}{{\\boldsymbol{I}}}$\n",
    "$\\forcecommand{\\Jv}{{\\boldsymbol{J}}}$\n",
    "$\\forcecommand{\\Cv}{{\\boldsymbol{C}}}$\n",
    "$\\forcecommand{\\Ev}{{\\boldsymbol{E}}}$\n",
    "$\\forcecommand{\\Fv}{{\\boldsymbol{F}}}$\n",
    "$\\forcecommand{\\Gv}{{\\boldsymbol{G}}}$\n",
    "$\\forcecommand{\\Hv}{{\\boldsymbol{H}}}$\n",
    "$\\forcecommand{\\alphav}{{\\boldsymbol{\\alpha}}}$\n",
    "$\\forcecommand{\\epsilonv}{{\\boldsymbol{\\epsilon}}}$\n",
    "$\\forcecommand{\\betav}{{\\boldsymbol{\\beta}}}$\n",
    "$\\forcecommand{\\deltav}{{\\boldsymbol{\\delta}}}$\n",
    "$\\forcecommand{\\gammav}{{\\boldsymbol{\\gamma}}}$\n",
    "$\\forcecommand{\\etav}{{\\boldsymbol{\\eta}}}$\n",
    "$\\forcecommand{\\piv}{{\\boldsymbol{\\pi}}}$\n",
    "$\\forcecommand{\\thetav}{{\\boldsymbol{\\theta}}}$\n",
    "$\\forcecommand{\\tauv}{{\\boldsymbol{\\tau}}}$\n",
    "$\\forcecommand{\\muv}{{\\boldsymbol{\\mu}}}$\n",
    "$%$\n",
    "$\\forcecommand{\\sd}{\\text{SD}}$\n",
    "$\\forcecommand{\\se}{\\text{SE}}$\n",
    "$\\forcecommand{\\med}{\\text{median}}$\n",
    "$\\forcecommand{\\median}{\\text{median}}$\n",
    "$%$\n",
    "$\\forcecommand{\\supp}{\\text{supp}}$\n",
    "$\\forcecommand{\\E}{\\mathbb{E}}$\n",
    "$\\forcecommand{\\var}{\\text{Var}}$\n",
    "$\\forcecommand{\\Ber}{{\\text{Ber}}}$\n",
    "$\\forcecommand{\\Bin}{{\\text{Bin}}}$\n",
    "$\\forcecommand{\\Geo}{{\\text{Geo}}}$\n",
    "$\\forcecommand{\\Unif}{{\\text{Unif}}}$\n",
    "$\\forcecommand{\\Poi}{{\\text{Poi}}}$\n",
    "$\\forcecommand{\\Exp}{{\\text{Exp}}}$\n",
    "$\\forcecommand{\\Chisq}{{\\chi^2}}$\n",
    "$\\forcecommand{\\N}{\\mathbb{N}}$\n",
    "$\\forcecommand{\\iid}{{\\stackrel{iid}{\\sim}}}$\n",
    "$\\forcecommand{\\px}{p_{X}}$\n",
    "$\\forcecommand{\\fx}{f_{X}}$\n",
    "$\\forcecommand{\\Fx}{F_{X}}$\n",
    "$\\forcecommand{\\py}{p_{Y}}$\n",
    "$\\forcecommand{\\pxy}{p_{X,Y}}$\n",
    "$\\forcecommand{\\po}{{p_0}}$\n",
    "$\\forcecommand{\\pa}{{p_a}}$\n",
    "$\\forcecommand{\\Xbar}{\\overline{X}}$\n",
    "$\\forcecommand{\\Ybar}{\\overline{Y}}$\n",
    "$\\forcecommand{\\Zbar}{\\overline{Z}}$\n",
    "$\\forcecommand{\\nXbar}{n \\cdot \\overline{X}}$\n",
    "$\\forcecommand{\\nYbar}{n \\cdot \\overline{Y}}$\n",
    "$\\forcecommand{\\nZbar}{n \\cdot \\overline{Z}}$\n",
    "$\\forcecommand{\\Xn}{X_1, X_2, \\dots, X_n}$\n",
    "$\\forcecommand{\\Xm}{{X_1, X_2, \\dots, X_m}}$\n",
    "$\\forcecommand{\\Yn}{Y_1, Y_2, \\dots, Y_n}$\n",
    "$\\forcecommand{\\Ym}{{Y_1, Y_2, \\dots, Y_m}}$\n",
    "$\\forcecommand{\\sumXn}{X_1 + X_2 + \\dots + X_n}$\n",
    "$\\forcecommand{\\sumym}{Y_1 + Y_2 + \\dots + Y_m}$\n",
    "$\\forcecommand{\\la}{\\ell_\\alpha}$\n",
    "$\\forcecommand{\\ua}{u_\\alpha}$\n",
    "$\\forcecommand{\\at}{{\\alpha/2}}$\n",
    "$\\forcecommand{\\mux}{\\mu_{X}}$\n",
    "$\\forcecommand{\\muy}{\\mu_{Y}}$\n",
    "$\\forcecommand{\\sx}{\\sigma_{X}}$\n",
    "$\\forcecommand{\\sy}{\\sigma_{Y}}$\n",
    "$\\forcecommand{\\ci}{\\text{CI}}$\n",
    "$\\forcecommand{\\pvalue}{$p$-value}$\n",
    "$\\forcecommand{\\Ho}{H_{0}}$\n",
    "$\\forcecommand{\\Ha}{H_{a}}$\n",
    "\n",
    "\\vskip-\\parskip\n",
    "\\vskip-\\baselineskip\n",
    "</div>"
   ]
  },
  {
   "cell_type": "code",
   "execution_count": 1,
   "id": "bb0120db",
   "metadata": {},
   "outputs": [],
   "source": [
    "import numpy as np\n",
    "import scipy\n",
    "from scipy import stats as stats"
   ]
  },
  {
   "cell_type": "markdown",
   "id": "fbfec7ec",
   "metadata": {},
   "source": [
    "---"
   ]
  },
  {
   "cell_type": "markdown",
   "id": "15c6dc53",
   "metadata": {},
   "source": [
    "## Key Takeaways from Week 1"
   ]
  },
  {
   "cell_type": "markdown",
   "id": "cc992f31",
   "metadata": {},
   "source": [
    "\n",
    "#### Tuesday: \n",
    "\n",
    "Lecture reviewed basic concepts of probability and the definitions regarding random variables. The key concepts that were applied throughout the distributions portion of the lecture were Probability Density Function (PDF), PMF, Variance, CDF, and Expected Value. The specific types of random variables were bernoulli, binomial, discrete uniform, possion. The continuous were continuous uniform, exponential random, normal, chi-squared, student-t, and F distribution."
   ]
  },
  {
   "cell_type": "markdown",
   "id": "6d69de7b",
   "metadata": {},
   "source": [
    "#### Thursday\n",
    "\n",
    "Lecture reviewed over the rest of the probability distributions that was not finished on Tuesday. To set up hypothesis testing, confidence intervals and quantiles were introduces as it was established that testing conclusions were shown to be subjective based off of the threshold that is chosen. A key point of this lecture is being able to illustrate the law of large numbers and central limit theroem through these different types of distributions.\n"
   ]
  },
  {
   "cell_type": "markdown",
   "id": "aaadbca8",
   "metadata": {},
   "source": [
    "---"
   ]
  },
  {
   "cell_type": "markdown",
   "id": "c2d78965",
   "metadata": {},
   "source": [
    "## Tue, Apr 9th"
   ]
  },
  {
   "cell_type": "markdown",
   "id": "0346e6ec",
   "metadata": {},
   "source": [
    "#### Probability Review"
   ]
  },
  {
   "cell_type": "markdown",
   "id": "59c8dd4f",
   "metadata": {},
   "source": [
    "Given a sample space $\\mathcal{S}$ and an event $A$, there are three qualiatively different ways to define the probability $\\pr(A)$:"
   ]
  },
  {
   "cell_type": "markdown",
   "id": "03e3f4a3",
   "metadata": {},
   "source": [
    "**Empiricial Probability**\n",
    "\n",
    "\n",
    "$$\n",
    "\\pr(A) = \\text{times A occurs} \\div \\text{number of trials}\n",
    "$$\n",
    "An example of empirical probability is the following scenario:\n",
    "\n",
    "> How many heads in 100 coin flips"
   ]
  },
  {
   "cell_type": "markdown",
   "id": "a29edae6",
   "metadata": {},
   "source": [
    "**Theoretical Probability**\n",
    "\n",
    "\n",
    "$$\n",
    "\\pr(A) = \\text{Number of ways A can occur} \\div \\text{number of possible outcomes}\n",
    "$$\n",
    "\n",
    "An example of theoretical probability is the following scenario:\n",
    "\n",
    "> How many ways a coin can land on heads out of 100 trials"
   ]
  },
  {
   "cell_type": "markdown",
   "id": "0dd73cb3",
   "metadata": {},
   "source": [
    "**Subjective Probability**\n",
    "\n",
    "\n",
    "$$\n",
    "\\pr(A) = \\text{degree of belief that A will occur}\n",
    "$$"
   ]
  },
  {
   "cell_type": "markdown",
   "id": "8839fbb4",
   "metadata": {},
   "source": [
    "#### Random Variables"
   ]
  },
  {
   "cell_type": "markdown",
   "id": "2d77ba66",
   "metadata": {},
   "source": [
    "Intuitively, a random variable $X$ is\n",
    "\n",
    "a avariable whose value is a numerical outomce of a random phenomenon\n",
    "\n",
    "and, the support of a random variable, denoted $\\text{supp}(X)$, is\n",
    "\n",
    "the set of all possible values it can take\n",
    "- discrete random variable: random variable for which $\\text{supp}(X)$ if finite or countably infinite number of values\n",
    "- continuous random variable: a random varaible for which $\\text{supp}(X)$ is infinite"
   ]
  },
  {
   "cell_type": "markdown",
   "id": "2ee5e428",
   "metadata": {},
   "source": [
    "A random variable $X$ can have different types of supports. \n",
    "\n",
    "1. cateogrical: different categories, no comparison\n",
    "2. ordinal: different categories, can compare, but no quantifiable, discernable difference\n",
    "3. discrete: support is a discrete collection of objectives where you can compare between categories and quality differences between them\n",
    "4. continuous: support is a continuum"
   ]
  },
  {
   "cell_type": "markdown",
   "id": "1f3410ae",
   "metadata": {},
   "source": [
    "#### Properties of Random Variables"
   ]
  },
  {
   "cell_type": "markdown",
   "id": "9a0d3fd4",
   "metadata": {},
   "source": [
    "PMF of a discrete, random variable X is a function $p_x$ that gives probability that X is exactly equal to some value"
   ]
  },
  {
   "cell_type": "markdown",
   "id": "5517117b",
   "metadata": {},
   "source": [
    "Probability density function PDF of a continuous random variable X is a function $f_x$ that gives the probability that X is in a particular interval"
   ]
  },
  {
   "cell_type": "markdown",
   "id": "1ffca2a9",
   "metadata": {},
   "source": [
    "**Cumulative Distribution Function**\n",
    "\n",
    "Intuitively, the cumulative distribution function (CDF) of a random variable $X$ measures\n",
    "\n",
    "probability that X is less than or equal to a particular value\n",
    "\n",
    "For a random variable $X$ with PDF $\\fx(x)$ the CDF $\\Fx(x)$ is given by\n",
    "$$\n",
    "\\Fx(x)  = \\sum p_x(y) \\text{  if discrete} \\\\ \\int _\\text{-inf}^x\\text f_x(y)dy\\text{  if continuous}\\tag{formula for CDF of continuous RV}\n",
    "$$"
   ]
  },
  {
   "cell_type": "markdown",
   "id": "7e4977f0",
   "metadata": {},
   "source": [
    "**Expected value**\n",
    "\n",
    "For a random variable $X$ with PMF $\\px$ or with PDF $\\fx$, the expected value of $X$ is\n",
    "\n",
    "$$\n",
    "\\E(X)  = \\sum x \\cdot p_x(x) \\tag{formula for PMF}\n",
    "$$\n",
    "$$\n",
    "\\E(X)  = \\int _\\text{-inf}^\\text{inf} x \\cdot f_x(x)dx \\tag{formula for PDF}\n",
    "$$"
   ]
  },
  {
   "cell_type": "markdown",
   "id": "c7906e0c",
   "metadata": {},
   "source": [
    "**Variance**\n",
    "\n",
    "For a random variable $X$ with expected value $\\E(X)$ and second moment $\\E(X^2)$, the variance of $X$ is\n",
    "\n",
    "\n",
    "$$\n",
    "\\var(X)  = \\E ((X-\\E(X))^2)  = \\E(X^2) - \\E(X)^2\\tag{formula for variance}\n",
    "$$"
   ]
  },
  {
   "cell_type": "code",
   "execution_count": 2,
   "id": "5924539e",
   "metadata": {},
   "outputs": [
    {
     "data": {
      "text/plain": [
       "2.0"
      ]
     },
     "execution_count": 2,
     "metadata": {},
     "output_type": "execute_result"
    }
   ],
   "source": [
    "x = stats.poisson(2)\n",
    "ex1 = x.expect()\n",
    "ex2 = x.moment(2)\n",
    "varx = x.var()\n",
    "varx"
   ]
  },
  {
   "cell_type": "markdown",
   "id": "bcaa3d33",
   "metadata": {},
   "source": [
    "#### Examples of Probability Distributions"
   ]
  },
  {
   "cell_type": "markdown",
   "id": "a59ff4d8",
   "metadata": {},
   "source": [
    "---"
   ]
  },
  {
   "cell_type": "markdown",
   "id": "56c11926",
   "metadata": {},
   "source": [
    "§1. Bernoulli distribution\n",
    "\n",
    "A random variable $X \\sim \\Ber(p)$ follows a Bernoulli distribution with parameter ... \n",
    "\n",
    "* The support is\n",
    "$$\n",
    "\\supp(X) = 0,1\n",
    "$$\n",
    "* The PMF is \n",
    "$$\n",
    "\\px(x) =  p \\text{ if } x = 1 \\\\ 1-p \\text{ if } x = 0\n",
    "$$\n",
    "* The expected value is\n",
    "$$\n",
    "\\mathbb E(X) = p\n",
    "$$\n",
    "* The variance is\n",
    "$$\n",
    "\\var(X) = p(1-p)\n",
    "$$\n",
    "\n",
    "In python, we can generate $10$ random samples from a Bernoulli distribution as follows:"
   ]
  },
  {
   "cell_type": "code",
   "execution_count": 18,
   "id": "895fdba7",
   "metadata": {},
   "outputs": [
    {
     "data": {
      "text/plain": [
       "array([0, 0, 0, 0, 0, 0, 0, 0, 0, 0], dtype=int64)"
      ]
     },
     "execution_count": 18,
     "metadata": {},
     "output_type": "execute_result"
    }
   ],
   "source": [
    "X = stats.bernoulli(0)\n",
    "X.rvs(10)"
   ]
  },
  {
   "cell_type": "markdown",
   "id": "4ff8c72f",
   "metadata": {},
   "source": [
    "If is binomial, you look N, independent random random variables"
   ]
  },
  {
   "cell_type": "markdown",
   "id": "07fbff42",
   "metadata": {},
   "source": [
    "---"
   ]
  },
  {
   "cell_type": "markdown",
   "id": "554eb8c1",
   "metadata": {},
   "source": [
    "§2. Discrete Uniform distribution\n",
    "\n",
    "A random variable $X \\sim \\Unif \\{a, b\\}$ follows a _discrete uniform_ distribution with parameter(s) a, b\n",
    "\n",
    "* The support is\n",
    "\n",
    "$$\n",
    "\\supp(X) = a, a+1, a+2, \\dots, b\n",
    "$$\n",
    "\n",
    "* The PMF is \n",
    "$$\n",
    "p_X(x) = \\begin{cases}\n",
    "\\displaystyle\\frac{1}{b-a+1} & \\text{if } x = a, a+1, a+2, \\dots, b \\\\ \\\\\n",
    "0 & \\text{otherwise}\n",
    "\\end{cases}\n",
    "$$\n",
    "* The expected value is\n",
    "$$\n",
    "\\mathbb E(X) = \\frac{a+b}{2}\n",
    "$$\n",
    "* The variance is\n",
    "$$\n",
    "\\var(X) = \\quad \\text{Var}(X) = \\frac{(b-a+1)^2 - 1}{12}\n",
    "$$\n",
    "\n",
    "We can generate $10$ random samples from a discrete uniform distribution as follows:"
   ]
  },
  {
   "cell_type": "code",
   "execution_count": 15,
   "id": "9f1f7267",
   "metadata": {},
   "outputs": [
    {
     "data": {
      "text/plain": [
       "array([2, 3, 4, 5, 4, 0, 7, 9, 7, 1], dtype=int64)"
      ]
     },
     "execution_count": 15,
     "metadata": {},
     "output_type": "execute_result"
    }
   ],
   "source": [
    "X = stats.randint(0, 10)\n",
    "X.rvs(10)"
   ]
  },
  {
   "cell_type": "markdown",
   "id": "c0000bd7",
   "metadata": {},
   "source": [
    "---"
   ]
  },
  {
   "cell_type": "markdown",
   "id": "b7c5a779",
   "metadata": {},
   "source": [
    "§3. Poisson Distribution\n",
    "\n",
    "A random variable $X \\sim \\Poi(\\lambda)$ follows a _Poisson_ distribution with parameter(s) ... \n",
    "\n",
    "* The support is\n",
    "$$\n",
    "\\supp(X) = 0,1,2,...\n",
    "$$\n",
    "* The PMF is \n",
    "$$\n",
    "\\px(x) = p_X(x) = \\begin{cases}\n",
    "\\displaystyle\\frac{\\lambda^x}{x!} e^{-\\lambda} & \\text{if } x = 0, 1, 2, \\dots \\\\\n",
    "0 & \\text{otherwise}\n",
    "\\end{cases}\n",
    "$$\n",
    "* The expected value is\n",
    "$$\n",
    "\\mathbb E(X) = \\lambda\n",
    "$$\n",
    "* The variance is\n",
    "$$\n",
    "\\var(X) = \\lambda\n",
    "$$\n",
    "\n",
    "We can generate $10$ random samples from a Poisson distribution as follows:"
   ]
  },
  {
   "cell_type": "code",
   "execution_count": 14,
   "id": "cc913380",
   "metadata": {},
   "outputs": [
    {
     "data": {
      "text/plain": [
       "array([17, 13,  9,  8, 17, 15,  7, 11, 10, 10], dtype=int64)"
      ]
     },
     "execution_count": 14,
     "metadata": {},
     "output_type": "execute_result"
    }
   ],
   "source": [
    "X = stats.poisson(10)\n",
    "X.rvs(10)"
   ]
  },
  {
   "cell_type": "markdown",
   "id": "2836e9e3",
   "metadata": {},
   "source": [
    "---"
   ]
  },
  {
   "cell_type": "markdown",
   "id": "a2d78f9b",
   "metadata": {},
   "source": [
    "§4. Exponential distribution\n",
    "\n",
    "A random variable $X \\sim \\Exp(\\lambda)$ follows an _Exponential_ distribution with parameter(s) ... \n",
    "\n",
    "* The support is\n",
    "$$\n",
    "\\supp(X) = 0, \\text{inf}\n",
    "$$\n",
    "* The PDF is \n",
    "$$\n",
    "\\fx(x) = f_X(x) = \\begin{cases}\n",
    "\\lambda e^{-\\lambda x} & \\text{if } x \\geq 0 \\\\\n",
    "0 & \\text{otherwise}\n",
    "\\end{cases}\n",
    "$$\n",
    "* The expected value is\n",
    "$$\n",
    "\\mathbb E(X) = \\frac{1}{\\lambda}\n",
    "$$\n",
    "* The variance is\n",
    "$$\n",
    "\\var(X) = \\frac{1}{\\lambda ^ 2}\n",
    "$$\n",
    "\n",
    "We can generate $10$ random samples from an Exponential distribution as follows:"
   ]
  },
  {
   "cell_type": "code",
   "execution_count": 13,
   "id": "20cff9be",
   "metadata": {},
   "outputs": [
    {
     "data": {
      "text/plain": [
       "array([0.13255687, 0.16653288, 0.14854583, 0.12451428, 0.126786  ,\n",
       "       0.01681222, 0.17046501, 0.05988929, 0.20430701, 0.01126647])"
      ]
     },
     "execution_count": 13,
     "metadata": {},
     "output_type": "execute_result"
    }
   ],
   "source": [
    "X = stats.expon(loc=0, scale=1/10)\n",
    "X.rvs(10)"
   ]
  },
  {
   "cell_type": "markdown",
   "id": "587326c8",
   "metadata": {},
   "source": [
    "---"
   ]
  },
  {
   "cell_type": "markdown",
   "id": "ea98f45b",
   "metadata": {},
   "source": [
    "§5. Normal Distribution\n",
    "\n",
    "A random variable $X \\sim N(\\mu, \\sigma^2)$ follows a Normal distribution with parameter(s) ... \n",
    "\n",
    "* The support is\n",
    "$$\n",
    "\\supp(X) = - inf, inf\n",
    "$$\n",
    "* The PDF is \n",
    "$$\n",
    "\\fx(x) = ...\n",
    "$$\n",
    "* The expected value is\n",
    "$$\n",
    "\\mathbb E(X) = \\mu\n",
    "$$\n",
    "* The variance is\n",
    "$$\n",
    "\\var(X) = \\sigma ^ 2\n",
    "$$\n",
    "\n",
    "We can generate $10$ random samples from a Normal distribution as follows:"
   ]
  },
  {
   "cell_type": "code",
   "execution_count": 7,
   "id": "6e6ec1d6",
   "metadata": {},
   "outputs": [
    {
     "data": {
      "text/plain": [
       "array([-2.00036099, -0.08468246,  0.14120056, -1.02336663,  0.53855285,\n",
       "       -2.00198783, -1.01243635, -1.54280403, -1.7939681 , -0.9275237 ])"
      ]
     },
     "execution_count": 7,
     "metadata": {},
     "output_type": "execute_result"
    }
   ],
   "source": [
    "X = stats.norm(0,1)\n",
    "X.rvs(10)"
   ]
  },
  {
   "cell_type": "markdown",
   "id": "09f36ac9",
   "metadata": {},
   "source": [
    "---"
   ]
  },
  {
   "cell_type": "markdown",
   "id": "a21c7bfb",
   "metadata": {},
   "source": [
    "§6. Chi-squared Distribution\n",
    "\n",
    "A random variable $X \\sim \\chi^2(k)$ follows a Chi-squared distribution with parameter(s) ... \n",
    "\n",
    "* The support is\n",
    "$$\n",
    "\\supp(X) = 0, inf\n",
    "$$\n",
    "* $X \\sim \\chi^2(k)$ is obtained using $k$ iid copies of a standard normal random variable $Z_1, Z_2, \\dots, Z_k \\sim N(0, 1)$ as follows:\n",
    "$$\n",
    "X = \\sum _i ^ k Z_i^2\n",
    "$$\n",
    "* The expected value is\n",
    "$$\n",
    "\\mathbb E(X) = k\n",
    "$$\n",
    "* The variance is\n",
    "$$\n",
    "\\var(X) = 2k\n",
    "$$\n",
    "\n",
    "We can generate $10$ random samples from a Chi-squared distribution as follows:"
   ]
  },
  {
   "cell_type": "code",
   "execution_count": 10,
   "id": "19bed59c",
   "metadata": {},
   "outputs": [
    {
     "data": {
      "text/plain": [
       "array([15.72927815, 10.16536728,  8.67480187, 14.27312884, 13.23736865,\n",
       "       11.26010229, 12.67247026, 16.45655   , 15.21285663,  6.33891765])"
      ]
     },
     "execution_count": 10,
     "metadata": {},
     "output_type": "execute_result"
    }
   ],
   "source": [
    "X = stats.chi2(12)\n",
    "X.rvs(10)"
   ]
  },
  {
   "cell_type": "markdown",
   "id": "2f337b21",
   "metadata": {},
   "source": [
    "---"
   ]
  },
  {
   "cell_type": "markdown",
   "id": "3eeecfb7",
   "metadata": {},
   "source": [
    "§7. Student's t Distribution\n",
    "\n",
    "A random variable $X \\sim t(k)$ follows a Student's $t$ distribution with parameter(s) ... \n",
    "\n",
    "* The support is\n",
    "$$\n",
    "\\supp(X) = - inf, inf\n",
    "$$\n",
    "\n",
    "* Given $Z \\sim N(0,1)$ and $Y \\sim \\chi^2(k)$ with $Z \\perp Y$, a Student's $t$ random variable $X$ is obtained as follows:\n",
    "$$\n",
    "X = \\frac{Z}{\\sqrt{\\frac{Y}{k}}}\n",
    "$$\n",
    "\n",
    "\n",
    "We can generate $10$ random samples from a Student's $t$ distribution as follows:"
   ]
  },
  {
   "cell_type": "code",
   "execution_count": 20,
   "id": "d8d7ef05",
   "metadata": {},
   "outputs": [
    {
     "data": {
      "text/plain": [
       "array([0.988327  , 1.16861379, 0.94532124, 1.33733059, 1.1597979 ,\n",
       "       1.07890427, 0.89272295, 3.14287769, 1.40896425, 1.54604134])"
      ]
     },
     "execution_count": 20,
     "metadata": {},
     "output_type": "execute_result"
    }
   ],
   "source": [
    "X = stats.f(100,10)\n",
    "X.rvs(10)"
   ]
  },
  {
   "cell_type": "markdown",
   "id": "c422fffe",
   "metadata": {},
   "source": [
    "---"
   ]
  },
  {
   "cell_type": "markdown",
   "id": "c19066de",
   "metadata": {},
   "source": [
    "§8. $F$ Distribution\n",
    "\n",
    "A random variable $X \\sim F(k_1, k_2)$ follows an $F$ distribution with parameter(s) ... \n",
    "\n",
    "* The support is\n",
    "$$\n",
    "\\supp(X) = (0,inf)\n",
    "$$\n",
    "\n",
    "* Given $Y \\sim \\chi^2(k_1)$ and $Z \\sim \\chi^2(k_2)$ with $Y \\perp Z$, an $F$ random variable $X$ is obtained as follows:\n",
    "$$\n",
    "X = ~ F(k_1, k_2) = \\frac{\\frac{Y}{k_1}}{\\frac{Z}{k_2}} \\\\ \\text{where } Y \\sim Chi Sq(k_1) \\text{ and } Z \\sim Chi sq(k_2)\n",
    "$$\n",
    "\n",
    "We can generate $10$ random samples from a Normal distribution as follows:"
   ]
  },
  {
   "cell_type": "code",
   "execution_count": 6,
   "id": "ad952832",
   "metadata": {},
   "outputs": [
    {
     "data": {
      "text/plain": [
       "array([ 0.66749345, -0.06552266, -0.21882351,  0.37319806, -0.83579178,\n",
       "        2.12759851,  0.527229  ,  1.27883428, -0.74842182, -0.74602191])"
      ]
     },
     "execution_count": 6,
     "metadata": {},
     "output_type": "execute_result"
    }
   ],
   "source": [
    "X = stats.norm(0,1)\n",
    "X.rvs(10)"
   ]
  },
  {
   "cell_type": "markdown",
   "id": "ed1ef549",
   "metadata": {},
   "source": [
    "CDF corresponds to integral of the Normal distribution"
   ]
  },
  {
   "cell_type": "markdown",
   "id": "bb81d8c9",
   "metadata": {},
   "source": [
    "<h3>Quantile</h3>\n",
    "\n",
    "Given a random varaible X ~ D and a number aplha, the a-quantile of X is avalue of $q_a$ such that\n",
    "\n",
    "$$\n",
    "P(X \\le q_\\alpha) = \\alpha\n",
    "$$\n",
    "\n",
    "In terms of CDF, this is \n",
    "$$\n",
    "F_x(q_\\alpha) = \\alpha\n",
    "$$\n",
    "$q_a$ is the value such that probability that X is less than or equal to $q_a$ is exactly $\\alpha$"
   ]
  },
  {
   "cell_type": "markdown",
   "id": "b2f22e9d",
   "metadata": {},
   "source": [
    "<h3>Empirical CDF</h3>\n",
    "Empirical CDF is given by \n",
    "\n",
    "$$\n",
    "F_n(x) = \\frac{1}{n} \\sum _{i=1} ^ n I (X_i \\le x) \\\\\n",
    "$$\n",
    "Indicator function classifies X as 1 or 0\n",
    "\n",
    "Corresponding quantile is the empirical quantile $(100 \\times \\alpha)$\n"
   ]
  },
  {
   "cell_type": "markdown",
   "id": "65b3274f",
   "metadata": {},
   "source": [
    "---"
   ]
  },
  {
   "cell_type": "markdown",
   "id": "5a816956",
   "metadata": {},
   "source": [
    "Suppose $X_1, X_2, \\dots, X_n$ are $n$ iid samples from a distribution with mean $\\E(X) = M$ and variance $\\var(X) = V$.\n",
    "\n",
    "Let $$\\Xbar = \\frac{1}{n} \\sum_{i=1}^n X_i$$ be the sample mean and $$S^2 = \\frac{1}{n-1} \\sum_{i=1}^n (X_i - \\Xbar)^2$$ be the sample variance.\n",
    "\n",
    "**Law of large Numbers**\n",
    "\n",
    "In english, the law of large numbers says that\n",
    "\n",
    "As the number of observations increases, the average of the observed value gets closer to the expected value\n",
    "\n",
    "$$\n",
    "\\Xbar = \\frac{1}{n} \\sum_{i=1}^n X_i = \\E(X)\n",
    "$$ \n",
    "as X -> inf\n",
    "\n",
    "\n",
    "**Central Limit Theorem**\n",
    "\n",
    "In english, the central limit theorem says that\n",
    "\n",
    "$$\\frac{\\Xbar - \\E(X)}{\\sqrt{\\text{Var}}(X)} \\text{ Looks like } N(0,1)$$ \n",
    "as n-> Inf"
   ]
  },
  {
   "cell_type": "markdown",
   "id": "f15473cf",
   "metadata": {},
   "source": [
    "---\n",
    "---"
   ]
  },
  {
   "cell_type": "markdown",
   "id": "06efcaa3",
   "metadata": {},
   "source": [
    "## Thu, Apr 11th"
   ]
  },
  {
   "cell_type": "markdown",
   "id": "ec34dff6",
   "metadata": {},
   "source": [
    "#### Statistic\n",
    "\n",
    "Suppose $\\Xn$ is sampled iid from a distribution $D(\\theta)$ where $\\theta$ is ...\n",
    "\n",
    "Then, intuitively, a statistic $\\hat\\theta \\equiv \\hat\\theta(\\Xn)$ is ...\n"
   ]
  },
  {
   "cell_type": "markdown",
   "id": "17276790",
   "metadata": {},
   "source": [
    "#### Sampling Distribution\n",
    "\n",
    "Since $\\Xn$ are all random variables, the statistic $\\hat\\theta$ is also a statistic computed from sample $X_1, X_2,...,X_n$. This is the best guess for parameter $\\theta$. As X_1, X_2,...,X_n are random, $\\hat\\theta$ is also random.\n",
    "\n",
    "In words, the sampling distribution of $\\hat\\theta$ is the distribution of $\\hat\\theta$ when $X_1, X_2,...,X_n$ are drawn from $D(\\theta)$"
   ]
  },
  {
   "cell_type": "markdown",
   "id": "797949bd",
   "metadata": {},
   "source": [
    "#### Intuition behind Sampling Distributions\n",
    "\n",
    "If we call the process of sampling $\\Xn$ from $D(\\theta)$ as a \"**random experiment**\", then let\n",
    "\n",
    "* $\\hat\\theta^{(1)}, \\hat\\theta^{(1)}, \\dots, \\hat\\theta^{(N)}$ be the statistics obtained from each of $N$ random experiments.\n",
    "\n",
    "Then, the sampling distribution of $\\hat\\theta$ roughly is like the true sampling distribution."
   ]
  },
  {
   "cell_type": "markdown",
   "id": "26a63827",
   "metadata": {},
   "source": [
    "- Bernouli distribution looks like binomial distribution as the number N increases\n",
    "- Distribution of sample mean looks like normal distribution as N increases\n",
    "- Sample mean for Exponentional distribution looks like gamma distribution looks like exponential distribution"
   ]
  },
  {
   "cell_type": "markdown",
   "id": "6bd876d5",
   "metadata": {},
   "source": [
    "---"
   ]
  },
  {
   "cell_type": "markdown",
   "id": "010684cd",
   "metadata": {},
   "source": [
    "#### Confidence Interval\n",
    "\n",
    "The **$100 \\times (1-\\alpha)\\%$ confidence interval** for a parameter $\\theta$ is an interval $[\\la, \\ua]$ such that:\n",
    "\n",
    "$$\n",
    "P(l_\\alpha \\le \\hat\\theta \\le u_a) = 1 - \\alpha \n",
    "$$\n",
    "\n",
    "we denote this as $\\ci(\\theta) = [\\la, \\ua]$."
   ]
  },
  {
   "cell_type": "markdown",
   "id": "dc0ac323",
   "metadata": {},
   "source": [
    "For a statistic $\\hat\\theta$ with standard error $\\se(\\hat\\theta)$ the general formula for the $100 \\times (1-\\alpha)\\%$ confidence interval is given by\n",
    "\n",
    "\n",
    "$$\n",
    "\\ci(\\theta, \\alpha) = [\\hat\\theta - q_a/2 * SE(\\hat\\theta), \\hat\\theta + q_a/2 * SE(\\hat\\theta)]\n",
    "$$"
   ]
  },
  {
   "cell_type": "markdown",
   "id": "461fd197",
   "metadata": {},
   "source": [
    "#### Interpretation of Confidence Intervals\n",
    "\n",
    "If we call the process of sampling $\\Xn$ from $D(\\theta)$ as a \"**random experiment**\" where $\\theta^*$ is the true, unknown population parameter.  \n",
    "\n",
    "Let\n",
    "\n",
    "$$\n",
    "[\\la^{(1)}, \\ua^{(1)}], [\\la^{(2)}, \\ua^{(2)}], \\dots, [\\la^{(N)}, \\ua^{(N)}]\n",
    "$$\n",
    "\n",
    "be the $100 \\times (1-\\alpha)\\%$ confidence intervals obtained from each of $N$ random experiments.\n",
    "\n",
    "\n",
    "\n",
    "\n",
    "Then, the guarantee provided by the construction of the confidence interval is that \n",
    "\n",
    "the value such that the probability that $X$ is less than or equal to $q_\\alpha$ is exactly $\\alpha$."
   ]
  },
  {
   "cell_type": "markdown",
   "id": "d39adc98",
   "metadata": {},
   "source": [
    "Given n=100 and result is 1 or 0, and $\\theta=0.646$; the distribution is $\\text{Ber}(\\theta)$\n",
    "- Sample mean is best guess for $\\hat\\theta$\n",
    "- Use confidence interval, different samples will result in different values of $\\hat\\theta$\n",
    "- Average can be sensisitve to bad samples"
   ]
  },
  {
   "cell_type": "markdown",
   "id": "36bab632",
   "metadata": {},
   "source": [
    "---"
   ]
  },
  {
   "cell_type": "markdown",
   "id": "cb2e0283",
   "metadata": {},
   "source": [
    "#### Examples of Confidence Intervals (from Math 183 or equivalent)"
   ]
  },
  {
   "cell_type": "markdown",
   "id": "3b9375e3",
   "metadata": {},
   "source": [
    "---"
   ]
  },
  {
   "cell_type": "markdown",
   "id": "92cc1844",
   "metadata": {},
   "source": [
    "§1. One sample Proportion\n",
    "\n",
    "| Description | Answer |\n",
    "|:---|:---|\n",
    "| Assumption | $\\Xn \\sim ...$ |\n",
    "| Population parameter | $\\theta = \\mu$ |\n",
    "| Statistic | $\\hat\\theta = \\bar{X}$ |\n",
    "| Standard Error | $\\se(\\hat\\theta) = \\frac{\\sigma}{\\sqrt{n}} $|\n",
    "| Sampling distribution | $D_{\\hat\\theta} = \\text{Normal}(\\mu, \\frac{\\sigma^2}{n})$ |\n",
    "\n",
    "The **99\\% confidence interval** for $\\theta$ is given by\n",
    "\n",
    "$$\n",
    "\\ci(\\theta, \\alpha) = [\\hat\\theta - z_a/2 \\sqrt{\\frac{\\hat\\theta(1-\\hat\\theta)}{n}}, \\hat\\theta + z_a/2 \\sqrt{\\frac{\\hat\\theta(1-\\hat\\theta)}{n}} ]\n",
    "$$"
   ]
  },
  {
   "cell_type": "markdown",
   "id": "aef1ab73",
   "metadata": {},
   "source": [
    "---"
   ]
  },
  {
   "cell_type": "markdown",
   "id": "bc3248d4",
   "metadata": {},
   "source": [
    "§2. Difference of two proportions\n",
    "\n",
    "| Description | Answer |\n",
    "|:---|:---|\n",
    "| Assumption | $\\Xn \\sim \\text{Binomial}(n_1, p_1)$ and $\\Ym \\sim \\text{Binomial}(n_2, p_2)$|\n",
    "| Population parameter | $\\theta = p_1 - p_2$  |\n",
    "| Statistic | $\\hat\\theta = \\hat{p}_1 - \\hat{p}_2$ |\n",
    "| Standard Error | $\\se(\\hat\\theta) = \\sqrt{\\frac{\\hat{p}_1(1 - \\hat{p}_1)}{n_1} + \\frac{\\hat{p}_2(1 - \\hat{p}_2)}{n_2}}$ |\n",
    "| Sampling distribution | $D_{\\hat\\theta} = \\text{Normal}\\left(p_1 - p_2, \\sqrt{\\frac{p_1(1 - p_1)}{n_1} + \\frac{p_2(1 - p_2)}{n_2}}\\right)$ |\n",
    "\n",
    "The **97\\% confidence interval** for $\\theta$ is given by\n",
    "\n",
    "$$\n",
    "\\ci(\\theta, \\alpha) = \\theta\\hat ±z _{α/2} ×\\se(\\theta\\hat)$$"
   ]
  },
  {
   "cell_type": "markdown",
   "id": "94b46b3c",
   "metadata": {},
   "source": [
    "---"
   ]
  },
  {
   "cell_type": "markdown",
   "id": "69079eb7",
   "metadata": {},
   "source": [
    "§3. One sample Mean (with unknown variance)\n",
    "\n",
    "| Description | Answer |\n",
    "|:---|:---|\n",
    "| Assumption | $\\Xn \\sim \\text{Normal}(\\mu, \\sigma^2)$ |\n",
    "| Population parameter | $\\theta = \\mu$ |\n",
    "| Statistic | $\\hat\\theta = \\bar{X}$ |\n",
    "| Standard Error | $\\se(\\hat\\theta) = \\frac{s}{\\sqrt{n}}$ |\n",
    "| Sampling distribution | $D_{\\hat\\theta} = \\text{Student's t-distribution with } (n-1) \\text{ degrees of freedom}$ |\n",
    "\n",
    "The **93\\% confidence interval** for $\\theta$ is given by\n",
    "\n",
    "$$\n",
    "\\ci(\\theta, \\alpha) = θ ±t _{\\alpha/2,n−1} ×\\se(\\theta\\hat )\n",
    "$$"
   ]
  },
  {
   "cell_type": "markdown",
   "id": "11eafd18",
   "metadata": {},
   "source": [
    "---"
   ]
  },
  {
   "cell_type": "markdown",
   "id": "4c9839dc",
   "metadata": {},
   "source": [
    "§1. Difference of two means (with unknown variances)\n",
    "\n",
    "| Description | Answer |\n",
    "|:---|:---|\n",
    "| Assumption | $\\Xn \\sim \\text{Normal}(\\mu_1, \\sigma_1^2)$ and $\\Ym \\sim \\text{Normal}(\\mu_2, \\sigma_2^2)$ |\n",
    "| Population parameter | $\\theta = \\mu_1 - \\mu_2$ |\n",
    "| Statistic | $\\hat\\theta = \\bar{X}_1 - \\bar{X}_2$ |\n",
    "| Standard Error | $\\se(\\hat\\theta) = \\sqrt{\\frac{s_1^2}{n_1} + \\frac{s_2^2}{n_2}}$ |\n",
    "| Sampling distribution | $D_{\\hat\\theta} = \\text{Student's t-distribution with } \\nu \\text{ degrees of freedom}$ |\n",
    "\n",
    "The **96\\% confidence interval** for $\\theta$ is given by\n",
    "\n",
    "$$\n",
    "\\ci(\\theta, \\alpha) = \\hat\\theta±t _{α/2,ν} × \\se(\\theta\\hat)\n",
    "$$"
   ]
  },
  {
   "cell_type": "markdown",
   "id": "1ebed9ba",
   "metadata": {},
   "source": [
    "---"
   ]
  }
 ],
 "metadata": {
  "celltoolbar": "Slideshow",
  "hide_input": false,
  "kernelspec": {
   "display_name": "Python 3 (ipykernel)",
   "language": "python",
   "name": "python3"
  },
  "language_info": {
   "codemirror_mode": {
    "name": "ipython",
    "version": 3
   },
   "file_extension": ".py",
   "mimetype": "text/x-python",
   "name": "python",
   "nbconvert_exporter": "python",
   "pygments_lexer": "ipython3",
   "version": "3.8.18"
  },
  "toc": {
   "base_numbering": 2
  }
 },
 "nbformat": 4,
 "nbformat_minor": 5
}
