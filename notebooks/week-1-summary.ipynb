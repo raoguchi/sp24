{
 "cells": [
  {
   "cell_type": "markdown",
   "id": "f5699a71",
   "metadata": {
    "tags": []
   },
   "source": [
    "# Week 1 Summary\n",
    "> NAME: $\\color{red}{\\text{    Ryosuke Oguchi     }}$\n",
    "> \n",
    "> PID: $\\color{red}{\\text{    A16777050     }}$\n",
    ">\n",
    "> \n",
    "---"
   ]
  },
  {
   "cell_type": "markdown",
   "id": "b0e61ba4-c23c-44b6-8933-ad5c5013a12d",
   "metadata": {},
   "source": [
    "I certify that the following write-up is my own work, and have abided by the UCSD Academic Integrity Guidelines.\n",
    "\n",
    "- [x] Yes\n",
    "- [ ] No"
   ]
  },
  {
   "cell_type": "markdown",
   "id": "af9291c5",
   "metadata": {},
   "source": [
    "% # %load tex-macros\n",
    "<div hidden>\n",
    "\\newcommand{\\require}[1]{}\n",
    "\n",
    "$\\require{begingroup}\\require{newcommand}$\n",
    "$\\long\\def \\forcecommand #1{\\providecommand{#1}{}\\renewcommand{#1}}$\n",
    "$\\forcecommand{\\defeq}{\\stackrel{\\small\\bullet}{=}}$\n",
    "$\\forcecommand{\\ra}{\\rangle}$\n",
    "$\\forcecommand{\\la}{\\langle}$\n",
    "$\\forcecommand{\\pr}{{\\mathbb P}}$\n",
    "$\\forcecommand{\\qr}{{\\mathbb Q}}$\n",
    "$\\forcecommand{\\xv}{{\\boldsymbol{x}}}$\n",
    "$\\forcecommand{\\av}{{\\boldsymbol{a}}}$\n",
    "$\\forcecommand{\\bv}{{\\boldsymbol{b}}}$\n",
    "$\\forcecommand{\\cv}{{\\boldsymbol{c}}}$\n",
    "$\\forcecommand{\\dv}{{\\boldsymbol{d}}}$\n",
    "$\\forcecommand{\\ev}{{\\boldsymbol{e}}}$\n",
    "$\\forcecommand{\\fv}{{\\boldsymbol{f}}}$\n",
    "$\\forcecommand{\\gv}{{\\boldsymbol{g}}}$\n",
    "$\\forcecommand{\\hv}{{\\boldsymbol{h}}}$\n",
    "$\\forcecommand{\\nv}{{\\boldsymbol{n}}}$\n",
    "$\\forcecommand{\\sv}{{\\boldsymbol{s}}}$\n",
    "$\\forcecommand{\\tv}{{\\boldsymbol{t}}}$\n",
    "$\\forcecommand{\\uv}{{\\boldsymbol{u}}}$\n",
    "$\\forcecommand{\\vv}{{\\boldsymbol{v}}}$\n",
    "$\\forcecommand{\\wv}{{\\boldsymbol{w}}}$\n",
    "$\\forcecommand{\\zerov}{{\\mathbf{0}}}$\n",
    "$\\forcecommand{\\onev}{{\\mathbf{0}}}$\n",
    "$\\forcecommand{\\phiv}{{\\boldsymbol{\\phi}}}$\n",
    "$\\forcecommand{\\cc}{{\\check{C}}}$\n",
    "$\\forcecommand{\\xv}{{\\boldsymbol{x}}}$\n",
    "$\\forcecommand{\\Xv}{{\\boldsymbol{X}\\!}}$\n",
    "$\\forcecommand{\\yv}{{\\boldsymbol{y}}}$\n",
    "$\\forcecommand{\\Yv}{{\\boldsymbol{Y}}}$\n",
    "$\\forcecommand{\\zv}{{\\boldsymbol{z}}}$\n",
    "$\\forcecommand{\\Zv}{{\\boldsymbol{Z}}}$\n",
    "$\\forcecommand{\\Iv}{{\\boldsymbol{I}}}$\n",
    "$\\forcecommand{\\Jv}{{\\boldsymbol{J}}}$\n",
    "$\\forcecommand{\\Cv}{{\\boldsymbol{C}}}$\n",
    "$\\forcecommand{\\Ev}{{\\boldsymbol{E}}}$\n",
    "$\\forcecommand{\\Fv}{{\\boldsymbol{F}}}$\n",
    "$\\forcecommand{\\Gv}{{\\boldsymbol{G}}}$\n",
    "$\\forcecommand{\\Hv}{{\\boldsymbol{H}}}$\n",
    "$\\forcecommand{\\alphav}{{\\boldsymbol{\\alpha}}}$\n",
    "$\\forcecommand{\\epsilonv}{{\\boldsymbol{\\epsilon}}}$\n",
    "$\\forcecommand{\\betav}{{\\boldsymbol{\\beta}}}$\n",
    "$\\forcecommand{\\deltav}{{\\boldsymbol{\\delta}}}$\n",
    "$\\forcecommand{\\gammav}{{\\boldsymbol{\\gamma}}}$\n",
    "$\\forcecommand{\\etav}{{\\boldsymbol{\\eta}}}$\n",
    "$\\forcecommand{\\piv}{{\\boldsymbol{\\pi}}}$\n",
    "$\\forcecommand{\\thetav}{{\\boldsymbol{\\theta}}}$\n",
    "$\\forcecommand{\\tauv}{{\\boldsymbol{\\tau}}}$\n",
    "$\\forcecommand{\\muv}{{\\boldsymbol{\\mu}}}$\n",
    "$%$\n",
    "$\\forcecommand{\\sd}{\\text{SD}}$\n",
    "$\\forcecommand{\\se}{\\text{SE}}$\n",
    "$\\forcecommand{\\med}{\\text{median}}$\n",
    "$\\forcecommand{\\median}{\\text{median}}$\n",
    "$%$\n",
    "$\\forcecommand{\\Ber}{{\\text{Ber}}}$\n",
    "$\\forcecommand{\\Bin}{{\\text{Bin}}}$\n",
    "$\\forcecommand{\\Geo}{{\\text{Geo}}}$\n",
    "$\\forcecommand{\\Unif}{{\\text{Unif}}}$\n",
    "$\\forcecommand{\\Poi}{{\\text{Poi}}}$\n",
    "$\\forcecommand{\\Exp}{{\\text{Exp}}}$\n",
    "$\\forcecommand{\\Chisq}{{\\chi^2}}$\n",
    "$\\forcecommand{\\N}{\\mathbb{N}}$\n",
    "$\\forcecommand{\\iid}{{\\stackrel{iid}{\\sim}}}$\n",
    "$\\forcecommand{\\px}{p_{X}}$\n",
    "$\\forcecommand{\\fx}{f_{X}}$\n",
    "$\\forcecommand{\\Fx}{F_{X}}$\n",
    "$\\forcecommand{\\py}{p_{Y}}$\n",
    "$\\forcecommand{\\pxy}{p_{X,Y}}$\n",
    "$\\forcecommand{\\po}{{p_0}}$\n",
    "$\\forcecommand{\\pa}{{p_a}}$\n",
    "$\\forcecommand{\\Xbar}{\\overline{X}}$\n",
    "$\\forcecommand{\\Ybar}{\\overline{Y}}$\n",
    "$\\forcecommand{\\Zbar}{\\overline{Z}}$\n",
    "$\\forcecommand{\\nXbar}{n \\cdot \\overline{X}}$\n",
    "$\\forcecommand{\\nYbar}{n \\cdot \\overline{Y}}$\n",
    "$\\forcecommand{\\nZbar}{n \\cdot \\overline{Z}}$\n",
    "$\\forcecommand{\\Xn}{X_1, X_2, \\dots, X_n}$\n",
    "$\\forcecommand{\\Xm}{{X_1, X_2, \\dots, X_m}}$\n",
    "$\\forcecommand{\\Yn}{Y_1, Y_2, \\dots, Y_n}$\n",
    "$\\forcecommand{\\Ym}{{Y_1, Y_2, \\dots, Y_m}}$\n",
    "$\\forcecommand{\\sumXn}{X_1 + X_2 + \\dots + X_n}$\n",
    "$\\forcecommand{\\sumym}{Y_1 + Y_2 + \\dots + Y_m}$\n",
    "$\\forcecommand{\\la}{\\ell_\\alpha}$\n",
    "$\\forcecommand{\\ua}{u_\\alpha}$\n",
    "$\\forcecommand{\\at}{{\\alpha/2}}$\n",
    "$\\forcecommand{\\mux}{\\mu_{X}}$\n",
    "$\\forcecommand{\\muy}{\\mu_{Y}}$\n",
    "$\\forcecommand{\\sx}{\\sigma_{X}}$\n",
    "$\\forcecommand{\\sy}{\\sigma_{Y}}$\n",
    "$\\forcecommand{\\pvalue}{$p$-value}$\n",
    "$\\forcecommand{\\Ho}{H_{0}}$\n",
    "$\\forcecommand{\\Ha}{H_{a}}$\n",
    "\n",
    "\\vskip-\\parskip\n",
    "\\vskip-\\baselineskip\n",
    "</div>"
   ]
  },
  {
   "cell_type": "markdown",
   "id": "2e3d69d4-fc3b-467c-867a-232ea44b034d",
   "metadata": {},
   "source": [
    "---"
   ]
  },
  {
   "cell_type": "markdown",
   "id": "de700466",
   "metadata": {},
   "source": [
    "## Key Takeaways from Week 1"
   ]
  },
  {
   "cell_type": "markdown",
   "id": "e89169e3",
   "metadata": {},
   "source": [
    "\n",
    "#### Tuesday: \n",
    "\n",
    "Overview of the syllabus, policies, expectations; moreover, the background of statistical inference in the lens of history. The main example that was used to illustrate this fact was to present a hypothesis test problems in the tea vs milk ordering."
   ]
  },
  {
   "cell_type": "markdown",
   "id": "29081a6f",
   "metadata": {},
   "source": [
    "#### Thursday\n",
    "\n",
    "A summary of basic python operations, markdown, Latex, and review of linear algebra. A large portion of the lecture covered linear algebra concepts in regards to vector and matrix operations. This means review of vectors and corresponding python use. Operations included dot and cross product and the python application used in them. Finally, there was a breif review on eigenvalues and eigenvectors and how to generate them using the numpy package in python.\n"
   ]
  },
  {
   "cell_type": "markdown",
   "id": "5928a1a1",
   "metadata": {},
   "source": [
    "---"
   ]
  },
  {
   "cell_type": "markdown",
   "id": "d9ac3593",
   "metadata": {},
   "source": [
    "## Tue, Apr 2nd"
   ]
  },
  {
   "cell_type": "markdown",
   "id": "50aa8ef5",
   "metadata": {},
   "source": [
    "### Basics of markdown"
   ]
  },
  {
   "cell_type": "markdown",
   "id": "aa7c1972",
   "metadata": {},
   "source": [
    "**Bullet Lists and Numbered Lists**"
   ]
  },
  {
   "cell_type": "markdown",
   "id": "8c99d370",
   "metadata": {},
   "source": [
    "This is a bullet list:\n",
    "\n",
    "* Item 1\n",
    "    - Subitem 1\n",
    "    - Subitem 2\n",
    "* Item 2\n",
    "* Item 3\n",
    "\n",
    "This is a numbered list:\n",
    "1. Number 1\n",
    "    1. Section a\n",
    "    1. Section b\n",
    "2. Number 2\n",
    "3. Number 3\n"
   ]
  },
  {
   "cell_type": "markdown",
   "id": "dd300ee4",
   "metadata": {},
   "source": [
    "**Math**"
   ]
  },
  {
   "cell_type": "markdown",
   "id": "5c0e8281",
   "metadata": {},
   "source": [
    "In-line expression $1+1=2$ wrap the expression around dollar signs"
   ]
  },
  {
   "cell_type": "markdown",
   "id": "fc9b4b4a",
   "metadata": {},
   "source": [
    "$x_1^2$ this is subscripts and exponents\n",
    "\n",
    "$x^2_1$ order of exponent and underscore does not matter\n",
    "\n",
    "$\\beta$ write out the symbol with backslash\n",
    "\n",
    "$$\n",
    "x+1=5\n",
    "$$\n",
    "Double dollar creates its own line"
   ]
  },
  {
   "cell_type": "markdown",
   "id": "a986a5da",
   "metadata": {},
   "source": [
    "$$\n",
    "\\overline{X} = \\frac{1}{n}\\sum_{i=1}^n X_i \\\\\n",
    "\\text{Var}(X) = \\frac{1}{n}\\sum_{i=1}^n (X_i - \\overline{X})^2\n",
    "\n",
    "$$"
   ]
  },
  {
   "cell_type": "markdown",
   "id": "493984b6",
   "metadata": {},
   "source": [
    "**Boxed & Colored Equations**"
   ]
  },
  {
   "cell_type": "markdown",
   "id": "f597d173",
   "metadata": {},
   "source": [
    "$$\n",
    "\\boxed{\n",
    "    \\color{skyblue}\n",
    "    {\\frac{1}{n}\\sum_{i=1}^n X_i = \\overline{X}}}\n",
    "$$"
   ]
  },
  {
   "cell_type": "markdown",
   "id": "365246bd",
   "metadata": {},
   "source": [
    "**Math Macros**"
   ]
  },
  {
   "cell_type": "markdown",
   "id": "171b6ead",
   "metadata": {},
   "source": [
    "$$\n",
    "\\newcommand{\\newsum}[2]{\\sum_{i=#1}^{#2}}\n",
    "\\newsum{0}{m} a_i\n",
    "$$"
   ]
  },
  {
   "cell_type": "markdown",
   "id": "7ceccf94",
   "metadata": {},
   "source": [
    "$$\n",
    "\\newcommand{\\Xn}{X_1, X_2, \\cdots, X_n}\n",
    "\\Xn \\text{ is sampled iid from a distribution }\n",
    "D(\\theta)\n",
    "$$"
   ]
  },
  {
   "cell_type": "markdown",
   "id": "c3d4b14f",
   "metadata": {},
   "source": [
    "---"
   ]
  },
  {
   "cell_type": "markdown",
   "id": "9e527d83",
   "metadata": {},
   "source": [
    "## Thu, Apr 4th"
   ]
  },
  {
   "cell_type": "markdown",
   "id": "7df93941",
   "metadata": {},
   "source": [
    "### Data types"
   ]
  },
  {
   "cell_type": "code",
   "execution_count": 2,
   "id": "97cba7b9",
   "metadata": {},
   "outputs": [
    {
     "data": {
      "text/plain": [
       "int"
      ]
     },
     "execution_count": 2,
     "metadata": {},
     "output_type": "execute_result"
    }
   ],
   "source": [
    "type(19)"
   ]
  },
  {
   "cell_type": "code",
   "execution_count": 3,
   "id": "6b02bb42",
   "metadata": {},
   "outputs": [
    {
     "data": {
      "text/plain": [
       "10.0"
      ]
     },
     "execution_count": 3,
     "metadata": {},
     "output_type": "execute_result"
    }
   ],
   "source": [
    "float(10)"
   ]
  },
  {
   "cell_type": "markdown",
   "id": "41d43742",
   "metadata": {},
   "source": [
    "### Operations"
   ]
  },
  {
   "cell_type": "code",
   "execution_count": 4,
   "id": "48ee66b7",
   "metadata": {},
   "outputs": [
    {
     "data": {
      "text/plain": [
       "2.0"
      ]
     },
     "execution_count": 4,
     "metadata": {},
     "output_type": "execute_result"
    }
   ],
   "source": [
    "4/2"
   ]
  },
  {
   "cell_type": "code",
   "execution_count": 5,
   "id": "79c46559",
   "metadata": {},
   "outputs": [
    {
     "data": {
      "text/plain": [
       "1"
      ]
     },
     "execution_count": 5,
     "metadata": {},
     "output_type": "execute_result"
    }
   ],
   "source": [
    "3%2"
   ]
  },
  {
   "cell_type": "code",
   "execution_count": 6,
   "id": "7401d265",
   "metadata": {},
   "outputs": [
    {
     "data": {
      "text/plain": [
       "2"
      ]
     },
     "execution_count": 6,
     "metadata": {},
     "output_type": "execute_result"
    }
   ],
   "source": [
    "7//3"
   ]
  },
  {
   "cell_type": "code",
   "execution_count": 7,
   "id": "6ff350f9",
   "metadata": {},
   "outputs": [
    {
     "data": {
      "text/plain": [
       "25"
      ]
     },
     "execution_count": 7,
     "metadata": {},
     "output_type": "execute_result"
    }
   ],
   "source": [
    "5 ** 2"
   ]
  },
  {
   "cell_type": "markdown",
   "id": "4a1684f0",
   "metadata": {},
   "source": [
    "### Data structures"
   ]
  },
  {
   "cell_type": "code",
   "execution_count": 8,
   "id": "da039f66",
   "metadata": {},
   "outputs": [
    {
     "data": {
      "text/plain": [
       "[1, 2]"
      ]
     },
     "execution_count": 8,
     "metadata": {},
     "output_type": "execute_result"
    }
   ],
   "source": [
    "[1,2]"
   ]
  },
  {
   "cell_type": "code",
   "execution_count": 9,
   "id": "a7774d3e",
   "metadata": {},
   "outputs": [
    {
     "data": {
      "text/plain": [
       "[1, 2, 3, 4]"
      ]
     },
     "execution_count": 9,
     "metadata": {},
     "output_type": "execute_result"
    }
   ],
   "source": [
    "[1, 2] + [3,4]"
   ]
  },
  {
   "cell_type": "code",
   "execution_count": 10,
   "id": "41991194",
   "metadata": {},
   "outputs": [
    {
     "data": {
      "text/plain": [
       "(1, 2, 3)"
      ]
     },
     "execution_count": 10,
     "metadata": {},
     "output_type": "execute_result"
    }
   ],
   "source": [
    "(1,2,3)"
   ]
  },
  {
   "cell_type": "code",
   "execution_count": 11,
   "id": "21d50aad",
   "metadata": {},
   "outputs": [
    {
     "data": {
      "text/plain": [
       "dict_keys(['One', 'Two', 'Three'])"
      ]
     },
     "execution_count": 11,
     "metadata": {},
     "output_type": "execute_result"
    }
   ],
   "source": [
    "{\"One\": 1, \"Two\": 2, \"Three\": 3}.keys()"
   ]
  },
  {
   "cell_type": "code",
   "execution_count": 12,
   "id": "824ae618",
   "metadata": {},
   "outputs": [
    {
     "data": {
      "text/plain": [
       "{1}"
      ]
     },
     "execution_count": 12,
     "metadata": {},
     "output_type": "execute_result"
    }
   ],
   "source": [
    "set([1,1,1,1,1])"
   ]
  },
  {
   "cell_type": "code",
   "execution_count": 13,
   "id": "679eb947",
   "metadata": {},
   "outputs": [
    {
     "data": {
      "text/plain": [
       "{1, 2, 3}"
      ]
     },
     "execution_count": 13,
     "metadata": {},
     "output_type": "execute_result"
    }
   ],
   "source": [
    "{1,2,3, 1, 1}"
   ]
  },
  {
   "cell_type": "code",
   "execution_count": 14,
   "id": "6ff609b3",
   "metadata": {},
   "outputs": [
    {
     "data": {
      "text/plain": [
       "False"
      ]
     },
     "execution_count": 14,
     "metadata": {},
     "output_type": "execute_result"
    }
   ],
   "source": [
    "a = {1,2,3}\n",
    "b = {2,3,7}\n",
    "b.issubset(a)"
   ]
  },
  {
   "cell_type": "code",
   "execution_count": 15,
   "id": "07be3269",
   "metadata": {},
   "outputs": [
    {
     "data": {
      "text/plain": [
       "{1}"
      ]
     },
     "execution_count": 15,
     "metadata": {},
     "output_type": "execute_result"
    }
   ],
   "source": [
    "a.difference(b)"
   ]
  },
  {
   "cell_type": "code",
   "execution_count": 16,
   "id": "5a231c90",
   "metadata": {},
   "outputs": [
    {
     "data": {
      "text/plain": [
       "{1, 7}"
      ]
     },
     "execution_count": 16,
     "metadata": {},
     "output_type": "execute_result"
    }
   ],
   "source": [
    "a.symmetric_difference(b)"
   ]
  },
  {
   "cell_type": "code",
   "execution_count": 17,
   "id": "e3044ec4",
   "metadata": {},
   "outputs": [],
   "source": [
    "arb_cond = False\n",
    "def cond_func():\n",
    "    if arb_cond:\n",
    "        return \"Here!\"\n",
    "    else:\n",
    "        return \"Nope\"\n"
   ]
  },
  {
   "cell_type": "code",
   "execution_count": 18,
   "id": "ea10c2ab",
   "metadata": {},
   "outputs": [
    {
     "data": {
      "text/plain": [
       "'Nope'"
      ]
     },
     "execution_count": 18,
     "metadata": {},
     "output_type": "execute_result"
    }
   ],
   "source": [
    "cond_func()"
   ]
  },
  {
   "cell_type": "code",
   "execution_count": 19,
   "id": "de108bc5",
   "metadata": {},
   "outputs": [
    {
     "data": {
      "text/plain": [
       "'Here!'"
      ]
     },
     "execution_count": 19,
     "metadata": {},
     "output_type": "execute_result"
    }
   ],
   "source": [
    "arb_cond = True\n",
    "cond_func()"
   ]
  },
  {
   "cell_type": "code",
   "execution_count": 20,
   "id": "631f4c27",
   "metadata": {},
   "outputs": [
    {
     "name": "stdout",
     "output_type": "stream",
     "text": [
      "10\n",
      "9\n",
      "8\n",
      "7\n",
      "6\n",
      "5\n",
      "4\n",
      "3\n",
      "2\n",
      "1\n"
     ]
    }
   ],
   "source": [
    "x = 10\n",
    "while x > 0:\n",
    "    print(x)\n",
    "    x -= 1"
   ]
  },
  {
   "cell_type": "markdown",
   "id": "ad2d56af",
   "metadata": {},
   "source": [
    "**Vectors**"
   ]
  },
  {
   "cell_type": "markdown",
   "id": "a7959f07",
   "metadata": {},
   "source": [
    "$$\n",
    "<3,4>\n",
    "$$"
   ]
  },
  {
   "cell_type": "markdown",
   "id": "17fc524d",
   "metadata": {},
   "source": [
    "A vector in n dimensional space where $v_i$ is a number"
   ]
  },
  {
   "cell_type": "markdown",
   "id": "097c5ce0",
   "metadata": {},
   "source": [
    "$\\vec{v}$"
   ]
  },
  {
   "cell_type": "markdown",
   "id": "b4e81673",
   "metadata": {},
   "source": [
    "When you add two vectors ..."
   ]
  },
  {
   "cell_type": "markdown",
   "id": "16f361b2",
   "metadata": {},
   "source": [
    "$\\vec{v} + \\vec{w} = (v_1+w_1, v_2+v_2, ..., v_d + w_d)^T$"
   ]
  },
  {
   "cell_type": "code",
   "execution_count": 21,
   "id": "1fa47666",
   "metadata": {},
   "outputs": [
    {
     "data": {
      "text/plain": [
       "array([4, 6])"
      ]
     },
     "execution_count": 21,
     "metadata": {},
     "output_type": "execute_result"
    }
   ],
   "source": [
    "import numpy as np\n",
    "x = np.array([3,4])\n",
    "y = np.array([1,2])\n",
    "x+y"
   ]
  },
  {
   "cell_type": "markdown",
   "id": "215464eb",
   "metadata": {},
   "source": [
    "When you multiply a vector by a scalar ..."
   ]
  },
  {
   "cell_type": "markdown",
   "id": "eb17d57e",
   "metadata": {},
   "source": [
    "$\\vec{v} \\vec{w} = \\sum_{i=1}^n u_iv_i$ This is a dot product"
   ]
  },
  {
   "cell_type": "markdown",
   "id": "be1dd332",
   "metadata": {},
   "source": [
    "You can \"multiply\" two vectors in two different ways:\n",
    "\n",
    "1. Dot Product\n",
    "2. Cross Product "
   ]
  },
  {
   "cell_type": "markdown",
   "id": "df5ccdba",
   "metadata": {},
   "source": [
    "Cross product is perpendicular to linear space spanned by $\\vec{v}$ and  $\\vec{w}$\n",
    "\n",
    "$$\n",
    "w \\perp \\text{span}\\{u,v\\}\n",
    "$$\n",
    "magnitude:\n",
    "$$\n",
    "\\|w\\| = \\|u\\| \\|v\\| \\sin\\big(\\angle\\theta(u,v)\\big)\n",
    "$$"
   ]
  },
  {
   "cell_type": "code",
   "execution_count": 22,
   "id": "0ba182a4",
   "metadata": {},
   "outputs": [
    {
     "data": {
      "text/plain": [
       "11"
      ]
     },
     "execution_count": 22,
     "metadata": {},
     "output_type": "execute_result"
    }
   ],
   "source": [
    "np.dot(x,y)"
   ]
  },
  {
   "cell_type": "code",
   "execution_count": 23,
   "id": "5dbdcfef",
   "metadata": {},
   "outputs": [
    {
     "data": {
      "text/plain": [
       "array(2)"
      ]
     },
     "execution_count": 23,
     "metadata": {},
     "output_type": "execute_result"
    }
   ],
   "source": [
    "np.cross(x,y)"
   ]
  },
  {
   "cell_type": "markdown",
   "id": "58b01417",
   "metadata": {},
   "source": [
    "**Matrices**"
   ]
  },
  {
   "cell_type": "markdown",
   "id": "39642289",
   "metadata": {},
   "source": [
    "Intuitively, a matrix is ..."
   ]
  },
  {
   "cell_type": "markdown",
   "id": "c15cfbc5",
   "metadata": {},
   "source": [
    "Transformation of a vector $\\vec{v}$ by a matrix spanning $m \\times n$ matrix"
   ]
  },
  {
   "cell_type": "markdown",
   "id": "95f7007f",
   "metadata": {},
   "source": [
    "When a matrix acts on a vector, you get ..."
   ]
  },
  {
   "cell_type": "code",
   "execution_count": 24,
   "id": "27cef97f",
   "metadata": {},
   "outputs": [
    {
     "data": {
      "text/plain": [
       "11"
      ]
     },
     "execution_count": 24,
     "metadata": {},
     "output_type": "execute_result"
    }
   ],
   "source": [
    "import numpy as np\n",
    "\n",
    "# Creating vectors and matrices\n",
    "vector = np.array([1,2])\n",
    "matrix = np.array([\n",
    "    [1,-1],\n",
    "    [-1,1]\n",
    "])\n",
    "\n",
    "# Calculating the product\n",
    "product = np.dot(x,y)\n",
    "product"
   ]
  },
  {
   "cell_type": "code",
   "execution_count": 25,
   "id": "073e5e2b",
   "metadata": {},
   "outputs": [
    {
     "data": {
      "text/plain": [
       "array([-1,  1])"
      ]
     },
     "execution_count": 25,
     "metadata": {},
     "output_type": "execute_result"
    }
   ],
   "source": [
    "A = np.array([[1,-1], [-1,1]])\n",
    "v = np.array([2,3])\n",
    "\n",
    "A @ v"
   ]
  },
  {
   "cell_type": "code",
   "execution_count": 26,
   "id": "1a5edac1",
   "metadata": {},
   "outputs": [
    {
     "data": {
      "text/plain": [
       "array([[ 2, -2],\n",
       "       [-2,  2]])"
      ]
     },
     "execution_count": 26,
     "metadata": {},
     "output_type": "execute_result"
    }
   ],
   "source": [
    "A @ A"
   ]
  },
  {
   "cell_type": "markdown",
   "id": "b0659f26",
   "metadata": {},
   "source": [
    "**Basic linear algebra operations:**\n",
    "1. Norm: $||v|| = \\sqrt{v_1^2 + v_2^2 + \\cdots + v_n^2}$\n",
    "2. Dot product: $\\vec{u} \\cdot \\vec{v}$ = $u_1 v_1 + u_2 v_2 + ... u_n v_n$\n",
    "4. Matrix transpose: $(1 2 3)$ to $\\begin{pmatrix}1 \\\\ 2\\\\ 3\\\\ \\end{pmatrix}$\n",
    "5. Matrix inverse: $A^{-1}$ = $\\frac{1}{\\text{det}(A)} \\begin{bmatrix} a_{11} & a_{12} & a_{13} \\\\ a_{21} & a_{22} & a_{23} \\\\ a_{31} & a_{32} & a_{33} \\end{bmatrix}^{-1}$"
   ]
  },
  {
   "cell_type": "markdown",
   "id": "334f2192",
   "metadata": {},
   "source": [
    "**Slightly more advanced linear algebra operations**"
   ]
  },
  {
   "cell_type": "markdown",
   "id": "3d968462",
   "metadata": {},
   "source": [
    "If we're given a system of equations, for example, \n",
    "\n",
    "$$\n",
    "\\begin{align*}\n",
    "2x + 3y &= 5 \\\\\n",
    "4x + 5y &= 6\n",
    "\\end{align*}\n",
    "$$\n",
    "\n",
    "We can represent it in the matrix-vector form as ..."
   ]
  },
  {
   "cell_type": "markdown",
   "id": "60b7c47c",
   "metadata": {},
   "source": [
    "$$\n",
    "b =\n",
    "\\begin{pmatrix}\n",
    "5 \\\\\n",
    "6 \\\\\n",
    "\\end{pmatrix}\n",
    "\\quad\n",
    "A = \n",
    "\\begin{pmatrix}\n",
    "2 & 3\\\\\n",
    "4 & 5\n",
    "\\end{pmatrix}\n",
    "$$"
   ]
  },
  {
   "cell_type": "markdown",
   "id": "5be358a9",
   "metadata": {},
   "source": [
    "The solution for the unknown variables, $(x, y)$ is given by ..."
   ]
  },
  {
   "cell_type": "markdown",
   "id": "c27b6ae2",
   "metadata": {},
   "source": [
    "$$\n",
    "\\quad\n",
    "x = \\begin{pmatrix}\n",
    "x \\\\\n",
    "y \\\\\n",
    "\\end{pmatrix}\n",
    "$$\n",
    "\n",
    "Solution:\n",
    "\n",
    "$$\n",
    "x = A^{-1}b\n",
    "$$"
   ]
  },
  {
   "cell_type": "markdown",
   "id": "f07d95f8",
   "metadata": {},
   "source": [
    "In code, we can do this as follows: ..."
   ]
  },
  {
   "cell_type": "code",
   "execution_count": 31,
   "id": "17da9f42",
   "metadata": {},
   "outputs": [
    {
     "data": {
      "text/plain": [
       "array([-3.5,  4. ])"
      ]
     },
     "execution_count": 31,
     "metadata": {},
     "output_type": "execute_result"
    }
   ],
   "source": [
    "# Solving a system of linear equations\n",
    "A = np.array([\n",
    "            [2,3],\n",
    "            [4,5]\n",
    "            ])\n",
    "b = np.array([5,6])\n",
    "solution = np.linalg.solve(A,b)\n",
    "solution"
   ]
  },
  {
   "cell_type": "markdown",
   "id": "f14cb893",
   "metadata": {},
   "source": [
    "---"
   ]
  },
  {
   "cell_type": "markdown",
   "id": "4c3c84c6",
   "metadata": {},
   "source": [
    "**Eigenvalues and eigenvectors**"
   ]
  },
  {
   "cell_type": "markdown",
   "id": "2f086932",
   "metadata": {},
   "source": [
    "Given an $n \\times n$ matrix $A$, the eigenvalue of $A$ is the scalar $\\lambda$ such that ..."
   ]
  },
  {
   "cell_type": "markdown",
   "id": "267b821f",
   "metadata": {},
   "source": [
    "$Av = \\lambda v$ and $\\lambda$ is a vector. Vectors $\\vec{v}$ are eigenvectors and the corresponding scalars are $\\lambda$ are eigenvalues"
   ]
  },
  {
   "cell_type": "markdown",
   "id": "c4662cd0",
   "metadata": {},
   "source": [
    "The eigenvector of $A$ is the vector $v$ such that ..."
   ]
  },
  {
   "cell_type": "markdown",
   "id": "594c4f16",
   "metadata": {},
   "source": [
    "vector $v$ is associated with the matrix $A$ such that when $A$ is applied to $v$, the result is a scale multiple"
   ]
  },
  {
   "cell_type": "markdown",
   "id": "48e779b5",
   "metadata": {},
   "source": [
    "Intuitively, the eigenvector of a matrix describes ..."
   ]
  },
  {
   "cell_type": "markdown",
   "id": "195d7ace",
   "metadata": {},
   "source": [
    "the direction of the components that allows square matrix $A$ to equal to the corresponding scalars $v$"
   ]
  },
  {
   "cell_type": "markdown",
   "id": "6f3eb584",
   "metadata": {},
   "source": [
    "In code, we can compute the eigenvalues and eigenvectors of a matrix as follows:"
   ]
  },
  {
   "cell_type": "code",
   "execution_count": 57,
   "id": "14936c12",
   "metadata": {},
   "outputs": [],
   "source": [
    "A = np.random.randn(2,2)\n",
    "\n",
    "eigenvalues, eigenvectors = np.linalg.eig(A)"
   ]
  },
  {
   "cell_type": "code",
   "execution_count": 58,
   "id": "f5451b58",
   "metadata": {},
   "outputs": [
    {
     "data": {
      "text/plain": [
       "(array([2.10093616, 0.00603328]),\n",
       " array([[ 0.77743832,  0.45630509],\n",
       "        [-0.62895918,  0.88982339]]))"
      ]
     },
     "execution_count": 58,
     "metadata": {},
     "output_type": "execute_result"
    }
   ],
   "source": [
    "eigenvalues, eigenvectors"
   ]
  },
  {
   "cell_type": "markdown",
   "id": "b11ff8bf",
   "metadata": {},
   "source": [
    "We can verify that the eigenvalues and eigenvectors are correct by running the following code and ensuring that the output matches the expected values:\n"
   ]
  },
  {
   "cell_type": "code",
   "execution_count": 59,
   "id": "226d378c",
   "metadata": {},
   "outputs": [
    {
     "data": {
      "text/plain": [
       "True"
      ]
     },
     "execution_count": 59,
     "metadata": {},
     "output_type": "execute_result"
    }
   ],
   "source": [
    "lambda1 = eigenvalues # Largest eigenvalue\n",
    "v1 = eigenvectors # Corresponding eigenvector\n",
    "\n",
    "\n",
    "# Expected value of Av\n",
    "expected_value = lambda1 * v1\n",
    "\n",
    "# Actual value of Av\n",
    "Av = A @ v1\n",
    "\n",
    "# Check if the expected value and actual value are equal\n",
    "np.allclose(expected_value, Av)"
   ]
  }
 ],
 "metadata": {
  "kernelspec": {
   "display_name": "Python 3 (ipykernel)",
   "language": "python",
   "name": "python3"
  },
  "language_info": {
   "codemirror_mode": {
    "name": "ipython",
    "version": 3
   },
   "file_extension": ".py",
   "mimetype": "text/x-python",
   "name": "python",
   "nbconvert_exporter": "python",
   "pygments_lexer": "ipython3",
   "version": "3.8.18"
  }
 },
 "nbformat": 4,
 "nbformat_minor": 5
}
